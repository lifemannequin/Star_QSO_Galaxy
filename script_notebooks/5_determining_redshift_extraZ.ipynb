{
 "cells": [
  {
   "cell_type": "markdown",
   "metadata": {},
   "source": [
    "# Introduction"
   ]
  },
  {
   "cell_type": "markdown",
   "metadata": {},
   "source": [
    "On the notebook \"determining_redshifht\", I used a random sample of 15000 stellar objects(5000 of stars, QSOs and galaxxies) from the SDSS catalogue to determing the redshifts (z, distance measurement)of the stellar objects. In order to calculate z, I use the magnitudes of the 5 SDSS bands of each stellar object. To do this, I used two regression learning algorithms( KNearest Neighbor and Support Vector Machine). I compared the resulting values of mean squared error(mse) of the predicted values to spectroscopic z with the mse of the photometric z provided by the SDSS to its spectroscopic counterpart. I found that the mse of the last one to be 0.054 and the mse of the predicted values to be 0.186. This value which is too high, i found that it was due to the presence of higher z. Separaing the sample by z= 1, the mse of the best model for sources with z <=1 to be 0.008 and for the other subsample to be 0.099. I use neural networks to predict the values of z. I then used Neural Network without(mse 0.145) and then with colours( mse 0.132). \n",
    "\n",
    "In this notebook, I explore wether adding more sources with redshifht > 1 will improve the mse of the predictions."
   ]
  },
  {
   "cell_type": "markdown",
   "metadata": {},
   "source": [
    "# Data analysis"
   ]
  },
  {
   "cell_type": "code",
   "execution_count": 1,
   "metadata": {},
   "outputs": [],
   "source": [
    "import os\n",
    "import numpy as np\n",
    "import pandas as pd\n",
    "from pandas.plotting import table\n",
    "import seaborn as sns\n",
    "import matplotlib.pyplot as plt\n",
    "from scipy import stats\n",
    "sns.set()\n",
    "%matplotlib inline"
   ]
  },
  {
   "cell_type": "markdown",
   "metadata": {},
   "source": [
    "# Loading data and EDA"
   ]
  },
  {
   "cell_type": "code",
   "execution_count": 2,
   "metadata": {},
   "outputs": [
    {
     "name": "stdout",
     "output_type": "stream",
     "text": [
      "Number of data points in the star dataframe 3671\n",
      "Number of data points in the OSO dataframe 5000\n",
      "Number of data points in the galaxy dataframe 5000\n"
     ]
    }
   ],
   "source": [
    "#loading files\n",
    "filepath= \"/home/veroastro/Documents/spectraTypes/MLphotometry/data/\"\n",
    "galaxy = pd.read_csv(filepath+\"galaxy_rand5.csv\")\n",
    "star = pd.read_csv(filepath+\"star_rand.csv\")\n",
    "QSO = pd.read_csv(filepath+\"QSO_rand.csv\")\n",
    "\n",
    "print(f'Number of data points in the star dataframe {star[\"z\"].count()}')\n",
    "print(f'Number of data points in the OSO dataframe {QSO[\"z\"].count()}')\n",
    "print(f'Number of data points in the galaxy dataframe {galaxy[\"z\"].count()}')"
   ]
  },
  {
   "cell_type": "markdown",
   "metadata": {},
   "source": [
    "The combined dataset will be imbalance towards stars. The SQL script is the same for all classes but for some reason the obtained star dataset is smaller than the QSO and galaxy datasets."
   ]
  },
  {
   "cell_type": "code",
   "execution_count": 3,
   "metadata": {},
   "outputs": [
    {
     "data": {
      "text/plain": [
       "(13671, 19)"
      ]
     },
     "execution_count": 3,
     "metadata": {},
     "output_type": "execute_result"
    }
   ],
   "source": [
    "#Create the data frame from the three sets of data\n",
    "data = pd.concat([star, QSO, galaxy])\n",
    "#Scramble the data set so that it is not ordered by spectral class (QSO, galaxy or star) \n",
    "data = data.sample(frac=1)\n",
    "\n",
    "data.shape"
   ]
  },
  {
   "cell_type": "code",
   "execution_count": 4,
   "metadata": {},
   "outputs": [
    {
     "data": {
      "text/html": [
       "<div>\n",
       "<style scoped>\n",
       "    .dataframe tbody tr th:only-of-type {\n",
       "        vertical-align: middle;\n",
       "    }\n",
       "\n",
       "    .dataframe tbody tr th {\n",
       "        vertical-align: top;\n",
       "    }\n",
       "\n",
       "    .dataframe thead th {\n",
       "        text-align: right;\n",
       "    }\n",
       "</style>\n",
       "<table border=\"1\" class=\"dataframe\">\n",
       "  <thead>\n",
       "    <tr style=\"text-align: right;\">\n",
       "      <th></th>\n",
       "      <th>dered_u</th>\n",
       "      <th>dered_g</th>\n",
       "      <th>dered_r</th>\n",
       "      <th>dered_i</th>\n",
       "      <th>dered_z</th>\n",
       "      <th>z</th>\n",
       "    </tr>\n",
       "  </thead>\n",
       "  <tbody>\n",
       "    <tr>\n",
       "      <th>3748</th>\n",
       "      <td>21.13381</td>\n",
       "      <td>20.45098</td>\n",
       "      <td>20.20530</td>\n",
       "      <td>19.80453</td>\n",
       "      <td>19.56889</td>\n",
       "      <td>0.659723</td>\n",
       "    </tr>\n",
       "    <tr>\n",
       "      <th>46</th>\n",
       "      <td>20.16783</td>\n",
       "      <td>18.44941</td>\n",
       "      <td>17.22184</td>\n",
       "      <td>16.75263</td>\n",
       "      <td>16.37459</td>\n",
       "      <td>0.177453</td>\n",
       "    </tr>\n",
       "    <tr>\n",
       "      <th>3249</th>\n",
       "      <td>18.75599</td>\n",
       "      <td>18.67725</td>\n",
       "      <td>18.50685</td>\n",
       "      <td>18.44994</td>\n",
       "      <td>17.72321</td>\n",
       "      <td>0.352806</td>\n",
       "    </tr>\n",
       "    <tr>\n",
       "      <th>2979</th>\n",
       "      <td>20.36064</td>\n",
       "      <td>19.90151</td>\n",
       "      <td>19.20784</td>\n",
       "      <td>18.98388</td>\n",
       "      <td>18.48863</td>\n",
       "      <td>0.328878</td>\n",
       "    </tr>\n",
       "    <tr>\n",
       "      <th>1940</th>\n",
       "      <td>18.69496</td>\n",
       "      <td>16.86688</td>\n",
       "      <td>15.96555</td>\n",
       "      <td>15.52617</td>\n",
       "      <td>15.18298</td>\n",
       "      <td>0.075933</td>\n",
       "    </tr>\n",
       "  </tbody>\n",
       "</table>\n",
       "</div>"
      ],
      "text/plain": [
       "       dered_u   dered_g   dered_r   dered_i   dered_z         z\n",
       "3748  21.13381  20.45098  20.20530  19.80453  19.56889  0.659723\n",
       "46    20.16783  18.44941  17.22184  16.75263  16.37459  0.177453\n",
       "3249  18.75599  18.67725  18.50685  18.44994  17.72321  0.352806\n",
       "2979  20.36064  19.90151  19.20784  18.98388  18.48863  0.328878\n",
       "1940  18.69496  16.86688  15.96555  15.52617  15.18298  0.075933"
      ]
     },
     "execution_count": 4,
     "metadata": {},
     "output_type": "execute_result"
    }
   ],
   "source": [
    "data_clean = data.drop(columns=['zWarning','objID','err_u', 'err_g', 'err_r', 'err_i', 'err_z', 'zErr', 'class', 'subClass', 'photoZ','photoErr','type'])\n",
    "data_clean.head()"
   ]
  },
  {
   "cell_type": "code",
   "execution_count": 5,
   "metadata": {},
   "outputs": [],
   "source": [
    "def hist_plots( data: pd.DataFrame,\n",
    "               rows: int,\n",
    "              cols: int,\n",
    "              figsize: tuple):\n",
    "    fig, axes = plt.subplots(rows,cols, figsize=figsize)\n",
    "    for i, ax in enumerate(axes.flatten()):\n",
    "        if i < len(data.columns):\n",
    "            data[(data.columns)[i]].plot.hist(bins=30, ax=ax)\n",
    "            ax.set_title(f'{(data.columns)[i]} distribution', fontsize=10)\n",
    "            ax.tick_params(axis='x', labelsize=10)\n",
    "            ax.tick_params(axis='y', labelsize=10)\n",
    "            ax.get_yaxis().get_label().set_visible(False)\n",
    "            # Making it pretty with frame and grid\n",
    "            ax.spines['top'].set_color('black')\n",
    "            ax.spines['right'].set_color('black')\n",
    "            ax.spines['bottom'].set_color('black')\n",
    "            ax.spines['left'].set_color('black')\n",
    "            ax.spines['top'].set_linewidth(1)\n",
    "            ax.spines['right'].set_linewidth(1)\n",
    "            ax.spines['bottom'].set_linewidth(1)\n",
    "            ax.spines['left'].set_linewidth(1)\n",
    "            ax.grid(color='b', linestyle='-', linewidth=0.5)\n",
    "            ax.set_facecolor('xkcd:white')\n",
    "        else:\n",
    "            fig.delaxes(ax=ax)\n",
    "    fig.tight_layout()"
   ]
  },
  {
   "cell_type": "markdown",
   "metadata": {},
   "source": [
    "## Sampling without photoZ values\n",
    "\n",
    "In the histogram before, the values of the redshift sample mainly the population of objects with redshifts between 0-0.8. This bias may affect mostly galaxies and QSOs In this section, I check if by not constraining the data to have photoZ values if it also contrains the range of redshifts sampled. I use the same method and sql script as the original data but remove the values of photoZ and photoErr and with that also the inner join to the PhotoZ table."
   ]
  },
  {
   "cell_type": "code",
   "execution_count": 6,
   "metadata": {},
   "outputs": [
    {
     "data": {
      "text/html": [
       "<div>\n",
       "<style scoped>\n",
       "    .dataframe tbody tr th:only-of-type {\n",
       "        vertical-align: middle;\n",
       "    }\n",
       "\n",
       "    .dataframe tbody tr th {\n",
       "        vertical-align: top;\n",
       "    }\n",
       "\n",
       "    .dataframe thead th {\n",
       "        text-align: right;\n",
       "    }\n",
       "</style>\n",
       "<table border=\"1\" class=\"dataframe\">\n",
       "  <thead>\n",
       "    <tr style=\"text-align: right;\">\n",
       "      <th></th>\n",
       "      <th>objID</th>\n",
       "      <th>type</th>\n",
       "      <th>dered_u</th>\n",
       "      <th>err_u</th>\n",
       "      <th>dered_g</th>\n",
       "      <th>err_g</th>\n",
       "      <th>dered_r</th>\n",
       "      <th>err_r</th>\n",
       "      <th>dered_i</th>\n",
       "      <th>err_i</th>\n",
       "      <th>dered_z</th>\n",
       "      <th>err_z</th>\n",
       "      <th>z</th>\n",
       "      <th>zErr</th>\n",
       "      <th>zWarning</th>\n",
       "    </tr>\n",
       "  </thead>\n",
       "  <tbody>\n",
       "    <tr>\n",
       "      <th>count</th>\n",
       "      <td>2.000000e+04</td>\n",
       "      <td>20000.000000</td>\n",
       "      <td>20000.000000</td>\n",
       "      <td>20000.000000</td>\n",
       "      <td>20000.000000</td>\n",
       "      <td>20000.000000</td>\n",
       "      <td>20000.000000</td>\n",
       "      <td>20000.000000</td>\n",
       "      <td>20000.000000</td>\n",
       "      <td>20000.000000</td>\n",
       "      <td>20000.000000</td>\n",
       "      <td>20000.000000</td>\n",
       "      <td>2.000000e+04</td>\n",
       "      <td>2.000000e+04</td>\n",
       "      <td>20000.0</td>\n",
       "    </tr>\n",
       "    <tr>\n",
       "      <th>mean</th>\n",
       "      <td>1.237663e+18</td>\n",
       "      <td>5.195250</td>\n",
       "      <td>19.408312</td>\n",
       "      <td>0.043173</td>\n",
       "      <td>18.549213</td>\n",
       "      <td>0.010752</td>\n",
       "      <td>18.183921</td>\n",
       "      <td>0.011060</td>\n",
       "      <td>17.994293</td>\n",
       "      <td>0.012927</td>\n",
       "      <td>17.864113</td>\n",
       "      <td>0.036488</td>\n",
       "      <td>8.622533e-01</td>\n",
       "      <td>1.967128e-04</td>\n",
       "      <td>0.0</td>\n",
       "    </tr>\n",
       "    <tr>\n",
       "      <th>std</th>\n",
       "      <td>7.646793e+12</td>\n",
       "      <td>1.329179</td>\n",
       "      <td>1.031507</td>\n",
       "      <td>0.022679</td>\n",
       "      <td>1.276383</td>\n",
       "      <td>0.005642</td>\n",
       "      <td>1.455134</td>\n",
       "      <td>0.006727</td>\n",
       "      <td>1.529938</td>\n",
       "      <td>0.008521</td>\n",
       "      <td>1.575814</td>\n",
       "      <td>0.027468</td>\n",
       "      <td>9.377299e-01</td>\n",
       "      <td>3.277573e-04</td>\n",
       "      <td>0.0</td>\n",
       "    </tr>\n",
       "    <tr>\n",
       "      <th>min</th>\n",
       "      <td>1.237646e+18</td>\n",
       "      <td>3.000000</td>\n",
       "      <td>7.552934</td>\n",
       "      <td>0.003263</td>\n",
       "      <td>7.661058</td>\n",
       "      <td>0.000773</td>\n",
       "      <td>8.319589</td>\n",
       "      <td>0.000540</td>\n",
       "      <td>10.746470</td>\n",
       "      <td>0.000361</td>\n",
       "      <td>8.741409</td>\n",
       "      <td>0.001826</td>\n",
       "      <td>5.417808e-09</td>\n",
       "      <td>2.446185e-07</td>\n",
       "      <td>0.0</td>\n",
       "    </tr>\n",
       "    <tr>\n",
       "      <th>25%</th>\n",
       "      <td>1.237658e+18</td>\n",
       "      <td>3.000000</td>\n",
       "      <td>18.862427</td>\n",
       "      <td>0.025025</td>\n",
       "      <td>17.752275</td>\n",
       "      <td>0.006469</td>\n",
       "      <td>17.105070</td>\n",
       "      <td>0.005618</td>\n",
       "      <td>16.784280</td>\n",
       "      <td>0.005862</td>\n",
       "      <td>16.584933</td>\n",
       "      <td>0.012720</td>\n",
       "      <td>2.190941e-03</td>\n",
       "      <td>1.277849e-05</td>\n",
       "      <td>0.0</td>\n",
       "    </tr>\n",
       "    <tr>\n",
       "      <th>50%</th>\n",
       "      <td>1.237662e+18</td>\n",
       "      <td>6.000000</td>\n",
       "      <td>19.543140</td>\n",
       "      <td>0.039747</td>\n",
       "      <td>18.658460</td>\n",
       "      <td>0.009398</td>\n",
       "      <td>18.426430</td>\n",
       "      <td>0.009054</td>\n",
       "      <td>18.302120</td>\n",
       "      <td>0.010392</td>\n",
       "      <td>18.229885</td>\n",
       "      <td>0.028137</td>\n",
       "      <td>2.034847e-01</td>\n",
       "      <td>4.446151e-05</td>\n",
       "      <td>0.0</td>\n",
       "    </tr>\n",
       "    <tr>\n",
       "      <th>75%</th>\n",
       "      <td>1.237667e+18</td>\n",
       "      <td>6.000000</td>\n",
       "      <td>20.141998</td>\n",
       "      <td>0.058602</td>\n",
       "      <td>19.581840</td>\n",
       "      <td>0.014163</td>\n",
       "      <td>19.417122</td>\n",
       "      <td>0.015366</td>\n",
       "      <td>19.308055</td>\n",
       "      <td>0.018459</td>\n",
       "      <td>19.232980</td>\n",
       "      <td>0.056469</td>\n",
       "      <td>1.689518e+00</td>\n",
       "      <td>3.274784e-04</td>\n",
       "      <td>0.0</td>\n",
       "    </tr>\n",
       "    <tr>\n",
       "      <th>max</th>\n",
       "      <td>1.237681e+18</td>\n",
       "      <td>6.000000</td>\n",
       "      <td>21.578460</td>\n",
       "      <td>0.099982</td>\n",
       "      <td>22.145940</td>\n",
       "      <td>0.089225</td>\n",
       "      <td>21.324990</td>\n",
       "      <td>0.077705</td>\n",
       "      <td>21.340340</td>\n",
       "      <td>0.087281</td>\n",
       "      <td>20.616610</td>\n",
       "      <td>0.099985</td>\n",
       "      <td>6.429002e+00</td>\n",
       "      <td>2.278432e-02</td>\n",
       "      <td>0.0</td>\n",
       "    </tr>\n",
       "  </tbody>\n",
       "</table>\n",
       "</div>"
      ],
      "text/plain": [
       "              objID          type       dered_u         err_u       dered_g  \\\n",
       "count  2.000000e+04  20000.000000  20000.000000  20000.000000  20000.000000   \n",
       "mean   1.237663e+18      5.195250     19.408312      0.043173     18.549213   \n",
       "std    7.646793e+12      1.329179      1.031507      0.022679      1.276383   \n",
       "min    1.237646e+18      3.000000      7.552934      0.003263      7.661058   \n",
       "25%    1.237658e+18      3.000000     18.862427      0.025025     17.752275   \n",
       "50%    1.237662e+18      6.000000     19.543140      0.039747     18.658460   \n",
       "75%    1.237667e+18      6.000000     20.141998      0.058602     19.581840   \n",
       "max    1.237681e+18      6.000000     21.578460      0.099982     22.145940   \n",
       "\n",
       "              err_g       dered_r         err_r       dered_i         err_i  \\\n",
       "count  20000.000000  20000.000000  20000.000000  20000.000000  20000.000000   \n",
       "mean       0.010752     18.183921      0.011060     17.994293      0.012927   \n",
       "std        0.005642      1.455134      0.006727      1.529938      0.008521   \n",
       "min        0.000773      8.319589      0.000540     10.746470      0.000361   \n",
       "25%        0.006469     17.105070      0.005618     16.784280      0.005862   \n",
       "50%        0.009398     18.426430      0.009054     18.302120      0.010392   \n",
       "75%        0.014163     19.417122      0.015366     19.308055      0.018459   \n",
       "max        0.089225     21.324990      0.077705     21.340340      0.087281   \n",
       "\n",
       "            dered_z         err_z             z          zErr  zWarning  \n",
       "count  20000.000000  20000.000000  2.000000e+04  2.000000e+04   20000.0  \n",
       "mean      17.864113      0.036488  8.622533e-01  1.967128e-04       0.0  \n",
       "std        1.575814      0.027468  9.377299e-01  3.277573e-04       0.0  \n",
       "min        8.741409      0.001826  5.417808e-09  2.446185e-07       0.0  \n",
       "25%       16.584933      0.012720  2.190941e-03  1.277849e-05       0.0  \n",
       "50%       18.229885      0.028137  2.034847e-01  4.446151e-05       0.0  \n",
       "75%       19.232980      0.056469  1.689518e+00  3.274784e-04       0.0  \n",
       "max       20.616610      0.099985  6.429002e+00  2.278432e-02       0.0  "
      ]
     },
     "execution_count": 6,
     "metadata": {},
     "output_type": "execute_result"
    }
   ],
   "source": [
    "new_galaxy = pd.read_csv(filepath+\"galaxy_nophotoZ4.csv\")\n",
    "new_star = pd.read_csv(filepath+\"star_nophotoZ.csv\")\n",
    "new_QSO = pd.read_csv(filepath+\"QSO_nophotoZ.csv\")\n",
    "extra_z = pd.read_csv(filepath+\"highZ.csv\")\n",
    "#Create the data frame from the three sets of data\n",
    "data_nophoto = pd.concat([new_star, new_QSO, new_galaxy, extra_z])\n",
    "#Scramble the data set so that it is not ordered by spectral class (QSO, galaxy or star) \n",
    "data_nophoto = data_nophoto.sample(frac=1)\n",
    "data_nophoto.describe()"
   ]
  },
  {
   "cell_type": "code",
   "execution_count": 8,
   "metadata": {},
   "outputs": [
    {
     "name": "stdout",
     "output_type": "stream",
     "text": [
      "73\n",
      "(19927, 17)\n"
     ]
    }
   ],
   "source": [
    "# checking for duplicates and removing them prom the dataset\n",
    "print(sum(data_nophoto.duplicated()))\n",
    "full_data = data_nophoto.drop_duplicates(keep='last').copy()\n",
    "print(full_data.shape)"
   ]
  },
  {
   "cell_type": "code",
   "execution_count": 9,
   "metadata": {},
   "outputs": [],
   "source": [
    "# converting class from categorical to numerical\n",
    "def type_to_value(n):\n",
    "    if n == 'STAR':\n",
    "        return 1\n",
    "    elif n == 'QSO':\n",
    "        return 2\n",
    "    elif n == 'GALAXY':\n",
    "        return 3\n",
    "    \n",
    "\n",
    "data['nClass'] = [type_to_value(n) for n in data['class']]\n",
    "full_data['nClass'] = [type_to_value(n) for n in full_data['class']]"
   ]
  },
  {
   "cell_type": "code",
   "execution_count": 10,
   "metadata": {
    "scrolled": true
   },
   "outputs": [
    {
     "data": {
      "image/png": "[encoded data removed]",
      "text/plain": [
       "<Figure size 1440x720 with 3 Axes>"
      ]
     },
     "metadata": {
      "needs_background": "light"
     },
     "output_type": "display_data"
    }
   ],
   "source": [
    "# Plotting the distributions of redshifts (z and photoZ) for each class (star, QSO, galaxy)\n",
    "bins= 50\n",
    "\n",
    "cols = [1, 2, 3]\n",
    "fig,axs = plt.subplots(1,3, figsize=(20,10), edgecolor='black')\n",
    "axs = axs.ravel()\n",
    "\n",
    "for i, n in enumerate(cols):\n",
    "    ax = axs[i]\n",
    "    if i < len(cols):\n",
    "        #create the histograms for the object type per band\n",
    "        ax.hist(data[data['nClass']== n]['z'],bins= bins,histtype='step', linewidth=2,label='With PhotoZ')\n",
    "        ax.hist(full_data[full_data['nClass']== n]['z'],bins= bins,histtype='step', linewidth=2, label='No PhotoZ')\n",
    "        # Making it pretty with frame and grid\n",
    "        ax.spines['top'].set_color('black')\n",
    "        ax.spines['right'].set_color('black')\n",
    "        ax.spines['bottom'].set_color('black')\n",
    "        ax.spines['left'].set_color('black')\n",
    "        ax.spines['top'].set_linewidth(1)\n",
    "        ax.spines['right'].set_linewidth(1)\n",
    "        ax.spines['bottom'].set_linewidth(1)\n",
    "        ax.spines['left'].set_linewidth(1)\n",
    "        ax.grid(color='b', linestyle='-', linewidth=0.5)\n",
    "        ax.set_facecolor('xkcd:white')\n",
    "        #set legend, lables and title\n",
    "        ax.legend(loc='upper right',fontsize=12)\n",
    "        ax.set_xlabel('z')\n",
    "        ax.set_title(f'{n} histogram', fontsize=16)\n",
    "    else:\n",
    "        fig.delaxes(ax=ax)\n",
    "            \n",
    "fig.suptitle('Distribution of Redshifts per Object Type', fontsize=20, fontweight=\"bold\")\n",
    "fig.tight_layout()\n",
    "plt.show()"
   ]
  },
  {
   "cell_type": "markdown",
   "metadata": {},
   "source": [
    "Both distributions of spectroscopic redshifts (z) for the datasets with and without photometric redshift contraint are very similar for the class 1(star) and class 3(galaxy). For the class2(QSO), both distributions are quite different. The distribution of photoZ has values mostly in the region between 0 and 1. While the distribution of z has values mostly between 0 and 3. \n",
    "\n",
    "Because of this and the fact that without the photoZ contraint the  dataset is balanced, I decided that for building the models to determine redshift I will use the dataset without photometric constraint."
   ]
  },
  {
   "cell_type": "markdown",
   "metadata": {},
   "source": [
    "## Prepping new dataset"
   ]
  },
  {
   "cell_type": "code",
   "execution_count": 11,
   "metadata": {},
   "outputs": [
    {
     "data": {
      "text/html": [
       "<div>\n",
       "<style scoped>\n",
       "    .dataframe tbody tr th:only-of-type {\n",
       "        vertical-align: middle;\n",
       "    }\n",
       "\n",
       "    .dataframe tbody tr th {\n",
       "        vertical-align: top;\n",
       "    }\n",
       "\n",
       "    .dataframe thead th {\n",
       "        text-align: right;\n",
       "    }\n",
       "</style>\n",
       "<table border=\"1\" class=\"dataframe\">\n",
       "  <thead>\n",
       "    <tr style=\"text-align: right;\">\n",
       "      <th></th>\n",
       "      <th>dered_u</th>\n",
       "      <th>dered_g</th>\n",
       "      <th>dered_r</th>\n",
       "      <th>dered_i</th>\n",
       "      <th>dered_z</th>\n",
       "      <th>z</th>\n",
       "      <th>nClass</th>\n",
       "    </tr>\n",
       "  </thead>\n",
       "  <tbody>\n",
       "    <tr>\n",
       "      <th>1306</th>\n",
       "      <td>20.67431</td>\n",
       "      <td>20.25327</td>\n",
       "      <td>20.03435</td>\n",
       "      <td>19.98915</td>\n",
       "      <td>19.71827</td>\n",
       "      <td>2.456878</td>\n",
       "      <td>2</td>\n",
       "    </tr>\n",
       "    <tr>\n",
       "      <th>668</th>\n",
       "      <td>20.13697</td>\n",
       "      <td>20.03177</td>\n",
       "      <td>19.75809</td>\n",
       "      <td>19.74050</td>\n",
       "      <td>19.90595</td>\n",
       "      <td>1.060059</td>\n",
       "      <td>2</td>\n",
       "    </tr>\n",
       "    <tr>\n",
       "      <th>837</th>\n",
       "      <td>18.26477</td>\n",
       "      <td>17.86617</td>\n",
       "      <td>17.68207</td>\n",
       "      <td>17.46004</td>\n",
       "      <td>17.20513</td>\n",
       "      <td>2.122566</td>\n",
       "      <td>2</td>\n",
       "    </tr>\n",
       "    <tr>\n",
       "      <th>2614</th>\n",
       "      <td>19.20903</td>\n",
       "      <td>18.96301</td>\n",
       "      <td>18.66391</td>\n",
       "      <td>18.76042</td>\n",
       "      <td>18.88937</td>\n",
       "      <td>1.100385</td>\n",
       "      <td>2</td>\n",
       "    </tr>\n",
       "    <tr>\n",
       "      <th>2175</th>\n",
       "      <td>21.05627</td>\n",
       "      <td>20.74837</td>\n",
       "      <td>20.52937</td>\n",
       "      <td>20.29080</td>\n",
       "      <td>20.22308</td>\n",
       "      <td>2.020439</td>\n",
       "      <td>2</td>\n",
       "    </tr>\n",
       "  </tbody>\n",
       "</table>\n",
       "</div>"
      ],
      "text/plain": [
       "       dered_u   dered_g   dered_r   dered_i   dered_z         z  nClass\n",
       "1306  20.67431  20.25327  20.03435  19.98915  19.71827  2.456878       2\n",
       "668   20.13697  20.03177  19.75809  19.74050  19.90595  1.060059       2\n",
       "837   18.26477  17.86617  17.68207  17.46004  17.20513  2.122566       2\n",
       "2614  19.20903  18.96301  18.66391  18.76042  18.88937  1.100385       2\n",
       "2175  21.05627  20.74837  20.52937  20.29080  20.22308  2.020439       2"
      ]
     },
     "execution_count": 11,
     "metadata": {},
     "output_type": "execute_result"
    }
   ],
   "source": [
    "data_cl = full_data.drop(columns=['zWarning','objID','err_u', 'err_g', 'err_r', 'err_i', 'err_z', 'zErr', 'class', 'subClass','type'])\n",
    "data_cl.head()"
   ]
  },
  {
   "cell_type": "markdown",
   "metadata": {},
   "source": [
    "## Looking at magnitudes and colours for the data_nophoto "
   ]
  },
  {
   "cell_type": "code",
   "execution_count": 12,
   "metadata": {
    "scrolled": true
   },
   "outputs": [
    {
     "data": {
      "image/png": "[encoded data removed]",
      "text/plain": [
       "<Figure size 1440x720 with 7 Axes>"
      ]
     },
     "metadata": {
      "needs_background": "light"
     },
     "output_type": "display_data"
    }
   ],
   "source": [
    "hist_plots(data=data_cl,\n",
    "          rows=3,\n",
    "          cols=3,\n",
    "          figsize=(20,10))"
   ]
  },
  {
   "cell_type": "markdown",
   "metadata": {},
   "source": [
    "The distribution of the magnitudes per band doesn't have a normal distribution. This could be due to the fact that I am combining different populations."
   ]
  },
  {
   "cell_type": "code",
   "execution_count": 14,
   "metadata": {},
   "outputs": [
    {
     "data": {
      "text/html": [
       "<div>\n",
       "<style scoped>\n",
       "    .dataframe tbody tr th:only-of-type {\n",
       "        vertical-align: middle;\n",
       "    }\n",
       "\n",
       "    .dataframe tbody tr th {\n",
       "        vertical-align: top;\n",
       "    }\n",
       "\n",
       "    .dataframe thead th {\n",
       "        text-align: right;\n",
       "    }\n",
       "</style>\n",
       "<table border=\"1\" class=\"dataframe\">\n",
       "  <thead>\n",
       "    <tr style=\"text-align: right;\">\n",
       "      <th></th>\n",
       "      <th>dered_u</th>\n",
       "      <th>dered_g</th>\n",
       "      <th>dered_r</th>\n",
       "      <th>dered_i</th>\n",
       "      <th>dered_z</th>\n",
       "      <th>z</th>\n",
       "      <th>nClass</th>\n",
       "      <th>u-g</th>\n",
       "      <th>g-r</th>\n",
       "      <th>r-i</th>\n",
       "      <th>i-z</th>\n",
       "    </tr>\n",
       "  </thead>\n",
       "  <tbody>\n",
       "    <tr>\n",
       "      <th>count</th>\n",
       "      <td>19927.000000</td>\n",
       "      <td>19927.000000</td>\n",
       "      <td>19927.000000</td>\n",
       "      <td>19927.000000</td>\n",
       "      <td>19927.000000</td>\n",
       "      <td>1.992700e+04</td>\n",
       "      <td>19927.000000</td>\n",
       "      <td>19927.000000</td>\n",
       "      <td>19927.000000</td>\n",
       "      <td>19927.000000</td>\n",
       "      <td>19927.000000</td>\n",
       "    </tr>\n",
       "    <tr>\n",
       "      <th>mean</th>\n",
       "      <td>19.407376</td>\n",
       "      <td>18.546094</td>\n",
       "      <td>18.180051</td>\n",
       "      <td>17.990035</td>\n",
       "      <td>17.859543</td>\n",
       "      <td>8.590588e-01</td>\n",
       "      <td>2.000000</td>\n",
       "      <td>0.861282</td>\n",
       "      <td>0.366043</td>\n",
       "      <td>0.190016</td>\n",
       "      <td>0.130492</td>\n",
       "    </tr>\n",
       "    <tr>\n",
       "      <th>std</th>\n",
       "      <td>1.032306</td>\n",
       "      <td>1.276988</td>\n",
       "      <td>1.455812</td>\n",
       "      <td>1.530524</td>\n",
       "      <td>1.576298</td>\n",
       "      <td>9.374700e-01</td>\n",
       "      <td>0.708419</td>\n",
       "      <td>0.659448</td>\n",
       "      <td>0.339882</td>\n",
       "      <td>0.187343</td>\n",
       "      <td>0.169282</td>\n",
       "    </tr>\n",
       "    <tr>\n",
       "      <th>min</th>\n",
       "      <td>7.552934</td>\n",
       "      <td>7.661058</td>\n",
       "      <td>8.319589</td>\n",
       "      <td>10.746470</td>\n",
       "      <td>8.741409</td>\n",
       "      <td>5.417808e-09</td>\n",
       "      <td>1.000000</td>\n",
       "      <td>-1.512210</td>\n",
       "      <td>-1.709300</td>\n",
       "      <td>-3.861471</td>\n",
       "      <td>-1.146380</td>\n",
       "    </tr>\n",
       "    <tr>\n",
       "      <th>25%</th>\n",
       "      <td>18.860940</td>\n",
       "      <td>17.748730</td>\n",
       "      <td>17.101655</td>\n",
       "      <td>16.779930</td>\n",
       "      <td>16.579515</td>\n",
       "      <td>1.207272e-03</td>\n",
       "      <td>1.000000</td>\n",
       "      <td>0.254505</td>\n",
       "      <td>0.104440</td>\n",
       "      <td>0.066465</td>\n",
       "      <td>0.016445</td>\n",
       "    </tr>\n",
       "    <tr>\n",
       "      <th>50%</th>\n",
       "      <td>19.541950</td>\n",
       "      <td>18.652150</td>\n",
       "      <td>18.417720</td>\n",
       "      <td>18.290460</td>\n",
       "      <td>18.221180</td>\n",
       "      <td>1.936482e-01</td>\n",
       "      <td>2.000000</td>\n",
       "      <td>0.848880</td>\n",
       "      <td>0.284710</td>\n",
       "      <td>0.175490</td>\n",
       "      <td>0.118090</td>\n",
       "    </tr>\n",
       "    <tr>\n",
       "      <th>75%</th>\n",
       "      <td>20.141750</td>\n",
       "      <td>19.579060</td>\n",
       "      <td>19.415765</td>\n",
       "      <td>19.305960</td>\n",
       "      <td>19.231525</td>\n",
       "      <td>1.687586e+00</td>\n",
       "      <td>3.000000</td>\n",
       "      <td>1.339790</td>\n",
       "      <td>0.591615</td>\n",
       "      <td>0.333715</td>\n",
       "      <td>0.253705</td>\n",
       "    </tr>\n",
       "    <tr>\n",
       "      <th>max</th>\n",
       "      <td>21.578460</td>\n",
       "      <td>22.145940</td>\n",
       "      <td>21.324990</td>\n",
       "      <td>21.340340</td>\n",
       "      <td>20.616610</td>\n",
       "      <td>6.429002e+00</td>\n",
       "      <td>3.000000</td>\n",
       "      <td>3.653620</td>\n",
       "      <td>3.852890</td>\n",
       "      <td>1.688770</td>\n",
       "      <td>3.762850</td>\n",
       "    </tr>\n",
       "  </tbody>\n",
       "</table>\n",
       "</div>"
      ],
      "text/plain": [
       "            dered_u       dered_g       dered_r       dered_i       dered_z  \\\n",
       "count  19927.000000  19927.000000  19927.000000  19927.000000  19927.000000   \n",
       "mean      19.407376     18.546094     18.180051     17.990035     17.859543   \n",
       "std        1.032306      1.276988      1.455812      1.530524      1.576298   \n",
       "min        7.552934      7.661058      8.319589     10.746470      8.741409   \n",
       "25%       18.860940     17.748730     17.101655     16.779930     16.579515   \n",
       "50%       19.541950     18.652150     18.417720     18.290460     18.221180   \n",
       "75%       20.141750     19.579060     19.415765     19.305960     19.231525   \n",
       "max       21.578460     22.145940     21.324990     21.340340     20.616610   \n",
       "\n",
       "                  z        nClass           u-g           g-r           r-i  \\\n",
       "count  1.992700e+04  19927.000000  19927.000000  19927.000000  19927.000000   \n",
       "mean   8.590588e-01      2.000000      0.861282      0.366043      0.190016   \n",
       "std    9.374700e-01      0.708419      0.659448      0.339882      0.187343   \n",
       "min    5.417808e-09      1.000000     -1.512210     -1.709300     -3.861471   \n",
       "25%    1.207272e-03      1.000000      0.254505      0.104440      0.066465   \n",
       "50%    1.936482e-01      2.000000      0.848880      0.284710      0.175490   \n",
       "75%    1.687586e+00      3.000000      1.339790      0.591615      0.333715   \n",
       "max    6.429002e+00      3.000000      3.653620      3.852890      1.688770   \n",
       "\n",
       "                i-z  \n",
       "count  19927.000000  \n",
       "mean       0.130492  \n",
       "std        0.169282  \n",
       "min       -1.146380  \n",
       "25%        0.016445  \n",
       "50%        0.118090  \n",
       "75%        0.253705  \n",
       "max        3.762850  "
      ]
     },
     "execution_count": 14,
     "metadata": {},
     "output_type": "execute_result"
    }
   ],
   "source": [
    "# Create a function to calculate the colours of the sources\n",
    "def compute_colour(row):\n",
    "    u = row['dered_u']\n",
    "    g = row['dered_g']\n",
    "    r = row['dered_r']\n",
    "    i = row['dered_i']\n",
    "    z = row['dered_z']\n",
    "    return pd.Series({'u-g': u - g, 'g-r': g - r, 'r-i': r - i, 'i-z': i - z})\n",
    "# Apply the function compute_colour\n",
    "colour_ind = data_cl.apply(compute_colour, axis=1)\n",
    "# Create new dataframe with the colours added\n",
    "data_colour = pd.concat([data_cl,colour_ind], axis=1)\n",
    "data_colour.describe()"
   ]
  },
  {
   "cell_type": "code",
   "execution_count": 15,
   "metadata": {},
   "outputs": [
    {
     "data": {
      "image/png": "[encoded data removed]",
      "text/plain": [
       "<Figure size 1440x720 with 4 Axes>"
      ]
     },
     "metadata": {
      "needs_background": "light"
     },
     "output_type": "display_data"
    }
   ],
   "source": [
    "# Plotting colours per object type\n",
    "colour = ['u-g','g-r','r-i','i-z']\n",
    "\n",
    "# Create subplots and plot histograms\n",
    "bins = np.linspace(-4, 4, 100)\n",
    "fig,axs = plt.subplots(2,2, figsize=(20,10), edgecolor='black')\n",
    "axs = axs.ravel()\n",
    "\n",
    "for i, n in enumerate(colour):\n",
    "    ax = axs[i]\n",
    "    X = data_colour[n]\n",
    "    #create the histograms for the object type per colour\n",
    "    ax.hist(X.loc[data_colour['nClass']==1], bins,histtype='step', linewidth=2,label='star')\n",
    "    ax.hist(X.loc[data_colour['nClass']==2], bins,histtype='step', linewidth=2, label='QSO')\n",
    "    ax.hist(X.loc[data_colour['nClass']==3], bins,histtype='step', linewidth=2, label='galaxy')\n",
    "    # Making it pretty with frame and grid\n",
    "    ax.spines['top'].set_color('black')\n",
    "    ax.spines['right'].set_color('black')\n",
    "    ax.spines['bottom'].set_color('black')\n",
    "    ax.spines['left'].set_color('black')\n",
    "    ax.spines['top'].set_linewidth(1)\n",
    "    ax.spines['right'].set_linewidth(1)\n",
    "    ax.spines['bottom'].set_linewidth(1)\n",
    "    ax.spines['left'].set_linewidth(1)\n",
    "    ax.grid(color='b', linestyle='-', linewidth=0.5)\n",
    "    ax.set_facecolor('xkcd:white')\n",
    "    #set legend, lables and title\n",
    "    ax.legend(loc='upper left',fontsize=12)\n",
    "    ax.set_xlabel(n)\n",
    "    ax.set_title(f'({n}) colour histogram', fontsize=16)\n",
    "    \n",
    "fig.suptitle('Distribution of Colour by Object Type', fontsize=20, fontweight=\"bold\")\n",
    "fig.tight_layout(rect=[0, 0, 1, 0.95])\n",
    "plt.show()"
   ]
  },
  {
   "cell_type": "markdown",
   "metadata": {},
   "source": [
    "For stars, in the (u-g) and (g-r) distributions, I was expecting to see a bimodality which would indicate the star is a hot blue star (to the left of the distribution) or a cold red star(to the right). But the distribution on our sample shows no bimodality and has a taile towards redder colours. The distribution of stars seems to be between the destributions of QSOs and galaxies for all colours. \n",
    "\n",
    "For QSOs, the (u-g) distribution peak is much bluer than that of stars and galaxies. It is as expected since what we see in QSOs are the active galactic nuclei(AGN, supermassive black holes) that outshine the stars of their host galaxies. The radiation peaks at the blue end of the spectrum. In the other colours, the distribution is also bluer than the galaxy distribution. \n",
    "\n",
    "For galaxies, there is a bimodal distribution in the (u-g) and the (g-r) distribution has a bump on the left side of the distribution. What we are seeing here is two populations; one population of young blue galaxies and the other of old red galaxies. On the other hand, the distributions of (r-i) and (i-z) show a very narrow distribution with a high peak. This could be due to the fact that we are sampling interstellar dust. Dust can absorb or scatter the light emitted by stars in a galaxy which makes the galaxy appear redder than it actually is. These distributions can be affected by the limited wavelength coverage of the bands."
   ]
  },
  {
   "cell_type": "code",
   "execution_count": 16,
   "metadata": {},
   "outputs": [
    {
     "data": {
      "image/png": "[encoded data removed]",
      "text/plain": [
       "<Figure size 1440x720 with 3 Axes>"
      ]
     },
     "metadata": {},
     "output_type": "display_data"
    }
   ],
   "source": [
    "#Scatter plot hued by classes\n",
    "\n",
    "sns.set_style(\"ticks\")\n",
    "  \n",
    "fig, axs = plt.subplots(1, 3, figsize=(20, 10))\n",
    "sns.scatterplot(ax= axs[0], x=\"u-g\", y=\"g-r\", data= data_colour, hue='nClass', palette = 'Dark2',\n",
    "             s = 1, alpha = 0.4)\n",
    "sns.scatterplot(ax= axs[1], x=\"g-r\", y=\"r-i\", data= data_colour, hue='nClass', palette = 'Dark2',\n",
    "             s = 1, alpha = 0.4)\n",
    "sns.scatterplot(ax= axs[2], x=\"r-i\", y=\"i-z\", data= data_colour, hue='nClass', palette = 'Dark2',\n",
    "             s = 1, alpha = 0.4)\n",
    "\n",
    "# Add title and legend\n",
    "plt.title('(u-g) vs. (g-r) for all Object Types', fontweight=\"bold\")\n",
    "#plt.legend( objects,fontsize=10, loc='upper left')\n",
    "#plt.savefig('/home/veroastro/Documents/spectraTypes/images/scatter_classes.pdf')\n",
    "plt.show()"
   ]
  },
  {
   "cell_type": "markdown",
   "metadata": {},
   "source": [
    "The (u-g) vs (g-r) plot shows that the different classes occupy somewhat different regions of colour space.  Although there is the plenty intersection between them. In the other two plots the regions are less well defined. "
   ]
  },
  {
   "cell_type": "markdown",
   "metadata": {},
   "source": [
    "# Models and Analysis"
   ]
  },
  {
   "cell_type": "markdown",
   "metadata": {},
   "source": [
    "In order to compare the results of our analysis, we use the dataset with the photometric redshift(photoZ). We calculate the mse of the photoZ with respect to the spectroscopic redshifht(z). It is important to note that this is done with different dataset from the one used to build the models. I do this because our dataset has a fainter (larger value of magnitudes) and the distribution of redshift also tends to higher values(more distant)then the dataset with photoZ. "
   ]
  },
  {
   "cell_type": "code",
   "execution_count": 17,
   "metadata": {},
   "outputs": [
    {
     "name": "stdout",
     "output_type": "stream",
     "text": [
      "Mean Square Error PhotoZ: 0.054\n"
     ]
    }
   ],
   "source": [
    "from sklearn.metrics import mean_squared_error\n",
    "\n",
    "photozErr= data.loc[(data['photoZ'] >= 0.0)]['photoZ']\n",
    "sZ= data.loc[(data['photoZ'] >= 0.0)]['z']\n",
    "print('Mean Square Error PhotoZ:', round(mean_squared_error(sZ,photozErr), 3))"
   ]
  },
  {
   "cell_type": "markdown",
   "metadata": {},
   "source": [
    "The majority of the population on the dataset has a redshift less than 1. Because this might imbalance in the representation of the range of redshift available, I decided to do build the models and do the analysis on different subsets of the data. I divided the data into low with objects whose z is less or equal than 1 and high whith objects whose z is more than 1."
   ]
  },
  {
   "cell_type": "code",
   "execution_count": 18,
   "metadata": {},
   "outputs": [
    {
     "name": "stdout",
     "output_type": "stream",
     "text": [
      "Low Subset 57.33 %\n",
      "High Subset 42.67 %\n"
     ]
    }
   ],
   "source": [
    "# Percentage of objects in each subset\n",
    "print(f'Low Subset {round((data_cl.loc[(data_cl[\"z\"] <= 1.0 )][\"z\"].count()/data_cl[\"z\"].count()*100),2)} %')\n",
    "print(f'High Subset {round((data_cl.loc[(data_cl[\"z\"] > 1.0 )][\"z\"].count()/data_cl[\"z\"].count()*100),2)} %')"
   ]
  },
  {
   "cell_type": "markdown",
   "metadata": {},
   "source": [
    "## Models\n",
    "\n",
    "I use to learning algorithms to determine the redshifts: K-neighbor Regressor and Suppor Vector Regressor. "
   ]
  },
  {
   "cell_type": "markdown",
   "metadata": {},
   "source": [
    "### Full Dataset\n",
    "#### Data Selection and Preprocessing"
   ]
  },
  {
   "cell_type": "code",
   "execution_count": 19,
   "metadata": {},
   "outputs": [],
   "source": [
    "from sklearn.preprocessing import RobustScaler\n",
    "# separating feature X and label y and scaling data \n",
    "X = data_cl.drop(['nClass', 'z'], axis=1)\n",
    "y = data_cl['z']\n",
    "# Using RobustScaler to scale the dataset\n",
    "scaler = RobustScaler()\n",
    "X_t = scaler.fit_transform(X)\n",
    "X_scaled = pd.DataFrame(X_t, columns = X.columns)"
   ]
  },
  {
   "cell_type": "code",
   "execution_count": 20,
   "metadata": {},
   "outputs": [
    {
     "name": "stdout",
     "output_type": "stream",
     "text": [
      "Count of X_train = 13948\n",
      "Count of X_test = 5979\n"
     ]
    }
   ],
   "source": [
    "from sklearn.model_selection import train_test_split\n",
    "\n",
    "# Split the data into training and test sets\n",
    "X_train, X_test, y_train, y_test = train_test_split(X_scaled, y, test_size=0.3, random_state=42)\n",
    "\n",
    "print(f'Count of X_train = {X_train[\"dered_u\"].count()}')\n",
    "print(f'Count of X_test = {X_test[\"dered_u\"].count()}')"
   ]
  },
  {
   "cell_type": "markdown",
   "metadata": {},
   "source": [
    "The test error of the linear regression model is (mse) 0.058 while we get an mse of 0.049 with random forest regressor. To compare errors the mse from the difference between photometric redshift and spectroscopic redshift is 0.068. Here there are values of photoz of -999.0. This are the same as missing values so they are taken out of the calculation of mse."
   ]
  },
  {
   "cell_type": "markdown",
   "metadata": {},
   "source": [
    "#### Model Contruction and Analysis KNN"
   ]
  },
  {
   "cell_type": "code",
   "execution_count": 21,
   "metadata": {
    "scrolled": true
   },
   "outputs": [
    {
     "data": {
      "text/plain": [
       "array([0.31637866, 0.25670992, 0.23756514, 0.23293284, 0.22750975,\n",
       "       0.22404727, 0.22447016, 0.22571966, 0.22659604, 0.22660137,\n",
       "       0.22755958, 0.22911585, 0.22968594, 0.22959383, 0.23078492,\n",
       "       0.23185023, 0.23162902, 0.23257313, 0.23321415, 0.23430482])"
      ]
     },
     "execution_count": 21,
     "metadata": {},
     "output_type": "execute_result"
    }
   ],
   "source": [
    "from sklearn.neighbors import KNeighborsRegressor\n",
    "# calculating the accuracy of models with different values of k\n",
    "n= 20\n",
    "mse = np.zeros(n)\n",
    "for i in range(1,n+1):\n",
    "    #Train Model and Predict  \n",
    "    knn = KNeighborsRegressor(n_neighbors = i).fit(X_train,y_train)\n",
    "    yhat= knn.predict(X_test)\n",
    "    mse[i-1] = mean_squared_error(y_test, yhat)\n",
    "\n",
    "mse"
   ]
  },
  {
   "cell_type": "code",
   "execution_count": 22,
   "metadata": {},
   "outputs": [
    {
     "data": {
      "image/png": "[encoded data removed]",
      "text/plain": [
       "<Figure size 720x432 with 1 Axes>"
      ]
     },
     "metadata": {},
     "output_type": "display_data"
    }
   ],
   "source": [
    "# Plotting the mse obtained against the number of neighbours\n",
    "loc = np.arange(1,n+1,step=1.0)\n",
    "plt.figure(figsize = (10, 6))\n",
    "plt.plot(range(1, n+1), mse)\n",
    "plt.xticks(loc)\n",
    "plt.xlabel('Number of Neighbors without photoZ')\n",
    "plt.ylabel('MSE')\n",
    "plt.show()\n"
   ]
  },
  {
   "cell_type": "code",
   "execution_count": 23,
   "metadata": {},
   "outputs": [],
   "source": [
    "from sklearn.model_selection import GridSearchCV\n",
    "# Defining the grid of parameters for the gridSearchCV\n",
    "param_grid = {  'weights' : ['uniform', 'distance'],\n",
    "                'algorithm' : ['auto', 'ball_tree', 'kd_tree', 'brute'], \n",
    "                'leaf_size': range(1, 10),\n",
    "                'n_neighbors': [6,7,8],\n",
    "                'p' : [1, 2]\n",
    "             }\n",
    "# Setting and fitting gridsearchCV to the dataset \n",
    "knr = GridSearchCV(KNeighborsRegressor(), param_grid, n_jobs = -1 )\n",
    "KNR = knr.fit(X_train, y_train)"
   ]
  },
  {
   "cell_type": "code",
   "execution_count": 24,
   "metadata": {},
   "outputs": [
    {
     "data": {
      "text/plain": [
       "{'algorithm': 'auto',\n",
       " 'leaf_size': 3,\n",
       " 'n_neighbors': 8,\n",
       " 'p': 1,\n",
       " 'weights': 'distance'}"
      ]
     },
     "execution_count": 24,
     "metadata": {},
     "output_type": "execute_result"
    }
   ],
   "source": [
    "KNR.best_params_"
   ]
  },
  {
   "cell_type": "code",
   "execution_count": 25,
   "metadata": {},
   "outputs": [],
   "source": [
    "# fit the model and predict the class\n",
    "y_pred_knr = KNR.predict(X_test)"
   ]
  },
  {
   "cell_type": "code",
   "execution_count": 26,
   "metadata": {
    "scrolled": true
   },
   "outputs": [
    {
     "name": "stdout",
     "output_type": "stream",
     "text": [
      "Mean Square Error KNN: 0.214\n"
     ]
    }
   ],
   "source": [
    "# Mean squared error\n",
    "mse_KNR_all = mean_squared_error(y_test,y_pred_knr)\n",
    "print('Mean Square Error KNN:', round(mse_KNR_all, 3))"
   ]
  },
  {
   "cell_type": "markdown",
   "metadata": {},
   "source": [
    "#### Model Contruction and Analysis Support Vector Machine"
   ]
  },
  {
   "cell_type": "code",
   "execution_count": 27,
   "metadata": {},
   "outputs": [
    {
     "data": {
      "text/plain": [
       "{'C': 100, 'gamma': 1, 'kernel': 'rbf'}"
      ]
     },
     "execution_count": 27,
     "metadata": {},
     "output_type": "execute_result"
    }
   ],
   "source": [
    "from sklearn.svm import SVR\n",
    "# Use the random grid to search for best hyperparameters\n",
    "param_grid = {'C': [0.1, 1, 10, 100], \n",
    "              'gamma': [1, 0.1, 0.01, 0.001],\n",
    "              'kernel': ['rbf', 'sigmoid']} \n",
    "#Setting the GridsherchCV \n",
    "SVR_grid = GridSearchCV(SVR(), param_grid,  n_jobs = -1) \n",
    "# fitting the model for grid search\n",
    "svr = SVR_grid.fit(X_train, y_train)\n",
    "\n",
    "# print best parameter after tuning \n",
    "svr.best_params_"
   ]
  },
  {
   "cell_type": "code",
   "execution_count": 28,
   "metadata": {},
   "outputs": [
    {
     "name": "stdout",
     "output_type": "stream",
     "text": [
      "Mean Square Error SVR: 0.251\n"
     ]
    }
   ],
   "source": [
    "#predicting the values and calculating the mse\n",
    "y_pred_SVR = svr.predict(X_test)\n",
    "mse_SVR = mean_squared_error(y_test,y_pred_SVR)\n",
    "print('Mean Square Error SVR:', round(mse_SVR, 3))"
   ]
  },
  {
   "cell_type": "markdown",
   "metadata": {},
   "source": [
    "### Subset Low (z <= 1)\n",
    "#### Data Selection and Preprocessing"
   ]
  },
  {
   "cell_type": "code",
   "execution_count": 33,
   "metadata": {},
   "outputs": [
    {
     "data": {
      "text/html": [
       "<div>\n",
       "<style scoped>\n",
       "    .dataframe tbody tr th:only-of-type {\n",
       "        vertical-align: middle;\n",
       "    }\n",
       "\n",
       "    .dataframe tbody tr th {\n",
       "        vertical-align: top;\n",
       "    }\n",
       "\n",
       "    .dataframe thead th {\n",
       "        text-align: right;\n",
       "    }\n",
       "</style>\n",
       "<table border=\"1\" class=\"dataframe\">\n",
       "  <thead>\n",
       "    <tr style=\"text-align: right;\">\n",
       "      <th></th>\n",
       "      <th>dered_u</th>\n",
       "      <th>dered_g</th>\n",
       "      <th>dered_r</th>\n",
       "      <th>dered_i</th>\n",
       "      <th>dered_z</th>\n",
       "      <th>z</th>\n",
       "      <th>nClass</th>\n",
       "    </tr>\n",
       "  </thead>\n",
       "  <tbody>\n",
       "    <tr>\n",
       "      <th>2728</th>\n",
       "      <td>20.56905</td>\n",
       "      <td>17.48284</td>\n",
       "      <td>16.19343</td>\n",
       "      <td>15.66441</td>\n",
       "      <td>15.37556</td>\n",
       "      <td>0.000678</td>\n",
       "      <td>1</td>\n",
       "    </tr>\n",
       "    <tr>\n",
       "      <th>1013</th>\n",
       "      <td>18.36501</td>\n",
       "      <td>17.33097</td>\n",
       "      <td>16.94222</td>\n",
       "      <td>16.72284</td>\n",
       "      <td>16.62204</td>\n",
       "      <td>0.032906</td>\n",
       "      <td>3</td>\n",
       "    </tr>\n",
       "    <tr>\n",
       "      <th>1744</th>\n",
       "      <td>15.88625</td>\n",
       "      <td>14.84572</td>\n",
       "      <td>14.63811</td>\n",
       "      <td>14.58453</td>\n",
       "      <td>14.61692</td>\n",
       "      <td>0.000001</td>\n",
       "      <td>1</td>\n",
       "    </tr>\n",
       "    <tr>\n",
       "      <th>4094</th>\n",
       "      <td>20.22675</td>\n",
       "      <td>18.51591</td>\n",
       "      <td>17.39308</td>\n",
       "      <td>16.89989</td>\n",
       "      <td>16.54217</td>\n",
       "      <td>0.159147</td>\n",
       "      <td>3</td>\n",
       "    </tr>\n",
       "    <tr>\n",
       "      <th>1602</th>\n",
       "      <td>19.43867</td>\n",
       "      <td>17.27449</td>\n",
       "      <td>16.44771</td>\n",
       "      <td>16.19131</td>\n",
       "      <td>16.08365</td>\n",
       "      <td>0.000081</td>\n",
       "      <td>1</td>\n",
       "    </tr>\n",
       "  </tbody>\n",
       "</table>\n",
       "</div>"
      ],
      "text/plain": [
       "       dered_u   dered_g   dered_r   dered_i   dered_z         z  nClass\n",
       "2728  20.56905  17.48284  16.19343  15.66441  15.37556  0.000678       1\n",
       "1013  18.36501  17.33097  16.94222  16.72284  16.62204  0.032906       3\n",
       "1744  15.88625  14.84572  14.63811  14.58453  14.61692  0.000001       1\n",
       "4094  20.22675  18.51591  17.39308  16.89989  16.54217  0.159147       3\n",
       "1602  19.43867  17.27449  16.44771  16.19131  16.08365  0.000081       1"
      ]
     },
     "execution_count": 33,
     "metadata": {},
     "output_type": "execute_result"
    }
   ],
   "source": [
    "# Subsetting the dataset by selecting from the full dataset only sources with z<=1\n",
    "data_low = data_cl.loc[(data_cl['z'] <= 1.0 )]\n",
    "data_low.head()"
   ]
  },
  {
   "cell_type": "code",
   "execution_count": 34,
   "metadata": {},
   "outputs": [
    {
     "name": "stdout",
     "output_type": "stream",
     "text": [
      "Count of X_train = 7997\n",
      "Count of X_test = 3428\n"
     ]
    }
   ],
   "source": [
    "# separating feature X and label y and scaling data \n",
    "X =data_low.drop(['nClass', 'z'], axis=1)\n",
    "y = data_low['z']\n",
    "# Using RobustScaler to scale the dataset\n",
    "X_t_low = scaler.fit_transform(X)\n",
    "X_scaled_low = pd.DataFrame(X_t_low, columns = X.columns)\n",
    "# Split the data into training and test sets\n",
    "Xl_train, Xl_test, yl_train, yl_test = train_test_split(X_scaled_low, y, test_size=0.3, random_state=42)\n",
    "\n",
    "print(f'Count of X_train = {Xl_train[\"dered_u\"].count()}')\n",
    "print(f'Count of X_test = {Xl_test[\"dered_u\"].count()}')\n"
   ]
  },
  {
   "cell_type": "markdown",
   "metadata": {},
   "source": [
    "#### Model Contruction and Analysis KNN"
   ]
  },
  {
   "cell_type": "code",
   "execution_count": 35,
   "metadata": {},
   "outputs": [
    {
     "data": {
      "text/plain": [
       "array([0.00989166, 0.00854885, 0.00756829, 0.00704533, 0.00688283,\n",
       "       0.00687483, 0.00687887, 0.00694692, 0.00706191, 0.00704956,\n",
       "       0.00711425, 0.00726144, 0.00744495, 0.00749654, 0.0075963 ,\n",
       "       0.00772621, 0.00782494, 0.00793803, 0.00808617, 0.00819279])"
      ]
     },
     "execution_count": 35,
     "metadata": {},
     "output_type": "execute_result"
    }
   ],
   "source": [
    "# Calculating the mse for a range of values to select the best range.\n",
    "mse_low = np.zeros(n)\n",
    "for i in range(1,n+1):\n",
    "    #Train Model and Predict  \n",
    "    knn = KNeighborsRegressor(n_neighbors = i).fit(Xl_train,yl_train)\n",
    "    yhat= knn.predict(Xl_test)\n",
    "    mse_low[i-1] = mean_squared_error(yl_test, yhat)\n",
    "\n",
    "mse_low"
   ]
  },
  {
   "cell_type": "code",
   "execution_count": 36,
   "metadata": {},
   "outputs": [
    {
     "data": {
      "image/png": "[encoded data removed]",
      "text/plain": [
       "<Figure size 720x432 with 1 Axes>"
      ]
     },
     "metadata": {},
     "output_type": "display_data"
    }
   ],
   "source": [
    "# Plotting the mse obtained against the number of neighbours\n",
    "loc = np.arange(1,n+1,step=1.0)\n",
    "plt.figure(figsize = (10, 6))\n",
    "plt.plot(range(1, n+1), mse_low)\n",
    "plt.xticks(loc)\n",
    "plt.xlabel('Number of Neighbors for subsample with z<=1')\n",
    "plt.ylabel('MSE')\n",
    "plt.show()\n"
   ]
  },
  {
   "cell_type": "code",
   "execution_count": 37,
   "metadata": {},
   "outputs": [],
   "source": [
    "# Defining the grid of parameters for the gridSearchCV\n",
    "param_grid = {  'weights' : ['uniform', 'distance'],\n",
    "                'algorithm' : ['auto', 'ball_tree', 'kd_tree', 'brute'], \n",
    "                'leaf_size': range(1, 10),\n",
    "                'n_neighbors': [ 5, 6, 7],\n",
    "                'p' : [1, 2]\n",
    "             }\n",
    "# Setting and fitting gridsearchCV to the dataset \n",
    "knr_low = GridSearchCV(KNeighborsRegressor(), param_grid, n_jobs = -1 )\n",
    "KNR_low = knr_low.fit(Xl_train, yl_train)"
   ]
  },
  {
   "cell_type": "code",
   "execution_count": 38,
   "metadata": {},
   "outputs": [
    {
     "data": {
      "text/plain": [
       "{'algorithm': 'auto',\n",
       " 'leaf_size': 1,\n",
       " 'n_neighbors': 5,\n",
       " 'p': 2,\n",
       " 'weights': 'distance'}"
      ]
     },
     "execution_count": 38,
     "metadata": {},
     "output_type": "execute_result"
    }
   ],
   "source": [
    "KNR_low.best_params_ "
   ]
  },
  {
   "cell_type": "code",
   "execution_count": 39,
   "metadata": {},
   "outputs": [],
   "source": [
    "# fit the model and predict the class\n",
    "yl_pred_knr = KNR_low.predict(Xl_test)"
   ]
  },
  {
   "cell_type": "code",
   "execution_count": 40,
   "metadata": {
    "scrolled": true
   },
   "outputs": [
    {
     "name": "stdout",
     "output_type": "stream",
     "text": [
      "Mean Square Error KNN for z < 1 : 0.007\n"
     ]
    }
   ],
   "source": [
    "# Mean squared error\n",
    "mse_KNR_low = mean_squared_error(yl_test,yl_pred_knr)\n",
    "print('Mean Square Error KNN for z < 1 :', round(mse_KNR_low, 3))"
   ]
  },
  {
   "cell_type": "markdown",
   "metadata": {},
   "source": [
    "#### Model Contruction and Analysis Support Vector Machine"
   ]
  },
  {
   "cell_type": "code",
   "execution_count": 41,
   "metadata": {
    "scrolled": true
   },
   "outputs": [
    {
     "data": {
      "text/plain": [
       "{'C': 10, 'gamma': 1, 'kernel': 'rbf'}"
      ]
     },
     "execution_count": 41,
     "metadata": {},
     "output_type": "execute_result"
    }
   ],
   "source": [
    "# fitting the model for grid search\n",
    "svr_low = SVR_grid.fit(Xl_train, yl_train)\n",
    "\n",
    "# print best parameter after tuning \n",
    "svr_low.best_params_"
   ]
  },
  {
   "cell_type": "code",
   "execution_count": 42,
   "metadata": {},
   "outputs": [
    {
     "name": "stdout",
     "output_type": "stream",
     "text": [
      "Mean Square Error SVR for z<=1: 0.008\n"
     ]
    }
   ],
   "source": [
    "#predicting the values and calculating the mse\n",
    "yl_pred_SVR = svr_low.predict(Xl_test)\n",
    "mse_SVR_low = mean_squared_error(yl_test,yl_pred_SVR)\n",
    "print('Mean Square Error SVR for z<=1:', round(mse_SVR_low, 3))"
   ]
  },
  {
   "cell_type": "markdown",
   "metadata": {},
   "source": [
    "### Subset high (z > 1)\n",
    "#### Data Selection and Preprocessing"
   ]
  },
  {
   "cell_type": "code",
   "execution_count": 43,
   "metadata": {},
   "outputs": [
    {
     "data": {
      "text/html": [
       "<div>\n",
       "<style scoped>\n",
       "    .dataframe tbody tr th:only-of-type {\n",
       "        vertical-align: middle;\n",
       "    }\n",
       "\n",
       "    .dataframe tbody tr th {\n",
       "        vertical-align: top;\n",
       "    }\n",
       "\n",
       "    .dataframe thead th {\n",
       "        text-align: right;\n",
       "    }\n",
       "</style>\n",
       "<table border=\"1\" class=\"dataframe\">\n",
       "  <thead>\n",
       "    <tr style=\"text-align: right;\">\n",
       "      <th></th>\n",
       "      <th>dered_u</th>\n",
       "      <th>dered_g</th>\n",
       "      <th>dered_r</th>\n",
       "      <th>dered_i</th>\n",
       "      <th>dered_z</th>\n",
       "      <th>z</th>\n",
       "      <th>nClass</th>\n",
       "    </tr>\n",
       "  </thead>\n",
       "  <tbody>\n",
       "    <tr>\n",
       "      <th>1306</th>\n",
       "      <td>20.67431</td>\n",
       "      <td>20.25327</td>\n",
       "      <td>20.03435</td>\n",
       "      <td>19.98915</td>\n",
       "      <td>19.71827</td>\n",
       "      <td>2.456878</td>\n",
       "      <td>2</td>\n",
       "    </tr>\n",
       "    <tr>\n",
       "      <th>668</th>\n",
       "      <td>20.13697</td>\n",
       "      <td>20.03177</td>\n",
       "      <td>19.75809</td>\n",
       "      <td>19.74050</td>\n",
       "      <td>19.90595</td>\n",
       "      <td>1.060059</td>\n",
       "      <td>2</td>\n",
       "    </tr>\n",
       "    <tr>\n",
       "      <th>837</th>\n",
       "      <td>18.26477</td>\n",
       "      <td>17.86617</td>\n",
       "      <td>17.68207</td>\n",
       "      <td>17.46004</td>\n",
       "      <td>17.20513</td>\n",
       "      <td>2.122566</td>\n",
       "      <td>2</td>\n",
       "    </tr>\n",
       "    <tr>\n",
       "      <th>2614</th>\n",
       "      <td>19.20903</td>\n",
       "      <td>18.96301</td>\n",
       "      <td>18.66391</td>\n",
       "      <td>18.76042</td>\n",
       "      <td>18.88937</td>\n",
       "      <td>1.100385</td>\n",
       "      <td>2</td>\n",
       "    </tr>\n",
       "    <tr>\n",
       "      <th>2175</th>\n",
       "      <td>21.05627</td>\n",
       "      <td>20.74837</td>\n",
       "      <td>20.52937</td>\n",
       "      <td>20.29080</td>\n",
       "      <td>20.22308</td>\n",
       "      <td>2.020439</td>\n",
       "      <td>2</td>\n",
       "    </tr>\n",
       "  </tbody>\n",
       "</table>\n",
       "</div>"
      ],
      "text/plain": [
       "       dered_u   dered_g   dered_r   dered_i   dered_z         z  nClass\n",
       "1306  20.67431  20.25327  20.03435  19.98915  19.71827  2.456878       2\n",
       "668   20.13697  20.03177  19.75809  19.74050  19.90595  1.060059       2\n",
       "837   18.26477  17.86617  17.68207  17.46004  17.20513  2.122566       2\n",
       "2614  19.20903  18.96301  18.66391  18.76042  18.88937  1.100385       2\n",
       "2175  21.05627  20.74837  20.52937  20.29080  20.22308  2.020439       2"
      ]
     },
     "execution_count": 43,
     "metadata": {},
     "output_type": "execute_result"
    }
   ],
   "source": [
    "# Subsetting the dataset by selecting from the full dataset only sources with z<=1\n",
    "data_high = data_cl.loc[(data_cl['z'] > 1.0 )]\n",
    "data_high.head()"
   ]
  },
  {
   "cell_type": "code",
   "execution_count": 44,
   "metadata": {},
   "outputs": [
    {
     "name": "stdout",
     "output_type": "stream",
     "text": [
      "Count of X_train = 5951\n",
      "Count of X_test = 2551\n"
     ]
    }
   ],
   "source": [
    "# separating feature X and label y and scaling data \n",
    "X = data_high.drop(['nClass', 'z'], axis=1)\n",
    "y = data_high['z']\n",
    "# Using RobustScaler to scale the dataset\n",
    "X_t_high = scaler.fit_transform(X)\n",
    "X_scaled_high = pd.DataFrame(X_t_high, columns = X.columns)\n",
    "# Split the data into training and test sets\n",
    "Xh_train, Xh_test, yh_train, yh_test = train_test_split(X_scaled_high, y, test_size=0.3, random_state=42)\n",
    "\n",
    "print(f'Count of X_train = {Xh_train[\"dered_u\"].count()}')\n",
    "print(f'Count of X_test = {Xh_test[\"dered_u\"].count()}')\n"
   ]
  },
  {
   "cell_type": "markdown",
   "metadata": {},
   "source": [
    "#### Model Contruction and Analysis KNN"
   ]
  },
  {
   "cell_type": "code",
   "execution_count": 45,
   "metadata": {},
   "outputs": [
    {
     "data": {
      "text/plain": [
       "array([0.10872438, 0.084301  , 0.07749739, 0.07321002, 0.07063255,\n",
       "       0.06871644, 0.06926688, 0.06856891, 0.06863553, 0.06849319,\n",
       "       0.06899406, 0.06966458, 0.06914388, 0.06915679, 0.06944659,\n",
       "       0.06989758, 0.07022726, 0.0702489 , 0.07073013, 0.07073159])"
      ]
     },
     "execution_count": 45,
     "metadata": {},
     "output_type": "execute_result"
    }
   ],
   "source": [
    "# Calculating the mse for a range of values to select the best range.\n",
    "mse_high = np.zeros(n)\n",
    "for i in range(1,n+1):\n",
    "    #Train Model and Predict  \n",
    "    knn = KNeighborsRegressor(n_neighbors = i).fit(Xh_train,yh_train)\n",
    "    yhat= knn.predict(Xh_test)\n",
    "    mse_high[i-1] = mean_squared_error(yh_test, yhat)\n",
    "\n",
    "mse_high"
   ]
  },
  {
   "cell_type": "code",
   "execution_count": 46,
   "metadata": {},
   "outputs": [
    {
     "data": {
      "image/png": "[encoded data removed]",
      "text/plain": [
       "<Figure size 720x432 with 1 Axes>"
      ]
     },
     "metadata": {},
     "output_type": "display_data"
    }
   ],
   "source": [
    "# Plotting the mse obtained against the number of neighbours\n",
    "loc = np.arange(1,n+1,step=1.0)\n",
    "plt.figure(figsize = (10, 6))\n",
    "plt.plot(range(1, n+1), mse_high)\n",
    "plt.xticks(loc)\n",
    "plt.xlabel('Number of Neighbors for subsample of z>1')\n",
    "plt.ylabel('MSE')\n",
    "plt.show()\n"
   ]
  },
  {
   "cell_type": "code",
   "execution_count": 47,
   "metadata": {},
   "outputs": [],
   "source": [
    "# Defining the grid of parameters for the gridSearchCV\n",
    "param_grid = {  'weights' : ['uniform', 'distance'],\n",
    "                'algorithm' : ['auto', 'ball_tree', 'kd_tree', 'brute'], \n",
    "                'leaf_size': range(1, 10),\n",
    "                'n_neighbors': [6, 7 ,8, 9],\n",
    "                'p' : [1, 2]\n",
    "             }\n",
    "# Setting and fitting gridsearchCV to the dataset \n",
    "knr_high = GridSearchCV(KNeighborsRegressor(), param_grid, n_jobs = -1 )\n",
    "KNR_high = knr_high.fit(Xh_train, yh_train)"
   ]
  },
  {
   "cell_type": "code",
   "execution_count": 48,
   "metadata": {},
   "outputs": [
    {
     "data": {
      "text/plain": [
       "{'algorithm': 'auto',\n",
       " 'leaf_size': 2,\n",
       " 'n_neighbors': 9,\n",
       " 'p': 2,\n",
       " 'weights': 'distance'}"
      ]
     },
     "execution_count": 48,
     "metadata": {},
     "output_type": "execute_result"
    }
   ],
   "source": [
    "KNR_high.best_params_ "
   ]
  },
  {
   "cell_type": "code",
   "execution_count": 49,
   "metadata": {},
   "outputs": [],
   "source": [
    "# fit the model and predict the class\n",
    "yh_pred_knr = KNR_high.predict(Xh_test)"
   ]
  },
  {
   "cell_type": "code",
   "execution_count": 50,
   "metadata": {
    "scrolled": true
   },
   "outputs": [
    {
     "name": "stdout",
     "output_type": "stream",
     "text": [
      "Mean Square Error KNN for z > 1 : 0.067\n"
     ]
    }
   ],
   "source": [
    "# Mean squared error\n",
    "mse_KNR_high = mean_squared_error(yh_test,yh_pred_knr)\n",
    "print('Mean Square Error KNN for z > 1 :', round(mse_KNR_high, 3))"
   ]
  },
  {
   "cell_type": "markdown",
   "metadata": {},
   "source": [
    "#### Model Contruction and Analysis Support Vector Machine"
   ]
  },
  {
   "cell_type": "code",
   "execution_count": 51,
   "metadata": {},
   "outputs": [
    {
     "data": {
      "text/plain": [
       "({'C': 10, 'gamma': 1, 'kernel': 'rbf'}, 0.745161359105559)"
      ]
     },
     "execution_count": 51,
     "metadata": {},
     "output_type": "execute_result"
    }
   ],
   "source": [
    "# fitting the model for grid search\n",
    "svr_high = SVR_grid.fit(Xh_train, yh_train)\n",
    "\n",
    "# print best parameter after tuning and best accuracy\n",
    "svr_high.best_params_, svr_high.best_score_"
   ]
  },
  {
   "cell_type": "code",
   "execution_count": 52,
   "metadata": {},
   "outputs": [
    {
     "name": "stdout",
     "output_type": "stream",
     "text": [
      "Mean Square Error SVR: 0.067\n"
     ]
    }
   ],
   "source": [
    "#predicting the values and calculating the mse\n",
    "yh_pred_SVR = svr_high.predict(Xh_test)\n",
    "mse_SVR_high = mean_squared_error(yh_test,yh_pred_SVR)\n",
    "print('Mean Square Error SVR:', round(mse_SVR_high, 3))"
   ]
  },
  {
   "cell_type": "markdown",
   "metadata": {},
   "source": [
    "### All results together"
   ]
  },
  {
   "cell_type": "code",
   "execution_count": 53,
   "metadata": {},
   "outputs": [
    {
     "name": "stdout",
     "output_type": "stream",
     "text": [
      "Dataset      MSE KNR    MSE SVR\n",
      "---------  ---------  ---------\n",
      "All            0.214      0.251\n",
      "Low            0.007      0.008\n",
      "High           0.067      0.067\n"
     ]
    }
   ],
   "source": [
    "from tabulate import tabulate\n",
    "#create data\n",
    "tab_data = [[\"All\", round(mse_KNR_all, 3), round(mse_SVR, 3)], \n",
    "        [\"Low\",  round(mse_KNR_low, 3),  round(mse_SVR_low, 3)], \n",
    "        [\"High\",  round(mse_KNR_high, 3),  round(mse_SVR_high, 3)]]\n",
    "  \n",
    "#define header names\n",
    "col_names = [\"Dataset\",\"MSE KNR\", \"MSE SVR\"]\n",
    "  \n",
    "#display table\n",
    "print(tabulate(tab_data, headers=col_names))\n"
   ]
  },
  {
   "cell_type": "markdown",
   "metadata": {},
   "source": [
    "## Adding Colours\n",
    "### Full Dataset\n",
    "#### Data Selection and Preprocessing"
   ]
  },
  {
   "cell_type": "code",
   "execution_count": 54,
   "metadata": {},
   "outputs": [],
   "source": [
    "# separating feature X and label y and scaling data \n",
    "X = data_colour.drop(['nClass', 'z'], axis=1)\n",
    "y = data_colour['z']\n",
    "# Using RobustScaler to scale the dataset\n",
    "X_t_c = scaler.fit_transform(X)\n",
    "X_scaled_c = pd.DataFrame(X_t_c, columns = X.columns)\n"
   ]
  },
  {
   "cell_type": "code",
   "execution_count": 55,
   "metadata": {},
   "outputs": [
    {
     "name": "stdout",
     "output_type": "stream",
     "text": [
      "Count of X_train = 13948\n",
      "Count of X_test = 5979\n"
     ]
    }
   ],
   "source": [
    "# Split the data into training and test sets\n",
    "X_train_c, X_test_c, y_train_c, y_test_c = train_test_split(X_scaled_c, y, test_size=0.3, random_state=42)\n",
    "\n",
    "print(f'Count of X_train = {X_train_c[\"dered_u\"].count()}')\n",
    "print(f'Count of X_test = {X_test_c[\"dered_u\"].count()}')"
   ]
  },
  {
   "cell_type": "markdown",
   "metadata": {},
   "source": [
    "#### Model Contruction and Analysis KNN"
   ]
  },
  {
   "cell_type": "code",
   "execution_count": 56,
   "metadata": {
    "scrolled": true
   },
   "outputs": [
    {
     "data": {
      "text/plain": [
       "array([0.29395638, 0.22364351, 0.19514351, 0.1849585 , 0.18117965,\n",
       "       0.17736446, 0.17604967, 0.1750067 , 0.17458257, 0.17425391,\n",
       "       0.17567316, 0.17588769, 0.17675099, 0.17818985, 0.17837787,\n",
       "       0.17797122, 0.17963348, 0.18035334, 0.1800423 , 0.18003091])"
      ]
     },
     "execution_count": 56,
     "metadata": {},
     "output_type": "execute_result"
    }
   ],
   "source": [
    "# calculating the accuracy of models with different values of k\n",
    "n= 20\n",
    "mse_c = np.zeros(n)\n",
    "for i in range(1,n+1):\n",
    "    #Train Model and Predict  \n",
    "    knn = KNeighborsRegressor(n_neighbors = i).fit(X_train_c,y_train_c)\n",
    "    yhat= knn.predict(X_test_c)\n",
    "    mse_c[i-1] = mean_squared_error(y_test_c, yhat)\n",
    "\n",
    "mse_c"
   ]
  },
  {
   "cell_type": "code",
   "execution_count": 57,
   "metadata": {},
   "outputs": [
    {
     "data": {
      "image/png": "[encoded data removed]",
      "text/plain": [
       "<Figure size 720x432 with 1 Axes>"
      ]
     },
     "metadata": {},
     "output_type": "display_data"
    }
   ],
   "source": [
    "# Plotting the mse obtained against the number of neighbours\n",
    "loc = np.arange(1,n+1,step=1.0)\n",
    "plt.figure(figsize = (10, 6))\n",
    "plt.plot(range(1, n+1), mse_c)\n",
    "plt.xticks(loc)\n",
    "plt.xlabel('Number of Neighbors without photoZ')\n",
    "plt.ylabel('MSE')\n",
    "plt.show()\n"
   ]
  },
  {
   "cell_type": "code",
   "execution_count": 64,
   "metadata": {},
   "outputs": [],
   "source": [
    "# Defining the grid of parameters for the gridSearchCV\n",
    "param_grid = {  'weights' : ['uniform', 'distance'],\n",
    "                'algorithm' : ['auto', 'ball_tree', 'kd_tree', 'brute'], \n",
    "                'leaf_size': range(1, 10),\n",
    "                'n_neighbors': [8, 9, 10],\n",
    "                'p' : [1, 2]\n",
    "             }\n",
    "# Setting and fitting gridsearchCV to the dataset \n",
    "knr_c = GridSearchCV(KNeighborsRegressor(), param_grid, n_jobs = -1 )\n",
    "KNR_c = knr_c.fit(X_train_c, y_train_c)"
   ]
  },
  {
   "cell_type": "code",
   "execution_count": 65,
   "metadata": {},
   "outputs": [
    {
     "data": {
      "text/plain": [
       "{'algorithm': 'ball_tree',\n",
       " 'leaf_size': 6,\n",
       " 'n_neighbors': 10,\n",
       " 'p': 2,\n",
       " 'weights': 'distance'}"
      ]
     },
     "execution_count": 65,
     "metadata": {},
     "output_type": "execute_result"
    }
   ],
   "source": [
    "KNR_c.best_params_"
   ]
  },
  {
   "cell_type": "code",
   "execution_count": 60,
   "metadata": {},
   "outputs": [],
   "source": [
    "# fit the model and predict the class\n",
    "y_pred_knr_c = KNR_c.predict(X_test_c)"
   ]
  },
  {
   "cell_type": "code",
   "execution_count": 61,
   "metadata": {
    "scrolled": true
   },
   "outputs": [
    {
     "name": "stdout",
     "output_type": "stream",
     "text": [
      "Mean Square Error KNN: 0.167\n"
     ]
    }
   ],
   "source": [
    "# Mean squared error\n",
    "mse_KNR_all_c = mean_squared_error(y_test_c,y_pred_knr_c)\n",
    "print('Mean Square Error KNN:', round(mse_KNR_all_c, 3))"
   ]
  },
  {
   "cell_type": "markdown",
   "metadata": {},
   "source": [
    "#### Model Contruction and Analysis Support Vector Machine"
   ]
  },
  {
   "cell_type": "code",
   "execution_count": 62,
   "metadata": {},
   "outputs": [
    {
     "data": {
      "text/plain": [
       "{'C': 10, 'gamma': 1, 'kernel': 'rbf'}"
      ]
     },
     "execution_count": 62,
     "metadata": {},
     "output_type": "execute_result"
    }
   ],
   "source": [
    "# fitting the model for grid search\n",
    "svr_c = SVR_grid.fit(X_train_c, y_train_c)\n",
    "\n",
    "# print best parameter after tuning \n",
    "svr_c.best_params_"
   ]
  },
  {
   "cell_type": "code",
   "execution_count": 63,
   "metadata": {},
   "outputs": [
    {
     "name": "stdout",
     "output_type": "stream",
     "text": [
      "Mean Square Error SVR: 0.182\n"
     ]
    }
   ],
   "source": [
    "#predicting the values and calculating the mse\n",
    "y_pred_SVR_c = svr_c.predict(X_test_c)\n",
    "mse_SVR_c = mean_squared_error(y_test_c,y_pred_SVR_c)\n",
    "print('Mean Square Error SVR:', round(mse_SVR_c, 3))"
   ]
  },
  {
   "cell_type": "markdown",
   "metadata": {},
   "source": [
    "### Subset Low (z <= 1)\n",
    "#### Data Selection and Preprocessing"
   ]
  },
  {
   "cell_type": "code",
   "execution_count": 66,
   "metadata": {},
   "outputs": [
    {
     "data": {
      "text/html": [
       "<div>\n",
       "<style scoped>\n",
       "    .dataframe tbody tr th:only-of-type {\n",
       "        vertical-align: middle;\n",
       "    }\n",
       "\n",
       "    .dataframe tbody tr th {\n",
       "        vertical-align: top;\n",
       "    }\n",
       "\n",
       "    .dataframe thead th {\n",
       "        text-align: right;\n",
       "    }\n",
       "</style>\n",
       "<table border=\"1\" class=\"dataframe\">\n",
       "  <thead>\n",
       "    <tr style=\"text-align: right;\">\n",
       "      <th></th>\n",
       "      <th>dered_u</th>\n",
       "      <th>dered_g</th>\n",
       "      <th>dered_r</th>\n",
       "      <th>dered_i</th>\n",
       "      <th>dered_z</th>\n",
       "      <th>z</th>\n",
       "      <th>nClass</th>\n",
       "      <th>u-g</th>\n",
       "      <th>g-r</th>\n",
       "      <th>r-i</th>\n",
       "      <th>i-z</th>\n",
       "    </tr>\n",
       "  </thead>\n",
       "  <tbody>\n",
       "    <tr>\n",
       "      <th>2728</th>\n",
       "      <td>20.56905</td>\n",
       "      <td>17.48284</td>\n",
       "      <td>16.19343</td>\n",
       "      <td>15.66441</td>\n",
       "      <td>15.37556</td>\n",
       "      <td>0.000678</td>\n",
       "      <td>1</td>\n",
       "      <td>3.08621</td>\n",
       "      <td>1.28941</td>\n",
       "      <td>0.52902</td>\n",
       "      <td>0.28885</td>\n",
       "    </tr>\n",
       "    <tr>\n",
       "      <th>1013</th>\n",
       "      <td>18.36501</td>\n",
       "      <td>17.33097</td>\n",
       "      <td>16.94222</td>\n",
       "      <td>16.72284</td>\n",
       "      <td>16.62204</td>\n",
       "      <td>0.032906</td>\n",
       "      <td>3</td>\n",
       "      <td>1.03404</td>\n",
       "      <td>0.38875</td>\n",
       "      <td>0.21938</td>\n",
       "      <td>0.10080</td>\n",
       "    </tr>\n",
       "    <tr>\n",
       "      <th>1744</th>\n",
       "      <td>15.88625</td>\n",
       "      <td>14.84572</td>\n",
       "      <td>14.63811</td>\n",
       "      <td>14.58453</td>\n",
       "      <td>14.61692</td>\n",
       "      <td>0.000001</td>\n",
       "      <td>1</td>\n",
       "      <td>1.04053</td>\n",
       "      <td>0.20761</td>\n",
       "      <td>0.05358</td>\n",
       "      <td>-0.03239</td>\n",
       "    </tr>\n",
       "    <tr>\n",
       "      <th>4094</th>\n",
       "      <td>20.22675</td>\n",
       "      <td>18.51591</td>\n",
       "      <td>17.39308</td>\n",
       "      <td>16.89989</td>\n",
       "      <td>16.54217</td>\n",
       "      <td>0.159147</td>\n",
       "      <td>3</td>\n",
       "      <td>1.71084</td>\n",
       "      <td>1.12283</td>\n",
       "      <td>0.49319</td>\n",
       "      <td>0.35772</td>\n",
       "    </tr>\n",
       "    <tr>\n",
       "      <th>1602</th>\n",
       "      <td>19.43867</td>\n",
       "      <td>17.27449</td>\n",
       "      <td>16.44771</td>\n",
       "      <td>16.19131</td>\n",
       "      <td>16.08365</td>\n",
       "      <td>0.000081</td>\n",
       "      <td>1</td>\n",
       "      <td>2.16418</td>\n",
       "      <td>0.82678</td>\n",
       "      <td>0.25640</td>\n",
       "      <td>0.10766</td>\n",
       "    </tr>\n",
       "  </tbody>\n",
       "</table>\n",
       "</div>"
      ],
      "text/plain": [
       "       dered_u   dered_g   dered_r   dered_i   dered_z         z  nClass  \\\n",
       "2728  20.56905  17.48284  16.19343  15.66441  15.37556  0.000678       1   \n",
       "1013  18.36501  17.33097  16.94222  16.72284  16.62204  0.032906       3   \n",
       "1744  15.88625  14.84572  14.63811  14.58453  14.61692  0.000001       1   \n",
       "4094  20.22675  18.51591  17.39308  16.89989  16.54217  0.159147       3   \n",
       "1602  19.43867  17.27449  16.44771  16.19131  16.08365  0.000081       1   \n",
       "\n",
       "          u-g      g-r      r-i      i-z  \n",
       "2728  3.08621  1.28941  0.52902  0.28885  \n",
       "1013  1.03404  0.38875  0.21938  0.10080  \n",
       "1744  1.04053  0.20761  0.05358 -0.03239  \n",
       "4094  1.71084  1.12283  0.49319  0.35772  \n",
       "1602  2.16418  0.82678  0.25640  0.10766  "
      ]
     },
     "execution_count": 66,
     "metadata": {},
     "output_type": "execute_result"
    }
   ],
   "source": [
    "# Subsetting the dataset by selecting from the full dataset only sources with z<=1\n",
    "data_low_c = data_colour.loc[(data_colour['z'] <= 1.0 )]\n",
    "data_low_c.head()"
   ]
  },
  {
   "cell_type": "code",
   "execution_count": 67,
   "metadata": {},
   "outputs": [
    {
     "name": "stdout",
     "output_type": "stream",
     "text": [
      "Count of X_train = 7997\n",
      "Count of X_test = 3428\n"
     ]
    }
   ],
   "source": [
    "# separating feature X and label y and scaling data \n",
    "X =data_low_c.drop(['nClass', 'z'], axis=1)\n",
    "y = data_low_c['z']\n",
    "# Using RobustScaler to scale the dataset\n",
    "X_t_low_c = scaler.fit_transform(X)\n",
    "X_scaled_low_c= pd.DataFrame(X_t_low_c, columns = X.columns)\n",
    "# Split the data into training and test sets\n",
    "Xl_train_c, Xl_test_c, yl_train_c, yl_test_c = train_test_split(X_scaled_low_c, y, test_size=0.3, random_state=42)\n",
    "\n",
    "print(f'Count of X_train = {Xl_train_c[\"dered_u\"].count()}')\n",
    "print(f'Count of X_test = {Xl_test_c[\"dered_u\"].count()}')\n"
   ]
  },
  {
   "cell_type": "markdown",
   "metadata": {},
   "source": [
    "#### Model Contruction and Analysis KNN"
   ]
  },
  {
   "cell_type": "code",
   "execution_count": 68,
   "metadata": {},
   "outputs": [
    {
     "data": {
      "text/plain": [
       "array([0.00668031, 0.00543043, 0.00462057, 0.0045758 , 0.00463409,\n",
       "       0.00450505, 0.00446762, 0.00461845, 0.00463745, 0.00473643,\n",
       "       0.00487958, 0.00492231, 0.00502578, 0.00511772, 0.0051249 ,\n",
       "       0.00513263, 0.00517958, 0.00522249, 0.00522899, 0.00524169])"
      ]
     },
     "execution_count": 68,
     "metadata": {},
     "output_type": "execute_result"
    }
   ],
   "source": [
    "# Calculating the mse for a range of values to select the best range.\n",
    "n=20\n",
    "mse_low_c= np.zeros(n)\n",
    "for i in range(1,n+1):\n",
    "    #Train Model and Predict  \n",
    "    knn = KNeighborsRegressor(n_neighbors = i).fit(Xl_train_c,yl_train_c)\n",
    "    yhat= knn.predict(Xl_test_c)\n",
    "    mse_low_c[i-1] = mean_squared_error(yl_test_c, yhat)\n",
    "\n",
    "mse_low_c"
   ]
  },
  {
   "cell_type": "code",
   "execution_count": 69,
   "metadata": {},
   "outputs": [
    {
     "data": {
      "image/png": "[encoded data removed]",
      "text/plain": [
       "<Figure size 720x432 with 1 Axes>"
      ]
     },
     "metadata": {},
     "output_type": "display_data"
    }
   ],
   "source": [
    "# Plotting the mse obtained against the number of neighbours\n",
    "loc = np.arange(1,n+1,step=1.0)\n",
    "plt.figure(figsize = (10, 6))\n",
    "plt.plot(range(1, n+1), mse_low_c)\n",
    "plt.xticks(loc)\n",
    "plt.xlabel('Number of Neighbors for subsample with z<=1')\n",
    "plt.ylabel('MSE')\n",
    "plt.show()\n"
   ]
  },
  {
   "cell_type": "code",
   "execution_count": 70,
   "metadata": {},
   "outputs": [],
   "source": [
    "# Defining the grid of parameters for the gridSearchCV\n",
    "param_grid = {  'weights' : ['uniform', 'distance'],\n",
    "                'algorithm' : ['auto', 'ball_tree', 'kd_tree', 'brute'], \n",
    "                'leaf_size': range(1, 10),\n",
    "                'n_neighbors': [6, 7, 8],\n",
    "                'p' : [1, 2]\n",
    "             }\n",
    "# Setting and fitting gridsearchCV to the dataset \n",
    "knr_low_c = GridSearchCV(KNeighborsRegressor(), param_grid, n_jobs = -1 )\n",
    "KNR_low_c = knr_low_c.fit(Xl_train_c, yl_train_c)"
   ]
  },
  {
   "cell_type": "code",
   "execution_count": 71,
   "metadata": {},
   "outputs": [
    {
     "data": {
      "text/plain": [
       "{'algorithm': 'ball_tree',\n",
       " 'leaf_size': 7,\n",
       " 'n_neighbors': 6,\n",
       " 'p': 2,\n",
       " 'weights': 'distance'}"
      ]
     },
     "execution_count": 71,
     "metadata": {},
     "output_type": "execute_result"
    }
   ],
   "source": [
    "KNR_low_c.best_params_ "
   ]
  },
  {
   "cell_type": "code",
   "execution_count": 72,
   "metadata": {},
   "outputs": [],
   "source": [
    "# fit the model and predict the class\n",
    "yl_pred_knr_c = KNR_low_c.predict(Xl_test_c)"
   ]
  },
  {
   "cell_type": "code",
   "execution_count": 73,
   "metadata": {
    "scrolled": true
   },
   "outputs": [
    {
     "name": "stdout",
     "output_type": "stream",
     "text": [
      "Mean Square Error KNN for z < 1 : 0.004\n"
     ]
    }
   ],
   "source": [
    "# Mean squared error\n",
    "mse_KNR_low_c = mean_squared_error(yl_test_c,yl_pred_knr_c)\n",
    "print('Mean Square Error KNN for z < 1 :', round(mse_KNR_low_c, 3))"
   ]
  },
  {
   "cell_type": "markdown",
   "metadata": {},
   "source": [
    "#### Model Contruction and Analysis Support Vector Machine"
   ]
  },
  {
   "cell_type": "code",
   "execution_count": 74,
   "metadata": {
    "scrolled": true
   },
   "outputs": [
    {
     "data": {
      "text/plain": [
       "{'C': 1, 'gamma': 1, 'kernel': 'rbf'}"
      ]
     },
     "execution_count": 74,
     "metadata": {},
     "output_type": "execute_result"
    }
   ],
   "source": [
    "# fitting the model for grid search\n",
    "svr_low_c = SVR_grid.fit(Xl_train_c, yl_train_c)\n",
    "\n",
    "# print best parameter after tuning \n",
    "svr_low_c.best_params_"
   ]
  },
  {
   "cell_type": "code",
   "execution_count": 75,
   "metadata": {},
   "outputs": [
    {
     "name": "stdout",
     "output_type": "stream",
     "text": [
      "Mean Square Error SVR for z<=1: 0.007\n"
     ]
    }
   ],
   "source": [
    "#predicting the values and calculating the mse\n",
    "yl_pred_SVR_c = svr_low_c.predict(Xl_test_c)\n",
    "mse_SVR_low_c = mean_squared_error(yl_test_c,yl_pred_SVR_c)\n",
    "print('Mean Square Error SVR for z<=1:', round(mse_SVR_low_c, 3))"
   ]
  },
  {
   "cell_type": "markdown",
   "metadata": {},
   "source": [
    "### Subset high (z > 1)\n",
    "#### Data Selection and Preprocessing"
   ]
  },
  {
   "cell_type": "code",
   "execution_count": 76,
   "metadata": {},
   "outputs": [
    {
     "data": {
      "text/html": [
       "<div>\n",
       "<style scoped>\n",
       "    .dataframe tbody tr th:only-of-type {\n",
       "        vertical-align: middle;\n",
       "    }\n",
       "\n",
       "    .dataframe tbody tr th {\n",
       "        vertical-align: top;\n",
       "    }\n",
       "\n",
       "    .dataframe thead th {\n",
       "        text-align: right;\n",
       "    }\n",
       "</style>\n",
       "<table border=\"1\" class=\"dataframe\">\n",
       "  <thead>\n",
       "    <tr style=\"text-align: right;\">\n",
       "      <th></th>\n",
       "      <th>dered_u</th>\n",
       "      <th>dered_g</th>\n",
       "      <th>dered_r</th>\n",
       "      <th>dered_i</th>\n",
       "      <th>dered_z</th>\n",
       "      <th>z</th>\n",
       "      <th>nClass</th>\n",
       "      <th>u-g</th>\n",
       "      <th>g-r</th>\n",
       "      <th>r-i</th>\n",
       "      <th>i-z</th>\n",
       "    </tr>\n",
       "  </thead>\n",
       "  <tbody>\n",
       "    <tr>\n",
       "      <th>1306</th>\n",
       "      <td>20.67431</td>\n",
       "      <td>20.25327</td>\n",
       "      <td>20.03435</td>\n",
       "      <td>19.98915</td>\n",
       "      <td>19.71827</td>\n",
       "      <td>2.456878</td>\n",
       "      <td>2</td>\n",
       "      <td>0.42104</td>\n",
       "      <td>0.21892</td>\n",
       "      <td>0.04520</td>\n",
       "      <td>0.27088</td>\n",
       "    </tr>\n",
       "    <tr>\n",
       "      <th>668</th>\n",
       "      <td>20.13697</td>\n",
       "      <td>20.03177</td>\n",
       "      <td>19.75809</td>\n",
       "      <td>19.74050</td>\n",
       "      <td>19.90595</td>\n",
       "      <td>1.060059</td>\n",
       "      <td>2</td>\n",
       "      <td>0.10520</td>\n",
       "      <td>0.27368</td>\n",
       "      <td>0.01759</td>\n",
       "      <td>-0.16545</td>\n",
       "    </tr>\n",
       "    <tr>\n",
       "      <th>837</th>\n",
       "      <td>18.26477</td>\n",
       "      <td>17.86617</td>\n",
       "      <td>17.68207</td>\n",
       "      <td>17.46004</td>\n",
       "      <td>17.20513</td>\n",
       "      <td>2.122566</td>\n",
       "      <td>2</td>\n",
       "      <td>0.39860</td>\n",
       "      <td>0.18410</td>\n",
       "      <td>0.22203</td>\n",
       "      <td>0.25491</td>\n",
       "    </tr>\n",
       "    <tr>\n",
       "      <th>2614</th>\n",
       "      <td>19.20903</td>\n",
       "      <td>18.96301</td>\n",
       "      <td>18.66391</td>\n",
       "      <td>18.76042</td>\n",
       "      <td>18.88937</td>\n",
       "      <td>1.100385</td>\n",
       "      <td>2</td>\n",
       "      <td>0.24602</td>\n",
       "      <td>0.29910</td>\n",
       "      <td>-0.09651</td>\n",
       "      <td>-0.12895</td>\n",
       "    </tr>\n",
       "    <tr>\n",
       "      <th>2175</th>\n",
       "      <td>21.05627</td>\n",
       "      <td>20.74837</td>\n",
       "      <td>20.52937</td>\n",
       "      <td>20.29080</td>\n",
       "      <td>20.22308</td>\n",
       "      <td>2.020439</td>\n",
       "      <td>2</td>\n",
       "      <td>0.30790</td>\n",
       "      <td>0.21900</td>\n",
       "      <td>0.23857</td>\n",
       "      <td>0.06772</td>\n",
       "    </tr>\n",
       "  </tbody>\n",
       "</table>\n",
       "</div>"
      ],
      "text/plain": [
       "       dered_u   dered_g   dered_r   dered_i   dered_z         z  nClass  \\\n",
       "1306  20.67431  20.25327  20.03435  19.98915  19.71827  2.456878       2   \n",
       "668   20.13697  20.03177  19.75809  19.74050  19.90595  1.060059       2   \n",
       "837   18.26477  17.86617  17.68207  17.46004  17.20513  2.122566       2   \n",
       "2614  19.20903  18.96301  18.66391  18.76042  18.88937  1.100385       2   \n",
       "2175  21.05627  20.74837  20.52937  20.29080  20.22308  2.020439       2   \n",
       "\n",
       "          u-g      g-r      r-i      i-z  \n",
       "1306  0.42104  0.21892  0.04520  0.27088  \n",
       "668   0.10520  0.27368  0.01759 -0.16545  \n",
       "837   0.39860  0.18410  0.22203  0.25491  \n",
       "2614  0.24602  0.29910 -0.09651 -0.12895  \n",
       "2175  0.30790  0.21900  0.23857  0.06772  "
      ]
     },
     "execution_count": 76,
     "metadata": {},
     "output_type": "execute_result"
    }
   ],
   "source": [
    "# Subsetting the dataset by selecting from the full dataset only sources with z<=1\n",
    "data_high_c = data_colour.loc[(data_colour['z'] > 1.0 )]\n",
    "data_high_c.head()"
   ]
  },
  {
   "cell_type": "code",
   "execution_count": 77,
   "metadata": {},
   "outputs": [
    {
     "name": "stdout",
     "output_type": "stream",
     "text": [
      "Count of X_train = 5951\n",
      "Count of X_test = 2551\n"
     ]
    }
   ],
   "source": [
    "# separating feature X and label y and scaling data \n",
    "X = data_high_c.drop(['nClass', 'z'], axis=1)\n",
    "y = data_high_c['z']\n",
    "# Using RobustScaler to scale the dataset\n",
    "X_t_high_c = scaler.fit_transform(X)\n",
    "X_scaled_high_c = pd.DataFrame(X_t_high_c, columns = X.columns)\n",
    "# Split the data into training and test sets\n",
    "Xh_train_c, Xh_test_c, yh_train_c, yh_test_c = train_test_split(X_scaled_high_c, y, test_size=0.3, random_state=42)\n",
    "\n",
    "print(f'Count of X_train = {Xh_train_c[\"dered_u\"].count()}')\n",
    "print(f'Count of X_test = {Xh_test_c[\"dered_u\"].count()}')\n"
   ]
  },
  {
   "cell_type": "markdown",
   "metadata": {},
   "source": [
    "#### Model Contruction and Analysis KNN"
   ]
  },
  {
   "cell_type": "code",
   "execution_count": 78,
   "metadata": {},
   "outputs": [
    {
     "data": {
      "text/plain": [
       "array([0.09592802, 0.07514801, 0.06798268, 0.06546518, 0.06258901,\n",
       "       0.06092343, 0.05948992, 0.05873155, 0.05809608, 0.05731706,\n",
       "       0.05653675, 0.05614913, 0.05573424, 0.05554946, 0.05537464,\n",
       "       0.05525805, 0.05495866, 0.05502716, 0.05486009, 0.05506896,\n",
       "       0.05488531, 0.05489003, 0.05485047, 0.0549692 , 0.0545771 ,\n",
       "       0.05460151, 0.05472166, 0.05479071, 0.0549254 , 0.0548974 ,\n",
       "       0.05459691, 0.05467574, 0.05469384, 0.05486128, 0.05493781,\n",
       "       0.05490298, 0.05484822, 0.05500917, 0.05498088, 0.05495916,\n",
       "       0.05496678, 0.05484961, 0.05484334, 0.05478002, 0.05489758,\n",
       "       0.0549675 , 0.05500259, 0.05504324, 0.05514108, 0.05518906])"
      ]
     },
     "execution_count": 78,
     "metadata": {},
     "output_type": "execute_result"
    }
   ],
   "source": [
    "# Calculating the mse for a range of values to select the best range.\n",
    "n=50\n",
    "mse_high_c = np.zeros(n)\n",
    "for i in range(1,n+1):\n",
    "    #Train Model and Predict  \n",
    "    knn = KNeighborsRegressor(n_neighbors = i).fit(Xh_train_c,yh_train_c)\n",
    "    yhat= knn.predict(Xh_test_c)\n",
    "    mse_high_c[i-1] = mean_squared_error(yh_test_c, yhat)\n",
    "\n",
    "mse_high_c"
   ]
  },
  {
   "cell_type": "code",
   "execution_count": 79,
   "metadata": {},
   "outputs": [
    {
     "data": {
      "image/png": "[encoded data removed]",
      "text/plain": [
       "<Figure size 720x432 with 1 Axes>"
      ]
     },
     "metadata": {},
     "output_type": "display_data"
    }
   ],
   "source": [
    "# Plotting the mse obtained against the number of neighbours\n",
    "loc = np.arange(1,n+1,step=1.0)\n",
    "plt.figure(figsize = (10, 6))\n",
    "plt.plot(range(1, n+1), mse_high_c)\n",
    "plt.xticks(loc)\n",
    "plt.xlabel('Number of Neighbors for subsample of z>1')\n",
    "plt.ylabel('MSE')\n",
    "plt.show()\n"
   ]
  },
  {
   "cell_type": "code",
   "execution_count": 80,
   "metadata": {},
   "outputs": [],
   "source": [
    "# Defining the grid of parameters for the gridSearchCV\n",
    "param_grid = {  'weights' : ['uniform', 'distance'],\n",
    "                'algorithm' : ['auto', 'ball_tree', 'kd_tree', 'brute'], \n",
    "                'leaf_size': range(1, 10),\n",
    "                'n_neighbors': range(20,25),\n",
    "                'p' : [1, 2]\n",
    "             }\n",
    "# Setting and fitting gridsearchCV to the dataset \n",
    "knr_high_c = GridSearchCV(KNeighborsRegressor(), param_grid, n_jobs = -1 )\n",
    "KNR_high_c = knr_high.fit(Xh_train_c, yh_train_c)"
   ]
  },
  {
   "cell_type": "code",
   "execution_count": 81,
   "metadata": {},
   "outputs": [
    {
     "data": {
      "text/plain": [
       "{'algorithm': 'auto',\n",
       " 'leaf_size': 3,\n",
       " 'n_neighbors': 8,\n",
       " 'p': 2,\n",
       " 'weights': 'distance'}"
      ]
     },
     "execution_count": 81,
     "metadata": {},
     "output_type": "execute_result"
    }
   ],
   "source": [
    "KNR_high_c.best_params_ "
   ]
  },
  {
   "cell_type": "code",
   "execution_count": 82,
   "metadata": {},
   "outputs": [],
   "source": [
    "# fit the model and predict the class\n",
    "yh_pred_knr_c = KNR_high_c.predict(Xh_test_c)"
   ]
  },
  {
   "cell_type": "code",
   "execution_count": 83,
   "metadata": {
    "scrolled": true
   },
   "outputs": [
    {
     "name": "stdout",
     "output_type": "stream",
     "text": [
      "Mean Square Error KNN for z > 1 : 0.058\n"
     ]
    }
   ],
   "source": [
    "# Mean squared error\n",
    "mse_KNR_high_c = mean_squared_error(yh_test_c,yh_pred_knr_c)\n",
    "print('Mean Square Error KNN for z > 1 :', round(mse_KNR_high_c, 3))"
   ]
  },
  {
   "cell_type": "markdown",
   "metadata": {},
   "source": [
    "#### Model Contruction and Analysis Support Vector Machine"
   ]
  },
  {
   "cell_type": "code",
   "execution_count": 84,
   "metadata": {},
   "outputs": [
    {
     "data": {
      "text/plain": [
       "{'C': 10, 'gamma': 0.1, 'kernel': 'rbf'}"
      ]
     },
     "execution_count": 84,
     "metadata": {},
     "output_type": "execute_result"
    }
   ],
   "source": [
    "# fitting the model for grid search\n",
    "svr_high_c = SVR_grid.fit(Xh_train_c, yh_train_c)\n",
    "\n",
    "# print best parameter after tuning \n",
    "svr_high_c.best_params_"
   ]
  },
  {
   "cell_type": "code",
   "execution_count": 85,
   "metadata": {},
   "outputs": [
    {
     "name": "stdout",
     "output_type": "stream",
     "text": [
      "Mean Square Error SVR: 0.058\n"
     ]
    }
   ],
   "source": [
    "#predicting the values and calculating the mse\n",
    "yh_pred_SVR_c = svr_high_c.predict(Xh_test_c)\n",
    "mse_SVR_high_c = mean_squared_error(yh_test_c,yh_pred_SVR_c)\n",
    "print('Mean Square Error SVR:', round(mse_SVR_high_c, 3))"
   ]
  },
  {
   "cell_type": "markdown",
   "metadata": {},
   "source": [
    "### All results together of Coloured data"
   ]
  },
  {
   "cell_type": "code",
   "execution_count": 86,
   "metadata": {},
   "outputs": [
    {
     "name": "stdout",
     "output_type": "stream",
     "text": [
      "Dataset colour      MSE KNR    MSE SVR\n",
      "----------------  ---------  ---------\n",
      "All                   0.167      0.182\n",
      "Low                   0.004      0.007\n",
      "High                  0.058      0.058\n"
     ]
    }
   ],
   "source": [
    "#create data\n",
    "tab_data_c = [[\"All\", round(mse_KNR_all_c, 3), round(mse_SVR_c, 3)], \n",
    "        [\"Low\",  round(mse_KNR_low_c, 3),  round(mse_SVR_low_c, 3)], \n",
    "        [\"High\",  round(mse_KNR_high_c, 3),  round(mse_SVR_high_c, 3)]]\n",
    "  \n",
    "#define header names\n",
    "col_names_c = [\"Dataset colour\",\"MSE KNR\", \"MSE SVR\"]\n",
    "  \n",
    "#display table\n",
    "print(tabulate(tab_data_c, headers=col_names_c))\n"
   ]
  },
  {
   "cell_type": "code",
   "execution_count": 87,
   "metadata": {},
   "outputs": [
    {
     "name": "stdout",
     "output_type": "stream",
     "text": [
      "Dataset      MSE KNR    MSE SVR\n",
      "---------  ---------  ---------\n",
      "All            0.214      0.251\n",
      "Low            0.007      0.008\n",
      "High           0.067      0.067\n"
     ]
    }
   ],
   "source": [
    "print(tabulate(tab_data, headers=col_names))"
   ]
  },
  {
   "cell_type": "markdown",
   "metadata": {},
   "source": [
    "## Conclusion\n",
    "\n",
    "I added 5000 sources with high redshift to the original 15000 sample. I found that there were 73 duplicates when adding the extraZ dataset. The percentage of sources in the low and high subsets are now closer to equal (57% and 43% respectively). This augmentation of the dataset did improve the mse of the high redshift subsample 0.08 to 0.058 but it failed to improve the full dataset model from 0.149 to 0.167. "
   ]
  },
  {
   "cell_type": "code",
   "execution_count": null,
   "metadata": {},
   "outputs": [],
   "source": []
  }
 ],
 "metadata": {
  "kernelspec": {
   "display_name": "Python 3 (ipykernel)",
   "language": "python",
   "name": "python3"
  },
  "language_info": {
   "codemirror_mode": {
    "name": "ipython",
    "version": 3
   },
   "file_extension": ".py",
   "mimetype": "text/x-python",
   "name": "python",
   "nbconvert_exporter": "python",
   "pygments_lexer": "ipython3",
   "version": "3.9.7"
  }
 },
 "nbformat": 4,
 "nbformat_minor": 4
}
