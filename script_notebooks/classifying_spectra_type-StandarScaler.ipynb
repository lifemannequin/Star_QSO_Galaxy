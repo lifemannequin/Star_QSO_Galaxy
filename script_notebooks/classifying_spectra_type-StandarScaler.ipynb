{
 "cells": [
  {
   "cell_type": "markdown",
   "metadata": {},
   "source": [
    "# Introduction\n",
    "\n",
    "This study aims to classify astronomical objects using different machine-learning models and using only their apparent magnitudes which are a measure of how bright they appear in the sky. The brighter the object the lower the number. \n",
    "\n",
    "Different types of astronomical objects have different spectra. We know that light is a spectrum of wavelengths with radio waves at the wide wavelength end and gamma rays at the short end. And the way that different astronomical objects emit light changes from the type of objects they are. The spectra of an object can tell the type of object they are. In the case of stars in the visible part of the spectrum, it can tell us about their temperature, their metalicity (how many heavy elements the star has) and their age. \n",
    "\n",
    "So the spectra of astronomical objects can tell us a lot about the object. The issue with the spectra is that the catalogues of spectra are not as large as the catalogues of apparent magnitudes. They do not sample faint sources well either. This is why this study attempts to classify astronomical objects by their apparent magnitudes in the visible range of the spectrum. \n",
    "\n",
    "The idea behind it is that the apparent magnitudes sample different parts of the spectrum and can give a rough estimate of the shape of the spectra. So by using apparent magnitudes, I am to classify stellar objects. The level of classification can be as detailed as needed but for this study, I chose sources that fall into three cantegoties: star, galaxy and QSO. The QSOs are objects where their galactic centre which is believed to be a supermassive black hole emits so much light that it dwarfs the light emitted by the stars in the galaxies it resides in.\n",
    "\n",
    "I also add colours to the dataset. Colour in astrophysics is defined as the difference between the magnitudes of two passbands. In order to study the effects of adding colour to our analysis.  \n",
    "\n",
    "The data was obtained using the Skyserver from the Sloan Digital Sky Survey (SDSS) using the SQL query. In the SQL query, I specified no missing values of the redshift or the five bands (u,g,r,i,z). Also, the dered values were obtained to account for galactic extinction. For each spectral class (star, galaxy and QSO), 5000 sources were obtained; giving a total of 15000 sources.\n"
   ]
  },
  {
   "cell_type": "markdown",
   "metadata": {},
   "source": [
    "# EDA"
   ]
  },
  {
   "cell_type": "code",
   "execution_count": 1,
   "metadata": {},
   "outputs": [],
   "source": [
    "import os\n",
    "import numpy as np\n",
    "import pandas as pd\n",
    "from pandas.plotting import table\n",
    "import seaborn as sns\n",
    "import matplotlib.pyplot as plt\n",
    "from scipy import stats\n",
    "sns.set()\n",
    "%matplotlib inline"
   ]
  },
  {
   "cell_type": "code",
   "execution_count": 2,
   "metadata": {
    "scrolled": true
   },
   "outputs": [
    {
     "data": {
      "text/html": [
       "<div>\n",
       "<style scoped>\n",
       "    .dataframe tbody tr th:only-of-type {\n",
       "        vertical-align: middle;\n",
       "    }\n",
       "\n",
       "    .dataframe tbody tr th {\n",
       "        vertical-align: top;\n",
       "    }\n",
       "\n",
       "    .dataframe thead th {\n",
       "        text-align: right;\n",
       "    }\n",
       "</style>\n",
       "<table border=\"1\" class=\"dataframe\">\n",
       "  <thead>\n",
       "    <tr style=\"text-align: right;\">\n",
       "      <th></th>\n",
       "      <th>#objID</th>\n",
       "      <th>type</th>\n",
       "      <th>dered_u</th>\n",
       "      <th>err_u</th>\n",
       "      <th>dered_g</th>\n",
       "      <th>err_g</th>\n",
       "      <th>dered_r</th>\n",
       "      <th>err_r</th>\n",
       "      <th>dered_i</th>\n",
       "      <th>err_i</th>\n",
       "      <th>dered_z</th>\n",
       "      <th>err_z</th>\n",
       "      <th>specObjID</th>\n",
       "      <th>z</th>\n",
       "      <th>zErr</th>\n",
       "      <th>photoZ</th>\n",
       "      <th>photoErr</th>\n",
       "      <th>zWarning</th>\n",
       "      <th>class</th>\n",
       "      <th>subClass</th>\n",
       "    </tr>\n",
       "  </thead>\n",
       "  <tbody>\n",
       "    <tr>\n",
       "      <th>0</th>\n",
       "      <td>1237648703511068760</td>\n",
       "      <td>3</td>\n",
       "      <td>18.77188</td>\n",
       "      <td>0.018979</td>\n",
       "      <td>17.43419</td>\n",
       "      <td>0.004775</td>\n",
       "      <td>16.93682</td>\n",
       "      <td>0.004398</td>\n",
       "      <td>16.76784</td>\n",
       "      <td>0.004519</td>\n",
       "      <td>16.69084</td>\n",
       "      <td>0.009132</td>\n",
       "      <td>334462399065122816</td>\n",
       "      <td>0.000273</td>\n",
       "      <td>0.000010</td>\n",
       "      <td>0.028731</td>\n",
       "      <td>0.012854</td>\n",
       "      <td>0</td>\n",
       "      <td>STAR</td>\n",
       "      <td>F9</td>\n",
       "    </tr>\n",
       "    <tr>\n",
       "      <th>1</th>\n",
       "      <td>1237648703511068760</td>\n",
       "      <td>3</td>\n",
       "      <td>18.77188</td>\n",
       "      <td>0.018979</td>\n",
       "      <td>17.43419</td>\n",
       "      <td>0.004775</td>\n",
       "      <td>16.93682</td>\n",
       "      <td>0.004398</td>\n",
       "      <td>16.76784</td>\n",
       "      <td>0.004519</td>\n",
       "      <td>16.69084</td>\n",
       "      <td>0.009132</td>\n",
       "      <td>334463218732787712</td>\n",
       "      <td>0.000268</td>\n",
       "      <td>0.000012</td>\n",
       "      <td>0.028731</td>\n",
       "      <td>0.012854</td>\n",
       "      <td>0</td>\n",
       "      <td>STAR</td>\n",
       "      <td>F9</td>\n",
       "    </tr>\n",
       "    <tr>\n",
       "      <th>2</th>\n",
       "      <td>1237650761850290262</td>\n",
       "      <td>3</td>\n",
       "      <td>20.95792</td>\n",
       "      <td>0.113500</td>\n",
       "      <td>18.33668</td>\n",
       "      <td>0.007373</td>\n",
       "      <td>16.96131</td>\n",
       "      <td>0.004531</td>\n",
       "      <td>16.33501</td>\n",
       "      <td>0.004110</td>\n",
       "      <td>15.97918</td>\n",
       "      <td>0.007425</td>\n",
       "      <td>368266889681463296</td>\n",
       "      <td>0.000002</td>\n",
       "      <td>0.000009</td>\n",
       "      <td>0.205829</td>\n",
       "      <td>0.021877</td>\n",
       "      <td>0</td>\n",
       "      <td>STAR</td>\n",
       "      <td>M0</td>\n",
       "    </tr>\n",
       "    <tr>\n",
       "      <th>3</th>\n",
       "      <td>1237648705678147694</td>\n",
       "      <td>3</td>\n",
       "      <td>17.76817</td>\n",
       "      <td>0.012322</td>\n",
       "      <td>16.35608</td>\n",
       "      <td>0.003747</td>\n",
       "      <td>15.82515</td>\n",
       "      <td>0.003405</td>\n",
       "      <td>15.65219</td>\n",
       "      <td>0.003503</td>\n",
       "      <td>15.55778</td>\n",
       "      <td>0.005531</td>\n",
       "      <td>409929854226556928</td>\n",
       "      <td>0.000027</td>\n",
       "      <td>0.000007</td>\n",
       "      <td>0.024064</td>\n",
       "      <td>0.008734</td>\n",
       "      <td>0</td>\n",
       "      <td>STAR</td>\n",
       "      <td>F9</td>\n",
       "    </tr>\n",
       "    <tr>\n",
       "      <th>4</th>\n",
       "      <td>1237648705130987618</td>\n",
       "      <td>3</td>\n",
       "      <td>19.09714</td>\n",
       "      <td>0.034568</td>\n",
       "      <td>17.45125</td>\n",
       "      <td>0.006773</td>\n",
       "      <td>17.63474</td>\n",
       "      <td>0.006646</td>\n",
       "      <td>24.28417</td>\n",
       "      <td>3.215709</td>\n",
       "      <td>17.99097</td>\n",
       "      <td>0.034200</td>\n",
       "      <td>604619828854024192</td>\n",
       "      <td>-0.000010</td>\n",
       "      <td>0.000010</td>\n",
       "      <td>-9999.000000</td>\n",
       "      <td>-9999.000000</td>\n",
       "      <td>0</td>\n",
       "      <td>STAR</td>\n",
       "      <td>F9</td>\n",
       "    </tr>\n",
       "  </tbody>\n",
       "</table>\n",
       "</div>"
      ],
      "text/plain": [
       "                #objID  type   dered_u     err_u   dered_g     err_g  \\\n",
       "0  1237648703511068760     3  18.77188  0.018979  17.43419  0.004775   \n",
       "1  1237648703511068760     3  18.77188  0.018979  17.43419  0.004775   \n",
       "2  1237650761850290262     3  20.95792  0.113500  18.33668  0.007373   \n",
       "3  1237648705678147694     3  17.76817  0.012322  16.35608  0.003747   \n",
       "4  1237648705130987618     3  19.09714  0.034568  17.45125  0.006773   \n",
       "\n",
       "    dered_r     err_r   dered_i     err_i   dered_z     err_z  \\\n",
       "0  16.93682  0.004398  16.76784  0.004519  16.69084  0.009132   \n",
       "1  16.93682  0.004398  16.76784  0.004519  16.69084  0.009132   \n",
       "2  16.96131  0.004531  16.33501  0.004110  15.97918  0.007425   \n",
       "3  15.82515  0.003405  15.65219  0.003503  15.55778  0.005531   \n",
       "4  17.63474  0.006646  24.28417  3.215709  17.99097  0.034200   \n",
       "\n",
       "            specObjID         z      zErr       photoZ     photoErr  zWarning  \\\n",
       "0  334462399065122816  0.000273  0.000010     0.028731     0.012854         0   \n",
       "1  334463218732787712  0.000268  0.000012     0.028731     0.012854         0   \n",
       "2  368266889681463296  0.000002  0.000009     0.205829     0.021877         0   \n",
       "3  409929854226556928  0.000027  0.000007     0.024064     0.008734         0   \n",
       "4  604619828854024192 -0.000010  0.000010 -9999.000000 -9999.000000         0   \n",
       "\n",
       "  class subClass  \n",
       "0  STAR       F9  \n",
       "1  STAR       F9  \n",
       "2  STAR       M0  \n",
       "3  STAR       F9  \n",
       "4  STAR       F9  "
      ]
     },
     "execution_count": 2,
     "metadata": {},
     "output_type": "execute_result"
    }
   ],
   "source": [
    "#loading files\n",
    "filepath= \"/home/veroastro/Documents/spectraTypes/data/\"\n",
    "star = pd.read_csv(filepath+\"STAR2_Skyserver_SQL2_12_2022 5_02_48 PM.csv\")\n",
    "QSO = pd.read_csv(filepath+\"QSO2Skyserver_SQL2_12_2022 5_03_49 PM.csv\")\n",
    "galaxy = pd.read_csv(filepath+\"GALAXY2Skyserver_SQL2_12_2022 5_03_24 PM.csv\")\n",
    "star.head()"
   ]
  },
  {
   "cell_type": "code",
   "execution_count": 3,
   "metadata": {},
   "outputs": [
    {
     "data": {
      "text/html": [
       "<div>\n",
       "<style scoped>\n",
       "    .dataframe tbody tr th:only-of-type {\n",
       "        vertical-align: middle;\n",
       "    }\n",
       "\n",
       "    .dataframe tbody tr th {\n",
       "        vertical-align: top;\n",
       "    }\n",
       "\n",
       "    .dataframe thead th {\n",
       "        text-align: right;\n",
       "    }\n",
       "</style>\n",
       "<table border=\"1\" class=\"dataframe\">\n",
       "  <thead>\n",
       "    <tr style=\"text-align: right;\">\n",
       "      <th></th>\n",
       "      <th>#objID</th>\n",
       "      <th>type</th>\n",
       "      <th>dered_u</th>\n",
       "      <th>err_u</th>\n",
       "      <th>dered_g</th>\n",
       "      <th>err_g</th>\n",
       "      <th>dered_r</th>\n",
       "      <th>err_r</th>\n",
       "      <th>dered_i</th>\n",
       "      <th>err_i</th>\n",
       "      <th>dered_z</th>\n",
       "      <th>err_z</th>\n",
       "      <th>specObjID</th>\n",
       "      <th>z</th>\n",
       "      <th>zErr</th>\n",
       "      <th>photoZ</th>\n",
       "      <th>photoErr</th>\n",
       "      <th>zWarning</th>\n",
       "      <th>class</th>\n",
       "      <th>subClass</th>\n",
       "    </tr>\n",
       "  </thead>\n",
       "  <tbody>\n",
       "    <tr>\n",
       "      <th>1678</th>\n",
       "      <td>1237651800697340133</td>\n",
       "      <td>3</td>\n",
       "      <td>18.10879</td>\n",
       "      <td>0.030622</td>\n",
       "      <td>16.69346</td>\n",
       "      <td>0.004948</td>\n",
       "      <td>16.00942</td>\n",
       "      <td>0.004057</td>\n",
       "      <td>15.64215</td>\n",
       "      <td>0.004106</td>\n",
       "      <td>15.36736</td>\n",
       "      <td>0.010565</td>\n",
       "      <td>301758519739181056</td>\n",
       "      <td>0.087836</td>\n",
       "      <td>0.000012</td>\n",
       "      <td>0.059185</td>\n",
       "      <td>0.015579</td>\n",
       "      <td>0</td>\n",
       "      <td>GALAXY</td>\n",
       "      <td>STARFORMING</td>\n",
       "    </tr>\n",
       "    <tr>\n",
       "      <th>4566</th>\n",
       "      <td>1237663783678378205</td>\n",
       "      <td>3</td>\n",
       "      <td>20.07679</td>\n",
       "      <td>0.043854</td>\n",
       "      <td>19.41460</td>\n",
       "      <td>0.012995</td>\n",
       "      <td>18.86722</td>\n",
       "      <td>0.011100</td>\n",
       "      <td>18.69169</td>\n",
       "      <td>0.012165</td>\n",
       "      <td>18.29721</td>\n",
       "      <td>0.027419</td>\n",
       "      <td>796086037452449792</td>\n",
       "      <td>0.372598</td>\n",
       "      <td>0.000051</td>\n",
       "      <td>0.283824</td>\n",
       "      <td>0.042433</td>\n",
       "      <td>0</td>\n",
       "      <td>QSO</td>\n",
       "      <td>BROADLINE</td>\n",
       "    </tr>\n",
       "    <tr>\n",
       "      <th>797</th>\n",
       "      <td>1237654390566158382</td>\n",
       "      <td>3</td>\n",
       "      <td>18.29470</td>\n",
       "      <td>0.014637</td>\n",
       "      <td>17.20515</td>\n",
       "      <td>0.004518</td>\n",
       "      <td>16.87156</td>\n",
       "      <td>0.004222</td>\n",
       "      <td>16.73803</td>\n",
       "      <td>0.004613</td>\n",
       "      <td>16.76033</td>\n",
       "      <td>0.010505</td>\n",
       "      <td>612631148371142656</td>\n",
       "      <td>-0.000018</td>\n",
       "      <td>0.000010</td>\n",
       "      <td>0.020223</td>\n",
       "      <td>0.012012</td>\n",
       "      <td>0</td>\n",
       "      <td>STAR</td>\n",
       "      <td>F2</td>\n",
       "    </tr>\n",
       "    <tr>\n",
       "      <th>720</th>\n",
       "      <td>1237648720152297476</td>\n",
       "      <td>3</td>\n",
       "      <td>19.38920</td>\n",
       "      <td>0.041760</td>\n",
       "      <td>18.17739</td>\n",
       "      <td>0.008553</td>\n",
       "      <td>17.62120</td>\n",
       "      <td>0.007416</td>\n",
       "      <td>17.22421</td>\n",
       "      <td>0.007535</td>\n",
       "      <td>16.99686</td>\n",
       "      <td>0.020186</td>\n",
       "      <td>314161291667204096</td>\n",
       "      <td>0.076271</td>\n",
       "      <td>0.000007</td>\n",
       "      <td>0.085589</td>\n",
       "      <td>0.019919</td>\n",
       "      <td>0</td>\n",
       "      <td>GALAXY</td>\n",
       "      <td>STARFORMING</td>\n",
       "    </tr>\n",
       "    <tr>\n",
       "      <th>3955</th>\n",
       "      <td>1237653009193960360</td>\n",
       "      <td>3</td>\n",
       "      <td>18.96137</td>\n",
       "      <td>0.049308</td>\n",
       "      <td>17.46963</td>\n",
       "      <td>0.006875</td>\n",
       "      <td>16.75477</td>\n",
       "      <td>0.005277</td>\n",
       "      <td>16.35100</td>\n",
       "      <td>0.005281</td>\n",
       "      <td>16.12321</td>\n",
       "      <td>0.012296</td>\n",
       "      <td>819750831971657728</td>\n",
       "      <td>0.094919</td>\n",
       "      <td>0.000029</td>\n",
       "      <td>0.096635</td>\n",
       "      <td>0.020693</td>\n",
       "      <td>0</td>\n",
       "      <td>QSO</td>\n",
       "      <td>STARBURST BROADLINE</td>\n",
       "    </tr>\n",
       "  </tbody>\n",
       "</table>\n",
       "</div>"
      ],
      "text/plain": [
       "                   #objID  type   dered_u     err_u   dered_g     err_g  \\\n",
       "1678  1237651800697340133     3  18.10879  0.030622  16.69346  0.004948   \n",
       "4566  1237663783678378205     3  20.07679  0.043854  19.41460  0.012995   \n",
       "797   1237654390566158382     3  18.29470  0.014637  17.20515  0.004518   \n",
       "720   1237648720152297476     3  19.38920  0.041760  18.17739  0.008553   \n",
       "3955  1237653009193960360     3  18.96137  0.049308  17.46963  0.006875   \n",
       "\n",
       "       dered_r     err_r   dered_i     err_i   dered_z     err_z  \\\n",
       "1678  16.00942  0.004057  15.64215  0.004106  15.36736  0.010565   \n",
       "4566  18.86722  0.011100  18.69169  0.012165  18.29721  0.027419   \n",
       "797   16.87156  0.004222  16.73803  0.004613  16.76033  0.010505   \n",
       "720   17.62120  0.007416  17.22421  0.007535  16.99686  0.020186   \n",
       "3955  16.75477  0.005277  16.35100  0.005281  16.12321  0.012296   \n",
       "\n",
       "               specObjID         z      zErr    photoZ  photoErr  zWarning  \\\n",
       "1678  301758519739181056  0.087836  0.000012  0.059185  0.015579         0   \n",
       "4566  796086037452449792  0.372598  0.000051  0.283824  0.042433         0   \n",
       "797   612631148371142656 -0.000018  0.000010  0.020223  0.012012         0   \n",
       "720   314161291667204096  0.076271  0.000007  0.085589  0.019919         0   \n",
       "3955  819750831971657728  0.094919  0.000029  0.096635  0.020693         0   \n",
       "\n",
       "       class             subClass  \n",
       "1678  GALAXY          STARFORMING  \n",
       "4566     QSO            BROADLINE  \n",
       "797     STAR                   F2  \n",
       "720   GALAXY          STARFORMING  \n",
       "3955     QSO  STARBURST BROADLINE  "
      ]
     },
     "execution_count": 3,
     "metadata": {},
     "output_type": "execute_result"
    }
   ],
   "source": [
    "# Concatenating the three dataframes\n",
    "data = pd.concat([star, QSO, galaxy])\n",
    "#scrambling the data so that they are not ordered by class\n",
    "data = data.sample(frac=1)\n",
    "data.head()"
   ]
  },
  {
   "cell_type": "code",
   "execution_count": 4,
   "metadata": {},
   "outputs": [
    {
     "data": {
      "text/plain": [
       "(15000, 20)"
      ]
     },
     "execution_count": 4,
     "metadata": {},
     "output_type": "execute_result"
    }
   ],
   "source": [
    "data.shape"
   ]
  },
  {
   "cell_type": "code",
   "execution_count": 5,
   "metadata": {},
   "outputs": [
    {
     "data": {
      "text/plain": [
       "(15000, 17)"
      ]
     },
     "execution_count": 5,
     "metadata": {},
     "output_type": "execute_result"
    }
   ],
   "source": [
    "cols= ['zWarning','specObjID','#objID']\n",
    "data_clean = data.drop(columns=['zWarning','specObjID','#objID'])\n",
    "data_clean.shape"
   ]
  },
  {
   "cell_type": "code",
   "execution_count": 6,
   "metadata": {},
   "outputs": [
    {
     "data": {
      "text/html": [
       "<div>\n",
       "<style scoped>\n",
       "    .dataframe tbody tr th:only-of-type {\n",
       "        vertical-align: middle;\n",
       "    }\n",
       "\n",
       "    .dataframe tbody tr th {\n",
       "        vertical-align: top;\n",
       "    }\n",
       "\n",
       "    .dataframe thead th {\n",
       "        text-align: right;\n",
       "    }\n",
       "</style>\n",
       "<table border=\"1\" class=\"dataframe\">\n",
       "  <thead>\n",
       "    <tr style=\"text-align: right;\">\n",
       "      <th></th>\n",
       "      <th>type</th>\n",
       "      <th>dered_u</th>\n",
       "      <th>err_u</th>\n",
       "      <th>dered_g</th>\n",
       "      <th>err_g</th>\n",
       "      <th>dered_r</th>\n",
       "      <th>err_r</th>\n",
       "      <th>dered_i</th>\n",
       "      <th>err_i</th>\n",
       "      <th>dered_z</th>\n",
       "      <th>err_z</th>\n",
       "      <th>z</th>\n",
       "      <th>zErr</th>\n",
       "      <th>photoZ</th>\n",
       "      <th>photoErr</th>\n",
       "      <th>class</th>\n",
       "      <th>subClass</th>\n",
       "    </tr>\n",
       "  </thead>\n",
       "  <tbody>\n",
       "    <tr>\n",
       "      <th>1678</th>\n",
       "      <td>3</td>\n",
       "      <td>18.10879</td>\n",
       "      <td>0.030622</td>\n",
       "      <td>16.69346</td>\n",
       "      <td>0.004948</td>\n",
       "      <td>16.00942</td>\n",
       "      <td>0.004057</td>\n",
       "      <td>15.64215</td>\n",
       "      <td>0.004106</td>\n",
       "      <td>15.36736</td>\n",
       "      <td>0.010565</td>\n",
       "      <td>0.087836</td>\n",
       "      <td>0.000012</td>\n",
       "      <td>0.059185</td>\n",
       "      <td>0.015579</td>\n",
       "      <td>GALAXY</td>\n",
       "      <td>STARFORMING</td>\n",
       "    </tr>\n",
       "    <tr>\n",
       "      <th>4566</th>\n",
       "      <td>3</td>\n",
       "      <td>20.07679</td>\n",
       "      <td>0.043854</td>\n",
       "      <td>19.41460</td>\n",
       "      <td>0.012995</td>\n",
       "      <td>18.86722</td>\n",
       "      <td>0.011100</td>\n",
       "      <td>18.69169</td>\n",
       "      <td>0.012165</td>\n",
       "      <td>18.29721</td>\n",
       "      <td>0.027419</td>\n",
       "      <td>0.372598</td>\n",
       "      <td>0.000051</td>\n",
       "      <td>0.283824</td>\n",
       "      <td>0.042433</td>\n",
       "      <td>QSO</td>\n",
       "      <td>BROADLINE</td>\n",
       "    </tr>\n",
       "    <tr>\n",
       "      <th>797</th>\n",
       "      <td>3</td>\n",
       "      <td>18.29470</td>\n",
       "      <td>0.014637</td>\n",
       "      <td>17.20515</td>\n",
       "      <td>0.004518</td>\n",
       "      <td>16.87156</td>\n",
       "      <td>0.004222</td>\n",
       "      <td>16.73803</td>\n",
       "      <td>0.004613</td>\n",
       "      <td>16.76033</td>\n",
       "      <td>0.010505</td>\n",
       "      <td>-0.000018</td>\n",
       "      <td>0.000010</td>\n",
       "      <td>0.020223</td>\n",
       "      <td>0.012012</td>\n",
       "      <td>STAR</td>\n",
       "      <td>F2</td>\n",
       "    </tr>\n",
       "    <tr>\n",
       "      <th>720</th>\n",
       "      <td>3</td>\n",
       "      <td>19.38920</td>\n",
       "      <td>0.041760</td>\n",
       "      <td>18.17739</td>\n",
       "      <td>0.008553</td>\n",
       "      <td>17.62120</td>\n",
       "      <td>0.007416</td>\n",
       "      <td>17.22421</td>\n",
       "      <td>0.007535</td>\n",
       "      <td>16.99686</td>\n",
       "      <td>0.020186</td>\n",
       "      <td>0.076271</td>\n",
       "      <td>0.000007</td>\n",
       "      <td>0.085589</td>\n",
       "      <td>0.019919</td>\n",
       "      <td>GALAXY</td>\n",
       "      <td>STARFORMING</td>\n",
       "    </tr>\n",
       "    <tr>\n",
       "      <th>3955</th>\n",
       "      <td>3</td>\n",
       "      <td>18.96137</td>\n",
       "      <td>0.049308</td>\n",
       "      <td>17.46963</td>\n",
       "      <td>0.006875</td>\n",
       "      <td>16.75477</td>\n",
       "      <td>0.005277</td>\n",
       "      <td>16.35100</td>\n",
       "      <td>0.005281</td>\n",
       "      <td>16.12321</td>\n",
       "      <td>0.012296</td>\n",
       "      <td>0.094919</td>\n",
       "      <td>0.000029</td>\n",
       "      <td>0.096635</td>\n",
       "      <td>0.020693</td>\n",
       "      <td>QSO</td>\n",
       "      <td>STARBURST BROADLINE</td>\n",
       "    </tr>\n",
       "  </tbody>\n",
       "</table>\n",
       "</div>"
      ],
      "text/plain": [
       "      type   dered_u     err_u   dered_g     err_g   dered_r     err_r  \\\n",
       "1678     3  18.10879  0.030622  16.69346  0.004948  16.00942  0.004057   \n",
       "4566     3  20.07679  0.043854  19.41460  0.012995  18.86722  0.011100   \n",
       "797      3  18.29470  0.014637  17.20515  0.004518  16.87156  0.004222   \n",
       "720      3  19.38920  0.041760  18.17739  0.008553  17.62120  0.007416   \n",
       "3955     3  18.96137  0.049308  17.46963  0.006875  16.75477  0.005277   \n",
       "\n",
       "       dered_i     err_i   dered_z     err_z         z      zErr    photoZ  \\\n",
       "1678  15.64215  0.004106  15.36736  0.010565  0.087836  0.000012  0.059185   \n",
       "4566  18.69169  0.012165  18.29721  0.027419  0.372598  0.000051  0.283824   \n",
       "797   16.73803  0.004613  16.76033  0.010505 -0.000018  0.000010  0.020223   \n",
       "720   17.22421  0.007535  16.99686  0.020186  0.076271  0.000007  0.085589   \n",
       "3955  16.35100  0.005281  16.12321  0.012296  0.094919  0.000029  0.096635   \n",
       "\n",
       "      photoErr   class             subClass  \n",
       "1678  0.015579  GALAXY          STARFORMING  \n",
       "4566  0.042433     QSO            BROADLINE  \n",
       "797   0.012012    STAR                   F2  \n",
       "720   0.019919  GALAXY          STARFORMING  \n",
       "3955  0.020693     QSO  STARBURST BROADLINE  "
      ]
     },
     "execution_count": 6,
     "metadata": {},
     "output_type": "execute_result"
    }
   ],
   "source": [
    "data_clean.head()"
   ]
  },
  {
   "cell_type": "code",
   "execution_count": 7,
   "metadata": {},
   "outputs": [],
   "source": [
    "# Encoding the classes to integers\n",
    "def type_to_value(n):\n",
    "    if n == 'STAR':\n",
    "        return 1\n",
    "    elif n == 'QSO':\n",
    "        return 2\n",
    "    elif n == 'GALAXY':\n",
    "        return 3\n",
    "    \n",
    "\n",
    "data_clean['nClass'] = [type_to_value(n) for n in data_clean['class']]"
   ]
  },
  {
   "cell_type": "code",
   "execution_count": 8,
   "metadata": {},
   "outputs": [
    {
     "data": {
      "text/html": [
       "<div>\n",
       "<style scoped>\n",
       "    .dataframe tbody tr th:only-of-type {\n",
       "        vertical-align: middle;\n",
       "    }\n",
       "\n",
       "    .dataframe tbody tr th {\n",
       "        vertical-align: top;\n",
       "    }\n",
       "\n",
       "    .dataframe thead th {\n",
       "        text-align: right;\n",
       "    }\n",
       "</style>\n",
       "<table border=\"1\" class=\"dataframe\">\n",
       "  <thead>\n",
       "    <tr style=\"text-align: right;\">\n",
       "      <th></th>\n",
       "      <th>dered_u</th>\n",
       "      <th>dered_g</th>\n",
       "      <th>dered_r</th>\n",
       "      <th>dered_i</th>\n",
       "      <th>dered_z</th>\n",
       "      <th>nClass</th>\n",
       "    </tr>\n",
       "  </thead>\n",
       "  <tbody>\n",
       "    <tr>\n",
       "      <th>1678</th>\n",
       "      <td>18.10879</td>\n",
       "      <td>16.69346</td>\n",
       "      <td>16.00942</td>\n",
       "      <td>15.64215</td>\n",
       "      <td>15.36736</td>\n",
       "      <td>3</td>\n",
       "    </tr>\n",
       "    <tr>\n",
       "      <th>4566</th>\n",
       "      <td>20.07679</td>\n",
       "      <td>19.41460</td>\n",
       "      <td>18.86722</td>\n",
       "      <td>18.69169</td>\n",
       "      <td>18.29721</td>\n",
       "      <td>2</td>\n",
       "    </tr>\n",
       "    <tr>\n",
       "      <th>797</th>\n",
       "      <td>18.29470</td>\n",
       "      <td>17.20515</td>\n",
       "      <td>16.87156</td>\n",
       "      <td>16.73803</td>\n",
       "      <td>16.76033</td>\n",
       "      <td>1</td>\n",
       "    </tr>\n",
       "    <tr>\n",
       "      <th>720</th>\n",
       "      <td>19.38920</td>\n",
       "      <td>18.17739</td>\n",
       "      <td>17.62120</td>\n",
       "      <td>17.22421</td>\n",
       "      <td>16.99686</td>\n",
       "      <td>3</td>\n",
       "    </tr>\n",
       "    <tr>\n",
       "      <th>3955</th>\n",
       "      <td>18.96137</td>\n",
       "      <td>17.46963</td>\n",
       "      <td>16.75477</td>\n",
       "      <td>16.35100</td>\n",
       "      <td>16.12321</td>\n",
       "      <td>2</td>\n",
       "    </tr>\n",
       "  </tbody>\n",
       "</table>\n",
       "</div>"
      ],
      "text/plain": [
       "       dered_u   dered_g   dered_r   dered_i   dered_z  nClass\n",
       "1678  18.10879  16.69346  16.00942  15.64215  15.36736       3\n",
       "4566  20.07679  19.41460  18.86722  18.69169  18.29721       2\n",
       "797   18.29470  17.20515  16.87156  16.73803  16.76033       1\n",
       "720   19.38920  18.17739  17.62120  17.22421  16.99686       3\n",
       "3955  18.96137  17.46963  16.75477  16.35100  16.12321       2"
      ]
     },
     "execution_count": 8,
     "metadata": {},
     "output_type": "execute_result"
    }
   ],
   "source": [
    "# Removing errors, redshift and class data\n",
    "data1 = data_clean.drop(['type','err_u', 'err_g', 'err_r', 'err_i', 'err_z','z', 'zErr', 'class', 'subClass','photoZ','photoErr'], axis = 1)\n",
    "data1.head()"
   ]
  },
  {
   "cell_type": "code",
   "execution_count": 9,
   "metadata": {},
   "outputs": [
    {
     "data": {
      "text/html": [
       "<div>\n",
       "<style scoped>\n",
       "    .dataframe tbody tr th:only-of-type {\n",
       "        vertical-align: middle;\n",
       "    }\n",
       "\n",
       "    .dataframe tbody tr th {\n",
       "        vertical-align: top;\n",
       "    }\n",
       "\n",
       "    .dataframe thead th {\n",
       "        text-align: right;\n",
       "    }\n",
       "</style>\n",
       "<table border=\"1\" class=\"dataframe\">\n",
       "  <thead>\n",
       "    <tr style=\"text-align: right;\">\n",
       "      <th></th>\n",
       "      <th>dered_u</th>\n",
       "      <th>dered_g</th>\n",
       "      <th>dered_r</th>\n",
       "      <th>dered_i</th>\n",
       "      <th>dered_z</th>\n",
       "      <th>nClass</th>\n",
       "    </tr>\n",
       "  </thead>\n",
       "  <tbody>\n",
       "    <tr>\n",
       "      <th>count</th>\n",
       "      <td>15000.000000</td>\n",
       "      <td>15000.000000</td>\n",
       "      <td>15000.000000</td>\n",
       "      <td>15000.000000</td>\n",
       "      <td>15000.000000</td>\n",
       "      <td>15000.000000</td>\n",
       "    </tr>\n",
       "    <tr>\n",
       "      <th>mean</th>\n",
       "      <td>19.869886</td>\n",
       "      <td>18.452114</td>\n",
       "      <td>17.631055</td>\n",
       "      <td>17.163975</td>\n",
       "      <td>16.934978</td>\n",
       "      <td>2.000000</td>\n",
       "    </tr>\n",
       "    <tr>\n",
       "      <th>std</th>\n",
       "      <td>1.702831</td>\n",
       "      <td>1.544044</td>\n",
       "      <td>1.469840</td>\n",
       "      <td>1.371121</td>\n",
       "      <td>1.453392</td>\n",
       "      <td>0.816524</td>\n",
       "    </tr>\n",
       "    <tr>\n",
       "      <th>min</th>\n",
       "      <td>11.101360</td>\n",
       "      <td>12.074510</td>\n",
       "      <td>10.785910</td>\n",
       "      <td>10.756660</td>\n",
       "      <td>9.813457</td>\n",
       "      <td>1.000000</td>\n",
       "    </tr>\n",
       "    <tr>\n",
       "      <th>25%</th>\n",
       "      <td>18.870685</td>\n",
       "      <td>17.598865</td>\n",
       "      <td>16.818827</td>\n",
       "      <td>16.356315</td>\n",
       "      <td>16.086430</td>\n",
       "      <td>1.000000</td>\n",
       "    </tr>\n",
       "    <tr>\n",
       "      <th>50%</th>\n",
       "      <td>19.614630</td>\n",
       "      <td>18.316495</td>\n",
       "      <td>17.479280</td>\n",
       "      <td>17.038925</td>\n",
       "      <td>16.791815</td>\n",
       "      <td>2.000000</td>\n",
       "    </tr>\n",
       "    <tr>\n",
       "      <th>75%</th>\n",
       "      <td>20.553992</td>\n",
       "      <td>19.144298</td>\n",
       "      <td>18.450765</td>\n",
       "      <td>18.022543</td>\n",
       "      <td>17.732482</td>\n",
       "      <td>3.000000</td>\n",
       "    </tr>\n",
       "    <tr>\n",
       "      <th>max</th>\n",
       "      <td>29.762490</td>\n",
       "      <td>29.461400</td>\n",
       "      <td>28.317300</td>\n",
       "      <td>28.234270</td>\n",
       "      <td>28.220950</td>\n",
       "      <td>3.000000</td>\n",
       "    </tr>\n",
       "  </tbody>\n",
       "</table>\n",
       "</div>"
      ],
      "text/plain": [
       "            dered_u       dered_g       dered_r       dered_i       dered_z  \\\n",
       "count  15000.000000  15000.000000  15000.000000  15000.000000  15000.000000   \n",
       "mean      19.869886     18.452114     17.631055     17.163975     16.934978   \n",
       "std        1.702831      1.544044      1.469840      1.371121      1.453392   \n",
       "min       11.101360     12.074510     10.785910     10.756660      9.813457   \n",
       "25%       18.870685     17.598865     16.818827     16.356315     16.086430   \n",
       "50%       19.614630     18.316495     17.479280     17.038925     16.791815   \n",
       "75%       20.553992     19.144298     18.450765     18.022543     17.732482   \n",
       "max       29.762490     29.461400     28.317300     28.234270     28.220950   \n",
       "\n",
       "             nClass  \n",
       "count  15000.000000  \n",
       "mean       2.000000  \n",
       "std        0.816524  \n",
       "min        1.000000  \n",
       "25%        1.000000  \n",
       "50%        2.000000  \n",
       "75%        3.000000  \n",
       "max        3.000000  "
      ]
     },
     "execution_count": 9,
     "metadata": {},
     "output_type": "execute_result"
    }
   ],
   "source": [
    "# Description of the cleaned dataset\n",
    "data1.describe()"
   ]
  },
  {
   "cell_type": "markdown",
   "metadata": {},
   "source": [
    "The dereddened magnitudes (or mean brightness) seem to increase from the u band to the z band, with the highest mean brightness in the z band. And the spread of the data (as indicated by the standard deviation) also varies between bands, with the largest spread in the u band and the smallest spread in the z band."
   ]
  },
  {
   "cell_type": "code",
   "execution_count": 10,
   "metadata": {},
   "outputs": [],
   "source": [
    "# Create function to plot the histograms of all columns in the dataset in a subplot\n",
    "def hist_plots( data: pd.DataFrame,\n",
    "               rows: int,\n",
    "              cols: int,\n",
    "              figsize: tuple):\n",
    "    fig, axes = plt.subplots(rows,cols, figsize=figsize)\n",
    "    for i, ax in enumerate(axes.flatten()):\n",
    "        if i < len(data.columns):\n",
    "            data[sorted(data.columns)[i]].plot.hist(bins=30, ax=ax)\n",
    "            ax.set_title(f'{sorted(data.columns)[i]} distribution', fontsize=10)\n",
    "            ax.tick_params(axis='x', labelsize=10)\n",
    "            ax.tick_params(axis='y', labelsize=10)\n",
    "            ax.get_yaxis().get_label().set_visible(False)\n",
    "        else:\n",
    "            fig.delaxes(ax=ax)\n",
    "    fig.tight_layout()"
   ]
  },
  {
   "cell_type": "code",
   "execution_count": 11,
   "metadata": {},
   "outputs": [
    {
     "data": {
      "image/png": "[encoded data removed]",
      "text/plain": [
       "<Figure size 1440x720 with 6 Axes>"
      ]
     },
     "metadata": {
      "needs_background": "light"
     },
     "output_type": "display_data"
    }
   ],
   "source": [
    "# plotting histograms of the data. \n",
    "hist_plots(data=data1,\n",
    "          rows=2,\n",
    "          cols=3,\n",
    "          figsize=(20,10))"
   ]
  },
  {
   "cell_type": "markdown",
   "metadata": {},
   "source": [
    "### Colours\n",
    "\n",
    "As stated in the introduction, colour is defined as the difference between the magnitudes of two passbands (u, g, r, i, z). The most comon colours are between adjacent bands; therefore (u-g),(g-r),(r-i),(i-z). What do the colours tell us? Mainly, they tell us roughly about the shape of the spectrum of the electromagnetic radiation of the source. In the case of stars, it indicates temperature. In the case of galaxies, it can indicate age and shape of the galaxy. The redder the galaxy, the older the population and or more dust. The bluer the galaxy, the younger the population and or less dust. It is also an indication of starformation within the galaxy. "
   ]
  },
  {
   "cell_type": "code",
   "execution_count": 12,
   "metadata": {},
   "outputs": [
    {
     "data": {
      "text/html": [
       "<div>\n",
       "<style scoped>\n",
       "    .dataframe tbody tr th:only-of-type {\n",
       "        vertical-align: middle;\n",
       "    }\n",
       "\n",
       "    .dataframe tbody tr th {\n",
       "        vertical-align: top;\n",
       "    }\n",
       "\n",
       "    .dataframe thead th {\n",
       "        text-align: right;\n",
       "    }\n",
       "</style>\n",
       "<table border=\"1\" class=\"dataframe\">\n",
       "  <thead>\n",
       "    <tr style=\"text-align: right;\">\n",
       "      <th></th>\n",
       "      <th>dered_u</th>\n",
       "      <th>dered_g</th>\n",
       "      <th>dered_r</th>\n",
       "      <th>dered_i</th>\n",
       "      <th>dered_z</th>\n",
       "      <th>nClass</th>\n",
       "      <th>u-g</th>\n",
       "      <th>g-r</th>\n",
       "      <th>r-i</th>\n",
       "      <th>i-z</th>\n",
       "    </tr>\n",
       "  </thead>\n",
       "  <tbody>\n",
       "    <tr>\n",
       "      <th>1678</th>\n",
       "      <td>18.10879</td>\n",
       "      <td>16.69346</td>\n",
       "      <td>16.00942</td>\n",
       "      <td>15.64215</td>\n",
       "      <td>15.36736</td>\n",
       "      <td>3</td>\n",
       "      <td>1.41533</td>\n",
       "      <td>0.68404</td>\n",
       "      <td>0.36727</td>\n",
       "      <td>0.27479</td>\n",
       "    </tr>\n",
       "    <tr>\n",
       "      <th>4566</th>\n",
       "      <td>20.07679</td>\n",
       "      <td>19.41460</td>\n",
       "      <td>18.86722</td>\n",
       "      <td>18.69169</td>\n",
       "      <td>18.29721</td>\n",
       "      <td>2</td>\n",
       "      <td>0.66219</td>\n",
       "      <td>0.54738</td>\n",
       "      <td>0.17553</td>\n",
       "      <td>0.39448</td>\n",
       "    </tr>\n",
       "    <tr>\n",
       "      <th>797</th>\n",
       "      <td>18.29470</td>\n",
       "      <td>17.20515</td>\n",
       "      <td>16.87156</td>\n",
       "      <td>16.73803</td>\n",
       "      <td>16.76033</td>\n",
       "      <td>1</td>\n",
       "      <td>1.08955</td>\n",
       "      <td>0.33359</td>\n",
       "      <td>0.13353</td>\n",
       "      <td>-0.02230</td>\n",
       "    </tr>\n",
       "    <tr>\n",
       "      <th>720</th>\n",
       "      <td>19.38920</td>\n",
       "      <td>18.17739</td>\n",
       "      <td>17.62120</td>\n",
       "      <td>17.22421</td>\n",
       "      <td>16.99686</td>\n",
       "      <td>3</td>\n",
       "      <td>1.21181</td>\n",
       "      <td>0.55619</td>\n",
       "      <td>0.39699</td>\n",
       "      <td>0.22735</td>\n",
       "    </tr>\n",
       "    <tr>\n",
       "      <th>3955</th>\n",
       "      <td>18.96137</td>\n",
       "      <td>17.46963</td>\n",
       "      <td>16.75477</td>\n",
       "      <td>16.35100</td>\n",
       "      <td>16.12321</td>\n",
       "      <td>2</td>\n",
       "      <td>1.49174</td>\n",
       "      <td>0.71486</td>\n",
       "      <td>0.40377</td>\n",
       "      <td>0.22779</td>\n",
       "    </tr>\n",
       "  </tbody>\n",
       "</table>\n",
       "</div>"
      ],
      "text/plain": [
       "       dered_u   dered_g   dered_r   dered_i   dered_z  nClass      u-g  \\\n",
       "1678  18.10879  16.69346  16.00942  15.64215  15.36736       3  1.41533   \n",
       "4566  20.07679  19.41460  18.86722  18.69169  18.29721       2  0.66219   \n",
       "797   18.29470  17.20515  16.87156  16.73803  16.76033       1  1.08955   \n",
       "720   19.38920  18.17739  17.62120  17.22421  16.99686       3  1.21181   \n",
       "3955  18.96137  17.46963  16.75477  16.35100  16.12321       2  1.49174   \n",
       "\n",
       "          g-r      r-i      i-z  \n",
       "1678  0.68404  0.36727  0.27479  \n",
       "4566  0.54738  0.17553  0.39448  \n",
       "797   0.33359  0.13353 -0.02230  \n",
       "720   0.55619  0.39699  0.22735  \n",
       "3955  0.71486  0.40377  0.22779  "
      ]
     },
     "execution_count": 12,
     "metadata": {},
     "output_type": "execute_result"
    }
   ],
   "source": [
    "# Create a function to calculate the colours of the sources\n",
    "def compute_colour(row):\n",
    "    u = row['dered_u']\n",
    "    g = row['dered_g']\n",
    "    r = row['dered_r']\n",
    "    i = row['dered_i']\n",
    "    z = row['dered_z']\n",
    "    return pd.Series({'u-g': u - g, 'g-r': g - r, 'r-i': r - i, 'i-z': i - z})\n",
    "# Apply the function compute_colour\n",
    "colour_ind = data1.apply(compute_colour, axis=1)\n",
    "# Create new dataframe with the colours added\n",
    "data_colour = pd.concat([data1,colour_ind], axis=1)\n",
    "data_colour.head()"
   ]
  },
  {
   "cell_type": "code",
   "execution_count": 13,
   "metadata": {},
   "outputs": [
    {
     "data": {
      "image/png": "[encoded data removed]",
      "text/plain": [
       "<Figure size 1440x720 with 4 Axes>"
      ]
     },
     "metadata": {
      "needs_background": "light"
     },
     "output_type": "display_data"
    }
   ],
   "source": [
    "# Create histograms of the colours for each object type in the same plot\n",
    "# Create boolean series for each of the classes of objects\n",
    "star = data_colour['nClass']  == 1\n",
    "QSO = data_colour['nClass']  == 2\n",
    "galaxy = data_colour['nClass']  == 3\n",
    "colour = ['u-g','g-r','r-i','i-z']\n",
    "\n",
    "# Create subplots and plot histograms\n",
    "bins = np.linspace(-5, 5, 100)\n",
    "fig,axs = plt.subplots(2,2, figsize=(20,10), edgecolor='black')\n",
    "axs = axs.ravel()\n",
    "\n",
    "for i, n in enumerate(colour):\n",
    "    ax = axs[i]\n",
    "    X = data_colour[n]\n",
    "    #create the histograms for the object type per colour\n",
    "    ax.hist(X[star], bins,histtype='step', linewidth=2,label='star')\n",
    "    ax.hist(X[QSO], bins,histtype='step', linewidth=2, label='QSO')\n",
    "    ax.hist(X[galaxy], bins,histtype='step', linewidth=2, label='galaxy')\n",
    "    # Making it pretty with frame and grid\n",
    "    ax.spines['top'].set_color('black')\n",
    "    ax.spines['right'].set_color('black')\n",
    "    ax.spines['bottom'].set_color('black')\n",
    "    ax.spines['left'].set_color('black')\n",
    "    ax.spines['top'].set_linewidth(1)\n",
    "    ax.spines['right'].set_linewidth(1)\n",
    "    ax.spines['bottom'].set_linewidth(1)\n",
    "    ax.spines['left'].set_linewidth(1)\n",
    "    ax.grid(color='b', linestyle='-', linewidth=0.5)\n",
    "    ax.set_facecolor('xkcd:white')\n",
    "    #set legend, lables and title\n",
    "    ax.legend(loc='upper left',fontsize=12)\n",
    "    ax.set_xlabel(n)\n",
    "    ax.set_title(f'({n}) colour histogram', fontsize=16)\n",
    "    \n",
    "fig.suptitle('Distribution of Colour by Object Type', fontsize=20, fontweight=\"bold\")\n",
    "fig.tight_layout(rect=[0, 0, 1, 0.95])\n",
    "plt.show()"
   ]
  },
  {
   "cell_type": "markdown",
   "metadata": {},
   "source": [
    "For stars, in the (u-g) and (g-r) distributions, we can see bimodality which indicates the temperature of the star whether is a hot blue star (to the left of the distribution) or a cold red star(to the right). The distributions of (r-i) and (i-z) show this bimodality less and in fact, the distributions are more congruent with a positive skewed distribution. As the colours move more to the infrared side of the bands' spectrum, they are less sensitive to the temperature and more sensitive to interstellar dust, metalicity and age.\n",
    "\n",
    "For QSOs, the (u-g) distribution peak is much bluer than that of stars and galaxies.  It is as expected since what we see in QSOs are the active galactic nuclei(AGN, supermassive black holes)  that outshine the stars of their host galaxies. The radiation peaks at the blue end of the spectrum.  There is a small second population that is redder (to the left) than the rest of the population and this can be due to the fact that there is a combination of radiation from the AGN and the host galaxies. In the (g-r), we are seeing more of the radiation of the host galaxies but the distribution is still bluer than the galaxy distribution. In the distributions of (r-i) and (i-z), the galaxy and QSOs distributions are indistinguishable. Here, we are seeing the host galaxy radiation. \n",
    "\n",
    "For galaxies, there is a bimodal distribution in the (u-g) and (g-r). What we are seeing here is two populations; one population of young blue galaxies and the other of old red galaxies. On the other hand, the distributions of (r-i) and (i-z) show a very narrow distribution with a high peak. This could be due to the fact that we are sampling interstellar dust. Dust can absorb or scatter the light emitted by stars in a galaxy which makes the galaxy appear redder than it actually is. These distributions can be affected by the limited wavelength coverage of the bands.\n"
   ]
  },
  {
   "cell_type": "code",
   "execution_count": 14,
   "metadata": {},
   "outputs": [
    {
     "data": {
      "image/png": "[encoded data removed]",
      "text/plain": [
       "<Figure size 1440x720 with 18 Axes>"
      ]
     },
     "metadata": {
      "needs_background": "light"
     },
     "output_type": "display_data"
    }
   ],
   "source": [
    "# Create 2D distributions for each colour vs colour for each object type\n",
    "fig, axs = plt.subplots(3, 3, figsize=(20, 10), sharex='col')\n",
    "\n",
    "bins = np.linspace(-5, 5, 100)\n",
    "\n",
    "classes = [star, QSO, galaxy]\n",
    "objects = ['Stars', 'QSO', 'Galaxies']\n",
    "\n",
    "for i in range(len(colour)-1):\n",
    "    for j, n in enumerate(classes):\n",
    "        \n",
    "        h = axs[j, i].hist2d(data_colour[colour[i]][n], data_colour[colour[i + 1]][n], bins, cmap='hot')\n",
    "        \n",
    "        # Set labels for each subplot\n",
    "        axs[j, i].set_title(f'({colour[i]}) vs.' f'({colour[i+1]}) for ' f'{objects[j]}')\n",
    "        axs[j, i].set_ylabel(colour[i + 1])\n",
    "        if j>= 2 :\n",
    "                axs[j,i].set_xlabel(colour[i])\n",
    "        \n",
    "        # Add colorbars to each subplot\n",
    "        fig.colorbar(h[3], ax=axs[j, i])    \n",
    "            \n",
    "\n",
    "fig.suptitle('2D Distributions of Colour - Colour plots for Stars, QSOs and Galaxies', fontsize=16, fontweight=\"bold\")\n",
    "#plt.savefig('/home/veroastro/Documents/spectraTypes/images/2dH_colour.pdf')\n",
    "# Show the plot\n",
    "plt.show()"
   ]
  },
  {
   "cell_type": "markdown",
   "metadata": {},
   "source": [
    "Colour-colour plots are tools that help us in the study of the properties of astronomical objects and their evolution over time. In the case of stars, the (u-g) vs. (g-r) plot distinguishes between the hot, blue stars and the cold red stars. The position of a star in the plot depends on its temperature and the composition of its atmosphere, with hotter stars on the lower left side and colder stars on the upper right side. The (g-r) vs. (r-i) plot differentiates between stars of different temperatures and spectral types. The vertical axis (r-i) represents the star's metallicity, with metal-poor stars located towards the bottom and metal-rich stars towards the top. The (r-i) vs. (i-z) plot shows how stars of different colours and metallicities are affected by interstellar dust. Dust extinction causes reddening, which shifts colours to the red side of the spectrum.  Stars with higher levels of dust extinction will be located on the upper right side. The plot can also reveal any possible relationships between dust extinction and the age or metallicity of stars.\n",
    "\n",
    "In the case of QSOs, the (u-g) vs. (g-r) plot shows that most of the QSOs lie in a region with a tail that extends to the left and upper side (redder direction). This tail can be caused by two things: higher redshift (distance to the object) or that the spectra of these sources have emissions from the host galaxies too. This is more visible in the (g-r) vs. (r-i) plot where the plot is similar to that of the galaxies plot. The (r-i) vs. (i-z) plot shows a distribution that is very similar to that of galaxies, as we are primarily sampling the host galaxy radiation.\n",
    "\n",
    "In the case of galaxies, the (u-g) vs. (g-r) plot shows a wide range that goes between the blue cloud (young, star-forming galaxies) in the left and down and the red sequence (older and more passive galaxies) in the right and upper side. In the (g-r) vs. (r-i) plot, the  (g-r) colour is more sensitive to the age of the galaxy and the  (r-i) is more sensitive to their metallicity. The (r-i) vs. (i-z) shows how galaxies are affected by interstellar dust.\n"
   ]
  },
  {
   "cell_type": "code",
   "execution_count": 15,
   "metadata": {},
   "outputs": [
    {
     "data": {
      "image/png": "[encoded data removed]",
      "text/plain": [
       "<Figure size 360x360 with 1 Axes>"
      ]
     },
     "metadata": {},
     "output_type": "display_data"
    }
   ],
   "source": [
    "#Scatter plot hued by classes\n",
    "\n",
    "sns.set_style(\"ticks\")\n",
    "  \n",
    "sns.lmplot( x=\"u-g\", y=\"g-r\", data= data_colour, fit_reg=False, hue='nClass', legend=False, scatter_kws={\"s\": 1})\n",
    "\n",
    "# Add title and legend\n",
    "plt.title('(u-g) vs. (g-r) for all Object Types', fontweight=\"bold\")\n",
    "plt.legend(objects, fontsize=8, loc='lower left')\n",
    "#plt.savefig('/home/veroastro/Documents/spectraTypes/images/scatter_classes.pdf')\n",
    "plt.show()"
   ]
  },
  {
   "cell_type": "markdown",
   "metadata": {},
   "source": [
    "# Building the models\n",
    "\n",
    "## Prepping the data"
   ]
  },
  {
   "cell_type": "code",
   "execution_count": 16,
   "metadata": {},
   "outputs": [],
   "source": [
    "# Separating the features and the labled data and normalising the data\n",
    "from sklearn.preprocessing import StandardScaler\n",
    "cols= data1.columns[:-1]\n",
    "X = data1[cols]\n",
    "scaler = StandardScaler()\n",
    "X_t = scaler.fit_transform(X)\n",
    "X_scaled = pd.DataFrame(X_t, columns = X.columns)\n"
   ]
  },
  {
   "cell_type": "code",
   "execution_count": 17,
   "metadata": {},
   "outputs": [
    {
     "name": "stdout",
     "output_type": "stream",
     "text": [
      "(12000,)\n",
      "(3000,)\n"
     ]
    },
    {
     "data": {
      "text/html": [
       "<div>\n",
       "<style scoped>\n",
       "    .dataframe tbody tr th:only-of-type {\n",
       "        vertical-align: middle;\n",
       "    }\n",
       "\n",
       "    .dataframe tbody tr th {\n",
       "        vertical-align: top;\n",
       "    }\n",
       "\n",
       "    .dataframe thead th {\n",
       "        text-align: right;\n",
       "    }\n",
       "</style>\n",
       "<table border=\"1\" class=\"dataframe\">\n",
       "  <thead>\n",
       "    <tr style=\"text-align: right;\">\n",
       "      <th></th>\n",
       "      <th>dered_u</th>\n",
       "      <th>dered_g</th>\n",
       "      <th>dered_r</th>\n",
       "      <th>dered_i</th>\n",
       "      <th>dered_z</th>\n",
       "    </tr>\n",
       "  </thead>\n",
       "  <tbody>\n",
       "    <tr>\n",
       "      <th>1479</th>\n",
       "      <td>0.645426</td>\n",
       "      <td>0.797540</td>\n",
       "      <td>0.743906</td>\n",
       "      <td>0.931441</td>\n",
       "      <td>0.766530</td>\n",
       "    </tr>\n",
       "    <tr>\n",
       "      <th>7959</th>\n",
       "      <td>0.085340</td>\n",
       "      <td>-0.209485</td>\n",
       "      <td>-0.354591</td>\n",
       "      <td>-0.363696</td>\n",
       "      <td>-0.423085</td>\n",
       "    </tr>\n",
       "    <tr>\n",
       "      <th>9166</th>\n",
       "      <td>1.053783</td>\n",
       "      <td>1.147399</td>\n",
       "      <td>1.026857</td>\n",
       "      <td>1.112073</td>\n",
       "      <td>1.001636</td>\n",
       "    </tr>\n",
       "    <tr>\n",
       "      <th>5045</th>\n",
       "      <td>-0.925934</td>\n",
       "      <td>-0.281979</td>\n",
       "      <td>-0.110733</td>\n",
       "      <td>-0.069482</td>\n",
       "      <td>0.014258</td>\n",
       "    </tr>\n",
       "    <tr>\n",
       "      <th>238</th>\n",
       "      <td>0.162061</td>\n",
       "      <td>-0.041162</td>\n",
       "      <td>-0.243344</td>\n",
       "      <td>-0.527450</td>\n",
       "      <td>-0.714984</td>\n",
       "    </tr>\n",
       "  </tbody>\n",
       "</table>\n",
       "</div>"
      ],
      "text/plain": [
       "       dered_u   dered_g   dered_r   dered_i   dered_z\n",
       "1479  0.645426  0.797540  0.743906  0.931441  0.766530\n",
       "7959  0.085340 -0.209485 -0.354591 -0.363696 -0.423085\n",
       "9166  1.053783  1.147399  1.026857  1.112073  1.001636\n",
       "5045 -0.925934 -0.281979 -0.110733 -0.069482  0.014258\n",
       "238   0.162061 -0.041162 -0.243344 -0.527450 -0.714984"
      ]
     },
     "execution_count": 17,
     "metadata": {},
     "output_type": "execute_result"
    }
   ],
   "source": [
    "# split the data in train and test subsets\n",
    "from sklearn.model_selection import StratifiedShuffleSplit\n",
    "\n",
    "\n",
    "# Get the split indexes\n",
    "strat_shuf_split = StratifiedShuffleSplit(n_splits=3, \n",
    "                                          test_size=0.2, \n",
    "                                          random_state=42)\n",
    "\n",
    "\n",
    "\n",
    "train_idx, test_idx = next(strat_shuf_split.split(X_t,data1['nClass']))\n",
    "print(train_idx.shape)\n",
    "print(test_idx.shape)\n",
    "\n",
    "X_train = X_scaled[cols].iloc[train_idx]\n",
    "y_train = data1['nClass'].iloc[train_idx]\n",
    "X_test  = X_scaled[cols].iloc[test_idx]\n",
    "y_test  = data1['nClass'].iloc[test_idx]\n",
    "\n",
    "X_train.head()\n",
    "\n"
   ]
  },
  {
   "cell_type": "code",
   "execution_count": 18,
   "metadata": {},
   "outputs": [
    {
     "name": "stdout",
     "output_type": "stream",
     "text": [
      "       dered_u   dered_g   dered_r   dered_i   dered_z      u-g      g-r  \\\n",
      "1678  18.10879  16.69346  16.00942  15.64215  15.36736  1.41533  0.68404   \n",
      "4566  20.07679  19.41460  18.86722  18.69169  18.29721  0.66219  0.54738   \n",
      "797   18.29470  17.20515  16.87156  16.73803  16.76033  1.08955  0.33359   \n",
      "720   19.38920  18.17739  17.62120  17.22421  16.99686  1.21181  0.55619   \n",
      "3955  18.96137  17.46963  16.75477  16.35100  16.12321  1.49174  0.71486   \n",
      "\n",
      "          r-i      i-z  \n",
      "1678  0.36727  0.27479  \n",
      "4566  0.17553  0.39448  \n",
      "797   0.13353 -0.02230  \n",
      "720   0.39699  0.22735  \n",
      "3955  0.40377  0.22779  \n"
     ]
    }
   ],
   "source": [
    "# Prepping the colour data set.\n",
    "X_colour = data_colour.drop(['nClass'], axis = 1)#pd.concat([X,colour_indices], axis=1)\n",
    "print(X_colour.head())\n",
    "\n",
    "# Normalising the colour dataset\n",
    "Xc_t = scaler.fit_transform(X_colour)\n",
    "Xc_scaled = pd.DataFrame(Xc_t, columns = X_colour.columns)\n",
    "\n",
    "# Splitting colour dataset into train and test.\n",
    "X_train_c = Xc_scaled.iloc[train_idx]\n",
    "X_test_c  = Xc_scaled.iloc[test_idx]"
   ]
  },
  {
   "cell_type": "markdown",
   "metadata": {},
   "source": [
    "## Building Models\n",
    "\n",
    "To classify the data, I build several Machine Learning models. I use Logistic Regression, Random Forest Classifier, Decision Tree Classifier, Gradient Boosting Classifier and Suppor Vector Machine.\n",
    "\n",
    "To optimize the performance of each model, I fine-tuned the hyperparameters of each model using GridSearchCV. And even if it does crossvalidation on the dataset, I still divided the data 80% for training and 20% for testing, in order to test the model on new data. \n",
    "\n",
    "Each of the classifiers has its own strengths and weaknesses. So, I compared their performance on the testing set to determine the best model for the classification task.\n",
    "\n",
    "### Logistic Regression\n",
    "\n",
    "It is a statistical model that used for binary classification. The model uses the sigmoid fuction to classify the dependend variable. The sigmoid function is a mathematical function that follows the formula\n",
    "$$\n",
    "    S(x) =  \\frac{1}{1+e^{-x}} \n",
    "$$\n",
    "which has a s shaped curve that ranges from 0 to 1. Logistic Regression applies the sigmoid function to a linear combination of input variables, and then uses a threshold value to classify the output as either 0 or 1.\n",
    "\n",
    "While Logistic Regression is a simple and effective model, it has some limitations. One of them is that it assumes that the relationship between input variables and the dependent variable is linear. And it doesn't do very well with non-linear relationships\n",
    "\n",
    "I use the LogisticRegression algorythm from the Scikit-Learn library to classify the three classes of stellar objects. The parameters that are fine-tuned by GridSearchCV are:\n",
    "* C which is the inverse of regularization strength. I choose to fine-tune over a range of 10$^{-3}$ to 10$^{3}$ in 50 steps.\n",
    "* Penalty wich makes the fitted parameters smaller to prevent over-fitting. It is either l1 or l2 or elasticnet. L1 adds apenalty equal to the absolute value of the magnitude of coefficients. L2 adds a penalty equal to the square of the magnitude of coefficients. Elasticnet which combines penalties l1 and l2.\n",
    "* Solver which is the optimization algorithm. I use the solvers: lbfgs, newton-cg, sag, saga because they generalise well to multi-classes problems.\n",
    "\n"
   ]
  },
  {
   "cell_type": "code",
   "execution_count": 19,
   "metadata": {},
   "outputs": [
    {
     "name": "stderr",
     "output_type": "stream",
     "text": [
      "/home/veroastro/anaconda3/lib/python3.9/site-packages/sklearn/model_selection/_validation.py:372: FitFailedWarning: \n",
      "1750 fits failed out of a total of 3000.\n",
      "The score on these train-test partitions for these parameters will be set to nan.\n",
      "If these failures are not expected, you can try to debug them by setting error_score='raise'.\n",
      "\n",
      "Below are more details about the failures:\n",
      "--------------------------------------------------------------------------------\n",
      "250 fits failed with the following error:\n",
      "Traceback (most recent call last):\n",
      "  File \"/home/veroastro/anaconda3/lib/python3.9/site-packages/sklearn/model_selection/_validation.py\", line 680, in _fit_and_score\n",
      "    estimator.fit(X_train, y_train, **fit_params)\n",
      "  File \"/home/veroastro/anaconda3/lib/python3.9/site-packages/sklearn/linear_model/_logistic.py\", line 1461, in fit\n",
      "    solver = _check_solver(self.solver, self.penalty, self.dual)\n",
      "  File \"/home/veroastro/anaconda3/lib/python3.9/site-packages/sklearn/linear_model/_logistic.py\", line 447, in _check_solver\n",
      "    raise ValueError(\n",
      "ValueError: Solver lbfgs supports only 'l2' or 'none' penalties, got l1 penalty.\n",
      "\n",
      "--------------------------------------------------------------------------------\n",
      "250 fits failed with the following error:\n",
      "Traceback (most recent call last):\n",
      "  File \"/home/veroastro/anaconda3/lib/python3.9/site-packages/sklearn/model_selection/_validation.py\", line 680, in _fit_and_score\n",
      "    estimator.fit(X_train, y_train, **fit_params)\n",
      "  File \"/home/veroastro/anaconda3/lib/python3.9/site-packages/sklearn/linear_model/_logistic.py\", line 1461, in fit\n",
      "    solver = _check_solver(self.solver, self.penalty, self.dual)\n",
      "  File \"/home/veroastro/anaconda3/lib/python3.9/site-packages/sklearn/linear_model/_logistic.py\", line 447, in _check_solver\n",
      "    raise ValueError(\n",
      "ValueError: Solver newton-cg supports only 'l2' or 'none' penalties, got l1 penalty.\n",
      "\n",
      "--------------------------------------------------------------------------------\n",
      "250 fits failed with the following error:\n",
      "Traceback (most recent call last):\n",
      "  File \"/home/veroastro/anaconda3/lib/python3.9/site-packages/sklearn/model_selection/_validation.py\", line 680, in _fit_and_score\n",
      "    estimator.fit(X_train, y_train, **fit_params)\n",
      "  File \"/home/veroastro/anaconda3/lib/python3.9/site-packages/sklearn/linear_model/_logistic.py\", line 1461, in fit\n",
      "    solver = _check_solver(self.solver, self.penalty, self.dual)\n",
      "  File \"/home/veroastro/anaconda3/lib/python3.9/site-packages/sklearn/linear_model/_logistic.py\", line 447, in _check_solver\n",
      "    raise ValueError(\n",
      "ValueError: Solver sag supports only 'l2' or 'none' penalties, got l1 penalty.\n",
      "\n",
      "--------------------------------------------------------------------------------\n",
      "1000 fits failed with the following error:\n",
      "Traceback (most recent call last):\n",
      "  File \"/home/veroastro/anaconda3/lib/python3.9/site-packages/sklearn/model_selection/_validation.py\", line 680, in _fit_and_score\n",
      "    estimator.fit(X_train, y_train, **fit_params)\n",
      "  File \"/home/veroastro/anaconda3/lib/python3.9/site-packages/sklearn/linear_model/_logistic.py\", line 1461, in fit\n",
      "    solver = _check_solver(self.solver, self.penalty, self.dual)\n",
      "  File \"/home/veroastro/anaconda3/lib/python3.9/site-packages/sklearn/linear_model/_logistic.py\", line 441, in _check_solver\n",
      "    raise ValueError(\n",
      "ValueError: Logistic Regression supports only penalties in ['l1', 'l2', 'elasticnet', 'none'], got Elasticnet.\n",
      "\n",
      "  warnings.warn(some_fits_failed_message, FitFailedWarning)\n",
      "/home/veroastro/anaconda3/lib/python3.9/site-packages/sklearn/model_selection/_search.py:969: UserWarning: One or more of the test scores are non-finite: [       nan        nan        nan 0.56783333 0.59441667 0.59441667\n",
      " 0.59433333 0.59441667        nan        nan        nan        nan\n",
      "        nan        nan        nan 0.58441667 0.59491667 0.59491667\n",
      " 0.59508333 0.59491667        nan        nan        nan        nan\n",
      "        nan        nan        nan 0.59058333 0.59891667 0.599\n",
      " 0.599      0.599             nan        nan        nan        nan\n",
      "        nan        nan        nan 0.59516667 0.602      0.602\n",
      " 0.60191667 0.60208333        nan        nan        nan        nan\n",
      "        nan        nan        nan 0.59566667 0.60558333 0.60566667\n",
      " 0.60566667 0.60566667        nan        nan        nan        nan\n",
      "        nan        nan        nan 0.60075    0.60891667 0.60891667\n",
      " 0.60891667 0.60891667        nan        nan        nan        nan\n",
      "        nan        nan        nan 0.60575    0.61241667 0.61241667\n",
      " 0.61241667 0.61241667        nan        nan        nan        nan\n",
      "        nan        nan        nan 0.60808333 0.61591667 0.61591667\n",
      " 0.61591667 0.61591667        nan        nan        nan        nan\n",
      "        nan        nan        nan 0.61233333 0.61866667 0.61866667\n",
      " 0.61875    0.61866667        nan        nan        nan        nan\n",
      "        nan        nan        nan 0.62033333 0.623      0.623\n",
      " 0.623      0.623             nan        nan        nan        nan\n",
      "        nan        nan        nan 0.62558333 0.62591667 0.62591667\n",
      " 0.62591667 0.62591667        nan        nan        nan        nan\n",
      "        nan        nan        nan 0.62766667 0.62808333 0.62808333\n",
      " 0.62808333 0.62808333        nan        nan        nan        nan\n",
      "        nan        nan        nan 0.63025    0.63008333 0.63\n",
      " 0.63016667 0.63              nan        nan        nan        nan\n",
      "        nan        nan        nan 0.633      0.63283333 0.63283333\n",
      " 0.63283333 0.63283333        nan        nan        nan        nan\n",
      "        nan        nan        nan 0.63366667 0.63366667 0.63366667\n",
      " 0.63366667 0.63366667        nan        nan        nan        nan\n",
      "        nan        nan        nan 0.63491667 0.6345     0.6345\n",
      " 0.6345     0.63466667        nan        nan        nan        nan\n",
      "        nan        nan        nan 0.63566667 0.6355     0.6355\n",
      " 0.63566667 0.63566667        nan        nan        nan        nan\n",
      "        nan        nan        nan 0.63633333 0.63616667 0.63616667\n",
      " 0.63616667 0.63616667        nan        nan        nan        nan\n",
      "        nan        nan        nan 0.63666667 0.63683333 0.63675\n",
      " 0.63675    0.63675           nan        nan        nan        nan\n",
      "        nan        nan        nan 0.63708333 0.63666667 0.63666667\n",
      " 0.63666667 0.63666667        nan        nan        nan        nan\n",
      "        nan        nan        nan 0.6375     0.63766667 0.63758333\n",
      " 0.63758333 0.63758333        nan        nan        nan        nan\n",
      "        nan        nan        nan 0.63775    0.63783333 0.63783333\n",
      " 0.63783333 0.63783333        nan        nan        nan        nan\n",
      "        nan        nan        nan 0.63808333 0.63808333 0.63816667\n",
      " 0.63816667 0.63816667        nan        nan        nan        nan\n",
      "        nan        nan        nan 0.63833333 0.63825    0.63825\n",
      " 0.63825    0.63825           nan        nan        nan        nan\n",
      "        nan        nan        nan 0.63833333 0.63833333 0.63841667\n",
      " 0.63825    0.63841667        nan        nan        nan        nan\n",
      "        nan        nan        nan 0.63841667 0.6385     0.6385\n",
      " 0.6385     0.6385            nan        nan        nan        nan\n",
      "        nan        nan        nan 0.6385     0.6385     0.6385\n",
      " 0.6385     0.6385            nan        nan        nan        nan\n",
      "        nan        nan        nan 0.6385     0.6385     0.6385\n",
      " 0.6385     0.6385            nan        nan        nan        nan\n",
      "        nan        nan        nan 0.6385     0.6385     0.6385\n",
      " 0.6385     0.63858333        nan        nan        nan        nan\n",
      "        nan        nan        nan 0.6385     0.63858333 0.63858333\n",
      " 0.63858333 0.63858333        nan        nan        nan        nan\n",
      "        nan        nan        nan 0.63858333 0.63858333 0.63858333\n",
      " 0.63858333 0.63858333        nan        nan        nan        nan\n",
      "        nan        nan        nan 0.63858333 0.63858333 0.63858333\n",
      " 0.63858333 0.63858333        nan        nan        nan        nan\n",
      "        nan        nan        nan 0.63875    0.63858333 0.63858333\n",
      " 0.63858333 0.63858333        nan        nan        nan        nan\n",
      "        nan        nan        nan 0.63875    0.63875    0.63875\n",
      " 0.63875    0.63875           nan        nan        nan        nan\n",
      "        nan        nan        nan 0.63875    0.63875    0.63875\n",
      " 0.63875    0.63875           nan        nan        nan        nan\n",
      "        nan        nan        nan 0.63875    0.63875    0.63875\n",
      " 0.63875    0.63875           nan        nan        nan        nan\n",
      "        nan        nan        nan 0.63875    0.63883333 0.63875\n",
      " 0.63875    0.63875           nan        nan        nan        nan\n",
      "        nan        nan        nan 0.63883333 0.63883333 0.63875\n",
      " 0.63875    0.63875           nan        nan        nan        nan\n",
      "        nan        nan        nan 0.63875    0.63883333 0.63875\n",
      " 0.63883333 0.63875           nan        nan        nan        nan\n",
      "        nan        nan        nan 0.63883333 0.63883333 0.63875\n",
      " 0.63883333 0.63883333        nan        nan        nan        nan\n",
      "        nan        nan        nan 0.63883333 0.63883333 0.63875\n",
      " 0.63883333 0.63883333        nan        nan        nan        nan\n",
      "        nan        nan        nan 0.63883333 0.63883333 0.63883333\n",
      " 0.63875    0.63883333        nan        nan        nan        nan\n",
      "        nan        nan        nan 0.63875    0.63883333 0.63883333\n",
      " 0.63883333 0.63883333        nan        nan        nan        nan\n",
      "        nan        nan        nan 0.63883333 0.63883333 0.63883333\n",
      " 0.63883333 0.63883333        nan        nan        nan        nan\n",
      "        nan        nan        nan 0.63883333 0.63883333 0.63883333\n",
      " 0.63875    0.63883333        nan        nan        nan        nan\n",
      "        nan        nan        nan 0.63883333 0.63883333 0.63883333\n",
      " 0.63875    0.63883333        nan        nan        nan        nan\n",
      "        nan        nan        nan 0.63883333 0.63883333 0.63883333\n",
      " 0.63875    0.63883333        nan        nan        nan        nan\n",
      "        nan        nan        nan 0.63875    0.63883333 0.63883333\n",
      " 0.63875    0.63883333        nan        nan        nan        nan\n",
      "        nan        nan        nan 0.63883333 0.63883333 0.63883333\n",
      " 0.63883333 0.63883333        nan        nan        nan        nan\n",
      "        nan        nan        nan 0.63883333 0.63883333 0.63883333\n",
      " 0.63883333 0.63875           nan        nan        nan        nan]\n",
      "  warnings.warn(\n"
     ]
    }
   ],
   "source": [
    "# Importing libraries\n",
    "from sklearn.linear_model import LogisticRegression\n",
    "from sklearn.model_selection import GridSearchCV\n",
    "\n",
    "# Defining the hyperparameters to be tuned using GridSearchCV\n",
    "LR_param = {\"C\":np.logspace(-3,3,50), \"penalty\":[\"l1\",\"l2\",\"Elasticnet\"],\n",
    "          \"solver\":['lbfgs', 'newton-cg', 'sag', 'saga']}\n",
    "\n",
    "# Creating an instance of GridSearchCV for logistic regression\n",
    "LR_grid = GridSearchCV(LogisticRegression(max_iter = 5000), LR_param, n_jobs=-1)\n",
    "\n",
    "# Fitting the GridSearchCV object on the training data\n",
    "LR = LR_grid.fit(X_train, y_train)"
   ]
  },
  {
   "cell_type": "code",
   "execution_count": 20,
   "metadata": {},
   "outputs": [
    {
     "data": {
      "text/plain": [
       "({'C': 25.595479226995334, 'penalty': 'l2', 'solver': 'lbfgs'},\n",
       " 0.6388333333333333)"
      ]
     },
     "execution_count": 20,
     "metadata": {},
     "output_type": "execute_result"
    }
   ],
   "source": [
    "# Printing the best parameters and its accuracy.\n",
    "LR.best_params_ ,LR.best_score_"
   ]
  },
  {
   "cell_type": "markdown",
   "metadata": {},
   "source": [
    "I tried different values of max_iter(maximum number of iterations taken for the solvers to converge). Because the default value was not enought to converge.\n",
    "\n",
    "There is the error \"FitFailedWarning: 1750 fits failed out of a total of 3000. The score on these train-test partitions for these parameters will be set to nan.\". These errors are due to the fact that not all solvers support all penalties. "
   ]
  },
  {
   "cell_type": "code",
   "execution_count": 21,
   "metadata": {},
   "outputs": [],
   "source": [
    "#Predict y values (classes) using the model obtained.\n",
    "LR_y_pred=LR.predict(X_test)"
   ]
  },
  {
   "cell_type": "code",
   "execution_count": 22,
   "metadata": {},
   "outputs": [
    {
     "name": "stdout",
     "output_type": "stream",
     "text": [
      "              precision    recall  f1-score   support\n",
      "\n",
      "           1       0.62      0.48      0.54      1000\n",
      "           2       0.74      0.81      0.77      1000\n",
      "           3       0.55      0.63      0.59      1000\n",
      "\n",
      "    accuracy                           0.64      3000\n",
      "   macro avg       0.64      0.64      0.63      3000\n",
      "weighted avg       0.64      0.64      0.63      3000\n",
      "\n"
     ]
    }
   ],
   "source": [
    "#Check predicted values of the test data with the actual values. \n",
    "from sklearn.metrics import classification_report\n",
    "\n",
    "cr = classification_report(y_test, LR_y_pred)\n",
    "print(cr)\n"
   ]
  },
  {
   "cell_type": "markdown",
   "metadata": {},
   "source": [
    "The model seems to classify class 2 which are QSOs than star and galaxies in precision, recal and F1 score. For the stars(1) and galaxies(3), it is close to randomly classifying them. The overall accuracy is 63% which is not very high. This means that the model is correctly classifying 63% of the samples in the dataset."
   ]
  },
  {
   "cell_type": "markdown",
   "metadata": {
    "scrolled": false
   },
   "source": [
    "# test with colours\n",
    "GR_c = LR_grid.fit(X_train_c, y_train)\n",
    "GR_c.best_params_ ,GR_c.best_score_"
   ]
  },
  {
   "cell_type": "markdown",
   "metadata": {},
   "source": [
    "LR_pred_c=GR_c.predict(X_test_c)"
   ]
  },
  {
   "cell_type": "markdown",
   "metadata": {},
   "source": [
    "cr_c = classification_report(y_test, LR_pred_c)\n",
    "print(cr_c)"
   ]
  },
  {
   "cell_type": "markdown",
   "metadata": {},
   "source": [
    " Colour doesn't affect the estimation of the spectral classes"
   ]
  },
  {
   "cell_type": "markdown",
   "metadata": {},
   "source": [
    "### Decision Tree Classifier\n",
    "\n",
    "A decision tree is a non-parametric (it means it does not make particular assumptions about the form of mapping function)learning algorithm. It has a hierarchical, tree structure, which consists of a root node, branches, internal nodes and leaf nodes. The decision tree starts with a root node with outgoing branches to the internal nodes. Both nodes then conduct evaluations to form homogenous subsets(leaf nodes). The operation splits the data recursively until there are only pure leaf nodes (data of only one class).The more complex the tree, the more it can lead to overfitting.  \n",
    "\n",
    "The parameters that are fine-tuned by GridSearchCV are:\n",
    "* criterion which measures the quality of a split. \n",
    "* max_depth which is the maximum depth of the tree. The range chosen is from 1 to 500 in steps of 5. \n",
    "* max_features which is number of features taken into consideration when looking for the best split. 'sqrt' is the square root of the number of features and 'log2' is the log with base 2 of the number of features."
   ]
  },
  {
   "cell_type": "code",
   "execution_count": 23,
   "metadata": {},
   "outputs": [],
   "source": [
    "# Importing libraries\n",
    "from sklearn.tree import DecisionTreeClassifier\n",
    "\n",
    "# Defining the hyperparameters to be tuned using GridSearchCV\n",
    "DT_param = {'criterion' : ['gini', 'entropy'],\n",
    "            'max_depth':range(1, 500, 5),\n",
    "            'max_features': [ 'sqrt', 'log2']}\n",
    "# Creating an instance of GridSearchCV for Decision Tree Classifier\n",
    "DT_grid = GridSearchCV(DecisionTreeClassifier(random_state=42),\n",
    "                  param_grid=DT_param,\n",
    "                  scoring='accuracy',\n",
    "                  n_jobs=-1)\n",
    "# Fitting the GridSearchCV object on the training data\n",
    "DT = DT_grid.fit(X_train, y_train)"
   ]
  },
  {
   "cell_type": "code",
   "execution_count": 24,
   "metadata": {},
   "outputs": [
    {
     "data": {
      "text/plain": [
       "({'criterion': 'entropy', 'max_depth': 26, 'max_features': 'sqrt'},\n",
       " 0.8408333333333333)"
      ]
     },
     "execution_count": 24,
     "metadata": {},
     "output_type": "execute_result"
    }
   ],
   "source": [
    "# Printing the best parameters and its accuracy.\n",
    "#GR_dt.tree_.node_count, GR_dt.tree_.max_depth\n",
    "DT.best_params_ ,DT.best_score_"
   ]
  },
  {
   "cell_type": "code",
   "execution_count": 25,
   "metadata": {},
   "outputs": [
    {
     "name": "stdout",
     "output_type": "stream",
     "text": [
      "              precision    recall  f1-score   support\n",
      "\n",
      "           1       0.87      0.83      0.85      1000\n",
      "           2       0.86      0.86      0.86      1000\n",
      "           3       0.80      0.84      0.82      1000\n",
      "\n",
      "    accuracy                           0.84      3000\n",
      "   macro avg       0.85      0.84      0.84      3000\n",
      "weighted avg       0.85      0.84      0.84      3000\n",
      "\n"
     ]
    }
   ],
   "source": [
    "#Predict y values (classes) using the model obtained.\n",
    "y_pred_dt = DT.predict(X_test)\n",
    "#Check predicted values of the test data with the actual values. \n",
    "cr_dt = classification_report(y_test, y_pred_dt)\n",
    "print(cr_dt)"
   ]
  },
  {
   "cell_type": "markdown",
   "metadata": {},
   "source": [
    "The test accuracy is 0.85. It is an improvement on the Logistic Regression. But it still means that 15% of the objects are misclassified. From the precision column, the model is best at classifying positive QSOs(class 2)  and worst at galaxies (class 3). Recall shows similar values between classes. The F1 score shows that altogether, it is best at classifying QSOs and worst at classifying galaxies. "
   ]
  },
  {
   "cell_type": "code",
   "execution_count": 26,
   "metadata": {
    "scrolled": false
   },
   "outputs": [
    {
     "data": {
      "image/png": "[encoded data removed]",
      "text/plain": [
       "<Figure size 432x288 with 2 Axes>"
      ]
     },
     "metadata": {},
     "output_type": "display_data"
    }
   ],
   "source": [
    "from sklearn.metrics import confusion_matrix, ConfusionMatrixDisplay\n",
    "# Create confusion matrix\n",
    "DT_cm = confusion_matrix(y_test, y_pred_dt)\n",
    "# Create display for confusion matrix\n",
    "disp = ConfusionMatrixDisplay(confusion_matrix=DT_cm,\n",
    "                              display_labels=DT_grid.classes_)\n",
    "#Plot confusion Matrix\n",
    "disp.plot(cmap='magma')\n",
    "plt.show()"
   ]
  },
  {
   "cell_type": "markdown",
   "metadata": {},
   "source": [
    "Looking at the true positives (True label = Predicted Label), class 2 (QSO) has the highest number and class 3 (galaxies) has the lowest numbers. Class 1 (stars) are more often misclassified as class 3. Class 2 are more often misclassified as class 3."
   ]
  },
  {
   "cell_type": "markdown",
   "metadata": {},
   "source": [
    "### Random Forest Classifier\n",
    "    \n",
    "Random Forest is an essemble learning algorithm. This means that it combines the prediction of multiple models. In this case, it combines different decision trees to obtain more acurate results and control overfitting. By default, bootstrap is said to True which means that a subsample is used for each tree rather than the entire datasaet.\n",
    "I set \n",
    "* oob_score to True which is the out of bag score. The OOB score is an estimate of the generalization performance of the model on new data.\n",
    "* warm_start to True whichs reuse the solution of the previous call to fit and add more estimators to the ensemble.\n",
    "\n",
    "The parameters are fine-tuned using  RandomizedSearchCV instead of GridSearchCV because it takes to long to run the model through every combination of parameters. RandomizedSearchCV randomly samples a subset of hyperparameter combinations from a specified search space. The parameters used are:\n",
    "* n_estimators which is the number of trees in the forest.\n",
    "* min_samples_split the minimum number of samples required to split an internal node\n",
    "* max_depth which is the maximum depth of the tree. "
   ]
  },
  {
   "cell_type": "code",
   "execution_count": 27,
   "metadata": {},
   "outputs": [
    {
     "data": {
      "text/plain": [
       "{'n_estimators': 887, 'min_samples_split': 5, 'max_depth': 31}"
      ]
     },
     "execution_count": 27,
     "metadata": {},
     "output_type": "execute_result"
    }
   ],
   "source": [
    "from sklearn.ensemble import RandomForestClassifier\n",
    "from sklearn.model_selection import RandomizedSearchCV\n",
    "# Use the random grid to search for best hyperparameters\n",
    "RF_param_grid = {'n_estimators':range(50,1000, 1),\n",
    "             'min_samples_split' : [2, 5, 10],\n",
    "             'max_depth':range(1, 500, 5)}\n",
    "\n",
    "\n",
    "RF = RandomForestClassifier(oob_score=True,\n",
    "                            bootstrap = True,\n",
    "                            random_state=42, \n",
    "                            warm_start=True)\n",
    "# Random search of parameters, using 3 fold cross validation, \n",
    "# search across 100 different combinations, and use all available cores\n",
    "rf_random = RandomizedSearchCV(RF, param_distributions = RF_param_grid, n_iter = 100, cv = 3, n_jobs = -1)\n",
    "# Fit the random search model\n",
    "rf_random.fit(X_train, y_train)\n",
    "rf_random.best_params_"
   ]
  },
  {
   "cell_type": "code",
   "execution_count": 28,
   "metadata": {},
   "outputs": [
    {
     "data": {
      "text/plain": [
       "(0.8913333333333333, 0.90475)"
      ]
     },
     "execution_count": 28,
     "metadata": {},
     "output_type": "execute_result"
    }
   ],
   "source": [
    "# best accuracy and oob_score\n",
    "rf_random.best_score_, rf_random.best_estimator_.oob_score_"
   ]
  },
  {
   "cell_type": "code",
   "execution_count": 29,
   "metadata": {},
   "outputs": [
    {
     "name": "stdout",
     "output_type": "stream",
     "text": [
      "              precision    recall  f1-score   support\n",
      "\n",
      "           1       0.92      0.90      0.91      1000\n",
      "           2       0.93      0.89      0.91      1000\n",
      "           3       0.85      0.91      0.88      1000\n",
      "\n",
      "    accuracy                           0.90      3000\n",
      "   macro avg       0.90      0.90      0.90      3000\n",
      "weighted avg       0.90      0.90      0.90      3000\n",
      "\n"
     ]
    }
   ],
   "source": [
    "#Predict y values (classes) using the model obtained.\n",
    "y_pred_rf = rf_random.predict(X_test)\n",
    "#Check predicted values of the test data with the actual values\n",
    "cr_rf = classification_report(y_test, y_pred_rf)\n",
    "print(cr_rf)"
   ]
  },
  {
   "cell_type": "markdown",
   "metadata": {},
   "source": [
    "QSOs(class2) and stars(class1) have a better precision than galaxies(class3). Galaxies do metter in recall than the other two classes. QSOs have worst recall. Stars and QSOs have a better f1 score than galaxies. Overall test accuracy is 0.90 which is quite good."
   ]
  },
  {
   "cell_type": "code",
   "execution_count": 30,
   "metadata": {},
   "outputs": [
    {
     "data": {
      "image/png": "[encoded data removed]",
      "text/plain": [
       "<Figure size 432x288 with 2 Axes>"
      ]
     },
     "metadata": {},
     "output_type": "display_data"
    }
   ],
   "source": [
    "# Create confusion matrix\n",
    "RF_cm = confusion_matrix(y_test, y_pred_rf)\n",
    "# Create display for confusion matrix\n",
    "disp = ConfusionMatrixDisplay(confusion_matrix=RF_cm,\n",
    "                              display_labels=rf_random.classes_)\n",
    "#Plot confusion Matrix\n",
    "disp.plot(cmap='magma')\n",
    "plt.show()"
   ]
  },
  {
   "cell_type": "markdown",
   "metadata": {},
   "source": [
    "Looking at the true positives, class 3 (galaxy) has the highest number and class 2 (QSO) has the lowest numbers. Class 1 (stars) are more often misclassified as class 3. Class 2 are more often misclassified as class 3."
   ]
  },
  {
   "cell_type": "markdown",
   "metadata": {},
   "source": [
    "### Gradient Boosting Classifier (GBC)\n",
    "\n",
    "It is also and ensamble learning algorithm. It combines weak learners (i.e., decision trees) to create a stronger model. The algorithm first fits a decision tree to the data, then fits a second decision tree to the residuals (errors) of the first tree, and repeats this process to improve the model. The final model is a weighted sum of all the trees, where the weights are determined by the learning rate and the residuals of the previous tree.\n",
    "\n",
    "It is good to handle complex, high-dimensional datasets and it is robust to outliers. However, it can be computationally expensive and may be prone to overfitting if the hyperparameters are not tuned correctly.\n",
    "\n",
    "The parameters that are fine-tuned by RandomizedSearchCV are:\n",
    "* n_estimators which is the number of boosting stages to perform.\n",
    "* learning_rate which shrinks the contribution of each tree.\n",
    "* subsample which he fraction of samples to be used for fitting the individual base learners. If the value is less than one then this results in Stochastic Gradient Boosting that uses a random subset of samples to train each base learner instead of using the entire training set. This helps with overfitting.\n",
    "* max_depth which is the maximum depth of the individual regression estimators."
   ]
  },
  {
   "cell_type": "code",
   "execution_count": 31,
   "metadata": {},
   "outputs": [
    {
     "data": {
      "text/plain": [
       "({'subsample': 0.5, 'n_estimators': 135, 'max_depth': 8, 'learning_rate': 0.1},\n",
       " 0.8914166666666666)"
      ]
     },
     "execution_count": 31,
     "metadata": {},
     "output_type": "execute_result"
    }
   ],
   "source": [
    "from sklearn.ensemble import GradientBoostingClassifier\n",
    "\n",
    "# Use the random grid to search for best hyperparameters\n",
    "GBC_param_grid = {'n_estimators': range(5, 150,10),\n",
    "                  'learning_rate': [0.1, 0.01, 0.001, 0.0001],\n",
    "                  'subsample': [1.0, 0.5],\n",
    "                  'max_depth': [2, 5, 8]}\n",
    "\n",
    "\n",
    "GBC = GradientBoostingClassifier(random_state=42)\n",
    "\n",
    "GBC_random = RandomizedSearchCV(GBC, param_distributions = GBC_param_grid, n_iter = 100,cv = 3, n_jobs = -1)\n",
    "\n",
    "# Do the randomize search\n",
    "gbc = GBC_random.fit(X_train, y_train)\n",
    "\n",
    "gbc.best_params_ ,gbc.best_score_"
   ]
  },
  {
   "cell_type": "code",
   "execution_count": 32,
   "metadata": {},
   "outputs": [
    {
     "name": "stdout",
     "output_type": "stream",
     "text": [
      "              precision    recall  f1-score   support\n",
      "\n",
      "           1       0.89      0.92      0.91       966\n",
      "           2       0.89      0.93      0.91       963\n",
      "           3       0.91      0.85      0.88      1071\n",
      "\n",
      "    accuracy                           0.90      3000\n",
      "   macro avg       0.90      0.90      0.90      3000\n",
      "weighted avg       0.90      0.90      0.90      3000\n",
      "\n"
     ]
    }
   ],
   "source": [
    "# Using the best model to predict classes on the test set\n",
    "y_pred_gbc = gbc.predict(X_test)\n",
    "#Check predicted values of the test data with the actual values\n",
    "cr_gbc = classification_report(y_pred_gbc, y_test)\n",
    "print(cr_gbc)"
   ]
  },
  {
   "cell_type": "markdown",
   "metadata": {},
   "source": [
    "Galaxies have the best precision score and starst and QSOs have a similar value of precision. This turns arround in recall values where galaxies have the worst value and star and QSOs have the same value. The f1 score is better for stars and QSOs. "
   ]
  },
  {
   "cell_type": "code",
   "execution_count": 33,
   "metadata": {},
   "outputs": [
    {
     "data": {
      "image/png": "[encoded data removed]",
      "text/plain": [
       "<Figure size 432x288 with 2 Axes>"
      ]
     },
     "metadata": {},
     "output_type": "display_data"
    }
   ],
   "source": [
    "# Create confusion matrix\n",
    "gbc_cm = confusion_matrix(y_test, y_pred_gbc)\n",
    "# Create display for confusion matrix\n",
    "disp = ConfusionMatrixDisplay(confusion_matrix=gbc_cm,\n",
    "                              display_labels=rf_random.classes_)\n",
    "#Plot confusion Matrix\n",
    "disp.plot(cmap='magma')\n",
    "plt.show()"
   ]
  },
  {
   "cell_type": "markdown",
   "metadata": {},
   "source": [
    "Looking at the true positives, class 3 (galaxy) has the highest number and class 2 (QSO) has the lowest numbers. Class 1 (stars)d class 2 are more often misclassified as class 3."
   ]
  },
  {
   "cell_type": "markdown",
   "metadata": {},
   "source": [
    "### Support Vector Machine (SVM)\n",
    "\n",
    "SVMs divide the datasets into number of classes in order to find a maximum marginal hyperplane which is the separating hyperplane that is farthest from any training observation. The models first generate hyperplanes iteratively that separates the classes in the best way and then it will choose the hyperplane that segregates the classes correctly.\n",
    "\n",
    "The parameters that are fine-tuned by GridSearchCV are:\n",
    "* C which is the regularization parameter which is inversely proportional to C.\n",
    "* gamma which defines how far influences the calculation of plausible line of separation.\n",
    "* kernel takes low dimensional input space and transform it into a higher-dimensional space."
   ]
  },
  {
   "cell_type": "code",
   "execution_count": 34,
   "metadata": {},
   "outputs": [
    {
     "ename": "KeyboardInterrupt",
     "evalue": "",
     "output_type": "error",
     "traceback": [
      "\u001b[0;31m---------------------------------------------------------------------------\u001b[0m",
      "\u001b[0;31mKeyboardInterrupt\u001b[0m                         Traceback (most recent call last)",
      "\u001b[0;32m/tmp/ipykernel_197271/2588713140.py\u001b[0m in \u001b[0;36m<module>\u001b[0;34m\u001b[0m\n\u001b[1;32m      8\u001b[0m \u001b[0;34m\u001b[0m\u001b[0m\n\u001b[1;32m      9\u001b[0m \u001b[0;31m# fitting the model for grid search\u001b[0m\u001b[0;34m\u001b[0m\u001b[0;34m\u001b[0m\u001b[0m\n\u001b[0;32m---> 10\u001b[0;31m \u001b[0msvm\u001b[0m \u001b[0;34m=\u001b[0m \u001b[0mSVM_grid\u001b[0m\u001b[0;34m.\u001b[0m\u001b[0mfit\u001b[0m\u001b[0;34m(\u001b[0m\u001b[0mX_train\u001b[0m\u001b[0;34m,\u001b[0m \u001b[0my_train\u001b[0m\u001b[0;34m)\u001b[0m\u001b[0;34m\u001b[0m\u001b[0;34m\u001b[0m\u001b[0m\n\u001b[0m\u001b[1;32m     11\u001b[0m \u001b[0;34m\u001b[0m\u001b[0m\n\u001b[1;32m     12\u001b[0m \u001b[0;31m# print best parameter after tuning and best accuracy\u001b[0m\u001b[0;34m\u001b[0m\u001b[0;34m\u001b[0m\u001b[0m\n",
      "\u001b[0;32m~/anaconda3/lib/python3.9/site-packages/sklearn/model_selection/_search.py\u001b[0m in \u001b[0;36mfit\u001b[0;34m(self, X, y, groups, **fit_params)\u001b[0m\n\u001b[1;32m    889\u001b[0m                 \u001b[0;32mreturn\u001b[0m \u001b[0mresults\u001b[0m\u001b[0;34m\u001b[0m\u001b[0;34m\u001b[0m\u001b[0m\n\u001b[1;32m    890\u001b[0m \u001b[0;34m\u001b[0m\u001b[0m\n\u001b[0;32m--> 891\u001b[0;31m             \u001b[0mself\u001b[0m\u001b[0;34m.\u001b[0m\u001b[0m_run_search\u001b[0m\u001b[0;34m(\u001b[0m\u001b[0mevaluate_candidates\u001b[0m\u001b[0;34m)\u001b[0m\u001b[0;34m\u001b[0m\u001b[0;34m\u001b[0m\u001b[0m\n\u001b[0m\u001b[1;32m    892\u001b[0m \u001b[0;34m\u001b[0m\u001b[0m\n\u001b[1;32m    893\u001b[0m             \u001b[0;31m# multimetric is determined here because in the case of a callable\u001b[0m\u001b[0;34m\u001b[0m\u001b[0;34m\u001b[0m\u001b[0m\n",
      "\u001b[0;32m~/anaconda3/lib/python3.9/site-packages/sklearn/model_selection/_search.py\u001b[0m in \u001b[0;36m_run_search\u001b[0;34m(self, evaluate_candidates)\u001b[0m\n\u001b[1;32m   1390\u001b[0m     \u001b[0;32mdef\u001b[0m \u001b[0m_run_search\u001b[0m\u001b[0;34m(\u001b[0m\u001b[0mself\u001b[0m\u001b[0;34m,\u001b[0m \u001b[0mevaluate_candidates\u001b[0m\u001b[0;34m)\u001b[0m\u001b[0;34m:\u001b[0m\u001b[0;34m\u001b[0m\u001b[0;34m\u001b[0m\u001b[0m\n\u001b[1;32m   1391\u001b[0m         \u001b[0;34m\"\"\"Search all candidates in param_grid\"\"\"\u001b[0m\u001b[0;34m\u001b[0m\u001b[0;34m\u001b[0m\u001b[0m\n\u001b[0;32m-> 1392\u001b[0;31m         \u001b[0mevaluate_candidates\u001b[0m\u001b[0;34m(\u001b[0m\u001b[0mParameterGrid\u001b[0m\u001b[0;34m(\u001b[0m\u001b[0mself\u001b[0m\u001b[0;34m.\u001b[0m\u001b[0mparam_grid\u001b[0m\u001b[0;34m)\u001b[0m\u001b[0;34m)\u001b[0m\u001b[0;34m\u001b[0m\u001b[0;34m\u001b[0m\u001b[0m\n\u001b[0m\u001b[1;32m   1393\u001b[0m \u001b[0;34m\u001b[0m\u001b[0m\n\u001b[1;32m   1394\u001b[0m \u001b[0;34m\u001b[0m\u001b[0m\n",
      "\u001b[0;32m~/anaconda3/lib/python3.9/site-packages/sklearn/model_selection/_search.py\u001b[0m in \u001b[0;36mevaluate_candidates\u001b[0;34m(candidate_params, cv, more_results)\u001b[0m\n\u001b[1;32m    836\u001b[0m                     )\n\u001b[1;32m    837\u001b[0m \u001b[0;34m\u001b[0m\u001b[0m\n\u001b[0;32m--> 838\u001b[0;31m                 out = parallel(\n\u001b[0m\u001b[1;32m    839\u001b[0m                     delayed(_fit_and_score)(\n\u001b[1;32m    840\u001b[0m                         \u001b[0mclone\u001b[0m\u001b[0;34m(\u001b[0m\u001b[0mbase_estimator\u001b[0m\u001b[0;34m)\u001b[0m\u001b[0;34m,\u001b[0m\u001b[0;34m\u001b[0m\u001b[0;34m\u001b[0m\u001b[0m\n",
      "\u001b[0;32m~/anaconda3/lib/python3.9/site-packages/joblib/parallel.py\u001b[0m in \u001b[0;36m__call__\u001b[0;34m(self, iterable)\u001b[0m\n\u001b[1;32m   1054\u001b[0m \u001b[0;34m\u001b[0m\u001b[0m\n\u001b[1;32m   1055\u001b[0m             \u001b[0;32mwith\u001b[0m \u001b[0mself\u001b[0m\u001b[0;34m.\u001b[0m\u001b[0m_backend\u001b[0m\u001b[0;34m.\u001b[0m\u001b[0mretrieval_context\u001b[0m\u001b[0;34m(\u001b[0m\u001b[0;34m)\u001b[0m\u001b[0;34m:\u001b[0m\u001b[0;34m\u001b[0m\u001b[0;34m\u001b[0m\u001b[0m\n\u001b[0;32m-> 1056\u001b[0;31m                 \u001b[0mself\u001b[0m\u001b[0;34m.\u001b[0m\u001b[0mretrieve\u001b[0m\u001b[0;34m(\u001b[0m\u001b[0;34m)\u001b[0m\u001b[0;34m\u001b[0m\u001b[0;34m\u001b[0m\u001b[0m\n\u001b[0m\u001b[1;32m   1057\u001b[0m             \u001b[0;31m# Make sure that we get a last message telling us we are done\u001b[0m\u001b[0;34m\u001b[0m\u001b[0;34m\u001b[0m\u001b[0m\n\u001b[1;32m   1058\u001b[0m             \u001b[0melapsed_time\u001b[0m \u001b[0;34m=\u001b[0m \u001b[0mtime\u001b[0m\u001b[0;34m.\u001b[0m\u001b[0mtime\u001b[0m\u001b[0;34m(\u001b[0m\u001b[0;34m)\u001b[0m \u001b[0;34m-\u001b[0m \u001b[0mself\u001b[0m\u001b[0;34m.\u001b[0m\u001b[0m_start_time\u001b[0m\u001b[0;34m\u001b[0m\u001b[0;34m\u001b[0m\u001b[0m\n",
      "\u001b[0;32m~/anaconda3/lib/python3.9/site-packages/joblib/parallel.py\u001b[0m in \u001b[0;36mretrieve\u001b[0;34m(self)\u001b[0m\n\u001b[1;32m    933\u001b[0m             \u001b[0;32mtry\u001b[0m\u001b[0;34m:\u001b[0m\u001b[0;34m\u001b[0m\u001b[0;34m\u001b[0m\u001b[0m\n\u001b[1;32m    934\u001b[0m                 \u001b[0;32mif\u001b[0m \u001b[0mgetattr\u001b[0m\u001b[0;34m(\u001b[0m\u001b[0mself\u001b[0m\u001b[0;34m.\u001b[0m\u001b[0m_backend\u001b[0m\u001b[0;34m,\u001b[0m \u001b[0;34m'supports_timeout'\u001b[0m\u001b[0;34m,\u001b[0m \u001b[0;32mFalse\u001b[0m\u001b[0;34m)\u001b[0m\u001b[0;34m:\u001b[0m\u001b[0;34m\u001b[0m\u001b[0;34m\u001b[0m\u001b[0m\n\u001b[0;32m--> 935\u001b[0;31m                     \u001b[0mself\u001b[0m\u001b[0;34m.\u001b[0m\u001b[0m_output\u001b[0m\u001b[0;34m.\u001b[0m\u001b[0mextend\u001b[0m\u001b[0;34m(\u001b[0m\u001b[0mjob\u001b[0m\u001b[0;34m.\u001b[0m\u001b[0mget\u001b[0m\u001b[0;34m(\u001b[0m\u001b[0mtimeout\u001b[0m\u001b[0;34m=\u001b[0m\u001b[0mself\u001b[0m\u001b[0;34m.\u001b[0m\u001b[0mtimeout\u001b[0m\u001b[0;34m)\u001b[0m\u001b[0;34m)\u001b[0m\u001b[0;34m\u001b[0m\u001b[0;34m\u001b[0m\u001b[0m\n\u001b[0m\u001b[1;32m    936\u001b[0m                 \u001b[0;32melse\u001b[0m\u001b[0;34m:\u001b[0m\u001b[0;34m\u001b[0m\u001b[0;34m\u001b[0m\u001b[0m\n\u001b[1;32m    937\u001b[0m                     \u001b[0mself\u001b[0m\u001b[0;34m.\u001b[0m\u001b[0m_output\u001b[0m\u001b[0;34m.\u001b[0m\u001b[0mextend\u001b[0m\u001b[0;34m(\u001b[0m\u001b[0mjob\u001b[0m\u001b[0;34m.\u001b[0m\u001b[0mget\u001b[0m\u001b[0;34m(\u001b[0m\u001b[0;34m)\u001b[0m\u001b[0;34m)\u001b[0m\u001b[0;34m\u001b[0m\u001b[0;34m\u001b[0m\u001b[0m\n",
      "\u001b[0;32m~/anaconda3/lib/python3.9/site-packages/joblib/_parallel_backends.py\u001b[0m in \u001b[0;36mwrap_future_result\u001b[0;34m(future, timeout)\u001b[0m\n\u001b[1;32m    540\u001b[0m         AsyncResults.get from multiprocessing.\"\"\"\n\u001b[1;32m    541\u001b[0m         \u001b[0;32mtry\u001b[0m\u001b[0;34m:\u001b[0m\u001b[0;34m\u001b[0m\u001b[0;34m\u001b[0m\u001b[0m\n\u001b[0;32m--> 542\u001b[0;31m             \u001b[0;32mreturn\u001b[0m \u001b[0mfuture\u001b[0m\u001b[0;34m.\u001b[0m\u001b[0mresult\u001b[0m\u001b[0;34m(\u001b[0m\u001b[0mtimeout\u001b[0m\u001b[0;34m=\u001b[0m\u001b[0mtimeout\u001b[0m\u001b[0;34m)\u001b[0m\u001b[0;34m\u001b[0m\u001b[0;34m\u001b[0m\u001b[0m\n\u001b[0m\u001b[1;32m    543\u001b[0m         \u001b[0;32mexcept\u001b[0m \u001b[0mCfTimeoutError\u001b[0m \u001b[0;32mas\u001b[0m \u001b[0me\u001b[0m\u001b[0;34m:\u001b[0m\u001b[0;34m\u001b[0m\u001b[0;34m\u001b[0m\u001b[0m\n\u001b[1;32m    544\u001b[0m             \u001b[0;32mraise\u001b[0m \u001b[0mTimeoutError\u001b[0m \u001b[0;32mfrom\u001b[0m \u001b[0me\u001b[0m\u001b[0;34m\u001b[0m\u001b[0;34m\u001b[0m\u001b[0m\n",
      "\u001b[0;32m~/anaconda3/lib/python3.9/concurrent/futures/_base.py\u001b[0m in \u001b[0;36mresult\u001b[0;34m(self, timeout)\u001b[0m\n\u001b[1;32m    438\u001b[0m                     \u001b[0;32mreturn\u001b[0m \u001b[0mself\u001b[0m\u001b[0;34m.\u001b[0m\u001b[0m__get_result\u001b[0m\u001b[0;34m(\u001b[0m\u001b[0;34m)\u001b[0m\u001b[0;34m\u001b[0m\u001b[0;34m\u001b[0m\u001b[0m\n\u001b[1;32m    439\u001b[0m \u001b[0;34m\u001b[0m\u001b[0m\n\u001b[0;32m--> 440\u001b[0;31m                 \u001b[0mself\u001b[0m\u001b[0;34m.\u001b[0m\u001b[0m_condition\u001b[0m\u001b[0;34m.\u001b[0m\u001b[0mwait\u001b[0m\u001b[0;34m(\u001b[0m\u001b[0mtimeout\u001b[0m\u001b[0;34m)\u001b[0m\u001b[0;34m\u001b[0m\u001b[0;34m\u001b[0m\u001b[0m\n\u001b[0m\u001b[1;32m    441\u001b[0m \u001b[0;34m\u001b[0m\u001b[0m\n\u001b[1;32m    442\u001b[0m                 \u001b[0;32mif\u001b[0m \u001b[0mself\u001b[0m\u001b[0;34m.\u001b[0m\u001b[0m_state\u001b[0m \u001b[0;32min\u001b[0m \u001b[0;34m[\u001b[0m\u001b[0mCANCELLED\u001b[0m\u001b[0;34m,\u001b[0m \u001b[0mCANCELLED_AND_NOTIFIED\u001b[0m\u001b[0;34m]\u001b[0m\u001b[0;34m:\u001b[0m\u001b[0;34m\u001b[0m\u001b[0;34m\u001b[0m\u001b[0m\n",
      "\u001b[0;32m~/anaconda3/lib/python3.9/threading.py\u001b[0m in \u001b[0;36mwait\u001b[0;34m(self, timeout)\u001b[0m\n\u001b[1;32m    310\u001b[0m         \u001b[0;32mtry\u001b[0m\u001b[0;34m:\u001b[0m    \u001b[0;31m# restore state no matter what (e.g., KeyboardInterrupt)\u001b[0m\u001b[0;34m\u001b[0m\u001b[0;34m\u001b[0m\u001b[0m\n\u001b[1;32m    311\u001b[0m             \u001b[0;32mif\u001b[0m \u001b[0mtimeout\u001b[0m \u001b[0;32mis\u001b[0m \u001b[0;32mNone\u001b[0m\u001b[0;34m:\u001b[0m\u001b[0;34m\u001b[0m\u001b[0;34m\u001b[0m\u001b[0m\n\u001b[0;32m--> 312\u001b[0;31m                 \u001b[0mwaiter\u001b[0m\u001b[0;34m.\u001b[0m\u001b[0macquire\u001b[0m\u001b[0;34m(\u001b[0m\u001b[0;34m)\u001b[0m\u001b[0;34m\u001b[0m\u001b[0;34m\u001b[0m\u001b[0m\n\u001b[0m\u001b[1;32m    313\u001b[0m                 \u001b[0mgotit\u001b[0m \u001b[0;34m=\u001b[0m \u001b[0;32mTrue\u001b[0m\u001b[0;34m\u001b[0m\u001b[0;34m\u001b[0m\u001b[0m\n\u001b[1;32m    314\u001b[0m             \u001b[0;32melse\u001b[0m\u001b[0;34m:\u001b[0m\u001b[0;34m\u001b[0m\u001b[0;34m\u001b[0m\u001b[0m\n",
      "\u001b[0;31mKeyboardInterrupt\u001b[0m: "
     ]
    }
   ],
   "source": [
    "from sklearn.svm import SVC\n",
    "# # Use the random grid to search for best hyperparameters\n",
    "param_grid = {'C': [0.1, 1, 10, 100, 1000], \n",
    "              'gamma': [1, 0.1, 0.01, 0.001, 0.0001],\n",
    "              'kernel': ['rbf', 'poly', 'sigmoid']} \n",
    "  \n",
    "SVM_grid = GridSearchCV(SVC(random_state=42), param_grid, refit = True, n_jobs = -1)\n",
    "  \n",
    "# fitting the model for grid search\n",
    "svm = SVM_grid.fit(X_train, y_train)\n",
    "\n",
    "# print best parameter after tuning and best accuracy\n",
    "svm.best_params_, svm.best_score_"
   ]
  },
  {
   "cell_type": "code",
   "execution_count": null,
   "metadata": {},
   "outputs": [],
   "source": [
    "# Using the best model to predict classes on the test set\n",
    "y_pred_svm = svm.predict(X_test)\n",
    "cr_svm = classification_report(y_test, y_pred_svm)\n",
    "# print classification report\n",
    "print(cr_svm)"
   ]
  },
  {
   "cell_type": "markdown",
   "metadata": {},
   "source": [
    "QSOs(class2) and stars(class1) have a better precision than galaxies(class3). Galaxies do metter in recall than the other two classes with stars at lowest recall value. Stars and QSOs have a better f1 score than galaxies. Overall test accuracy is 0.86 which is less than the accuracy of Random Forest and Gradient Boosting."
   ]
  },
  {
   "cell_type": "code",
   "execution_count": null,
   "metadata": {},
   "outputs": [],
   "source": [
    "# Create confusion matrix\n",
    "svm_cm = confusion_matrix(y_test, y_pred_svm)\n",
    "# Create display for confusion matrix\n",
    "disp = ConfusionMatrixDisplay(confusion_matrix=svm_cm,\n",
    "                              display_labels=svm.classes_)\n",
    "#Plot confusion Matrix\n",
    "disp.plot(cmap='magma')\n",
    "plt.show()"
   ]
  },
  {
   "cell_type": "markdown",
   "metadata": {},
   "source": [
    "In the true positives values, class 3 (galaxy) has the highest number and class 1 (stars) has the lowest numbers. Class 1 (stars)d class 2 are more often misclassified as class 3."
   ]
  },
  {
   "cell_type": "markdown",
   "metadata": {},
   "source": [
    "## Testing with Colours\n",
    "\n",
    "In this section, I check whether adding colours to the data set improves the accuracy of the models. I will use the best two models of the previous section (Random Forest and Gradient Boosting) to classify stellar object with their magnitues and their colours.\n",
    "\n",
    "### Random Forest"
   ]
  },
  {
   "cell_type": "code",
   "execution_count": 35,
   "metadata": {},
   "outputs": [
    {
     "ename": "KeyboardInterrupt",
     "evalue": "",
     "output_type": "error",
     "traceback": [
      "\u001b[0;31m---------------------------------------------------------------------------\u001b[0m",
      "\u001b[0;31mKeyboardInterrupt\u001b[0m                         Traceback (most recent call last)",
      "\u001b[0;32m/tmp/ipykernel_197271/3850030239.py\u001b[0m in \u001b[0;36m<module>\u001b[0;34m\u001b[0m\n\u001b[1;32m      1\u001b[0m \u001b[0;31m# Running the model defined in the section before for Random Forest but on the dataset with added colours\u001b[0m\u001b[0;34m\u001b[0m\u001b[0;34m\u001b[0m\u001b[0m\n\u001b[0;32m----> 2\u001b[0;31m \u001b[0mrf_colour\u001b[0m \u001b[0;34m=\u001b[0m \u001b[0mrf_random\u001b[0m\u001b[0;34m.\u001b[0m\u001b[0mfit\u001b[0m\u001b[0;34m(\u001b[0m\u001b[0mX_train_c\u001b[0m\u001b[0;34m,\u001b[0m \u001b[0my_train\u001b[0m\u001b[0;34m)\u001b[0m\u001b[0;34m\u001b[0m\u001b[0;34m\u001b[0m\u001b[0m\n\u001b[0m\u001b[1;32m      3\u001b[0m \u001b[0;31m# Printing best parametes and best accuracy\u001b[0m\u001b[0;34m\u001b[0m\u001b[0;34m\u001b[0m\u001b[0m\n\u001b[1;32m      4\u001b[0m \u001b[0mrf_colour\u001b[0m\u001b[0;34m.\u001b[0m\u001b[0mbest_params_\u001b[0m\u001b[0;34m,\u001b[0m\u001b[0mrf_colour\u001b[0m\u001b[0;34m.\u001b[0m\u001b[0mbest_score_\u001b[0m\u001b[0;34m\u001b[0m\u001b[0;34m\u001b[0m\u001b[0m\n",
      "\u001b[0;32m~/anaconda3/lib/python3.9/site-packages/sklearn/model_selection/_search.py\u001b[0m in \u001b[0;36mfit\u001b[0;34m(self, X, y, groups, **fit_params)\u001b[0m\n\u001b[1;32m    889\u001b[0m                 \u001b[0;32mreturn\u001b[0m \u001b[0mresults\u001b[0m\u001b[0;34m\u001b[0m\u001b[0;34m\u001b[0m\u001b[0m\n\u001b[1;32m    890\u001b[0m \u001b[0;34m\u001b[0m\u001b[0m\n\u001b[0;32m--> 891\u001b[0;31m             \u001b[0mself\u001b[0m\u001b[0;34m.\u001b[0m\u001b[0m_run_search\u001b[0m\u001b[0;34m(\u001b[0m\u001b[0mevaluate_candidates\u001b[0m\u001b[0;34m)\u001b[0m\u001b[0;34m\u001b[0m\u001b[0;34m\u001b[0m\u001b[0m\n\u001b[0m\u001b[1;32m    892\u001b[0m \u001b[0;34m\u001b[0m\u001b[0m\n\u001b[1;32m    893\u001b[0m             \u001b[0;31m# multimetric is determined here because in the case of a callable\u001b[0m\u001b[0;34m\u001b[0m\u001b[0;34m\u001b[0m\u001b[0m\n",
      "\u001b[0;32m~/anaconda3/lib/python3.9/site-packages/sklearn/model_selection/_search.py\u001b[0m in \u001b[0;36m_run_search\u001b[0;34m(self, evaluate_candidates)\u001b[0m\n\u001b[1;32m   1764\u001b[0m     \u001b[0;32mdef\u001b[0m \u001b[0m_run_search\u001b[0m\u001b[0;34m(\u001b[0m\u001b[0mself\u001b[0m\u001b[0;34m,\u001b[0m \u001b[0mevaluate_candidates\u001b[0m\u001b[0;34m)\u001b[0m\u001b[0;34m:\u001b[0m\u001b[0;34m\u001b[0m\u001b[0;34m\u001b[0m\u001b[0m\n\u001b[1;32m   1765\u001b[0m         \u001b[0;34m\"\"\"Search n_iter candidates from param_distributions\"\"\"\u001b[0m\u001b[0;34m\u001b[0m\u001b[0;34m\u001b[0m\u001b[0m\n\u001b[0;32m-> 1766\u001b[0;31m         evaluate_candidates(\n\u001b[0m\u001b[1;32m   1767\u001b[0m             ParameterSampler(\n\u001b[1;32m   1768\u001b[0m                 \u001b[0mself\u001b[0m\u001b[0;34m.\u001b[0m\u001b[0mparam_distributions\u001b[0m\u001b[0;34m,\u001b[0m \u001b[0mself\u001b[0m\u001b[0;34m.\u001b[0m\u001b[0mn_iter\u001b[0m\u001b[0;34m,\u001b[0m \u001b[0mrandom_state\u001b[0m\u001b[0;34m=\u001b[0m\u001b[0mself\u001b[0m\u001b[0;34m.\u001b[0m\u001b[0mrandom_state\u001b[0m\u001b[0;34m\u001b[0m\u001b[0;34m\u001b[0m\u001b[0m\n",
      "\u001b[0;32m~/anaconda3/lib/python3.9/site-packages/sklearn/model_selection/_search.py\u001b[0m in \u001b[0;36mevaluate_candidates\u001b[0;34m(candidate_params, cv, more_results)\u001b[0m\n\u001b[1;32m    836\u001b[0m                     )\n\u001b[1;32m    837\u001b[0m \u001b[0;34m\u001b[0m\u001b[0m\n\u001b[0;32m--> 838\u001b[0;31m                 out = parallel(\n\u001b[0m\u001b[1;32m    839\u001b[0m                     delayed(_fit_and_score)(\n\u001b[1;32m    840\u001b[0m                         \u001b[0mclone\u001b[0m\u001b[0;34m(\u001b[0m\u001b[0mbase_estimator\u001b[0m\u001b[0;34m)\u001b[0m\u001b[0;34m,\u001b[0m\u001b[0;34m\u001b[0m\u001b[0;34m\u001b[0m\u001b[0m\n",
      "\u001b[0;32m~/anaconda3/lib/python3.9/site-packages/joblib/parallel.py\u001b[0m in \u001b[0;36m__call__\u001b[0;34m(self, iterable)\u001b[0m\n\u001b[1;32m   1054\u001b[0m \u001b[0;34m\u001b[0m\u001b[0m\n\u001b[1;32m   1055\u001b[0m             \u001b[0;32mwith\u001b[0m \u001b[0mself\u001b[0m\u001b[0;34m.\u001b[0m\u001b[0m_backend\u001b[0m\u001b[0;34m.\u001b[0m\u001b[0mretrieval_context\u001b[0m\u001b[0;34m(\u001b[0m\u001b[0;34m)\u001b[0m\u001b[0;34m:\u001b[0m\u001b[0;34m\u001b[0m\u001b[0;34m\u001b[0m\u001b[0m\n\u001b[0;32m-> 1056\u001b[0;31m                 \u001b[0mself\u001b[0m\u001b[0;34m.\u001b[0m\u001b[0mretrieve\u001b[0m\u001b[0;34m(\u001b[0m\u001b[0;34m)\u001b[0m\u001b[0;34m\u001b[0m\u001b[0;34m\u001b[0m\u001b[0m\n\u001b[0m\u001b[1;32m   1057\u001b[0m             \u001b[0;31m# Make sure that we get a last message telling us we are done\u001b[0m\u001b[0;34m\u001b[0m\u001b[0;34m\u001b[0m\u001b[0m\n\u001b[1;32m   1058\u001b[0m             \u001b[0melapsed_time\u001b[0m \u001b[0;34m=\u001b[0m \u001b[0mtime\u001b[0m\u001b[0;34m.\u001b[0m\u001b[0mtime\u001b[0m\u001b[0;34m(\u001b[0m\u001b[0;34m)\u001b[0m \u001b[0;34m-\u001b[0m \u001b[0mself\u001b[0m\u001b[0;34m.\u001b[0m\u001b[0m_start_time\u001b[0m\u001b[0;34m\u001b[0m\u001b[0;34m\u001b[0m\u001b[0m\n",
      "\u001b[0;32m~/anaconda3/lib/python3.9/site-packages/joblib/parallel.py\u001b[0m in \u001b[0;36mretrieve\u001b[0;34m(self)\u001b[0m\n\u001b[1;32m    933\u001b[0m             \u001b[0;32mtry\u001b[0m\u001b[0;34m:\u001b[0m\u001b[0;34m\u001b[0m\u001b[0;34m\u001b[0m\u001b[0m\n\u001b[1;32m    934\u001b[0m                 \u001b[0;32mif\u001b[0m \u001b[0mgetattr\u001b[0m\u001b[0;34m(\u001b[0m\u001b[0mself\u001b[0m\u001b[0;34m.\u001b[0m\u001b[0m_backend\u001b[0m\u001b[0;34m,\u001b[0m \u001b[0;34m'supports_timeout'\u001b[0m\u001b[0;34m,\u001b[0m \u001b[0;32mFalse\u001b[0m\u001b[0;34m)\u001b[0m\u001b[0;34m:\u001b[0m\u001b[0;34m\u001b[0m\u001b[0;34m\u001b[0m\u001b[0m\n\u001b[0;32m--> 935\u001b[0;31m                     \u001b[0mself\u001b[0m\u001b[0;34m.\u001b[0m\u001b[0m_output\u001b[0m\u001b[0;34m.\u001b[0m\u001b[0mextend\u001b[0m\u001b[0;34m(\u001b[0m\u001b[0mjob\u001b[0m\u001b[0;34m.\u001b[0m\u001b[0mget\u001b[0m\u001b[0;34m(\u001b[0m\u001b[0mtimeout\u001b[0m\u001b[0;34m=\u001b[0m\u001b[0mself\u001b[0m\u001b[0;34m.\u001b[0m\u001b[0mtimeout\u001b[0m\u001b[0;34m)\u001b[0m\u001b[0;34m)\u001b[0m\u001b[0;34m\u001b[0m\u001b[0;34m\u001b[0m\u001b[0m\n\u001b[0m\u001b[1;32m    936\u001b[0m                 \u001b[0;32melse\u001b[0m\u001b[0;34m:\u001b[0m\u001b[0;34m\u001b[0m\u001b[0;34m\u001b[0m\u001b[0m\n\u001b[1;32m    937\u001b[0m                     \u001b[0mself\u001b[0m\u001b[0;34m.\u001b[0m\u001b[0m_output\u001b[0m\u001b[0;34m.\u001b[0m\u001b[0mextend\u001b[0m\u001b[0;34m(\u001b[0m\u001b[0mjob\u001b[0m\u001b[0;34m.\u001b[0m\u001b[0mget\u001b[0m\u001b[0;34m(\u001b[0m\u001b[0;34m)\u001b[0m\u001b[0;34m)\u001b[0m\u001b[0;34m\u001b[0m\u001b[0;34m\u001b[0m\u001b[0m\n",
      "\u001b[0;32m~/anaconda3/lib/python3.9/site-packages/joblib/_parallel_backends.py\u001b[0m in \u001b[0;36mwrap_future_result\u001b[0;34m(future, timeout)\u001b[0m\n\u001b[1;32m    540\u001b[0m         AsyncResults.get from multiprocessing.\"\"\"\n\u001b[1;32m    541\u001b[0m         \u001b[0;32mtry\u001b[0m\u001b[0;34m:\u001b[0m\u001b[0;34m\u001b[0m\u001b[0;34m\u001b[0m\u001b[0m\n\u001b[0;32m--> 542\u001b[0;31m             \u001b[0;32mreturn\u001b[0m \u001b[0mfuture\u001b[0m\u001b[0;34m.\u001b[0m\u001b[0mresult\u001b[0m\u001b[0;34m(\u001b[0m\u001b[0mtimeout\u001b[0m\u001b[0;34m=\u001b[0m\u001b[0mtimeout\u001b[0m\u001b[0;34m)\u001b[0m\u001b[0;34m\u001b[0m\u001b[0;34m\u001b[0m\u001b[0m\n\u001b[0m\u001b[1;32m    543\u001b[0m         \u001b[0;32mexcept\u001b[0m \u001b[0mCfTimeoutError\u001b[0m \u001b[0;32mas\u001b[0m \u001b[0me\u001b[0m\u001b[0;34m:\u001b[0m\u001b[0;34m\u001b[0m\u001b[0;34m\u001b[0m\u001b[0m\n\u001b[1;32m    544\u001b[0m             \u001b[0;32mraise\u001b[0m \u001b[0mTimeoutError\u001b[0m \u001b[0;32mfrom\u001b[0m \u001b[0me\u001b[0m\u001b[0;34m\u001b[0m\u001b[0;34m\u001b[0m\u001b[0m\n",
      "\u001b[0;32m~/anaconda3/lib/python3.9/concurrent/futures/_base.py\u001b[0m in \u001b[0;36mresult\u001b[0;34m(self, timeout)\u001b[0m\n\u001b[1;32m    438\u001b[0m                     \u001b[0;32mreturn\u001b[0m \u001b[0mself\u001b[0m\u001b[0;34m.\u001b[0m\u001b[0m__get_result\u001b[0m\u001b[0;34m(\u001b[0m\u001b[0;34m)\u001b[0m\u001b[0;34m\u001b[0m\u001b[0;34m\u001b[0m\u001b[0m\n\u001b[1;32m    439\u001b[0m \u001b[0;34m\u001b[0m\u001b[0m\n\u001b[0;32m--> 440\u001b[0;31m                 \u001b[0mself\u001b[0m\u001b[0;34m.\u001b[0m\u001b[0m_condition\u001b[0m\u001b[0;34m.\u001b[0m\u001b[0mwait\u001b[0m\u001b[0;34m(\u001b[0m\u001b[0mtimeout\u001b[0m\u001b[0;34m)\u001b[0m\u001b[0;34m\u001b[0m\u001b[0;34m\u001b[0m\u001b[0m\n\u001b[0m\u001b[1;32m    441\u001b[0m \u001b[0;34m\u001b[0m\u001b[0m\n\u001b[1;32m    442\u001b[0m                 \u001b[0;32mif\u001b[0m \u001b[0mself\u001b[0m\u001b[0;34m.\u001b[0m\u001b[0m_state\u001b[0m \u001b[0;32min\u001b[0m \u001b[0;34m[\u001b[0m\u001b[0mCANCELLED\u001b[0m\u001b[0;34m,\u001b[0m \u001b[0mCANCELLED_AND_NOTIFIED\u001b[0m\u001b[0;34m]\u001b[0m\u001b[0;34m:\u001b[0m\u001b[0;34m\u001b[0m\u001b[0;34m\u001b[0m\u001b[0m\n",
      "\u001b[0;32m~/anaconda3/lib/python3.9/threading.py\u001b[0m in \u001b[0;36mwait\u001b[0;34m(self, timeout)\u001b[0m\n\u001b[1;32m    310\u001b[0m         \u001b[0;32mtry\u001b[0m\u001b[0;34m:\u001b[0m    \u001b[0;31m# restore state no matter what (e.g., KeyboardInterrupt)\u001b[0m\u001b[0;34m\u001b[0m\u001b[0;34m\u001b[0m\u001b[0m\n\u001b[1;32m    311\u001b[0m             \u001b[0;32mif\u001b[0m \u001b[0mtimeout\u001b[0m \u001b[0;32mis\u001b[0m \u001b[0;32mNone\u001b[0m\u001b[0;34m:\u001b[0m\u001b[0;34m\u001b[0m\u001b[0;34m\u001b[0m\u001b[0m\n\u001b[0;32m--> 312\u001b[0;31m                 \u001b[0mwaiter\u001b[0m\u001b[0;34m.\u001b[0m\u001b[0macquire\u001b[0m\u001b[0;34m(\u001b[0m\u001b[0;34m)\u001b[0m\u001b[0;34m\u001b[0m\u001b[0;34m\u001b[0m\u001b[0m\n\u001b[0m\u001b[1;32m    313\u001b[0m                 \u001b[0mgotit\u001b[0m \u001b[0;34m=\u001b[0m \u001b[0;32mTrue\u001b[0m\u001b[0;34m\u001b[0m\u001b[0;34m\u001b[0m\u001b[0m\n\u001b[1;32m    314\u001b[0m             \u001b[0;32melse\u001b[0m\u001b[0;34m:\u001b[0m\u001b[0;34m\u001b[0m\u001b[0;34m\u001b[0m\u001b[0m\n",
      "\u001b[0;31mKeyboardInterrupt\u001b[0m: "
     ]
    }
   ],
   "source": [
    "# Running the model defined in the section before for Random Forest but on the dataset with added colours \n",
    "rf_colour = rf_random.fit(X_train_c, y_train)\n",
    "# Printing best parametes and best accuracy\n",
    "rf_colour.best_params_,rf_colour.best_score_"
   ]
  },
  {
   "cell_type": "code",
   "execution_count": null,
   "metadata": {
    "scrolled": true
   },
   "outputs": [],
   "source": [
    "#Predict y values (classes) using the model obtained.\n",
    "yc_pred_rf = rf_random.predict(X_test_c)\n",
    "#Check predicted values of the test data with the actual values\n",
    "cr_rf_c = classification_report(y_test, yc_pred_rf)\n",
    "print(cr_rf_c)"
   ]
  },
  {
   "cell_type": "markdown",
   "metadata": {},
   "source": [
    "QSOs have the best precision score and galaxies the lowest score. Trend that keeps on recal and f1 score. Stars have the same value of precision, recall and f1 score. QSOs have better precision than recall and galaxies have better recall than precision. The values of precision, recall and f1 score are very close together. Overall test accuracy is 0.93 which is an improvement (0.90) of the model without colours."
   ]
  },
  {
   "cell_type": "code",
   "execution_count": null,
   "metadata": {},
   "outputs": [],
   "source": [
    "# calculating the confusion matrix\n",
    "RF_cm_c = confusion_matrix(y_test, yc_pred_rf)\n",
    "# Create display for confusion matrix\n",
    "disp = ConfusionMatrixDisplay(confusion_matrix=RF_cm_c,\n",
    "                              display_labels=rf_random.classes_)\n",
    "#Plot confusion Matrix\n",
    "disp.plot(cmap='magma')\n",
    "plt.show()"
   ]
  },
  {
   "cell_type": "markdown",
   "metadata": {},
   "source": [
    "The highest value of true positive is 943 for the stars (class1) and the lowest value is for QSOs (class2). Stars and QSOs are mostly misclassified as galaxies(class3). And galaxies are mostly misclassified as stars.\n",
    "\n",
    "### Gradient Boosting"
   ]
  },
  {
   "cell_type": "code",
   "execution_count": null,
   "metadata": {},
   "outputs": [],
   "source": [
    "# Running the model defined in the section before for Gradient Boosting but on the dataset with added colours\n",
    "gbc_c = GBC_random.fit(X_train_c, y_train)\n",
    "# Printing best parametes and best accuracy\n",
    "gbc_c.best_params_ ,gbc_c.best_score_"
   ]
  },
  {
   "cell_type": "code",
   "execution_count": null,
   "metadata": {},
   "outputs": [],
   "source": [
    "#Predict y values (classes) using the model obtained.\n",
    "yc_pred_gbc = GBC_random.predict(X_test_c)\n",
    "#Check predicted values of the test data with the actual values\n",
    "cr_gbc_c = classification_report(y_test, yc_pred_gbc)\n",
    "print(cr_gbc_c)"
   ]
  },
  {
   "cell_type": "markdown",
   "metadata": {},
   "source": [
    "QSOs have the best precision score and galaxies the lowest score. Stars and galaxies have the same recall. Stars have the highest value of f1 score and galaxies the lowesr value. QSOs have better precision than recall and galaxies have better recall than precision. The values of precision, recall and f1 score are very close together. Overall test accuracy is 0.94 which is an improvement (0.90) of the model without colours."
   ]
  },
  {
   "cell_type": "code",
   "execution_count": null,
   "metadata": {
    "scrolled": true
   },
   "outputs": [],
   "source": [
    "# Plotting confusion matrix\n",
    "GBC_cm_c = confusion_matrix(y_test, yc_pred_gbc)\n",
    "# Create display for confusion matrix\n",
    "disp = ConfusionMatrixDisplay(confusion_matrix=GBC_cm_c,\n",
    "                              display_labels=rf_random.classes_)\n",
    "#Plot confusion Matrix\n",
    "disp.plot(cmap='magma')\n",
    "plt.show()"
   ]
  },
  {
   "cell_type": "markdown",
   "metadata": {},
   "source": [
    "Stars (class1) and Galaxies(class3) have the similar values of true positive. The lowest value of true positive is for QSOs (class2). Stars and QSOs are mostly misclassified as galaxies(class3). And galaxies are mostly misclassified as stars.\n",
    "\n",
    "## Comparing models\n",
    "### Classification Report\n",
    "#### Without colours"
   ]
  },
  {
   "cell_type": "code",
   "execution_count": null,
   "metadata": {},
   "outputs": [],
   "source": [
    "# Class to print it bold and with underline\n",
    "class bold:\n",
    "   BOLD = '\\033[1m'\n",
    "   UNDERLINE = '\\033[4m'\n",
    "   END = '\\033[0m'\n",
    "# Printing the classification reports for all models with the dataset without colour\n",
    "print(bold.BOLD + bold.UNDERLINE + \"Logistic Rgression\" + bold.END)\n",
    "print(cr)\n",
    "print(bold.BOLD + bold.UNDERLINE + \"Decision Tree\" + bold.END)\n",
    "print(cr_dt)\n",
    "print(bold.BOLD + bold.UNDERLINE + \"Random Forest\" + bold.END)\n",
    "print(cr_rf)\n",
    "print(bold.BOLD + bold.UNDERLINE + \"Gradient Boosting\" + bold.END)\n",
    "print(cr_gbc)\n",
    "print(bold.BOLD +bold.UNDERLINE + \"Support Vector Machine\" + bold.END)\n",
    "print(cr_svm)"
   ]
  },
  {
   "cell_type": "markdown",
   "metadata": {},
   "source": [
    "Looking only at the accuracies of the test set, Random Forest and Gradient Boosting have the highest value. In fact, they have same values of f1 score per class and accuracy. But even if they are the same, the precision values per class do generally better in the Random Forest model. The Logistic Regression performed the least well. \n",
    "\n",
    "#### With colours\n"
   ]
  },
  {
   "cell_type": "code",
   "execution_count": null,
   "metadata": {},
   "outputs": [],
   "source": [
    "# Printing the classification reports for all models with the dataset with colour\n",
    "\n",
    "print(bold.BOLD + bold.UNDERLINE + \"Random Forest\" + bold.END)\n",
    "print(cr_rf_c)\n",
    "print(bold.BOLD + bold.UNDERLINE + \"Gradient Boosting\" + bold.END)\n",
    "print(cr_gbc_c)"
   ]
  },
  {
   "cell_type": "markdown",
   "metadata": {},
   "source": [
    "The accuracy of the test set is roughly the same for both models (RF 0.93 and GBC 0.94). "
   ]
  }
 ],
 "metadata": {
  "kernelspec": {
   "display_name": "Python 3 (ipykernel)",
   "language": "python",
   "name": "python3"
  },
  "language_info": {
   "codemirror_mode": {
    "name": "ipython",
    "version": 3
   },
   "file_extension": ".py",
   "mimetype": "text/x-python",
   "name": "python",
   "nbconvert_exporter": "python",
   "pygments_lexer": "ipython3",
   "version": "3.9.7"
  }
 },
 "nbformat": 4,
 "nbformat_minor": 4
}
