{
 "cells": [
  {
   "cell_type": "markdown",
   "metadata": {},
   "source": [
    "# Determine redshift using machine learning"
   ]
  },
  {
   "cell_type": "markdown",
   "metadata": {},
   "source": [
    "First, what is redshift and why is it important? Redshift is the equivalent to the distance of stellar objects from us. It is measured using spectroscopy and measuring the redshift (shift of the spectra to the red side of the wavelength). This is important because it allow us to calculate the actual magnitudes of the stellar objects and we can do a lot of fun science with it. Spectra data is not up to par with  the vast optical data available so it is important to have good redshifts from photometry.\n",
    "\n",
    "The data was obtained using the skyserver from the Sloan Digital Sky Survey (SDSS) using the SQL query. In the SQL query, I specified for no missing values of the redshift or the five bands (u,g,r,i,z). Also the dered values were obtained to account for galactic extinction. There maybe a confusion between z the band and z the redshift but in this study the band will always be denoted with dered_z.\n",
    "\n",
    "To note that SDSS removed their photozRF table because it does poorly with the faint red galaxies targeted in  Baryon Oscillation Spectroscopic Survey (BOSS). \n"
   ]
  },
  {
   "cell_type": "code",
   "execution_count": 1,
   "metadata": {},
   "outputs": [],
   "source": [
    "import os\n",
    "import numpy as np\n",
    "import pandas as pd\n",
    "from pandas.plotting import table\n",
    "import seaborn as sns\n",
    "import matplotlib.pyplot as plt\n",
    "from scipy import stats\n",
    "sns.set()\n",
    "%matplotlib inline"
   ]
  },
  {
   "cell_type": "markdown",
   "metadata": {},
   "source": [
    "## Loading data and some EDA"
   ]
  },
  {
   "cell_type": "code",
   "execution_count": 39,
   "metadata": {},
   "outputs": [],
   "source": [
    "filepath= \"/home/veroastro/Documents/spectraTypes/data/\"\n",
    "star = pd.read_csv(filepath+\"STAR2_Skyserver_SQL2_12_2022 5_02_48 PM.csv\")\n",
    "QSO = pd.read_csv(filepath+\"QSO2Skyserver_SQL2_12_2022 5_03_49 PM.csv\")\n",
    "galaxy = pd.read_csv(filepath+\"GALAXY2Skyserver_SQL2_12_2022 5_03_24 PM.csv\")"
   ]
  },
  {
   "cell_type": "code",
   "execution_count": 40,
   "metadata": {},
   "outputs": [
    {
     "data": {
      "text/html": [
       "<div>\n",
       "<style scoped>\n",
       "    .dataframe tbody tr th:only-of-type {\n",
       "        vertical-align: middle;\n",
       "    }\n",
       "\n",
       "    .dataframe tbody tr th {\n",
       "        vertical-align: top;\n",
       "    }\n",
       "\n",
       "    .dataframe thead th {\n",
       "        text-align: right;\n",
       "    }\n",
       "</style>\n",
       "<table border=\"1\" class=\"dataframe\">\n",
       "  <thead>\n",
       "    <tr style=\"text-align: right;\">\n",
       "      <th></th>\n",
       "      <th>#objID</th>\n",
       "      <th>type</th>\n",
       "      <th>dered_u</th>\n",
       "      <th>err_u</th>\n",
       "      <th>dered_g</th>\n",
       "      <th>err_g</th>\n",
       "      <th>dered_r</th>\n",
       "      <th>err_r</th>\n",
       "      <th>dered_i</th>\n",
       "      <th>err_i</th>\n",
       "      <th>dered_z</th>\n",
       "      <th>err_z</th>\n",
       "      <th>specObjID</th>\n",
       "      <th>z</th>\n",
       "      <th>zErr</th>\n",
       "      <th>photoZ</th>\n",
       "      <th>photoErr</th>\n",
       "      <th>zWarning</th>\n",
       "      <th>class</th>\n",
       "      <th>subClass</th>\n",
       "    </tr>\n",
       "  </thead>\n",
       "  <tbody>\n",
       "    <tr>\n",
       "      <th>500</th>\n",
       "      <td>1237657586030018745</td>\n",
       "      <td>3</td>\n",
       "      <td>20.59360</td>\n",
       "      <td>0.112522</td>\n",
       "      <td>19.98190</td>\n",
       "      <td>0.027089</td>\n",
       "      <td>18.99284</td>\n",
       "      <td>0.015428</td>\n",
       "      <td>18.53046</td>\n",
       "      <td>0.013702</td>\n",
       "      <td>18.29675</td>\n",
       "      <td>0.038108</td>\n",
       "      <td>467280378701309952</td>\n",
       "      <td>0.431808</td>\n",
       "      <td>0.000026</td>\n",
       "      <td>0.282901</td>\n",
       "      <td>0.045386</td>\n",
       "      <td>0</td>\n",
       "      <td>QSO</td>\n",
       "      <td>BROADLINE</td>\n",
       "    </tr>\n",
       "    <tr>\n",
       "      <th>3893</th>\n",
       "      <td>1237648721763696841</td>\n",
       "      <td>3</td>\n",
       "      <td>18.62643</td>\n",
       "      <td>0.033906</td>\n",
       "      <td>17.45003</td>\n",
       "      <td>0.006801</td>\n",
       "      <td>16.92500</td>\n",
       "      <td>0.006500</td>\n",
       "      <td>16.57318</td>\n",
       "      <td>0.007134</td>\n",
       "      <td>16.35655</td>\n",
       "      <td>0.022468</td>\n",
       "      <td>315404008443373568</td>\n",
       "      <td>0.098046</td>\n",
       "      <td>0.000009</td>\n",
       "      <td>0.076147</td>\n",
       "      <td>0.018559</td>\n",
       "      <td>0</td>\n",
       "      <td>GALAXY</td>\n",
       "      <td>STARFORMING</td>\n",
       "    </tr>\n",
       "    <tr>\n",
       "      <th>1776</th>\n",
       "      <td>1237648721248124995</td>\n",
       "      <td>3</td>\n",
       "      <td>18.03189</td>\n",
       "      <td>0.018969</td>\n",
       "      <td>17.32984</td>\n",
       "      <td>0.005579</td>\n",
       "      <td>16.73076</td>\n",
       "      <td>0.004722</td>\n",
       "      <td>16.21448</td>\n",
       "      <td>0.004578</td>\n",
       "      <td>16.07244</td>\n",
       "      <td>0.011602</td>\n",
       "      <td>345696929033775104</td>\n",
       "      <td>0.103982</td>\n",
       "      <td>0.000030</td>\n",
       "      <td>0.163076</td>\n",
       "      <td>0.022613</td>\n",
       "      <td>0</td>\n",
       "      <td>QSO</td>\n",
       "      <td>BROADLINE</td>\n",
       "    </tr>\n",
       "    <tr>\n",
       "      <th>2392</th>\n",
       "      <td>1237651249891770406</td>\n",
       "      <td>3</td>\n",
       "      <td>18.92365</td>\n",
       "      <td>0.021992</td>\n",
       "      <td>18.29976</td>\n",
       "      <td>0.007196</td>\n",
       "      <td>17.68876</td>\n",
       "      <td>0.006008</td>\n",
       "      <td>17.40119</td>\n",
       "      <td>0.006040</td>\n",
       "      <td>17.39283</td>\n",
       "      <td>0.015094</td>\n",
       "      <td>678943791721244672</td>\n",
       "      <td>0.220110</td>\n",
       "      <td>0.000020</td>\n",
       "      <td>0.165601</td>\n",
       "      <td>0.036602</td>\n",
       "      <td>0</td>\n",
       "      <td>QSO</td>\n",
       "      <td>STARBURST BROADLINE</td>\n",
       "    </tr>\n",
       "    <tr>\n",
       "      <th>2894</th>\n",
       "      <td>1237652943695118702</td>\n",
       "      <td>3</td>\n",
       "      <td>21.95921</td>\n",
       "      <td>0.321774</td>\n",
       "      <td>18.99754</td>\n",
       "      <td>0.012317</td>\n",
       "      <td>17.75935</td>\n",
       "      <td>0.007091</td>\n",
       "      <td>17.23055</td>\n",
       "      <td>0.006586</td>\n",
       "      <td>16.90502</td>\n",
       "      <td>0.015856</td>\n",
       "      <td>820933630732822528</td>\n",
       "      <td>-0.000056</td>\n",
       "      <td>0.000009</td>\n",
       "      <td>0.193444</td>\n",
       "      <td>0.016763</td>\n",
       "      <td>0</td>\n",
       "      <td>STAR</td>\n",
       "      <td>K7</td>\n",
       "    </tr>\n",
       "  </tbody>\n",
       "</table>\n",
       "</div>"
      ],
      "text/plain": [
       "                   #objID  type   dered_u     err_u   dered_g     err_g  \\\n",
       "500   1237657586030018745     3  20.59360  0.112522  19.98190  0.027089   \n",
       "3893  1237648721763696841     3  18.62643  0.033906  17.45003  0.006801   \n",
       "1776  1237648721248124995     3  18.03189  0.018969  17.32984  0.005579   \n",
       "2392  1237651249891770406     3  18.92365  0.021992  18.29976  0.007196   \n",
       "2894  1237652943695118702     3  21.95921  0.321774  18.99754  0.012317   \n",
       "\n",
       "       dered_r     err_r   dered_i     err_i   dered_z     err_z  \\\n",
       "500   18.99284  0.015428  18.53046  0.013702  18.29675  0.038108   \n",
       "3893  16.92500  0.006500  16.57318  0.007134  16.35655  0.022468   \n",
       "1776  16.73076  0.004722  16.21448  0.004578  16.07244  0.011602   \n",
       "2392  17.68876  0.006008  17.40119  0.006040  17.39283  0.015094   \n",
       "2894  17.75935  0.007091  17.23055  0.006586  16.90502  0.015856   \n",
       "\n",
       "               specObjID         z      zErr    photoZ  photoErr  zWarning  \\\n",
       "500   467280378701309952  0.431808  0.000026  0.282901  0.045386         0   \n",
       "3893  315404008443373568  0.098046  0.000009  0.076147  0.018559         0   \n",
       "1776  345696929033775104  0.103982  0.000030  0.163076  0.022613         0   \n",
       "2392  678943791721244672  0.220110  0.000020  0.165601  0.036602         0   \n",
       "2894  820933630732822528 -0.000056  0.000009  0.193444  0.016763         0   \n",
       "\n",
       "       class             subClass  \n",
       "500      QSO            BROADLINE  \n",
       "3893  GALAXY          STARFORMING  \n",
       "1776     QSO            BROADLINE  \n",
       "2392     QSO  STARBURST BROADLINE  \n",
       "2894    STAR                   K7  "
      ]
     },
     "execution_count": 40,
     "metadata": {},
     "output_type": "execute_result"
    }
   ],
   "source": [
    "#Create the data frame from the three sets of data\n",
    "data = pd.concat([star, QSO, galaxy])\n",
    "#Scramble the data set so that it is not ordered by spectral class (QSO, galaxy or star) \n",
    "data = data.sample(frac=1)\n",
    "\n",
    "data.head()"
   ]
  },
  {
   "cell_type": "code",
   "execution_count": 43,
   "metadata": {},
   "outputs": [
    {
     "name": "stdout",
     "output_type": "stream",
     "text": [
      "Mean photoError: 0.038\n"
     ]
    }
   ],
   "source": [
    "photozErr= data.loc[(data['photoZ'] >= 0.0)]['photoErr']\n",
    "print('Mean photoError:', round(np.mean(photozErr), 3))"
   ]
  },
  {
   "cell_type": "code",
   "execution_count": 6,
   "metadata": {},
   "outputs": [
    {
     "name": "stdout",
     "output_type": "stream",
     "text": [
      "Mean specError: 0.019\n"
     ]
    }
   ],
   "source": [
    "print('Mean specError:', round(np.mean(data['zErr']), 3))"
   ]
  },
  {
   "cell_type": "markdown",
   "metadata": {},
   "source": [
    "The mean value of the spectroscopic errors is 0.019  while the mean value of the photometric errors is 0.038."
   ]
  },
  {
   "cell_type": "code",
   "execution_count": 7,
   "metadata": {},
   "outputs": [
    {
     "data": {
      "text/html": [
       "<div>\n",
       "<style scoped>\n",
       "    .dataframe tbody tr th:only-of-type {\n",
       "        vertical-align: middle;\n",
       "    }\n",
       "\n",
       "    .dataframe tbody tr th {\n",
       "        vertical-align: top;\n",
       "    }\n",
       "\n",
       "    .dataframe thead th {\n",
       "        text-align: right;\n",
       "    }\n",
       "</style>\n",
       "<table border=\"1\" class=\"dataframe\">\n",
       "  <thead>\n",
       "    <tr style=\"text-align: right;\">\n",
       "      <th></th>\n",
       "      <th>dered_u</th>\n",
       "      <th>dered_g</th>\n",
       "      <th>dered_r</th>\n",
       "      <th>dered_i</th>\n",
       "      <th>dered_z</th>\n",
       "      <th>z</th>\n",
       "    </tr>\n",
       "  </thead>\n",
       "  <tbody>\n",
       "    <tr>\n",
       "      <th>1826</th>\n",
       "      <td>20.13617</td>\n",
       "      <td>19.76059</td>\n",
       "      <td>19.42947</td>\n",
       "      <td>18.91666</td>\n",
       "      <td>18.50034</td>\n",
       "      <td>0.461495</td>\n",
       "    </tr>\n",
       "    <tr>\n",
       "      <th>2856</th>\n",
       "      <td>19.56304</td>\n",
       "      <td>17.58714</td>\n",
       "      <td>16.86860</td>\n",
       "      <td>16.60582</td>\n",
       "      <td>16.47174</td>\n",
       "      <td>0.000032</td>\n",
       "    </tr>\n",
       "    <tr>\n",
       "      <th>927</th>\n",
       "      <td>22.39862</td>\n",
       "      <td>19.75858</td>\n",
       "      <td>18.30336</td>\n",
       "      <td>17.66199</td>\n",
       "      <td>17.27338</td>\n",
       "      <td>0.000025</td>\n",
       "    </tr>\n",
       "    <tr>\n",
       "      <th>4541</th>\n",
       "      <td>19.31371</td>\n",
       "      <td>18.98363</td>\n",
       "      <td>18.55181</td>\n",
       "      <td>18.43749</td>\n",
       "      <td>17.95164</td>\n",
       "      <td>0.326223</td>\n",
       "    </tr>\n",
       "    <tr>\n",
       "      <th>2500</th>\n",
       "      <td>20.29923</td>\n",
       "      <td>19.87521</td>\n",
       "      <td>19.60703</td>\n",
       "      <td>19.18817</td>\n",
       "      <td>19.06098</td>\n",
       "      <td>0.564797</td>\n",
       "    </tr>\n",
       "  </tbody>\n",
       "</table>\n",
       "</div>"
      ],
      "text/plain": [
       "       dered_u   dered_g   dered_r   dered_i   dered_z         z\n",
       "1826  20.13617  19.76059  19.42947  18.91666  18.50034  0.461495\n",
       "2856  19.56304  17.58714  16.86860  16.60582  16.47174  0.000032\n",
       "927   22.39862  19.75858  18.30336  17.66199  17.27338  0.000025\n",
       "4541  19.31371  18.98363  18.55181  18.43749  17.95164  0.326223\n",
       "2500  20.29923  19.87521  19.60703  19.18817  19.06098  0.564797"
      ]
     },
     "execution_count": 7,
     "metadata": {},
     "output_type": "execute_result"
    }
   ],
   "source": [
    "data_clean = data.drop(columns=['zWarning','specObjID','#objID','err_u', 'err_g', 'err_r', 'err_i', 'err_z', 'zErr', 'class', 'subClass', 'photoZ','photoErr','type'])\n",
    "data_clean.head()"
   ]
  },
  {
   "cell_type": "code",
   "execution_count": 8,
   "metadata": {},
   "outputs": [
    {
     "data": {
      "text/html": [
       "<div>\n",
       "<style scoped>\n",
       "    .dataframe tbody tr th:only-of-type {\n",
       "        vertical-align: middle;\n",
       "    }\n",
       "\n",
       "    .dataframe tbody tr th {\n",
       "        vertical-align: top;\n",
       "    }\n",
       "\n",
       "    .dataframe thead th {\n",
       "        text-align: right;\n",
       "    }\n",
       "</style>\n",
       "<table border=\"1\" class=\"dataframe\">\n",
       "  <thead>\n",
       "    <tr style=\"text-align: right;\">\n",
       "      <th></th>\n",
       "      <th>dered_u</th>\n",
       "      <th>dered_g</th>\n",
       "      <th>dered_r</th>\n",
       "      <th>dered_i</th>\n",
       "      <th>dered_z</th>\n",
       "      <th>z</th>\n",
       "    </tr>\n",
       "  </thead>\n",
       "  <tbody>\n",
       "    <tr>\n",
       "      <th>count</th>\n",
       "      <td>15000.000000</td>\n",
       "      <td>15000.000000</td>\n",
       "      <td>15000.000000</td>\n",
       "      <td>15000.000000</td>\n",
       "      <td>15000.000000</td>\n",
       "      <td>15000.000000</td>\n",
       "    </tr>\n",
       "    <tr>\n",
       "      <th>mean</th>\n",
       "      <td>19.869886</td>\n",
       "      <td>18.452114</td>\n",
       "      <td>17.631055</td>\n",
       "      <td>17.163975</td>\n",
       "      <td>16.934978</td>\n",
       "      <td>0.142970</td>\n",
       "    </tr>\n",
       "    <tr>\n",
       "      <th>std</th>\n",
       "      <td>1.702831</td>\n",
       "      <td>1.544044</td>\n",
       "      <td>1.469840</td>\n",
       "      <td>1.371121</td>\n",
       "      <td>1.453392</td>\n",
       "      <td>0.267116</td>\n",
       "    </tr>\n",
       "    <tr>\n",
       "      <th>min</th>\n",
       "      <td>11.101360</td>\n",
       "      <td>12.074510</td>\n",
       "      <td>10.785910</td>\n",
       "      <td>10.756660</td>\n",
       "      <td>9.813457</td>\n",
       "      <td>-0.004329</td>\n",
       "    </tr>\n",
       "    <tr>\n",
       "      <th>25%</th>\n",
       "      <td>18.870685</td>\n",
       "      <td>17.598865</td>\n",
       "      <td>16.818828</td>\n",
       "      <td>16.356315</td>\n",
       "      <td>16.086430</td>\n",
       "      <td>0.000060</td>\n",
       "    </tr>\n",
       "    <tr>\n",
       "      <th>50%</th>\n",
       "      <td>19.614630</td>\n",
       "      <td>18.316495</td>\n",
       "      <td>17.479280</td>\n",
       "      <td>17.038925</td>\n",
       "      <td>16.791815</td>\n",
       "      <td>0.093467</td>\n",
       "    </tr>\n",
       "    <tr>\n",
       "      <th>75%</th>\n",
       "      <td>20.553992</td>\n",
       "      <td>19.144298</td>\n",
       "      <td>18.450765</td>\n",
       "      <td>18.022543</td>\n",
       "      <td>17.732482</td>\n",
       "      <td>0.201547</td>\n",
       "    </tr>\n",
       "    <tr>\n",
       "      <th>max</th>\n",
       "      <td>29.762490</td>\n",
       "      <td>29.461400</td>\n",
       "      <td>28.317300</td>\n",
       "      <td>28.234270</td>\n",
       "      <td>28.220950</td>\n",
       "      <td>6.827977</td>\n",
       "    </tr>\n",
       "  </tbody>\n",
       "</table>\n",
       "</div>"
      ],
      "text/plain": [
       "            dered_u       dered_g       dered_r       dered_i       dered_z  \\\n",
       "count  15000.000000  15000.000000  15000.000000  15000.000000  15000.000000   \n",
       "mean      19.869886     18.452114     17.631055     17.163975     16.934978   \n",
       "std        1.702831      1.544044      1.469840      1.371121      1.453392   \n",
       "min       11.101360     12.074510     10.785910     10.756660      9.813457   \n",
       "25%       18.870685     17.598865     16.818828     16.356315     16.086430   \n",
       "50%       19.614630     18.316495     17.479280     17.038925     16.791815   \n",
       "75%       20.553992     19.144298     18.450765     18.022543     17.732482   \n",
       "max       29.762490     29.461400     28.317300     28.234270     28.220950   \n",
       "\n",
       "                  z  \n",
       "count  15000.000000  \n",
       "mean       0.142970  \n",
       "std        0.267116  \n",
       "min       -0.004329  \n",
       "25%        0.000060  \n",
       "50%        0.093467  \n",
       "75%        0.201547  \n",
       "max        6.827977  "
      ]
     },
     "execution_count": 8,
     "metadata": {},
     "output_type": "execute_result"
    }
   ],
   "source": [
    "data_clean.describe()"
   ]
  },
  {
   "cell_type": "code",
   "execution_count": 9,
   "metadata": {},
   "outputs": [],
   "source": [
    "def hist_plots( data: pd.DataFrame,\n",
    "               rows: int,\n",
    "              cols: int,\n",
    "              figsize: tuple):\n",
    "    fig, axes = plt.subplots(rows,cols, figsize=figsize)\n",
    "    for i, ax in enumerate(axes.flatten()):\n",
    "        if i < len(data.columns):\n",
    "            data[sorted(data.columns)[i]].plot.hist(bins=30, ax=ax)\n",
    "            ax.set_title(f'{sorted(data.columns)[i]} distribution', fontsize=10)\n",
    "            ax.tick_params(axis='x', labelsize=10)\n",
    "            ax.tick_params(axis='y', labelsize=10)\n",
    "            ax.get_yaxis().get_label().set_visible(False)\n",
    "        else:\n",
    "            fig.delaxes(ax=ax)\n",
    "    fig.tight_layout()"
   ]
  },
  {
   "cell_type": "code",
   "execution_count": 10,
   "metadata": {},
   "outputs": [
    {
     "data": {
      "image/png": "[encoded data removed]",
      "text/plain": [
       "<Figure size 1440x720 with 6 Axes>"
      ]
     },
     "metadata": {
      "needs_background": "light"
     },
     "output_type": "display_data"
    }
   ],
   "source": [
    "hist_plots(data=data_clean,\n",
    "          rows=2,\n",
    "          cols=4,\n",
    "          figsize=(20,10))\n",
    "#plt.savefig(filepath+'images/zhistplot.png')"
   ]
  },
  {
   "cell_type": "markdown",
   "metadata": {},
   "source": [
    "The magnitudes of the bands are in the interquartile ranges (25-75%) between 16-18. The fainter (higher value) sources are mostly outliers of the destributions. Since the distributions are fairly bright, I decided to keep them."
   ]
  },
  {
   "cell_type": "code",
   "execution_count": 12,
   "metadata": {},
   "outputs": [
    {
     "data": {
      "image/png": "[encoded data removed]",
      "text/plain": [
       "<Figure size 360x360 with 1 Axes>"
      ]
     },
     "metadata": {
      "needs_background": "light"
     },
     "output_type": "display_data"
    }
   ],
   "source": [
    "data['ur'] =  data['dered_u'] - data['dered_r']\n",
    "data['gr'] =  data['dered_g'] - data['dered_r']\n",
    "# Use the 'hue' argument to provide a factor variable\n",
    "sns.lmplot( x=\"ur\", y=\"gr\", data=data, fit_reg=False, hue='class', legend=False)\n",
    " \n",
    "# Move the legend to an empty part of the plot\n",
    "plt.legend(loc='lower right')\n",
    "\n",
    "plt.show()"
   ]
  },
  {
   "cell_type": "markdown",
   "metadata": {},
   "source": [
    "As seen by the graph above, colours (the difference in magnitude between 2 bands) gives no extra information."
   ]
  },
  {
   "cell_type": "code",
   "execution_count": 11,
   "metadata": {},
   "outputs": [],
   "source": [
    "# separating feature X and label y and normalizing data\n",
    "from sklearn.preprocessing import MinMaxScaler\n",
    "cols= data_clean.columns[:-1]\n",
    "X = data_clean[cols]\n",
    "y = data_clean['z']\n",
    "scaler = MinMaxScaler()\n",
    "X_t = scaler.fit_transform(X)"
   ]
  },
  {
   "cell_type": "markdown",
   "metadata": {},
   "source": [
    "## Training models"
   ]
  },
  {
   "cell_type": "code",
   "execution_count": 13,
   "metadata": {},
   "outputs": [],
   "source": [
    "#splitting data to train and set datasets\n",
    "from sklearn.model_selection import train_test_split\n",
    "\n",
    "X_train, X_test, y_train, y_test = train_test_split(X_t, y, \n",
    "                                                    test_size=0.3, random_state=42)"
   ]
  },
  {
   "cell_type": "code",
   "execution_count": 14,
   "metadata": {},
   "outputs": [],
   "source": [
    "# Training Linear regression algorithm\n",
    "from sklearn.linear_model import LinearRegression\n",
    "from sklearn.metrics import mean_squared_error\n",
    "\n",
    "LR = LinearRegression()\n",
    "\n",
    "# Storage for error values\n",
    "error_df = list()\n",
    "\n",
    "\n",
    "LR = LR.fit(X_train, y_train)\n",
    "y_train_pred = LR.predict(X_train)\n",
    "y_test_pred = LR.predict(X_test)\n",
    "\n",
    "error_df.append(pd.Series({'train': mean_squared_error(y_train, y_train_pred),\n",
    "                           'test' : mean_squared_error(y_test,  y_test_pred)}))\n"
   ]
  },
  {
   "cell_type": "code",
   "execution_count": 15,
   "metadata": {},
   "outputs": [
    {
     "data": {
      "text/plain": [
       "[train    0.064382\n",
       " test     0.058936\n",
       " dtype: float64]"
      ]
     },
     "execution_count": 15,
     "metadata": {},
     "output_type": "execute_result"
    }
   ],
   "source": [
    "error_df"
   ]
  },
  {
   "cell_type": "code",
   "execution_count": 16,
   "metadata": {},
   "outputs": [],
   "source": [
    "#training and predicting with Random Forest Regressor\n",
    "from sklearn.ensemble import RandomForestRegressor\n",
    "from sklearn.model_selection import GridSearchCV\n",
    "RF = RandomForestRegressor(random_state = 42)\n",
    "param_grid = {  'bootstrap': [True],\n",
    "                'max_features': ['log2'], \n",
    "                'n_estimators': range(1,400, 40)}\n",
    "\n",
    "rf= GridSearchCV(RF,\n",
    "                  param_grid=param_grid)\n",
    "\n",
    "# Train the model on training data\n",
    "rf.fit(X_train, y_train);\n",
    "predictions = rf.predict(X_test)\n"
   ]
  },
  {
   "cell_type": "code",
   "execution_count": 17,
   "metadata": {},
   "outputs": [
    {
     "data": {
      "text/plain": [
       "({'bootstrap': True, 'max_features': 'log2', 'n_estimators': 161},\n",
       " 0.2216411062731054)"
      ]
     },
     "execution_count": 17,
     "metadata": {},
     "output_type": "execute_result"
    }
   ],
   "source": [
    "rf.best_params_ ,rf.best_score_"
   ]
  },
  {
   "cell_type": "markdown",
   "metadata": {},
   "source": [
    "'bootstrap': True, 'max_features': 'log2', 'n_estimators': 121 best parameters of the random forest regressor. "
   ]
  },
  {
   "cell_type": "code",
   "execution_count": 18,
   "metadata": {},
   "outputs": [
    {
     "name": "stdout",
     "output_type": "stream",
     "text": [
      "Mean Square Error RF: 0.049\n"
     ]
    }
   ],
   "source": [
    "# Print out the mean square error\n",
    "print('Mean Square Error RF:', round(mean_squared_error(y_test, predictions), 3))"
   ]
  },
  {
   "cell_type": "code",
   "execution_count": 19,
   "metadata": {},
   "outputs": [
    {
     "name": "stdout",
     "output_type": "stream",
     "text": [
      "(14307,)\n",
      "Mean Square Error SDSS: 0.068\n"
     ]
    }
   ],
   "source": [
    "photozErr= data.loc[(data['photoZ'] >= 0.0)]['photoZ']\n",
    "sZ= data.loc[(data['photoZ'] >= 0.0)]['z']\n",
    "print(photozErr.shape)\n",
    "print('Mean Square Error SDSS:', round(mean_squared_error(sZ,photozErr), 3))"
   ]
  },
  {
   "cell_type": "markdown",
   "metadata": {},
   "source": [
    "The test error of the linear regression model is (mse) 0.058 while we get an mse of 0.049 with random forest regressor. To compare errors the mse from the difference between photometric redshift and spectroscopic redshift is 0.068. Here there are values of photoz of -999.0. This are the same as missing values so they are taken out of the calculation of mse."
   ]
  },
  {
   "cell_type": "markdown",
   "metadata": {},
   "source": [
    "## Adding spectral types\n",
    "\n",
    "This is to check if it would reduce the error on the ml determined redshifts."
   ]
  },
  {
   "cell_type": "code",
   "execution_count": 20,
   "metadata": {},
   "outputs": [],
   "source": [
    "# converting class from categorical to numerical\n",
    "def type_to_value(n):\n",
    "    if n == 'STAR':\n",
    "        return 1\n",
    "    elif n == 'QSO':\n",
    "        return 2\n",
    "    elif n == 'GALAXY':\n",
    "        return 3\n",
    "    \n",
    "\n",
    "data['nClass'] = [type_to_value(n) for n in data['class']]"
   ]
  },
  {
   "cell_type": "code",
   "execution_count": 21,
   "metadata": {},
   "outputs": [],
   "source": [
    "#Adding class feature to X\n",
    "X['class'] = data['nClass']\n",
    "X_c= scaler.fit_transform(X) "
   ]
  },
  {
   "cell_type": "code",
   "execution_count": 22,
   "metadata": {},
   "outputs": [],
   "source": [
    "#Splitting the data \n",
    "X_train, X_test, y_train, y_test = train_test_split(X_c, y, \n",
    "                                                    test_size=0.3, random_state=42)"
   ]
  },
  {
   "cell_type": "code",
   "execution_count": 23,
   "metadata": {},
   "outputs": [],
   "source": [
    "# fit the model and predict the class\n",
    "rf.fit(X_train, y_train);\n",
    "predictions_class = rf.predict(X_test)"
   ]
  },
  {
   "cell_type": "code",
   "execution_count": 24,
   "metadata": {
    "scrolled": true
   },
   "outputs": [
    {
     "name": "stdout",
     "output_type": "stream",
     "text": [
      "Mean Absolute Error RF with class: 0.033\n"
     ]
    }
   ],
   "source": [
    "errors_class = abs(predictions_class - y_test)\n",
    "# Print out the mean absolute error (mae)\n",
    "print('Mean Absolute Error RF with class:', round(np.mean(errors_class), 3))"
   ]
  },
  {
   "cell_type": "markdown",
   "metadata": {},
   "source": [
    "The mse of the running Random Forest Regressor with class information reduces the error from 0.049 to 0.033."
   ]
  },
  {
   "cell_type": "markdown",
   "metadata": {},
   "source": [
    "## Calculating class\n",
    "\n",
    "Errors were reduced with the spectra types. Now we check if ml determined classes can serve too."
   ]
  },
  {
   "cell_type": "code",
   "execution_count": 44,
   "metadata": {},
   "outputs": [
    {
     "data": {
      "text/html": [
       "<div>\n",
       "<style scoped>\n",
       "    .dataframe tbody tr th:only-of-type {\n",
       "        vertical-align: middle;\n",
       "    }\n",
       "\n",
       "    .dataframe tbody tr th {\n",
       "        vertical-align: top;\n",
       "    }\n",
       "\n",
       "    .dataframe thead th {\n",
       "        text-align: right;\n",
       "    }\n",
       "</style>\n",
       "<table border=\"1\" class=\"dataframe\">\n",
       "  <thead>\n",
       "    <tr style=\"text-align: right;\">\n",
       "      <th></th>\n",
       "      <th>dered_u</th>\n",
       "      <th>dered_g</th>\n",
       "      <th>dered_r</th>\n",
       "      <th>dered_i</th>\n",
       "      <th>dered_z</th>\n",
       "    </tr>\n",
       "  </thead>\n",
       "  <tbody>\n",
       "    <tr>\n",
       "      <th>1826</th>\n",
       "      <td>20.13617</td>\n",
       "      <td>19.76059</td>\n",
       "      <td>19.42947</td>\n",
       "      <td>18.91666</td>\n",
       "      <td>18.50034</td>\n",
       "    </tr>\n",
       "    <tr>\n",
       "      <th>2856</th>\n",
       "      <td>19.56304</td>\n",
       "      <td>17.58714</td>\n",
       "      <td>16.86860</td>\n",
       "      <td>16.60582</td>\n",
       "      <td>16.47174</td>\n",
       "    </tr>\n",
       "    <tr>\n",
       "      <th>927</th>\n",
       "      <td>22.39862</td>\n",
       "      <td>19.75858</td>\n",
       "      <td>18.30336</td>\n",
       "      <td>17.66199</td>\n",
       "      <td>17.27338</td>\n",
       "    </tr>\n",
       "    <tr>\n",
       "      <th>4541</th>\n",
       "      <td>19.31371</td>\n",
       "      <td>18.98363</td>\n",
       "      <td>18.55181</td>\n",
       "      <td>18.43749</td>\n",
       "      <td>17.95164</td>\n",
       "    </tr>\n",
       "    <tr>\n",
       "      <th>2500</th>\n",
       "      <td>20.29923</td>\n",
       "      <td>19.87521</td>\n",
       "      <td>19.60703</td>\n",
       "      <td>19.18817</td>\n",
       "      <td>19.06098</td>\n",
       "    </tr>\n",
       "  </tbody>\n",
       "</table>\n",
       "</div>"
      ],
      "text/plain": [
       "       dered_u   dered_g   dered_r   dered_i   dered_z\n",
       "1826  20.13617  19.76059  19.42947  18.91666  18.50034\n",
       "2856  19.56304  17.58714  16.86860  16.60582  16.47174\n",
       "927   22.39862  19.75858  18.30336  17.66199  17.27338\n",
       "4541  19.31371  18.98363  18.55181  18.43749  17.95164\n",
       "2500  20.29923  19.87521  19.60703  19.18817  19.06098"
      ]
     },
     "execution_count": 44,
     "metadata": {},
     "output_type": "execute_result"
    }
   ],
   "source": [
    "# creating the new y with class as a label\n",
    "cols =  X.columns[:-1]\n",
    "new_X = X[cols]\n",
    "new_y = X['class']\n",
    "new_X.head()"
   ]
  },
  {
   "cell_type": "code",
   "execution_count": 26,
   "metadata": {},
   "outputs": [],
   "source": [
    "# Separating the data into train and test sets\n",
    "from sklearn.model_selection import StratifiedShuffleSplit\n",
    "\n",
    "strat_shuf_split = StratifiedShuffleSplit(n_splits=3, \n",
    "                                          test_size=0.3, \n",
    "                                          random_state=42)\n",
    "\n",
    "train_idx, test_idx = next(strat_shuf_split.split(new_X,new_y))\n",
    "\n",
    "\n",
    "X_train_cl = new_X.iloc[train_idx]\n",
    "y_train_cl = new_y.iloc[train_idx]\n",
    "X_test_cl  = new_X.iloc[test_idx]\n",
    "y_test_cl  = new_y.iloc[test_idx]"
   ]
  },
  {
   "cell_type": "code",
   "execution_count": 27,
   "metadata": {},
   "outputs": [],
   "source": [
    "#normalizing the data\n",
    "X_train_cl= scaler.fit_transform(X_train_cl) \n",
    "X_test_cl= scaler.transform(X_test_cl)"
   ]
  },
  {
   "cell_type": "code",
   "execution_count": 28,
   "metadata": {},
   "outputs": [],
   "source": [
    "#Running Random Forest Classifier \n",
    "from sklearn.ensemble import RandomForestClassifier\n",
    "from sklearn.model_selection import GridSearchCV\n",
    "\n",
    "\n",
    "\n",
    "RF = RandomForestClassifier(n_estimators = 341,\n",
    "                            oob_score=True, \n",
    "                            random_state=42, \n",
    "                            warm_start=True,\n",
    "                            n_jobs=-1)\n",
    "\n",
    "\n",
    "rfc = RF.fit(X_train_cl, y_train_cl)"
   ]
  },
  {
   "cell_type": "code",
   "execution_count": 29,
   "metadata": {},
   "outputs": [
    {
     "name": "stdout",
     "output_type": "stream",
     "text": [
      "              precision    recall  f1-score   support\n",
      "\n",
      "           1       0.91      0.90      0.91      1500\n",
      "           2       0.94      0.88      0.91      1500\n",
      "           3       0.85      0.90      0.87      1500\n",
      "\n",
      "    accuracy                           0.89      4500\n",
      "   macro avg       0.90      0.89      0.90      4500\n",
      "weighted avg       0.90      0.89      0.90      4500\n",
      "\n"
     ]
    }
   ],
   "source": [
    "# Class prediction and error estimation of the classifission\n",
    "from sklearn.metrics import classification_report\n",
    "\n",
    "y_pred_rf = rfc.predict(X_test_cl)\n",
    "cr = classification_report(y_test_cl, y_pred_rf)\n",
    "print(cr)"
   ]
  },
  {
   "cell_type": "code",
   "execution_count": 30,
   "metadata": {},
   "outputs": [
    {
     "data": {
      "text/plain": [
       "(15000,)"
      ]
     },
     "execution_count": 30,
     "metadata": {},
     "output_type": "execute_result"
    }
   ],
   "source": [
    "# assigning to y_class the predictions of the model\n",
    "y_class = rfc.predict(new_X)\n",
    "y_class.shape"
   ]
  },
  {
   "cell_type": "code",
   "execution_count": 31,
   "metadata": {
    "scrolled": true
   },
   "outputs": [
    {
     "data": {
      "text/html": [
       "<div>\n",
       "<style scoped>\n",
       "    .dataframe tbody tr th:only-of-type {\n",
       "        vertical-align: middle;\n",
       "    }\n",
       "\n",
       "    .dataframe tbody tr th {\n",
       "        vertical-align: top;\n",
       "    }\n",
       "\n",
       "    .dataframe thead th {\n",
       "        text-align: right;\n",
       "    }\n",
       "</style>\n",
       "<table border=\"1\" class=\"dataframe\">\n",
       "  <thead>\n",
       "    <tr style=\"text-align: right;\">\n",
       "      <th></th>\n",
       "      <th>dered_u</th>\n",
       "      <th>dered_g</th>\n",
       "      <th>dered_r</th>\n",
       "      <th>dered_i</th>\n",
       "      <th>dered_z</th>\n",
       "      <th>nclass</th>\n",
       "    </tr>\n",
       "  </thead>\n",
       "  <tbody>\n",
       "    <tr>\n",
       "      <th>1826</th>\n",
       "      <td>20.13617</td>\n",
       "      <td>19.76059</td>\n",
       "      <td>19.42947</td>\n",
       "      <td>18.91666</td>\n",
       "      <td>18.50034</td>\n",
       "      <td>1</td>\n",
       "    </tr>\n",
       "    <tr>\n",
       "      <th>2856</th>\n",
       "      <td>19.56304</td>\n",
       "      <td>17.58714</td>\n",
       "      <td>16.86860</td>\n",
       "      <td>16.60582</td>\n",
       "      <td>16.47174</td>\n",
       "      <td>1</td>\n",
       "    </tr>\n",
       "    <tr>\n",
       "      <th>927</th>\n",
       "      <td>22.39862</td>\n",
       "      <td>19.75858</td>\n",
       "      <td>18.30336</td>\n",
       "      <td>17.66199</td>\n",
       "      <td>17.27338</td>\n",
       "      <td>1</td>\n",
       "    </tr>\n",
       "    <tr>\n",
       "      <th>4541</th>\n",
       "      <td>19.31371</td>\n",
       "      <td>18.98363</td>\n",
       "      <td>18.55181</td>\n",
       "      <td>18.43749</td>\n",
       "      <td>17.95164</td>\n",
       "      <td>1</td>\n",
       "    </tr>\n",
       "    <tr>\n",
       "      <th>2500</th>\n",
       "      <td>20.29923</td>\n",
       "      <td>19.87521</td>\n",
       "      <td>19.60703</td>\n",
       "      <td>19.18817</td>\n",
       "      <td>19.06098</td>\n",
       "      <td>1</td>\n",
       "    </tr>\n",
       "  </tbody>\n",
       "</table>\n",
       "</div>"
      ],
      "text/plain": [
       "       dered_u   dered_g   dered_r   dered_i   dered_z  nclass\n",
       "1826  20.13617  19.76059  19.42947  18.91666  18.50034       1\n",
       "2856  19.56304  17.58714  16.86860  16.60582  16.47174       1\n",
       "927   22.39862  19.75858  18.30336  17.66199  17.27338       1\n",
       "4541  19.31371  18.98363  18.55181  18.43749  17.95164       1\n",
       "2500  20.29923  19.87521  19.60703  19.18817  19.06098       1"
      ]
     },
     "execution_count": 31,
     "metadata": {},
     "output_type": "execute_result"
    }
   ],
   "source": [
    "#Dropping the class feature and adding the prediced class\n",
    "X_class = X.drop(['class'], axis =1)\n",
    "X_class['nclass'] = y_class\n",
    "X_class.head()"
   ]
  },
  {
   "cell_type": "code",
   "execution_count": 33,
   "metadata": {},
   "outputs": [],
   "source": [
    "#new X and y with the class information\n",
    "X_train_cc = X_class.iloc[train_idx]\n",
    "y_train_cc = y.iloc[train_idx]\n",
    "X_test_cc  = X_class.iloc[test_idx]\n",
    "y_test_cc  = y.iloc[test_idx]\n",
    "\n",
    "X_train_cc= scaler.fit_transform(X_train_cc) \n",
    "X_test_cc= scaler.transform(X_test_cc)"
   ]
  },
  {
   "cell_type": "code",
   "execution_count": 38,
   "metadata": {},
   "outputs": [
    {
     "ename": "ValueError",
     "evalue": "Unknown label type: 'continuous'",
     "output_type": "error",
     "traceback": [
      "\u001b[0;31m---------------------------------------------------------------------------\u001b[0m",
      "\u001b[0;31mValueError\u001b[0m                                Traceback (most recent call last)",
      "\u001b[0;32m<ipython-input-38-e366bd3e5b7d>\u001b[0m in \u001b[0;36m<module>\u001b[0;34m\u001b[0m\n\u001b[1;32m      1\u001b[0m \u001b[0;31m# fit the random forest to the X with the predicted class\u001b[0m\u001b[0;34m\u001b[0m\u001b[0;34m\u001b[0m\u001b[0;34m\u001b[0m\u001b[0m\n\u001b[0;32m----> 2\u001b[0;31m \u001b[0mRF\u001b[0m\u001b[0;34m.\u001b[0m\u001b[0mfit\u001b[0m\u001b[0;34m(\u001b[0m\u001b[0mX_train_cc\u001b[0m\u001b[0;34m,\u001b[0m \u001b[0my_train_cc\u001b[0m\u001b[0;34m)\u001b[0m\u001b[0;34m;\u001b[0m\u001b[0;34m\u001b[0m\u001b[0;34m\u001b[0m\u001b[0m\n\u001b[0m\u001b[1;32m      3\u001b[0m \u001b[0mpredictions_c\u001b[0m \u001b[0;34m=\u001b[0m \u001b[0mrf\u001b[0m\u001b[0;34m.\u001b[0m\u001b[0mpredict\u001b[0m\u001b[0;34m(\u001b[0m\u001b[0mX_test_cc\u001b[0m\u001b[0;34m)\u001b[0m\u001b[0;34m\u001b[0m\u001b[0;34m\u001b[0m\u001b[0m\n\u001b[1;32m      4\u001b[0m \u001b[0;34m\u001b[0m\u001b[0m\n",
      "\u001b[0;32m~/anaconda3/lib/python3.7/site-packages/sklearn/ensemble/_forest.py\u001b[0m in \u001b[0;36mfit\u001b[0;34m(self, X, y, sample_weight)\u001b[0m\n\u001b[1;32m    319\u001b[0m         \u001b[0mself\u001b[0m\u001b[0;34m.\u001b[0m\u001b[0mn_outputs_\u001b[0m \u001b[0;34m=\u001b[0m \u001b[0my\u001b[0m\u001b[0;34m.\u001b[0m\u001b[0mshape\u001b[0m\u001b[0;34m[\u001b[0m\u001b[0;36m1\u001b[0m\u001b[0;34m]\u001b[0m\u001b[0;34m\u001b[0m\u001b[0;34m\u001b[0m\u001b[0m\n\u001b[1;32m    320\u001b[0m \u001b[0;34m\u001b[0m\u001b[0m\n\u001b[0;32m--> 321\u001b[0;31m         \u001b[0my\u001b[0m\u001b[0;34m,\u001b[0m \u001b[0mexpanded_class_weight\u001b[0m \u001b[0;34m=\u001b[0m \u001b[0mself\u001b[0m\u001b[0;34m.\u001b[0m\u001b[0m_validate_y_class_weight\u001b[0m\u001b[0;34m(\u001b[0m\u001b[0my\u001b[0m\u001b[0;34m)\u001b[0m\u001b[0;34m\u001b[0m\u001b[0;34m\u001b[0m\u001b[0m\n\u001b[0m\u001b[1;32m    322\u001b[0m \u001b[0;34m\u001b[0m\u001b[0m\n\u001b[1;32m    323\u001b[0m         \u001b[0;32mif\u001b[0m \u001b[0mgetattr\u001b[0m\u001b[0;34m(\u001b[0m\u001b[0my\u001b[0m\u001b[0;34m,\u001b[0m \u001b[0;34m\"dtype\"\u001b[0m\u001b[0;34m,\u001b[0m \u001b[0;32mNone\u001b[0m\u001b[0;34m)\u001b[0m \u001b[0;34m!=\u001b[0m \u001b[0mDOUBLE\u001b[0m \u001b[0;32mor\u001b[0m \u001b[0;32mnot\u001b[0m \u001b[0my\u001b[0m\u001b[0;34m.\u001b[0m\u001b[0mflags\u001b[0m\u001b[0;34m.\u001b[0m\u001b[0mcontiguous\u001b[0m\u001b[0;34m:\u001b[0m\u001b[0;34m\u001b[0m\u001b[0;34m\u001b[0m\u001b[0m\n",
      "\u001b[0;32m~/anaconda3/lib/python3.7/site-packages/sklearn/ensemble/_forest.py\u001b[0m in \u001b[0;36m_validate_y_class_weight\u001b[0;34m(self, y)\u001b[0m\n\u001b[1;32m    539\u001b[0m \u001b[0;34m\u001b[0m\u001b[0m\n\u001b[1;32m    540\u001b[0m     \u001b[0;32mdef\u001b[0m \u001b[0m_validate_y_class_weight\u001b[0m\u001b[0;34m(\u001b[0m\u001b[0mself\u001b[0m\u001b[0;34m,\u001b[0m \u001b[0my\u001b[0m\u001b[0;34m)\u001b[0m\u001b[0;34m:\u001b[0m\u001b[0;34m\u001b[0m\u001b[0;34m\u001b[0m\u001b[0m\n\u001b[0;32m--> 541\u001b[0;31m         \u001b[0mcheck_classification_targets\u001b[0m\u001b[0;34m(\u001b[0m\u001b[0my\u001b[0m\u001b[0;34m)\u001b[0m\u001b[0;34m\u001b[0m\u001b[0;34m\u001b[0m\u001b[0m\n\u001b[0m\u001b[1;32m    542\u001b[0m \u001b[0;34m\u001b[0m\u001b[0m\n\u001b[1;32m    543\u001b[0m         \u001b[0my\u001b[0m \u001b[0;34m=\u001b[0m \u001b[0mnp\u001b[0m\u001b[0;34m.\u001b[0m\u001b[0mcopy\u001b[0m\u001b[0;34m(\u001b[0m\u001b[0my\u001b[0m\u001b[0;34m)\u001b[0m\u001b[0;34m\u001b[0m\u001b[0;34m\u001b[0m\u001b[0m\n",
      "\u001b[0;32m~/anaconda3/lib/python3.7/site-packages/sklearn/utils/multiclass.py\u001b[0m in \u001b[0;36mcheck_classification_targets\u001b[0;34m(y)\u001b[0m\n\u001b[1;32m    167\u001b[0m     if y_type not in ['binary', 'multiclass', 'multiclass-multioutput',\n\u001b[1;32m    168\u001b[0m                       'multilabel-indicator', 'multilabel-sequences']:\n\u001b[0;32m--> 169\u001b[0;31m         \u001b[0;32mraise\u001b[0m \u001b[0mValueError\u001b[0m\u001b[0;34m(\u001b[0m\u001b[0;34m\"Unknown label type: %r\"\u001b[0m \u001b[0;34m%\u001b[0m \u001b[0my_type\u001b[0m\u001b[0;34m)\u001b[0m\u001b[0;34m\u001b[0m\u001b[0;34m\u001b[0m\u001b[0m\n\u001b[0m\u001b[1;32m    170\u001b[0m \u001b[0;34m\u001b[0m\u001b[0m\n\u001b[1;32m    171\u001b[0m \u001b[0;34m\u001b[0m\u001b[0m\n",
      "\u001b[0;31mValueError\u001b[0m: Unknown label type: 'continuous'"
     ]
    }
   ],
   "source": [
    "# fit the random forest to the X with the predicted class\n",
    "rf.fit(X_train_cc, y_train_cc);\n",
    "predictions_c = rf.predict(X_test_cc)\n",
    "\n"
   ]
  },
  {
   "cell_type": "code",
   "execution_count": 35,
   "metadata": {},
   "outputs": [
    {
     "name": "stdout",
     "output_type": "stream",
     "text": [
      "Mean Square Error RF with estimated class: 0.089\n"
     ]
    }
   ],
   "source": [
    "# Print out the mean square error between predicted and spectroscopic z\n",
    "print('Mean Square Error RF with estimated class:', round(mean_squared_error(y_test, predictions_c), 3))"
   ]
  },
  {
   "cell_type": "code",
   "execution_count": 36,
   "metadata": {},
   "outputs": [
    {
     "data": {
      "text/plain": [
       "({'bootstrap': True, 'max_features': 'log2', 'n_estimators': 361},\n",
       " 0.22539965066171508)"
      ]
     },
     "execution_count": 36,
     "metadata": {},
     "output_type": "execute_result"
    }
   ],
   "source": [
    "rf.best_params_ ,rf.best_score_"
   ]
  },
  {
   "cell_type": "markdown",
   "metadata": {},
   "source": [
    "## Conclusion\n",
    "\n",
    "I was able to improve on the accuracy of the SDSS photometric redshift slightly; 0.053 against the 0.068 of the SDSS. Also to note is that the redshift was calculated for all 15000 sources. The SDSS has photometry for 14307 of those 15000.\n",
    "\n",
    "Using the spectra clasification, the means square error was reduced to 0.034. But using estimated classes yielded an error of 0.089. \n",
    "\n",
    "Better estimation of the classes might help reduce the errors on the estimation of redshifts. Also, once since missing from my estimated redshift is an estimation of the errors without the use of the spectral redshift."
   ]
  },
  {
   "cell_type": "code",
   "execution_count": null,
   "metadata": {},
   "outputs": [],
   "source": []
  }
 ],
 "metadata": {
  "kernelspec": {
   "display_name": "Python 3 (ipykernel)",
   "language": "python",
   "name": "python3"
  },
  "language_info": {
   "codemirror_mode": {
    "name": "ipython",
    "version": 3
   },
   "file_extension": ".py",
   "mimetype": "text/x-python",
   "name": "python",
   "nbconvert_exporter": "python",
   "pygments_lexer": "ipython3",
   "version": "3.9.7"
  }
 },
 "nbformat": 4,
 "nbformat_minor": 4
}
