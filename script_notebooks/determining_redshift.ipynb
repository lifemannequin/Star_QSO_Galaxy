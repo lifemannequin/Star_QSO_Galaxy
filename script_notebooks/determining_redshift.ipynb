{
 "cells": [
  {
   "cell_type": "markdown",
   "metadata": {},
   "source": [
    "# Determine redshift using machine learning"
   ]
  },
  {
   "cell_type": "markdown",
   "metadata": {},
   "source": [
    "First, what is redshift and why is it important? Redshift is the equivalent to the distance of stellar objects from us. It is measured using spectroscopy. It calculates the shift of the spectra, which is a graph that shows how much light is emitted or absorbed at each wavelength,to the red side of the wavelength spectrum (hence the name redshift). The method used is to compare the spectra of the source to where the spectra should be at if the stellar objects were right next to us. They use emision lines of known elements to make hypothetical spectra of objects at redshift 0. Different types of objects have different shape of the spectra and objects within a class share similar characteristics. The stellar objects are shifted to the red because they are moving away from us due to the expansion of the universe. This measure is important because it allows us also to calculate the actual magnitudes of the stellar objects and we can do a lot of fun science with it. The amount of spectral data is not up to par with the vast amount of optical data available so it is important to have good redshifts obtained from photometry.\n",
    "\n",
    "The data was obtained using the skyserver from the Sloan Digital Sky Survey (SDSS) using the SQL query. I did most of the data engineering in the query. I specified for no missing values of the redshift also for it to be positive (there are negative redshift which means they are moving towards us and that they are in our local area). I also made sure errors were between 0.0 and 0.1.For the five bands (u,g,r,i,z), I selected the dered values from the table to  account for galactic extinction. There may be a confusion between z the band and z the redshift but in this study the band will always be denoted with dered_z. I also contrained the errors on the magnitued to be less than 0.1. The SQL script used in the [CasJobs website](https://skyserver.sdss.org/casjobs/) can be seen in the file \"sql_skyserver_sdss.odt\" in the script_notebooks folder of this project.\n",
    "\n",
    "To note that SDSS removed their photozRF table because it does poorly with the faint red galaxies targeted in  Baryon Oscillation Spectroscopic Survey (BOSS). \n"
   ]
  },
  {
   "cell_type": "code",
   "execution_count": 1,
   "metadata": {},
   "outputs": [],
   "source": [
    "import os\n",
    "import numpy as np\n",
    "import pandas as pd\n",
    "from pandas.plotting import table\n",
    "import seaborn as sns\n",
    "import matplotlib.pyplot as plt\n",
    "from scipy import stats\n",
    "sns.set()\n",
    "%matplotlib inline"
   ]
  },
  {
   "cell_type": "markdown",
   "metadata": {},
   "source": [
    "# Loading data and EDA"
   ]
  },
  {
   "cell_type": "code",
   "execution_count": 2,
   "metadata": {},
   "outputs": [
    {
     "name": "stdout",
     "output_type": "stream",
     "text": [
      "Number of data points in the star dataframe 3671\n",
      "Number of data points in the OSO dataframe 5000\n",
      "Number of data points in the galaxy dataframe 5000\n"
     ]
    }
   ],
   "source": [
    "#loading files\n",
    "filepath= \"/home/veroastro/Documents/spectraTypes/MLphotometry/data/\"\n",
    "galaxy = pd.read_csv(filepath+\"galaxy_rand5.csv\")\n",
    "star = pd.read_csv(filepath+\"star_rand.csv\")\n",
    "QSO = pd.read_csv(filepath+\"QSO_rand.csv\")\n",
    "print(f'Number of data points in the star dataframe {star[\"z\"].count()}')\n",
    "print(f'Number of data points in the OSO dataframe {QSO[\"z\"].count()}')\n",
    "print(f'Number of data points in the galaxy dataframe {galaxy[\"z\"].count()}')"
   ]
  },
  {
   "cell_type": "markdown",
   "metadata": {},
   "source": [
    "The combined dataset will be imbalance towards stars. The SQL script is the same for all classes but for some reason the obtained star dataset is smaller than the QSO and galaxy datasets."
   ]
  },
  {
   "cell_type": "code",
   "execution_count": 3,
   "metadata": {},
   "outputs": [
    {
     "data": {
      "text/html": [
       "<div>\n",
       "<style scoped>\n",
       "    .dataframe tbody tr th:only-of-type {\n",
       "        vertical-align: middle;\n",
       "    }\n",
       "\n",
       "    .dataframe tbody tr th {\n",
       "        vertical-align: top;\n",
       "    }\n",
       "\n",
       "    .dataframe thead th {\n",
       "        text-align: right;\n",
       "    }\n",
       "</style>\n",
       "<table border=\"1\" class=\"dataframe\">\n",
       "  <thead>\n",
       "    <tr style=\"text-align: right;\">\n",
       "      <th></th>\n",
       "      <th>objID</th>\n",
       "      <th>type</th>\n",
       "      <th>dered_u</th>\n",
       "      <th>err_u</th>\n",
       "      <th>dered_g</th>\n",
       "      <th>err_g</th>\n",
       "      <th>dered_r</th>\n",
       "      <th>err_r</th>\n",
       "      <th>dered_i</th>\n",
       "      <th>err_i</th>\n",
       "      <th>dered_z</th>\n",
       "      <th>err_z</th>\n",
       "      <th>z</th>\n",
       "      <th>zErr</th>\n",
       "      <th>zWarning</th>\n",
       "      <th>photoZ</th>\n",
       "      <th>photoErr</th>\n",
       "    </tr>\n",
       "  </thead>\n",
       "  <tbody>\n",
       "    <tr>\n",
       "      <th>count</th>\n",
       "      <td>1.367100e+04</td>\n",
       "      <td>13671.0</td>\n",
       "      <td>13671.000000</td>\n",
       "      <td>13671.000000</td>\n",
       "      <td>13671.000000</td>\n",
       "      <td>13671.000000</td>\n",
       "      <td>13671.000000</td>\n",
       "      <td>13671.000000</td>\n",
       "      <td>13671.000000</td>\n",
       "      <td>13671.000000</td>\n",
       "      <td>13671.000000</td>\n",
       "      <td>13671.000000</td>\n",
       "      <td>1.367100e+04</td>\n",
       "      <td>1.367100e+04</td>\n",
       "      <td>13671.0</td>\n",
       "      <td>13671.000000</td>\n",
       "      <td>13671.000000</td>\n",
       "    </tr>\n",
       "    <tr>\n",
       "      <th>mean</th>\n",
       "      <td>1.237662e+18</td>\n",
       "      <td>3.0</td>\n",
       "      <td>19.123679</td>\n",
       "      <td>0.045883</td>\n",
       "      <td>17.910556</td>\n",
       "      <td>0.008961</td>\n",
       "      <td>17.236257</td>\n",
       "      <td>0.007668</td>\n",
       "      <td>16.870452</td>\n",
       "      <td>0.007990</td>\n",
       "      <td>16.628443</td>\n",
       "      <td>0.019476</td>\n",
       "      <td>1.458658e-01</td>\n",
       "      <td>3.688415e-05</td>\n",
       "      <td>0.0</td>\n",
       "      <td>-120.522102</td>\n",
       "      <td>-120.644692</td>\n",
       "    </tr>\n",
       "    <tr>\n",
       "      <th>std</th>\n",
       "      <td>6.681097e+12</td>\n",
       "      <td>0.0</td>\n",
       "      <td>1.112383</td>\n",
       "      <td>0.024062</td>\n",
       "      <td>1.220852</td>\n",
       "      <td>0.005342</td>\n",
       "      <td>1.296912</td>\n",
       "      <td>0.005429</td>\n",
       "      <td>1.318627</td>\n",
       "      <td>0.005813</td>\n",
       "      <td>1.307353</td>\n",
       "      <td>0.015810</td>\n",
       "      <td>2.567484e-01</td>\n",
       "      <td>3.514981e-04</td>\n",
       "      <td>0.0</td>\n",
       "      <td>1091.904157</td>\n",
       "      <td>1091.890600</td>\n",
       "    </tr>\n",
       "    <tr>\n",
       "      <th>min</th>\n",
       "      <td>1.237646e+18</td>\n",
       "      <td>3.0</td>\n",
       "      <td>6.673403</td>\n",
       "      <td>0.000013</td>\n",
       "      <td>9.884518</td>\n",
       "      <td>0.000220</td>\n",
       "      <td>9.321852</td>\n",
       "      <td>0.000260</td>\n",
       "      <td>9.242759</td>\n",
       "      <td>0.000210</td>\n",
       "      <td>9.800303</td>\n",
       "      <td>0.001093</td>\n",
       "      <td>7.937708e-09</td>\n",
       "      <td>1.071480e-08</td>\n",
       "      <td>0.0</td>\n",
       "      <td>-9999.000000</td>\n",
       "      <td>-9999.000000</td>\n",
       "    </tr>\n",
       "    <tr>\n",
       "      <th>25%</th>\n",
       "      <td>1.237658e+18</td>\n",
       "      <td>3.0</td>\n",
       "      <td>18.571080</td>\n",
       "      <td>0.026353</td>\n",
       "      <td>17.265860</td>\n",
       "      <td>0.005500</td>\n",
       "      <td>16.477270</td>\n",
       "      <td>0.004414</td>\n",
       "      <td>16.057380</td>\n",
       "      <td>0.004403</td>\n",
       "      <td>15.791895</td>\n",
       "      <td>0.008781</td>\n",
       "      <td>1.045076e-03</td>\n",
       "      <td>1.035503e-05</td>\n",
       "      <td>0.0</td>\n",
       "      <td>0.071305</td>\n",
       "      <td>0.015206</td>\n",
       "    </tr>\n",
       "    <tr>\n",
       "      <th>50%</th>\n",
       "      <td>1.237662e+18</td>\n",
       "      <td>3.0</td>\n",
       "      <td>19.270480</td>\n",
       "      <td>0.041928</td>\n",
       "      <td>17.991810</td>\n",
       "      <td>0.007669</td>\n",
       "      <td>17.242790</td>\n",
       "      <td>0.006048</td>\n",
       "      <td>16.860720</td>\n",
       "      <td>0.006163</td>\n",
       "      <td>16.611150</td>\n",
       "      <td>0.014512</td>\n",
       "      <td>9.544864e-02</td>\n",
       "      <td>2.023870e-05</td>\n",
       "      <td>0.0</td>\n",
       "      <td>0.119299</td>\n",
       "      <td>0.024038</td>\n",
       "    </tr>\n",
       "    <tr>\n",
       "      <th>75%</th>\n",
       "      <td>1.237666e+18</td>\n",
       "      <td>3.0</td>\n",
       "      <td>19.871815</td>\n",
       "      <td>0.063235</td>\n",
       "      <td>18.639680</td>\n",
       "      <td>0.010635</td>\n",
       "      <td>18.055465</td>\n",
       "      <td>0.009154</td>\n",
       "      <td>17.725690</td>\n",
       "      <td>0.009742</td>\n",
       "      <td>17.495920</td>\n",
       "      <td>0.025105</td>\n",
       "      <td>1.923601e-01</td>\n",
       "      <td>3.551534e-05</td>\n",
       "      <td>0.0</td>\n",
       "      <td>0.199105</td>\n",
       "      <td>0.037786</td>\n",
       "    </tr>\n",
       "    <tr>\n",
       "      <th>max</th>\n",
       "      <td>1.237681e+18</td>\n",
       "      <td>3.0</td>\n",
       "      <td>21.491850</td>\n",
       "      <td>0.099991</td>\n",
       "      <td>20.960650</td>\n",
       "      <td>0.067567</td>\n",
       "      <td>21.669820</td>\n",
       "      <td>0.096349</td>\n",
       "      <td>20.886630</td>\n",
       "      <td>0.089653</td>\n",
       "      <td>20.105530</td>\n",
       "      <td>0.099328</td>\n",
       "      <td>6.215998e+00</td>\n",
       "      <td>3.497584e-02</td>\n",
       "      <td>0.0</td>\n",
       "      <td>0.929950</td>\n",
       "      <td>0.277625</td>\n",
       "    </tr>\n",
       "  </tbody>\n",
       "</table>\n",
       "</div>"
      ],
      "text/plain": [
       "              objID     type       dered_u         err_u       dered_g  \\\n",
       "count  1.367100e+04  13671.0  13671.000000  13671.000000  13671.000000   \n",
       "mean   1.237662e+18      3.0     19.123679      0.045883     17.910556   \n",
       "std    6.681097e+12      0.0      1.112383      0.024062      1.220852   \n",
       "min    1.237646e+18      3.0      6.673403      0.000013      9.884518   \n",
       "25%    1.237658e+18      3.0     18.571080      0.026353     17.265860   \n",
       "50%    1.237662e+18      3.0     19.270480      0.041928     17.991810   \n",
       "75%    1.237666e+18      3.0     19.871815      0.063235     18.639680   \n",
       "max    1.237681e+18      3.0     21.491850      0.099991     20.960650   \n",
       "\n",
       "              err_g       dered_r         err_r       dered_i         err_i  \\\n",
       "count  13671.000000  13671.000000  13671.000000  13671.000000  13671.000000   \n",
       "mean       0.008961     17.236257      0.007668     16.870452      0.007990   \n",
       "std        0.005342      1.296912      0.005429      1.318627      0.005813   \n",
       "min        0.000220      9.321852      0.000260      9.242759      0.000210   \n",
       "25%        0.005500     16.477270      0.004414     16.057380      0.004403   \n",
       "50%        0.007669     17.242790      0.006048     16.860720      0.006163   \n",
       "75%        0.010635     18.055465      0.009154     17.725690      0.009742   \n",
       "max        0.067567     21.669820      0.096349     20.886630      0.089653   \n",
       "\n",
       "            dered_z         err_z             z          zErr  zWarning  \\\n",
       "count  13671.000000  13671.000000  1.367100e+04  1.367100e+04   13671.0   \n",
       "mean      16.628443      0.019476  1.458658e-01  3.688415e-05       0.0   \n",
       "std        1.307353      0.015810  2.567484e-01  3.514981e-04       0.0   \n",
       "min        9.800303      0.001093  7.937708e-09  1.071480e-08       0.0   \n",
       "25%       15.791895      0.008781  1.045076e-03  1.035503e-05       0.0   \n",
       "50%       16.611150      0.014512  9.544864e-02  2.023870e-05       0.0   \n",
       "75%       17.495920      0.025105  1.923601e-01  3.551534e-05       0.0   \n",
       "max       20.105530      0.099328  6.215998e+00  3.497584e-02       0.0   \n",
       "\n",
       "             photoZ      photoErr  \n",
       "count  13671.000000  13671.000000  \n",
       "mean    -120.522102   -120.644692  \n",
       "std     1091.904157   1091.890600  \n",
       "min    -9999.000000  -9999.000000  \n",
       "25%        0.071305      0.015206  \n",
       "50%        0.119299      0.024038  \n",
       "75%        0.199105      0.037786  \n",
       "max        0.929950      0.277625  "
      ]
     },
     "execution_count": 3,
     "metadata": {},
     "output_type": "execute_result"
    }
   ],
   "source": [
    "#Create the data frame from the three sets of data\n",
    "data = pd.concat([star, QSO, galaxy])\n",
    "#Scramble the data set so that it is not ordered by spectral class (QSO, galaxy or star) \n",
    "data = data.sample(frac=1)\n",
    "\n",
    "data.describe()"
   ]
  },
  {
   "cell_type": "code",
   "execution_count": 4,
   "metadata": {},
   "outputs": [
    {
     "data": {
      "text/html": [
       "<div>\n",
       "<style scoped>\n",
       "    .dataframe tbody tr th:only-of-type {\n",
       "        vertical-align: middle;\n",
       "    }\n",
       "\n",
       "    .dataframe tbody tr th {\n",
       "        vertical-align: top;\n",
       "    }\n",
       "\n",
       "    .dataframe thead th {\n",
       "        text-align: right;\n",
       "    }\n",
       "</style>\n",
       "<table border=\"1\" class=\"dataframe\">\n",
       "  <thead>\n",
       "    <tr style=\"text-align: right;\">\n",
       "      <th></th>\n",
       "      <th>dered_u</th>\n",
       "      <th>dered_g</th>\n",
       "      <th>dered_r</th>\n",
       "      <th>dered_i</th>\n",
       "      <th>dered_z</th>\n",
       "      <th>z</th>\n",
       "    </tr>\n",
       "  </thead>\n",
       "  <tbody>\n",
       "    <tr>\n",
       "      <th>3419</th>\n",
       "      <td>20.17142</td>\n",
       "      <td>18.79695</td>\n",
       "      <td>17.50083</td>\n",
       "      <td>16.91569</td>\n",
       "      <td>16.77261</td>\n",
       "      <td>0.000035</td>\n",
       "    </tr>\n",
       "    <tr>\n",
       "      <th>2517</th>\n",
       "      <td>19.88788</td>\n",
       "      <td>17.96157</td>\n",
       "      <td>17.25798</td>\n",
       "      <td>17.01047</td>\n",
       "      <td>16.88762</td>\n",
       "      <td>0.000012</td>\n",
       "    </tr>\n",
       "    <tr>\n",
       "      <th>815</th>\n",
       "      <td>16.29671</td>\n",
       "      <td>15.12035</td>\n",
       "      <td>14.87958</td>\n",
       "      <td>14.83347</td>\n",
       "      <td>14.85634</td>\n",
       "      <td>0.000032</td>\n",
       "    </tr>\n",
       "    <tr>\n",
       "      <th>4408</th>\n",
       "      <td>18.76560</td>\n",
       "      <td>18.31343</td>\n",
       "      <td>17.73962</td>\n",
       "      <td>17.27152</td>\n",
       "      <td>17.19228</td>\n",
       "      <td>0.182231</td>\n",
       "    </tr>\n",
       "    <tr>\n",
       "      <th>2111</th>\n",
       "      <td>20.27546</td>\n",
       "      <td>18.88793</td>\n",
       "      <td>17.69800</td>\n",
       "      <td>17.27117</td>\n",
       "      <td>16.96911</td>\n",
       "      <td>0.244633</td>\n",
       "    </tr>\n",
       "  </tbody>\n",
       "</table>\n",
       "</div>"
      ],
      "text/plain": [
       "       dered_u   dered_g   dered_r   dered_i   dered_z         z\n",
       "3419  20.17142  18.79695  17.50083  16.91569  16.77261  0.000035\n",
       "2517  19.88788  17.96157  17.25798  17.01047  16.88762  0.000012\n",
       "815   16.29671  15.12035  14.87958  14.83347  14.85634  0.000032\n",
       "4408  18.76560  18.31343  17.73962  17.27152  17.19228  0.182231\n",
       "2111  20.27546  18.88793  17.69800  17.27117  16.96911  0.244633"
      ]
     },
     "execution_count": 4,
     "metadata": {},
     "output_type": "execute_result"
    }
   ],
   "source": [
    "data_clean = data.drop(columns=['zWarning','objID','err_u', 'err_g', 'err_r', 'err_i', 'err_z', 'zErr', 'class', 'subClass', 'photoZ','photoErr','type'])\n",
    "data_clean.head()"
   ]
  },
  {
   "cell_type": "code",
   "execution_count": 5,
   "metadata": {},
   "outputs": [
    {
     "data": {
      "text/html": [
       "<div>\n",
       "<style scoped>\n",
       "    .dataframe tbody tr th:only-of-type {\n",
       "        vertical-align: middle;\n",
       "    }\n",
       "\n",
       "    .dataframe tbody tr th {\n",
       "        vertical-align: top;\n",
       "    }\n",
       "\n",
       "    .dataframe thead th {\n",
       "        text-align: right;\n",
       "    }\n",
       "</style>\n",
       "<table border=\"1\" class=\"dataframe\">\n",
       "  <thead>\n",
       "    <tr style=\"text-align: right;\">\n",
       "      <th></th>\n",
       "      <th>dered_u</th>\n",
       "      <th>dered_g</th>\n",
       "      <th>dered_r</th>\n",
       "      <th>dered_i</th>\n",
       "      <th>dered_z</th>\n",
       "      <th>z</th>\n",
       "    </tr>\n",
       "  </thead>\n",
       "  <tbody>\n",
       "    <tr>\n",
       "      <th>count</th>\n",
       "      <td>13671.000000</td>\n",
       "      <td>13671.000000</td>\n",
       "      <td>13671.000000</td>\n",
       "      <td>13671.000000</td>\n",
       "      <td>13671.000000</td>\n",
       "      <td>1.367100e+04</td>\n",
       "    </tr>\n",
       "    <tr>\n",
       "      <th>mean</th>\n",
       "      <td>19.123679</td>\n",
       "      <td>17.910556</td>\n",
       "      <td>17.236257</td>\n",
       "      <td>16.870452</td>\n",
       "      <td>16.628443</td>\n",
       "      <td>1.458658e-01</td>\n",
       "    </tr>\n",
       "    <tr>\n",
       "      <th>std</th>\n",
       "      <td>1.112383</td>\n",
       "      <td>1.220852</td>\n",
       "      <td>1.296912</td>\n",
       "      <td>1.318627</td>\n",
       "      <td>1.307353</td>\n",
       "      <td>2.567484e-01</td>\n",
       "    </tr>\n",
       "    <tr>\n",
       "      <th>min</th>\n",
       "      <td>6.673403</td>\n",
       "      <td>9.884518</td>\n",
       "      <td>9.321852</td>\n",
       "      <td>9.242759</td>\n",
       "      <td>9.800303</td>\n",
       "      <td>7.937708e-09</td>\n",
       "    </tr>\n",
       "    <tr>\n",
       "      <th>25%</th>\n",
       "      <td>18.571080</td>\n",
       "      <td>17.265860</td>\n",
       "      <td>16.477270</td>\n",
       "      <td>16.057380</td>\n",
       "      <td>15.791895</td>\n",
       "      <td>1.045076e-03</td>\n",
       "    </tr>\n",
       "    <tr>\n",
       "      <th>50%</th>\n",
       "      <td>19.270480</td>\n",
       "      <td>17.991810</td>\n",
       "      <td>17.242790</td>\n",
       "      <td>16.860720</td>\n",
       "      <td>16.611150</td>\n",
       "      <td>9.544864e-02</td>\n",
       "    </tr>\n",
       "    <tr>\n",
       "      <th>75%</th>\n",
       "      <td>19.871815</td>\n",
       "      <td>18.639680</td>\n",
       "      <td>18.055465</td>\n",
       "      <td>17.725690</td>\n",
       "      <td>17.495920</td>\n",
       "      <td>1.923601e-01</td>\n",
       "    </tr>\n",
       "    <tr>\n",
       "      <th>max</th>\n",
       "      <td>21.491850</td>\n",
       "      <td>20.960650</td>\n",
       "      <td>21.669820</td>\n",
       "      <td>20.886630</td>\n",
       "      <td>20.105530</td>\n",
       "      <td>6.215998e+00</td>\n",
       "    </tr>\n",
       "  </tbody>\n",
       "</table>\n",
       "</div>"
      ],
      "text/plain": [
       "            dered_u       dered_g       dered_r       dered_i       dered_z  \\\n",
       "count  13671.000000  13671.000000  13671.000000  13671.000000  13671.000000   \n",
       "mean      19.123679     17.910556     17.236257     16.870452     16.628443   \n",
       "std        1.112383      1.220852      1.296912      1.318627      1.307353   \n",
       "min        6.673403      9.884518      9.321852      9.242759      9.800303   \n",
       "25%       18.571080     17.265860     16.477270     16.057380     15.791895   \n",
       "50%       19.270480     17.991810     17.242790     16.860720     16.611150   \n",
       "75%       19.871815     18.639680     18.055465     17.725690     17.495920   \n",
       "max       21.491850     20.960650     21.669820     20.886630     20.105530   \n",
       "\n",
       "                  z  \n",
       "count  1.367100e+04  \n",
       "mean   1.458658e-01  \n",
       "std    2.567484e-01  \n",
       "min    7.937708e-09  \n",
       "25%    1.045076e-03  \n",
       "50%    9.544864e-02  \n",
       "75%    1.923601e-01  \n",
       "max    6.215998e+00  "
      ]
     },
     "execution_count": 5,
     "metadata": {},
     "output_type": "execute_result"
    }
   ],
   "source": [
    "data_clean.describe()"
   ]
  },
  {
   "cell_type": "code",
   "execution_count": 6,
   "metadata": {},
   "outputs": [],
   "source": [
    "def hist_plots( data: pd.DataFrame,\n",
    "               rows: int,\n",
    "              cols: int,\n",
    "              figsize: tuple):\n",
    "    fig, axes = plt.subplots(rows,cols, figsize=figsize)\n",
    "    for i, ax in enumerate(axes.flatten()):\n",
    "        if i < len(data.columns):\n",
    "            data[(data.columns)[i]].plot.hist(bins=30, ax=ax)\n",
    "            ax.set_title(f'{(data.columns)[i]} distribution', fontsize=10)\n",
    "            ax.tick_params(axis='x', labelsize=10)\n",
    "            ax.tick_params(axis='y', labelsize=10)\n",
    "            ax.get_yaxis().get_label().set_visible(False)\n",
    "            # Making it pretty with frame and grid\n",
    "            ax.spines['top'].set_color('black')\n",
    "            ax.spines['right'].set_color('black')\n",
    "            ax.spines['bottom'].set_color('black')\n",
    "            ax.spines['left'].set_color('black')\n",
    "            ax.spines['top'].set_linewidth(1)\n",
    "            ax.spines['right'].set_linewidth(1)\n",
    "            ax.spines['bottom'].set_linewidth(1)\n",
    "            ax.spines['left'].set_linewidth(1)\n",
    "            ax.grid(color='b', linestyle='-', linewidth=0.5)\n",
    "            ax.set_facecolor('xkcd:white')\n",
    "        else:\n",
    "            fig.delaxes(ax=ax)\n",
    "    fig.tight_layout()"
   ]
  },
  {
   "cell_type": "code",
   "execution_count": 7,
   "metadata": {},
   "outputs": [
    {
     "data": {
      "image/png": "[encoded data removed]",
      "text/plain": [
       "<Figure size 1440x720 with 6 Axes>"
      ]
     },
     "metadata": {
      "needs_background": "light"
     },
     "output_type": "display_data"
    }
   ],
   "source": [
    "hist_plots(data=data_clean,\n",
    "          rows=2,\n",
    "          cols=4,\n",
    "          figsize=(20,10))\n",
    "#plt.savefig(filepath+'images/zhistplot.png')"
   ]
  },
  {
   "cell_type": "markdown",
   "metadata": {},
   "source": [
    "The dered magnitudes follow roughly a normal distrubution with a tail towards brighter (lower values) magnitudes. There is also a small bumps on the right side of the distributions of the bands dered_r, dered_i and dered_z. "
   ]
  },
  {
   "cell_type": "markdown",
   "metadata": {},
   "source": [
    "## Looking at Redshifts\n",
    "\n",
    "The columns of photoZ and photoErr refer to the redshift determined using only photometric(the magnitudes in the 5 SDSS bands) data. This was done using a kd-tree nearest neighbor fit (KF). There is more information on [photoZ page](https://www.sdss4.org/dr16/algorithms/photo-z/). The columns z and zERR refer to the spectroscopic redshifts obtained by comparing the spectra obtained with the assumed spectra at redshift 0. "
   ]
  },
  {
   "cell_type": "code",
   "execution_count": 8,
   "metadata": {},
   "outputs": [
    {
     "data": {
      "text/plain": [
       "Text(0.5, 1.0, 'Redshif and PhotoZ Histograms')"
      ]
     },
     "execution_count": 8,
     "metadata": {},
     "output_type": "execute_result"
    },
    {
     "data": {
      "image/png": "[encoded data removed]",
      "text/plain": [
       "<Figure size 432x288 with 1 Axes>"
      ]
     },
     "metadata": {
      "needs_background": "light"
     },
     "output_type": "display_data"
    }
   ],
   "source": [
    "bins= 100\n",
    "ax = plt.subplot(111)\n",
    "ax.hist(data['z'] , bins,histtype='step', linewidth=2,label='spec_z')\n",
    "ax.hist(data['photoZ'] , bins,histtype='step', linewidth=2, label='photo_z')\n",
    "# Making it pretty with frame and grid\n",
    "ax.spines['top'].set_color('black')\n",
    "ax.spines['right'].set_color('black')\n",
    "ax.spines['bottom'].set_color('black')\n",
    "ax.spines['left'].set_color('black')\n",
    "ax.spines['top'].set_linewidth(1)\n",
    "ax.spines['right'].set_linewidth(1)\n",
    "ax.spines['bottom'].set_linewidth(1)\n",
    "ax.spines['left'].set_linewidth(1)\n",
    "ax.grid(color='b', linestyle='-', linewidth=0.5)\n",
    "ax.set_facecolor('xkcd:white')\n",
    "#set legend, lables and title\n",
    "ax.legend(loc='upper left',fontsize=12)\n",
    "#plt.set_xlabel(n)\n",
    "ax.set_title('Redshif and PhotoZ Histograms', fontsize=16)"
   ]
  },
  {
   "cell_type": "markdown",
   "metadata": {},
   "source": [
    "The distribution of the photometric redshift ranges from -10000 to positive numbers. In these cases, the photometric reshift werent able to determine the actual values of the redshift. The known values of redshift range from 0 up to around 11. But the vast majority of objects with known redshifts have values between 0 and 7."
   ]
  },
  {
   "cell_type": "code",
   "execution_count": 9,
   "metadata": {},
   "outputs": [
    {
     "name": "stdout",
     "output_type": "stream",
     "text": [
      "Removing 165 objects with negative values of photoZ\n"
     ]
    },
    {
     "data": {
      "image/png": "[encoded data removed]",
      "text/plain": [
       "<Figure size 432x288 with 1 Axes>"
      ]
     },
     "metadata": {
      "needs_background": "light"
     },
     "output_type": "display_data"
    }
   ],
   "source": [
    "# Removing datapoints with negative values of photoZ\n",
    "p_photoZ =data.loc[(data['photoZ'] >= 0.0)]['photoZ']\n",
    "specZ = data['z']\n",
    "p_specZ = data.loc[(data['photoZ'] >= 0.0)]['z']\n",
    "print(f'Removing {specZ.count() - p_photoZ.count()} objects with negative values of photoZ' )\n",
    "# Ploting the new distributions of photoZ and z\n",
    "ax = plt.subplot(111)\n",
    "#Plotting the two distributions of redshift\n",
    "ax.hist(p_specZ , bins = 100,  histtype='step', linewidth=2,label='spec_z')\n",
    "ax.hist(p_photoZ , histtype='step', linewidth=2, label='photo_z')\n",
    "# Making it pretty with frame and grid\n",
    "ax.spines['top'].set_color('black')\n",
    "ax.spines['right'].set_color('black')\n",
    "ax.spines['bottom'].set_color('black')\n",
    "ax.spines['left'].set_color('black')\n",
    "ax.spines['top'].set_linewidth(1)\n",
    "ax.spines['right'].set_linewidth(1)\n",
    "ax.spines['bottom'].set_linewidth(1)\n",
    "ax.spines['left'].set_linewidth(1)\n",
    "ax.grid(color='b', linestyle='-', linewidth=0.5)\n",
    "ax.set_facecolor('xkcd:white')\n",
    "#set legend, lables and title\n",
    "ax.legend(loc='upper right',fontsize=12)\n",
    "#plt.set_xlabel(n)\n",
    "ax.set_title('Redshift and PhotoZ Histograms', fontsize=16)\n",
    "plt.show()"
   ]
  },
  {
   "cell_type": "markdown",
   "metadata": {},
   "source": [
    "Both distributions are similar within the range of 0-0.8. The reason for choosing 2 different number of bins is that the  range of values in redshift differ from each other. The photometric redshift (eliminating negative values) ranges from 0-0.8 while the range of spectroscopic redshift is of 0 - 6 but the main area of the redshift is between 0- 0.8 with a long tail. This means that for these objects with redshift more than 0.8, the photometric redshift determines them with lower values of redshift. This means that we are sampling shorter redshift."
   ]
  },
  {
   "cell_type": "code",
   "execution_count": 10,
   "metadata": {},
   "outputs": [
    {
     "name": "stdout",
     "output_type": "stream",
     "text": [
      "Mean photoError: 0.03713\n"
     ]
    }
   ],
   "source": [
    "# Defining the photometric redshifht error for objects with positive fotometric redshifts\n",
    "photozErr= data.loc[(data['photoZ'] >= 0.0)]['photoErr']\n",
    "print('Mean photoError:', round(np.mean(photozErr), 5))"
   ]
  },
  {
   "cell_type": "code",
   "execution_count": 11,
   "metadata": {},
   "outputs": [
    {
     "name": "stdout",
     "output_type": "stream",
     "text": [
      "Mean specError: 4e-05\n"
     ]
    }
   ],
   "source": [
    "# Defining the redshift error for objects with positive fotometric redshifts\n",
    "speczErr= data.loc[(data['photoZ'] >= 0.0)]['zErr']\n",
    "print('Mean specError:', round(np.mean(speczErr), 5))"
   ]
  },
  {
   "cell_type": "markdown",
   "metadata": {},
   "source": [
    "The mean photometric redshift error is aproximately three orders of magnitudes larger then the mean values of spectroscopic redshift error."
   ]
  },
  {
   "cell_type": "markdown",
   "metadata": {},
   "source": [
    "## Sampling without photoZ values\n",
    "\n",
    "In the histogram before, the values of the redshift sample mainly the population of objects with redshifts between 0-0.8. This bias may affect mostly galaxies and QSOs In this section, I check if by not constraining the data to have photoZ values if it also contrains the range of redshifts sampled. I use the same method and sql script as the original data but remove the values of photoZ and photoErr and with that also the inner join to the PhotoZ table."
   ]
  },
  {
   "cell_type": "code",
   "execution_count": 12,
   "metadata": {},
   "outputs": [
    {
     "data": {
      "text/html": [
       "<div>\n",
       "<style scoped>\n",
       "    .dataframe tbody tr th:only-of-type {\n",
       "        vertical-align: middle;\n",
       "    }\n",
       "\n",
       "    .dataframe tbody tr th {\n",
       "        vertical-align: top;\n",
       "    }\n",
       "\n",
       "    .dataframe thead th {\n",
       "        text-align: right;\n",
       "    }\n",
       "</style>\n",
       "<table border=\"1\" class=\"dataframe\">\n",
       "  <thead>\n",
       "    <tr style=\"text-align: right;\">\n",
       "      <th></th>\n",
       "      <th>objID</th>\n",
       "      <th>type</th>\n",
       "      <th>dered_u</th>\n",
       "      <th>err_u</th>\n",
       "      <th>dered_g</th>\n",
       "      <th>err_g</th>\n",
       "      <th>dered_r</th>\n",
       "      <th>err_r</th>\n",
       "      <th>dered_i</th>\n",
       "      <th>err_i</th>\n",
       "      <th>dered_z</th>\n",
       "      <th>err_z</th>\n",
       "      <th>z</th>\n",
       "      <th>zErr</th>\n",
       "      <th>zWarning</th>\n",
       "    </tr>\n",
       "  </thead>\n",
       "  <tbody>\n",
       "    <tr>\n",
       "      <th>count</th>\n",
       "      <td>1.500000e+04</td>\n",
       "      <td>15000.000000</td>\n",
       "      <td>15000.000000</td>\n",
       "      <td>15000.000000</td>\n",
       "      <td>15000.000000</td>\n",
       "      <td>15000.000000</td>\n",
       "      <td>15000.000000</td>\n",
       "      <td>15000.000000</td>\n",
       "      <td>15000.000000</td>\n",
       "      <td>15000.000000</td>\n",
       "      <td>15000.000000</td>\n",
       "      <td>15000.000000</td>\n",
       "      <td>1.500000e+04</td>\n",
       "      <td>1.500000e+04</td>\n",
       "      <td>15000.0</td>\n",
       "    </tr>\n",
       "    <tr>\n",
       "      <th>mean</th>\n",
       "      <td>1.237663e+18</td>\n",
       "      <td>4.929000</td>\n",
       "      <td>19.278773</td>\n",
       "      <td>0.042984</td>\n",
       "      <td>18.242983</td>\n",
       "      <td>0.009593</td>\n",
       "      <td>17.803544</td>\n",
       "      <td>0.009490</td>\n",
       "      <td>17.590448</td>\n",
       "      <td>0.010945</td>\n",
       "      <td>17.445029</td>\n",
       "      <td>0.029899</td>\n",
       "      <td>5.338676e-01</td>\n",
       "      <td>1.237876e-04</td>\n",
       "      <td>0.0</td>\n",
       "    </tr>\n",
       "    <tr>\n",
       "      <th>std</th>\n",
       "      <td>7.483467e+12</td>\n",
       "      <td>1.437392</td>\n",
       "      <td>1.073886</td>\n",
       "      <td>0.023426</td>\n",
       "      <td>1.280207</td>\n",
       "      <td>0.005298</td>\n",
       "      <td>1.444430</td>\n",
       "      <td>0.006185</td>\n",
       "      <td>1.521226</td>\n",
       "      <td>0.007890</td>\n",
       "      <td>1.569711</td>\n",
       "      <td>0.025342</td>\n",
       "      <td>8.067329e-01</td>\n",
       "      <td>3.004838e-04</td>\n",
       "      <td>0.0</td>\n",
       "    </tr>\n",
       "    <tr>\n",
       "      <th>min</th>\n",
       "      <td>1.237646e+18</td>\n",
       "      <td>3.000000</td>\n",
       "      <td>7.552934</td>\n",
       "      <td>0.003263</td>\n",
       "      <td>7.661058</td>\n",
       "      <td>0.000773</td>\n",
       "      <td>8.319589</td>\n",
       "      <td>0.000540</td>\n",
       "      <td>10.746470</td>\n",
       "      <td>0.000361</td>\n",
       "      <td>8.741409</td>\n",
       "      <td>0.001826</td>\n",
       "      <td>5.417808e-09</td>\n",
       "      <td>2.446185e-07</td>\n",
       "      <td>0.0</td>\n",
       "    </tr>\n",
       "    <tr>\n",
       "      <th>25%</th>\n",
       "      <td>1.237658e+18</td>\n",
       "      <td>3.000000</td>\n",
       "      <td>18.716025</td>\n",
       "      <td>0.023869</td>\n",
       "      <td>17.467247</td>\n",
       "      <td>0.005797</td>\n",
       "      <td>16.804580</td>\n",
       "      <td>0.005041</td>\n",
       "      <td>16.486115</td>\n",
       "      <td>0.005232</td>\n",
       "      <td>16.265550</td>\n",
       "      <td>0.010507</td>\n",
       "      <td>3.022298e-04</td>\n",
       "      <td>1.047030e-05</td>\n",
       "      <td>0.0</td>\n",
       "    </tr>\n",
       "    <tr>\n",
       "      <th>50%</th>\n",
       "      <td>1.237662e+18</td>\n",
       "      <td>6.000000</td>\n",
       "      <td>19.425340</td>\n",
       "      <td>0.039461</td>\n",
       "      <td>18.242070</td>\n",
       "      <td>0.008259</td>\n",
       "      <td>17.639700</td>\n",
       "      <td>0.007119</td>\n",
       "      <td>17.365905</td>\n",
       "      <td>0.007650</td>\n",
       "      <td>17.256925</td>\n",
       "      <td>0.019170</td>\n",
       "      <td>8.968894e-02</td>\n",
       "      <td>2.082942e-05</td>\n",
       "      <td>0.0</td>\n",
       "    </tr>\n",
       "    <tr>\n",
       "      <th>75%</th>\n",
       "      <td>1.237667e+18</td>\n",
       "      <td>6.000000</td>\n",
       "      <td>20.037327</td>\n",
       "      <td>0.059336</td>\n",
       "      <td>19.222772</td>\n",
       "      <td>0.011863</td>\n",
       "      <td>19.024073</td>\n",
       "      <td>0.012156</td>\n",
       "      <td>18.929403</td>\n",
       "      <td>0.014503</td>\n",
       "      <td>18.864542</td>\n",
       "      <td>0.042937</td>\n",
       "      <td>9.271685e-01</td>\n",
       "      <td>1.645424e-04</td>\n",
       "      <td>0.0</td>\n",
       "    </tr>\n",
       "    <tr>\n",
       "      <th>max</th>\n",
       "      <td>1.237681e+18</td>\n",
       "      <td>6.000000</td>\n",
       "      <td>21.546420</td>\n",
       "      <td>0.099982</td>\n",
       "      <td>22.145940</td>\n",
       "      <td>0.089225</td>\n",
       "      <td>21.324990</td>\n",
       "      <td>0.077705</td>\n",
       "      <td>21.340340</td>\n",
       "      <td>0.087281</td>\n",
       "      <td>20.616610</td>\n",
       "      <td>0.099979</td>\n",
       "      <td>6.164721e+00</td>\n",
       "      <td>2.278432e-02</td>\n",
       "      <td>0.0</td>\n",
       "    </tr>\n",
       "  </tbody>\n",
       "</table>\n",
       "</div>"
      ],
      "text/plain": [
       "              objID          type       dered_u         err_u       dered_g  \\\n",
       "count  1.500000e+04  15000.000000  15000.000000  15000.000000  15000.000000   \n",
       "mean   1.237663e+18      4.929000     19.278773      0.042984     18.242983   \n",
       "std    7.483467e+12      1.437392      1.073886      0.023426      1.280207   \n",
       "min    1.237646e+18      3.000000      7.552934      0.003263      7.661058   \n",
       "25%    1.237658e+18      3.000000     18.716025      0.023869     17.467247   \n",
       "50%    1.237662e+18      6.000000     19.425340      0.039461     18.242070   \n",
       "75%    1.237667e+18      6.000000     20.037327      0.059336     19.222772   \n",
       "max    1.237681e+18      6.000000     21.546420      0.099982     22.145940   \n",
       "\n",
       "              err_g       dered_r         err_r       dered_i         err_i  \\\n",
       "count  15000.000000  15000.000000  15000.000000  15000.000000  15000.000000   \n",
       "mean       0.009593     17.803544      0.009490     17.590448      0.010945   \n",
       "std        0.005298      1.444430      0.006185      1.521226      0.007890   \n",
       "min        0.000773      8.319589      0.000540     10.746470      0.000361   \n",
       "25%        0.005797     16.804580      0.005041     16.486115      0.005232   \n",
       "50%        0.008259     17.639700      0.007119     17.365905      0.007650   \n",
       "75%        0.011863     19.024073      0.012156     18.929403      0.014503   \n",
       "max        0.089225     21.324990      0.077705     21.340340      0.087281   \n",
       "\n",
       "            dered_z         err_z             z          zErr  zWarning  \n",
       "count  15000.000000  15000.000000  1.500000e+04  1.500000e+04   15000.0  \n",
       "mean      17.445029      0.029899  5.338676e-01  1.237876e-04       0.0  \n",
       "std        1.569711      0.025342  8.067329e-01  3.004838e-04       0.0  \n",
       "min        8.741409      0.001826  5.417808e-09  2.446185e-07       0.0  \n",
       "25%       16.265550      0.010507  3.022298e-04  1.047030e-05       0.0  \n",
       "50%       17.256925      0.019170  8.968894e-02  2.082942e-05       0.0  \n",
       "75%       18.864542      0.042937  9.271685e-01  1.645424e-04       0.0  \n",
       "max       20.616610      0.099979  6.164721e+00  2.278432e-02       0.0  "
      ]
     },
     "execution_count": 12,
     "metadata": {},
     "output_type": "execute_result"
    }
   ],
   "source": [
    "new_galaxy = pd.read_csv(filepath+\"galaxy_nophotoZ4.csv\")\n",
    "new_star = pd.read_csv(filepath+\"star_nophotoZ.csv\")\n",
    "new_QSO = pd.read_csv(filepath+\"QSO_nophotoZ.csv\")\n",
    "#Create the data frame from the three sets of data\n",
    "data_nophoto = pd.concat([new_star, new_QSO, new_galaxy])\n",
    "#Scramble the data set so that it is not ordered by spectral class (QSO, galaxy or star) \n",
    "data_nophoto = data_nophoto.sample(frac=1)\n",
    "data_nophoto.describe()"
   ]
  },
  {
   "cell_type": "code",
   "execution_count": 13,
   "metadata": {},
   "outputs": [
    {
     "name": "stdout",
     "output_type": "stream",
     "text": [
      "Number of data points in the star dataframe 5000\n",
      "Number of data points in the OSO dataframe 5000\n",
      "Number of data points in the galaxy dataframe 5000\n"
     ]
    }
   ],
   "source": [
    "print(f'Number of data points in the star dataframe {new_star[\"z\"].count()}')\n",
    "print(f'Number of data points in the OSO dataframe {new_QSO[\"z\"].count()}')\n",
    "print(f'Number of data points in the galaxy dataframe {new_galaxy[\"z\"].count()}')"
   ]
  },
  {
   "cell_type": "markdown",
   "metadata": {},
   "source": [
    "Now the combine data set will be balance between the three classes. Maybe the discrepancy between the star datasets is because of the contraint on the photometric values. "
   ]
  },
  {
   "cell_type": "code",
   "execution_count": 14,
   "metadata": {},
   "outputs": [],
   "source": [
    "# converting class from categorical to numerical\n",
    "def type_to_value(n):\n",
    "    if n == 'STAR':\n",
    "        return 1\n",
    "    elif n == 'QSO':\n",
    "        return 2\n",
    "    elif n == 'GALAXY':\n",
    "        return 3\n",
    "    \n",
    "\n",
    "data['nClass'] = [type_to_value(n) for n in data['class']]\n",
    "data_nophoto['nClass'] = [type_to_value(n) for n in data_nophoto['class']]"
   ]
  },
  {
   "cell_type": "code",
   "execution_count": 15,
   "metadata": {
    "scrolled": true
   },
   "outputs": [
    {
     "data": {
      "image/png": "[encoded data removed]",
      "text/plain": [
       "<Figure size 1440x720 with 3 Axes>"
      ]
     },
     "metadata": {
      "needs_background": "light"
     },
     "output_type": "display_data"
    }
   ],
   "source": [
    "# Plotting the distributions of redshifts (z and photoZ) for each class (star, QSO, galaxy)\n",
    "bins= 50\n",
    "\n",
    "cols = [1, 2, 3]\n",
    "fig,axs = plt.subplots(1,3, figsize=(20,10), edgecolor='black')\n",
    "axs = axs.ravel()\n",
    "\n",
    "for i, n in enumerate(cols):\n",
    "    ax = axs[i]\n",
    "    if i < len(cols):\n",
    "        #create the histograms for the object type per band\n",
    "        ax.hist(data[data['nClass']== n]['z'],bins= bins,histtype='step', linewidth=2,label='With PhotoZ')\n",
    "        ax.hist(data_nophoto[data_nophoto['nClass']== n]['z'],bins= bins,histtype='step', linewidth=2, label='No PhotoZ')\n",
    "        # Making it pretty with frame and grid\n",
    "        ax.spines['top'].set_color('black')\n",
    "        ax.spines['right'].set_color('black')\n",
    "        ax.spines['bottom'].set_color('black')\n",
    "        ax.spines['left'].set_color('black')\n",
    "        ax.spines['top'].set_linewidth(1)\n",
    "        ax.spines['right'].set_linewidth(1)\n",
    "        ax.spines['bottom'].set_linewidth(1)\n",
    "        ax.spines['left'].set_linewidth(1)\n",
    "        ax.grid(color='b', linestyle='-', linewidth=0.5)\n",
    "        ax.set_facecolor('xkcd:white')\n",
    "        #set legend, lables and title\n",
    "        ax.legend(loc='upper right',fontsize=12)\n",
    "        ax.set_xlabel('z')\n",
    "        ax.set_title(f'{n} histogram', fontsize=16)\n",
    "    else:\n",
    "        fig.delaxes(ax=ax)\n",
    "            \n",
    "fig.suptitle('Distribution of Redshifts per Object Type', fontsize=20, fontweight=\"bold\")\n",
    "fig.tight_layout()\n",
    "plt.show()"
   ]
  },
  {
   "cell_type": "markdown",
   "metadata": {},
   "source": [
    "Both distributions of spectroscopic redshifts (z) for the datasets with and without photometric redshift contraint are very similar for the class 1(star) and class 3(galaxy). For the class2(QSO), both distributions are quite different. The distribution of photoZ has values mostly in the region between 0 and 1. While the distribution of z has values mostly between 0 and 3. \n",
    "\n",
    "Because of this and the fact that without the photoZ contraint the  dataset is balanced, I decided that for building the models to determine redshift I will use the dataset without photometric constraint."
   ]
  },
  {
   "cell_type": "markdown",
   "metadata": {},
   "source": [
    "## Prepping new dataset"
   ]
  },
  {
   "cell_type": "code",
   "execution_count": 16,
   "metadata": {},
   "outputs": [
    {
     "data": {
      "text/html": [
       "<div>\n",
       "<style scoped>\n",
       "    .dataframe tbody tr th:only-of-type {\n",
       "        vertical-align: middle;\n",
       "    }\n",
       "\n",
       "    .dataframe tbody tr th {\n",
       "        vertical-align: top;\n",
       "    }\n",
       "\n",
       "    .dataframe thead th {\n",
       "        text-align: right;\n",
       "    }\n",
       "</style>\n",
       "<table border=\"1\" class=\"dataframe\">\n",
       "  <thead>\n",
       "    <tr style=\"text-align: right;\">\n",
       "      <th></th>\n",
       "      <th>dered_u</th>\n",
       "      <th>dered_g</th>\n",
       "      <th>dered_r</th>\n",
       "      <th>dered_i</th>\n",
       "      <th>dered_z</th>\n",
       "      <th>z</th>\n",
       "      <th>nClass</th>\n",
       "    </tr>\n",
       "  </thead>\n",
       "  <tbody>\n",
       "    <tr>\n",
       "      <th>4703</th>\n",
       "      <td>17.88066</td>\n",
       "      <td>17.02852</td>\n",
       "      <td>16.75267</td>\n",
       "      <td>16.66802</td>\n",
       "      <td>16.64030</td>\n",
       "      <td>0.000108</td>\n",
       "      <td>1</td>\n",
       "    </tr>\n",
       "    <tr>\n",
       "      <th>2612</th>\n",
       "      <td>17.59278</td>\n",
       "      <td>15.86288</td>\n",
       "      <td>15.12480</td>\n",
       "      <td>14.75860</td>\n",
       "      <td>14.48882</td>\n",
       "      <td>0.026023</td>\n",
       "      <td>3</td>\n",
       "    </tr>\n",
       "    <tr>\n",
       "      <th>1567</th>\n",
       "      <td>17.44728</td>\n",
       "      <td>16.63208</td>\n",
       "      <td>16.39014</td>\n",
       "      <td>16.30775</td>\n",
       "      <td>16.29500</td>\n",
       "      <td>0.000111</td>\n",
       "      <td>1</td>\n",
       "    </tr>\n",
       "    <tr>\n",
       "      <th>2372</th>\n",
       "      <td>18.73686</td>\n",
       "      <td>16.75556</td>\n",
       "      <td>15.92954</td>\n",
       "      <td>15.58658</td>\n",
       "      <td>15.29613</td>\n",
       "      <td>0.052454</td>\n",
       "      <td>3</td>\n",
       "    </tr>\n",
       "    <tr>\n",
       "      <th>217</th>\n",
       "      <td>19.94895</td>\n",
       "      <td>19.59518</td>\n",
       "      <td>19.25947</td>\n",
       "      <td>19.32337</td>\n",
       "      <td>19.24062</td>\n",
       "      <td>0.983239</td>\n",
       "      <td>2</td>\n",
       "    </tr>\n",
       "  </tbody>\n",
       "</table>\n",
       "</div>"
      ],
      "text/plain": [
       "       dered_u   dered_g   dered_r   dered_i   dered_z         z  nClass\n",
       "4703  17.88066  17.02852  16.75267  16.66802  16.64030  0.000108       1\n",
       "2612  17.59278  15.86288  15.12480  14.75860  14.48882  0.026023       3\n",
       "1567  17.44728  16.63208  16.39014  16.30775  16.29500  0.000111       1\n",
       "2372  18.73686  16.75556  15.92954  15.58658  15.29613  0.052454       3\n",
       "217   19.94895  19.59518  19.25947  19.32337  19.24062  0.983239       2"
      ]
     },
     "execution_count": 16,
     "metadata": {},
     "output_type": "execute_result"
    }
   ],
   "source": [
    "data_cl = data_nophoto.drop(columns=['zWarning','objID','err_u', 'err_g', 'err_r', 'err_i', 'err_z', 'zErr', 'class', 'subClass','type'])\n",
    "data_cl.head()"
   ]
  },
  {
   "cell_type": "markdown",
   "metadata": {},
   "source": [
    "## Looking at magnitudes and colours for the data_nophoto "
   ]
  },
  {
   "cell_type": "code",
   "execution_count": 17,
   "metadata": {
    "scrolled": true
   },
   "outputs": [
    {
     "data": {
      "image/png": "[encoded data removed]",
      "text/plain": [
       "<Figure size 1440x720 with 7 Axes>"
      ]
     },
     "metadata": {
      "needs_background": "light"
     },
     "output_type": "display_data"
    }
   ],
   "source": [
    "hist_plots(data=data_cl,\n",
    "          rows=3,\n",
    "          cols=3,\n",
    "          figsize=(20,10))"
   ]
  },
  {
   "cell_type": "markdown",
   "metadata": {},
   "source": [
    "The distribution of the magnitudes per band doesn't have a normal distribution like the distributions with photoZconstrains. This could be due to the fact that I am combining three different populations."
   ]
  },
  {
   "cell_type": "code",
   "execution_count": 18,
   "metadata": {},
   "outputs": [
    {
     "data": {
      "image/png": "[encoded data removed]",
      "text/plain": [
       "<Figure size 1440x720 with 6 Axes>"
      ]
     },
     "metadata": {
      "needs_background": "light"
     },
     "output_type": "display_data"
    }
   ],
   "source": [
    "# Plotting the magnitudes per band per class\n",
    "cols = ['dered_u','dered_g','dered_r','dered_i','dered_z']\n",
    "bins= 100\n",
    "# Create subplots and plot histograms\n",
    "fig,axs = plt.subplots(2,3, figsize=(20,10), edgecolor='black')\n",
    "axs = axs.ravel()\n",
    "data.loc[(data['photoZ'] >= 0.0)]['photoErr']\n",
    "for i, n in enumerate(cols):\n",
    "    ax = axs[i]\n",
    "    X = data_cl[n]\n",
    "    if i < len(cols):\n",
    "        #create the histograms for the object type per band\n",
    "        ax.hist(X.loc[data_cl['nClass']==1], bins,histtype='step', linewidth=2,label='star')\n",
    "        ax.hist(X.loc[data_cl['nClass']==2], bins,histtype='step', linewidth=2, label='QSO')\n",
    "        ax.hist(X.loc[data_cl['nClass']==3], bins,histtype='step', linewidth=2, label='galaxy')\n",
    "        # Making it pretty with frame and grid\n",
    "        ax.spines['top'].set_color('black')\n",
    "        ax.spines['right'].set_color('black')\n",
    "        ax.spines['bottom'].set_color('black')\n",
    "        ax.spines['left'].set_color('black')\n",
    "        ax.spines['top'].set_linewidth(1)\n",
    "        ax.spines['right'].set_linewidth(1)\n",
    "        ax.spines['bottom'].set_linewidth(1)\n",
    "        ax.spines['left'].set_linewidth(1)\n",
    "        ax.grid(color='b', linestyle='-', linewidth=0.5)\n",
    "        ax.set_facecolor('xkcd:white')\n",
    "        #set legend, lables and title\n",
    "        ax.legend(loc='upper left',fontsize=12)\n",
    "        ax.set_xlabel(n)\n",
    "        ax.set_title(f'({n}) histogram', fontsize=16)\n",
    "    else:\n",
    "        fig.delaxes(ax=ax)\n",
    "            \n",
    "fig.suptitle('Distribution of Magnitudes per band per Object Type', fontsize=20, fontweight=\"bold\")\n",
    "fig.tight_layout()\n",
    "plt.show()"
   ]
  },
  {
   "cell_type": "markdown",
   "metadata": {},
   "source": [
    "The increasingly bimodal distribution of the magnitudes per band can be explained by the different populations in the dataset. I will use non-parametric learning algorithms to determine redshifts."
   ]
  },
  {
   "cell_type": "code",
   "execution_count": 19,
   "metadata": {},
   "outputs": [
    {
     "data": {
      "text/html": [
       "<div>\n",
       "<style scoped>\n",
       "    .dataframe tbody tr th:only-of-type {\n",
       "        vertical-align: middle;\n",
       "    }\n",
       "\n",
       "    .dataframe tbody tr th {\n",
       "        vertical-align: top;\n",
       "    }\n",
       "\n",
       "    .dataframe thead th {\n",
       "        text-align: right;\n",
       "    }\n",
       "</style>\n",
       "<table border=\"1\" class=\"dataframe\">\n",
       "  <thead>\n",
       "    <tr style=\"text-align: right;\">\n",
       "      <th></th>\n",
       "      <th>dered_u</th>\n",
       "      <th>dered_g</th>\n",
       "      <th>dered_r</th>\n",
       "      <th>dered_i</th>\n",
       "      <th>dered_z</th>\n",
       "      <th>z</th>\n",
       "      <th>nClass</th>\n",
       "      <th>u-g</th>\n",
       "      <th>g-r</th>\n",
       "      <th>r-i</th>\n",
       "      <th>i-z</th>\n",
       "    </tr>\n",
       "  </thead>\n",
       "  <tbody>\n",
       "    <tr>\n",
       "      <th>count</th>\n",
       "      <td>15000.000000</td>\n",
       "      <td>15000.000000</td>\n",
       "      <td>15000.000000</td>\n",
       "      <td>15000.000000</td>\n",
       "      <td>15000.000000</td>\n",
       "      <td>1.500000e+04</td>\n",
       "      <td>15000.000000</td>\n",
       "      <td>15000.000000</td>\n",
       "      <td>15000.000000</td>\n",
       "      <td>15000.000000</td>\n",
       "      <td>15000.000000</td>\n",
       "    </tr>\n",
       "    <tr>\n",
       "      <th>mean</th>\n",
       "      <td>19.278773</td>\n",
       "      <td>18.242983</td>\n",
       "      <td>17.803544</td>\n",
       "      <td>17.590448</td>\n",
       "      <td>17.445029</td>\n",
       "      <td>5.338676e-01</td>\n",
       "      <td>2.000000</td>\n",
       "      <td>1.035791</td>\n",
       "      <td>0.439438</td>\n",
       "      <td>0.213096</td>\n",
       "      <td>0.145420</td>\n",
       "    </tr>\n",
       "    <tr>\n",
       "      <th>std</th>\n",
       "      <td>1.073886</td>\n",
       "      <td>1.280207</td>\n",
       "      <td>1.444430</td>\n",
       "      <td>1.521226</td>\n",
       "      <td>1.569711</td>\n",
       "      <td>8.067329e-01</td>\n",
       "      <td>0.816524</td>\n",
       "      <td>0.647352</td>\n",
       "      <td>0.350960</td>\n",
       "      <td>0.196789</td>\n",
       "      <td>0.171565</td>\n",
       "    </tr>\n",
       "    <tr>\n",
       "      <th>min</th>\n",
       "      <td>7.552934</td>\n",
       "      <td>7.661058</td>\n",
       "      <td>8.319589</td>\n",
       "      <td>10.746470</td>\n",
       "      <td>8.741409</td>\n",
       "      <td>5.417808e-09</td>\n",
       "      <td>1.000000</td>\n",
       "      <td>-1.391450</td>\n",
       "      <td>-1.454840</td>\n",
       "      <td>-3.861471</td>\n",
       "      <td>-1.146380</td>\n",
       "    </tr>\n",
       "    <tr>\n",
       "      <th>25%</th>\n",
       "      <td>18.716025</td>\n",
       "      <td>17.467247</td>\n",
       "      <td>16.804580</td>\n",
       "      <td>16.486115</td>\n",
       "      <td>16.265550</td>\n",
       "      <td>3.022298e-04</td>\n",
       "      <td>1.000000</td>\n",
       "      <td>0.465475</td>\n",
       "      <td>0.174497</td>\n",
       "      <td>0.087350</td>\n",
       "      <td>0.027745</td>\n",
       "    </tr>\n",
       "    <tr>\n",
       "      <th>50%</th>\n",
       "      <td>19.425340</td>\n",
       "      <td>18.242070</td>\n",
       "      <td>17.639700</td>\n",
       "      <td>17.365905</td>\n",
       "      <td>17.256925</td>\n",
       "      <td>8.968894e-02</td>\n",
       "      <td>2.000000</td>\n",
       "      <td>1.048255</td>\n",
       "      <td>0.382455</td>\n",
       "      <td>0.202605</td>\n",
       "      <td>0.133620</td>\n",
       "    </tr>\n",
       "    <tr>\n",
       "      <th>75%</th>\n",
       "      <td>20.037327</td>\n",
       "      <td>19.222772</td>\n",
       "      <td>19.024073</td>\n",
       "      <td>18.929403</td>\n",
       "      <td>18.864542</td>\n",
       "      <td>9.271685e-01</td>\n",
       "      <td>3.000000</td>\n",
       "      <td>1.506298</td>\n",
       "      <td>0.715958</td>\n",
       "      <td>0.372275</td>\n",
       "      <td>0.273913</td>\n",
       "    </tr>\n",
       "    <tr>\n",
       "      <th>max</th>\n",
       "      <td>21.546420</td>\n",
       "      <td>22.145940</td>\n",
       "      <td>21.324990</td>\n",
       "      <td>21.340340</td>\n",
       "      <td>20.616610</td>\n",
       "      <td>6.164721e+00</td>\n",
       "      <td>3.000000</td>\n",
       "      <td>3.653620</td>\n",
       "      <td>3.852890</td>\n",
       "      <td>1.688770</td>\n",
       "      <td>3.762850</td>\n",
       "    </tr>\n",
       "  </tbody>\n",
       "</table>\n",
       "</div>"
      ],
      "text/plain": [
       "            dered_u       dered_g       dered_r       dered_i       dered_z  \\\n",
       "count  15000.000000  15000.000000  15000.000000  15000.000000  15000.000000   \n",
       "mean      19.278773     18.242983     17.803544     17.590448     17.445029   \n",
       "std        1.073886      1.280207      1.444430      1.521226      1.569711   \n",
       "min        7.552934      7.661058      8.319589     10.746470      8.741409   \n",
       "25%       18.716025     17.467247     16.804580     16.486115     16.265550   \n",
       "50%       19.425340     18.242070     17.639700     17.365905     17.256925   \n",
       "75%       20.037327     19.222772     19.024073     18.929403     18.864542   \n",
       "max       21.546420     22.145940     21.324990     21.340340     20.616610   \n",
       "\n",
       "                  z        nClass           u-g           g-r           r-i  \\\n",
       "count  1.500000e+04  15000.000000  15000.000000  15000.000000  15000.000000   \n",
       "mean   5.338676e-01      2.000000      1.035791      0.439438      0.213096   \n",
       "std    8.067329e-01      0.816524      0.647352      0.350960      0.196789   \n",
       "min    5.417808e-09      1.000000     -1.391450     -1.454840     -3.861471   \n",
       "25%    3.022298e-04      1.000000      0.465475      0.174497      0.087350   \n",
       "50%    8.968894e-02      2.000000      1.048255      0.382455      0.202605   \n",
       "75%    9.271685e-01      3.000000      1.506298      0.715958      0.372275   \n",
       "max    6.164721e+00      3.000000      3.653620      3.852890      1.688770   \n",
       "\n",
       "                i-z  \n",
       "count  15000.000000  \n",
       "mean       0.145420  \n",
       "std        0.171565  \n",
       "min       -1.146380  \n",
       "25%        0.027745  \n",
       "50%        0.133620  \n",
       "75%        0.273913  \n",
       "max        3.762850  "
      ]
     },
     "execution_count": 19,
     "metadata": {},
     "output_type": "execute_result"
    }
   ],
   "source": [
    "# Create a function to calculate the colours of the sources\n",
    "def compute_colour(row):\n",
    "    u = row['dered_u']\n",
    "    g = row['dered_g']\n",
    "    r = row['dered_r']\n",
    "    i = row['dered_i']\n",
    "    z = row['dered_z']\n",
    "    return pd.Series({'u-g': u - g, 'g-r': g - r, 'r-i': r - i, 'i-z': i - z})\n",
    "# Apply the function compute_colour\n",
    "colour_ind = data_cl.apply(compute_colour, axis=1)\n",
    "# Create new dataframe with the colours added\n",
    "data_colour = pd.concat([data_cl,colour_ind], axis=1)\n",
    "data_colour.describe()"
   ]
  },
  {
   "cell_type": "code",
   "execution_count": 20,
   "metadata": {},
   "outputs": [
    {
     "data": {
      "image/png": "[encoded data removed]",
      "text/plain": [
       "<Figure size 1440x720 with 4 Axes>"
      ]
     },
     "metadata": {
      "needs_background": "light"
     },
     "output_type": "display_data"
    }
   ],
   "source": [
    "# Plotting colours per object type\n",
    "colour = ['u-g','g-r','r-i','i-z']\n",
    "\n",
    "# Create subplots and plot histograms\n",
    "bins = np.linspace(-4, 4, 100)\n",
    "fig,axs = plt.subplots(2,2, figsize=(20,10), edgecolor='black')\n",
    "axs = axs.ravel()\n",
    "\n",
    "for i, n in enumerate(colour):\n",
    "    ax = axs[i]\n",
    "    X = data_colour[n]\n",
    "    #create the histograms for the object type per colour\n",
    "    ax.hist(X.loc[data_colour['nClass']==1], bins,histtype='step', linewidth=2,label='star')\n",
    "    ax.hist(X.loc[data_colour['nClass']==2], bins,histtype='step', linewidth=2, label='QSO')\n",
    "    ax.hist(X.loc[data_colour['nClass']==3], bins,histtype='step', linewidth=2, label='galaxy')\n",
    "    # Making it pretty with frame and grid\n",
    "    ax.spines['top'].set_color('black')\n",
    "    ax.spines['right'].set_color('black')\n",
    "    ax.spines['bottom'].set_color('black')\n",
    "    ax.spines['left'].set_color('black')\n",
    "    ax.spines['top'].set_linewidth(1)\n",
    "    ax.spines['right'].set_linewidth(1)\n",
    "    ax.spines['bottom'].set_linewidth(1)\n",
    "    ax.spines['left'].set_linewidth(1)\n",
    "    ax.grid(color='b', linestyle='-', linewidth=0.5)\n",
    "    ax.set_facecolor('xkcd:white')\n",
    "    #set legend, lables and title\n",
    "    ax.legend(loc='upper left',fontsize=12)\n",
    "    ax.set_xlabel(n)\n",
    "    ax.set_title(f'({n}) colour histogram', fontsize=16)\n",
    "    \n",
    "fig.suptitle('Distribution of Colour by Object Type', fontsize=20, fontweight=\"bold\")\n",
    "fig.tight_layout(rect=[0, 0, 1, 0.95])\n",
    "plt.show()"
   ]
  },
  {
   "cell_type": "markdown",
   "metadata": {},
   "source": [
    "For stars, in the (u-g) and (g-r) distributions, I was expecting to see a bimodality which would indicate the star is a hot blue star (to the left of the distribution) or a cold red star(to the right). But the distribution on our sample shows no bimodality and has a taile towards redder colours. The distribution of stars seems to be between the destributions of QSOs and galaxies for all colours. \n",
    "\n",
    "For QSOs, the (u-g) distribution peak is much bluer than that of stars and galaxies. It is as expected since what we see in QSOs are the active galactic nuclei(AGN, supermassive black holes) that outshine the stars of their host galaxies. The radiation peaks at the blue end of the spectrum. In the other colours, the distribution is also bluer than the galaxy distribution. \n",
    "\n",
    "For galaxies, there is a bimodal distribution in the (u-g) and the (g-r) distribution has a bump on the left side of the distribution. What we are seeing here is two populations; one population of young blue galaxies and the other of old red galaxies. On the other hand, the distributions of (r-i) and (i-z) show a very narrow distribution with a high peak. This could be due to the fact that we are sampling interstellar dust. Dust can absorb or scatter the light emitted by stars in a galaxy which makes the galaxy appear redder than it actually is. These distributions can be affected by the limited wavelength coverage of the bands."
   ]
  },
  {
   "cell_type": "code",
   "execution_count": 21,
   "metadata": {},
   "outputs": [
    {
     "data": {
      "image/png": "[encoded data removed]",
      "text/plain": [
       "<Figure size 1440x720 with 18 Axes>"
      ]
     },
     "metadata": {
      "needs_background": "light"
     },
     "output_type": "display_data"
    }
   ],
   "source": [
    "# Create 2D distributions for each colour vs colour for each object type\n",
    "fig, axs = plt.subplots(3, 3, figsize=(20, 10), sharex='col')\n",
    "\n",
    "bins = np.linspace(-4, 4, 100)\n",
    "\n",
    "classes = [1, 2, 3]\n",
    "objects = ['Stars', 'QSO', 'Galaxies']\n",
    "\n",
    "\n",
    "for i in range(len(colour)-1):\n",
    "    for j, n in enumerate(classes):\n",
    "        \n",
    "        h = axs[j, i].hist2d(data_colour.loc[data_colour['nClass']==n][colour[i]],\n",
    "                         data_colour.loc[data_colour['nClass']==n][colour[i+1]], bins, cmap='hot')\n",
    "        \n",
    "        # Set labels for each subplot\n",
    "        axs[j, i].set_title(f'({colour[i]}) vs.' f'({colour[i+1]}) for ' f'{objects[j]}')\n",
    "        axs[j, i].set_ylabel(colour[i + 1])\n",
    "        if j>= 2 :\n",
    "                axs[j,i].set_xlabel(colour[i])\n",
    "        \n",
    "        # Add colorbars to each subplot\n",
    "        fig.colorbar(h[3], ax=axs[j, i])    \n",
    "            \n",
    "\n",
    "fig.suptitle('2D Distributions of Colour-Colour plots for Stars, QSOs and Galaxies', \n",
    "             fontsize=16, fontweight=\"bold\")\n",
    "\n",
    "# Show the plot\n",
    "plt.show()"
   ]
  },
  {
   "cell_type": "markdown",
   "metadata": {},
   "source": [
    "Colour-colour plots are tools that help us in the study of the properties of astronomical objects and their evolution over time. In the case of stars, the (u-g) vs. (g-r) plot distinguishes between the hot, blue stars and the cold red stars. The position of a star in the plot depends on its temperature and the composition of its atmosphere, with hotter stars on the lower left side and colder stars on the upper right side. The (g-r) vs. (r-i) plot differentiates between stars of different temperatures and spectral types. The vertical axis (r-i) represents the star's metallicity, with metal-poor stars located towards the bottom and metal-rich stars towards the top. The (r-i) vs. (i-z) plot shows how stars of different colours and metallicities are affected by interstellar dust. Dust extinction causes reddening, which shifts colours to the red side of the spectrum. Stars with higher levels of dust extinction will be located on the upper right side. The plot can also reveal any possible relationships between dust extinction and the age or metallicity of stars.\n",
    "\n",
    "In the case of QSOs, the (u-g) vs. (g-r) plot shows that most of the QSOs lie in a region with a tail that extends to the left and upper side (redder direction). This tail can be caused by two things: higher redshift (distance to the object) or that the spectra of these sources have emissions from the host galaxies too. This is more visible in the (g-r) vs. (r-i) plot where the plot is similar to that of the galaxies plot. The (r-i) vs. (i-z) plot shows a distribution that is very similar to that of galaxies, as we are primarily sampling the host galaxy radiation.\n",
    "\n",
    "In the case of galaxies, the (u-g) vs. (g-r) plot shows a wide range that goes between the blue cloud (young, star-forming galaxies) in the left and down and the red sequence (older and more passive galaxies) in the right and upper side. In the (g-r) vs. (r-i) plot, the (g-r) colour is more sensitive to the age of the galaxy and the (r-i) is more sensitive to their metallicity. The (r-i) vs. (i-z) shows how galaxies are affected by interstellar dust."
   ]
  },
  {
   "cell_type": "code",
   "execution_count": 22,
   "metadata": {},
   "outputs": [
    {
     "data": {
      "image/png": "[encoded data removed]",
      "text/plain": [
       "<Figure size 1440x720 with 3 Axes>"
      ]
     },
     "metadata": {},
     "output_type": "display_data"
    }
   ],
   "source": [
    "#Scatter plot hued by classes\n",
    "\n",
    "sns.set_style(\"ticks\")\n",
    "  \n",
    "fig, axs = plt.subplots(1, 3, figsize=(20, 10))\n",
    "sns.scatterplot(ax= axs[0], x=\"u-g\", y=\"g-r\", data= data_colour, hue='nClass', palette = 'Dark2',\n",
    "             s = 1, alpha = 0.4)\n",
    "sns.scatterplot(ax= axs[1], x=\"g-r\", y=\"r-i\", data= data_colour, hue='nClass', palette = 'Dark2',\n",
    "             s = 1, alpha = 0.4)\n",
    "sns.scatterplot(ax= axs[2], x=\"r-i\", y=\"i-z\", data= data_colour, hue='nClass', palette = 'Dark2',\n",
    "             s = 1, alpha = 0.4)\n",
    "\n",
    "# Add title and legend\n",
    "plt.title('(u-g) vs. (g-r) for all Object Types', fontweight=\"bold\")\n",
    "#plt.legend( objects,fontsize=10, loc='upper left')\n",
    "#plt.savefig('/home/veroastro/Documents/spectraTypes/images/scatter_classes.pdf')\n",
    "plt.show()"
   ]
  },
  {
   "cell_type": "markdown",
   "metadata": {},
   "source": [
    "The (u-g) vs (g-r) plot shows that the different classes occupy somewhat different regions of colour space.  Although there is the plenty intersection between them. In the other two plots the regions are less well defined. "
   ]
  },
  {
   "cell_type": "markdown",
   "metadata": {},
   "source": [
    "# Models and Analysis"
   ]
  },
  {
   "cell_type": "markdown",
   "metadata": {},
   "source": [
    "In order to compare the results of our analysis, we use the dataset with the photometric redshift(photoZ). We calculate the mse of the photoZ with respect to the spectroscopic redshifht(z). It is important to note that this is done with different dataset from the one used to build the models. I do this because our dataset has a fainter (larger value of magnitudes) and the distribution of redshift also tends to higher values(more distant)then the dataset with photoZ. "
   ]
  },
  {
   "cell_type": "code",
   "execution_count": 23,
   "metadata": {},
   "outputs": [
    {
     "name": "stdout",
     "output_type": "stream",
     "text": [
      "Mean Square Error PhotoZ: 0.054\n"
     ]
    }
   ],
   "source": [
    "from sklearn.metrics import mean_squared_error\n",
    "\n",
    "photozErr= data.loc[(data['photoZ'] >= 0.0)]['photoZ']\n",
    "sZ= data.loc[(data['photoZ'] >= 0.0)]['z']\n",
    "print('Mean Square Error PhotoZ:', round(mean_squared_error(sZ,photozErr), 3))"
   ]
  },
  {
   "cell_type": "markdown",
   "metadata": {},
   "source": [
    "The majority of the population on the dataset has a redshift less than 1. Because this might imbalance in the representation of the range of redshift available, I decided to do build the models and do the analysis on different subsets of the data. I divided the data into low with objects whose z is less or equal than 1 and high whith objects whose z is more than 1."
   ]
  },
  {
   "cell_type": "code",
   "execution_count": 24,
   "metadata": {},
   "outputs": [
    {
     "name": "stdout",
     "output_type": "stream",
     "text": [
      "Low Subset 76.17 %\n",
      "High Subset 23.83 %\n"
     ]
    }
   ],
   "source": [
    "# Percentage of objects in each subset\n",
    "print(f'Low Subset {round((data_cl.loc[(data_cl[\"z\"] <= 1.0 )][\"z\"].count()/data_cl[\"z\"].count()*100),2)} %')\n",
    "print(f'High Subset {round((data_cl.loc[(data_cl[\"z\"] > 1.0 )][\"z\"].count()/data_cl[\"z\"].count()*100),2)} %')"
   ]
  },
  {
   "cell_type": "markdown",
   "metadata": {},
   "source": [
    "## Models\n",
    "\n",
    "I use to learning algorithms to determine the redshifts: K-neighbor Regressor and Suppor Vector Regressor. \n",
    "\n",
    "### K-Nearest Neighbor Regressor(KNNR)\n",
    "KNNR is a non-parametric algorithm that it doesn't make any assumptions about the underlying distribution of the data. Instead, it relies on the structure of the data itself to make predictions. It is a type of regression algorithm that uses the k nearest neighbors of a given data point to predict its value. In KNNR, the algorithm finds the k data points in the training set that are closest to the new data point being predicted, based on some distance metric, such as Euclidean distance. Then, the algorithm takes the average of the k closest data points as the predicted value for the new data point.\n",
    "\n",
    "I use GridSearchCV to fine-tune the hyperparamethers of the algorithm. The parameters I set for fine-tuning are:\n",
    "* n_neighbors which is the number of neighbors to use. In order to find the best range of the parameters, I run the algorithm specifying only this parameter and run it for a range of parameters. I then calculate the mse for each value on n_estimators and plot it against it. I select the range of values around the minimum.\n",
    "* weights which means whether all points in each neighborhood are weighted equally or by the inverse of their distance.\n",
    "* algorithm which is the algorithm used to compute nearest neighbors.\n",
    "* leaf_size which is passed passed to BallTree or KDTree in the algorithm parameter.\n",
    "* p which is the power parameter for the Minkowski metric. When p = 1, this is equivalent to using manhattan_distance, and euclidean_distance for p = 2.\n",
    "\n",
    "### Support Vector Machine Regressor(SVR)\n",
    "SVR works by finding a hyperplane that maximizes the margin between the predicted values and the actual values. The hyperplane is found by minimizing the sum of the distances between the predicted values and the actual values, subject to a constraint that the sum of the distances is less than or equal to a certain value, which is called the margin.\n",
    "\n",
    "I again use GridSearchCV. The parameters I set for fine-tuning are:\n",
    "* C which controls the tradeoff between fitting the training data and allowing for errors.\n",
    "* gamma which controls the shape of the kernel function.\n",
    "* kernel which is a function that takes two data points and outputs their similarity or \"kernel\" value. This kernel value is used to map the data points from their original input space to a higher dimensional feature space."
   ]
  },
  {
   "cell_type": "markdown",
   "metadata": {},
   "source": [
    "### Full Dataset\n",
    "#### Data Selection and Preprocessing"
   ]
  },
  {
   "cell_type": "code",
   "execution_count": 25,
   "metadata": {},
   "outputs": [],
   "source": [
    "from sklearn.preprocessing import RobustScaler\n",
    "# separating feature X and label y and scaling data \n",
    "X = data_cl.drop(['nClass', 'z'], axis=1)\n",
    "y = data_cl['z']\n",
    "# Using RobustScaler to scale the dataset\n",
    "scaler = RobustScaler()\n",
    "X_t = scaler.fit_transform(X)\n",
    "X_scaled = pd.DataFrame(X_t, columns = X.columns)"
   ]
  },
  {
   "cell_type": "code",
   "execution_count": 26,
   "metadata": {},
   "outputs": [
    {
     "name": "stdout",
     "output_type": "stream",
     "text": [
      "Count of X_train = 10500\n",
      "Count of X_test = 4500\n"
     ]
    }
   ],
   "source": [
    "from sklearn.model_selection import train_test_split\n",
    "\n",
    "# Split the data into training and test sets\n",
    "X_train, X_test, y_train, y_test = train_test_split(X_scaled, y, test_size=0.3, random_state=42)\n",
    "\n",
    "print(f'Count of X_train = {X_train[\"dered_u\"].count()}')\n",
    "print(f'Count of X_test = {X_test[\"dered_u\"].count()}')"
   ]
  },
  {
   "cell_type": "markdown",
   "metadata": {},
   "source": [
    "The test error of the linear regression model is (mse) 0.058 while we get an mse of 0.049 with random forest regressor. To compare errors the mse from the difference between photometric redshift and spectroscopic redshift is 0.068. Here there are values of photoz of -999.0. This are the same as missing values so they are taken out of the calculation of mse."
   ]
  },
  {
   "cell_type": "markdown",
   "metadata": {},
   "source": [
    "#### Model Contruction and Analysis KNN"
   ]
  },
  {
   "cell_type": "code",
   "execution_count": 27,
   "metadata": {
    "scrolled": true
   },
   "outputs": [
    {
     "data": {
      "text/plain": [
       "array([0.28305103, 0.2266099 , 0.20320443, 0.19468334, 0.19395573,\n",
       "       0.19249439, 0.19245045, 0.193749  , 0.1943215 , 0.19560417,\n",
       "       0.19800914, 0.19884067, 0.20277422, 0.20429755, 0.2050102 ,\n",
       "       0.20622718, 0.20815703, 0.20831369, 0.20883437, 0.20964897])"
      ]
     },
     "execution_count": 27,
     "metadata": {},
     "output_type": "execute_result"
    }
   ],
   "source": [
    "from sklearn.neighbors import KNeighborsRegressor\n",
    "# calculating the accuracy of models with different values of k\n",
    "n= 20\n",
    "mse = np.zeros(n)\n",
    "for i in range(1,n+1):\n",
    "    #Train Model and Predict  \n",
    "    knn = KNeighborsRegressor(n_neighbors = i).fit(X_train,y_train)\n",
    "    yhat= knn.predict(X_test)\n",
    "    mse[i-1] = mean_squared_error(y_test, yhat)\n",
    "\n",
    "mse"
   ]
  },
  {
   "cell_type": "code",
   "execution_count": 28,
   "metadata": {},
   "outputs": [
    {
     "data": {
      "image/png": "[encoded data removed]",
      "text/plain": [
       "<Figure size 720x432 with 1 Axes>"
      ]
     },
     "metadata": {},
     "output_type": "display_data"
    }
   ],
   "source": [
    "# Plotting the mse obtained against the number of neighbours\n",
    "loc = np.arange(1,n+1,step=1.0)\n",
    "plt.figure(figsize = (10, 6))\n",
    "plt.plot(range(1, n+1), mse)\n",
    "plt.xticks(loc)\n",
    "plt.xlabel('Number of Neighbors without photoZ')\n",
    "plt.ylabel('MSE')\n",
    "plt.show()\n"
   ]
  },
  {
   "cell_type": "code",
   "execution_count": 29,
   "metadata": {},
   "outputs": [],
   "source": [
    "from sklearn.model_selection import GridSearchCV\n",
    "# Defining the grid of parameters for the gridSearchCV\n",
    "param_grid = {  'weights' : ['uniform', 'distance'],\n",
    "                'algorithm' : ['auto', 'ball_tree', 'kd_tree', 'brute'], \n",
    "                'leaf_size': range(1, 10),\n",
    "                'n_neighbors': [5,6,7],\n",
    "                'p' : [1, 2]\n",
    "             }\n",
    "# Setting and fitting gridsearchCV to the dataset \n",
    "knr = GridSearchCV(KNeighborsRegressor(), param_grid, n_jobs = -1 )\n",
    "KNR = knr.fit(X_train, y_train)"
   ]
  },
  {
   "cell_type": "code",
   "execution_count": 30,
   "metadata": {},
   "outputs": [
    {
     "data": {
      "text/plain": [
       "{'algorithm': 'ball_tree',\n",
       " 'leaf_size': 3,\n",
       " 'n_neighbors': 7,\n",
       " 'p': 1,\n",
       " 'weights': 'distance'}"
      ]
     },
     "execution_count": 30,
     "metadata": {},
     "output_type": "execute_result"
    }
   ],
   "source": [
    "KNR.best_params_"
   ]
  },
  {
   "cell_type": "code",
   "execution_count": 31,
   "metadata": {},
   "outputs": [],
   "source": [
    "# fit the model and predict the class\n",
    "y_pred_knr = KNR.predict(X_test)"
   ]
  },
  {
   "cell_type": "code",
   "execution_count": 32,
   "metadata": {
    "scrolled": true
   },
   "outputs": [
    {
     "name": "stdout",
     "output_type": "stream",
     "text": [
      "Mean Square Error KNN: 0.186\n"
     ]
    }
   ],
   "source": [
    "# Mean squared error\n",
    "mse_KNR_all = mean_squared_error(y_test,y_pred_knr)\n",
    "print('Mean Square Error KNN:', round(mse_KNR_all, 3))"
   ]
  },
  {
   "cell_type": "markdown",
   "metadata": {},
   "source": [
    "#### Model Contruction and Analysis Support Vector Machine"
   ]
  },
  {
   "cell_type": "code",
   "execution_count": 33,
   "metadata": {},
   "outputs": [
    {
     "data": {
      "text/plain": [
       "{'C': 100, 'gamma': 1, 'kernel': 'rbf'}"
      ]
     },
     "execution_count": 33,
     "metadata": {},
     "output_type": "execute_result"
    }
   ],
   "source": [
    "from sklearn.svm import SVR\n",
    "# Use the random grid to search for best hyperparameters\n",
    "param_grid = {'C': [0.1, 1, 10, 100], \n",
    "              'gamma': [1, 0.1, 0.01, 0.001],\n",
    "              'kernel': ['rbf', 'sigmoid']} \n",
    "#Setting the GridsherchCV \n",
    "SVR_grid = GridSearchCV(SVR(), param_grid,  n_jobs = -1) \n",
    "# fitting the model for grid search\n",
    "svr = SVR_grid.fit(X_train, y_train)\n",
    "\n",
    "# print best parameter after tuning \n",
    "svr.best_params_"
   ]
  },
  {
   "cell_type": "code",
   "execution_count": 34,
   "metadata": {},
   "outputs": [
    {
     "name": "stdout",
     "output_type": "stream",
     "text": [
      "Mean Square Error SVR: 0.224\n"
     ]
    }
   ],
   "source": [
    "#predicting the values and calculating the mse\n",
    "y_pred_SVR = svr.predict(X_test)\n",
    "mse_SVR = mean_squared_error(y_test,y_pred_SVR)\n",
    "print('Mean Square Error SVR:', round(mse_SVR, 3))"
   ]
  },
  {
   "cell_type": "markdown",
   "metadata": {},
   "source": [
    "### Subset Low (z <= 1)\n",
    "#### Data Selection and Preprocessing"
   ]
  },
  {
   "cell_type": "code",
   "execution_count": 35,
   "metadata": {},
   "outputs": [
    {
     "data": {
      "text/html": [
       "<div>\n",
       "<style scoped>\n",
       "    .dataframe tbody tr th:only-of-type {\n",
       "        vertical-align: middle;\n",
       "    }\n",
       "\n",
       "    .dataframe tbody tr th {\n",
       "        vertical-align: top;\n",
       "    }\n",
       "\n",
       "    .dataframe thead th {\n",
       "        text-align: right;\n",
       "    }\n",
       "</style>\n",
       "<table border=\"1\" class=\"dataframe\">\n",
       "  <thead>\n",
       "    <tr style=\"text-align: right;\">\n",
       "      <th></th>\n",
       "      <th>dered_u</th>\n",
       "      <th>dered_g</th>\n",
       "      <th>dered_r</th>\n",
       "      <th>dered_i</th>\n",
       "      <th>dered_z</th>\n",
       "      <th>z</th>\n",
       "      <th>nClass</th>\n",
       "    </tr>\n",
       "  </thead>\n",
       "  <tbody>\n",
       "    <tr>\n",
       "      <th>4703</th>\n",
       "      <td>17.88066</td>\n",
       "      <td>17.02852</td>\n",
       "      <td>16.75267</td>\n",
       "      <td>16.66802</td>\n",
       "      <td>16.64030</td>\n",
       "      <td>0.000108</td>\n",
       "      <td>1</td>\n",
       "    </tr>\n",
       "    <tr>\n",
       "      <th>2612</th>\n",
       "      <td>17.59278</td>\n",
       "      <td>15.86288</td>\n",
       "      <td>15.12480</td>\n",
       "      <td>14.75860</td>\n",
       "      <td>14.48882</td>\n",
       "      <td>0.026023</td>\n",
       "      <td>3</td>\n",
       "    </tr>\n",
       "    <tr>\n",
       "      <th>1567</th>\n",
       "      <td>17.44728</td>\n",
       "      <td>16.63208</td>\n",
       "      <td>16.39014</td>\n",
       "      <td>16.30775</td>\n",
       "      <td>16.29500</td>\n",
       "      <td>0.000111</td>\n",
       "      <td>1</td>\n",
       "    </tr>\n",
       "    <tr>\n",
       "      <th>2372</th>\n",
       "      <td>18.73686</td>\n",
       "      <td>16.75556</td>\n",
       "      <td>15.92954</td>\n",
       "      <td>15.58658</td>\n",
       "      <td>15.29613</td>\n",
       "      <td>0.052454</td>\n",
       "      <td>3</td>\n",
       "    </tr>\n",
       "    <tr>\n",
       "      <th>217</th>\n",
       "      <td>19.94895</td>\n",
       "      <td>19.59518</td>\n",
       "      <td>19.25947</td>\n",
       "      <td>19.32337</td>\n",
       "      <td>19.24062</td>\n",
       "      <td>0.983239</td>\n",
       "      <td>2</td>\n",
       "    </tr>\n",
       "  </tbody>\n",
       "</table>\n",
       "</div>"
      ],
      "text/plain": [
       "       dered_u   dered_g   dered_r   dered_i   dered_z         z  nClass\n",
       "4703  17.88066  17.02852  16.75267  16.66802  16.64030  0.000108       1\n",
       "2612  17.59278  15.86288  15.12480  14.75860  14.48882  0.026023       3\n",
       "1567  17.44728  16.63208  16.39014  16.30775  16.29500  0.000111       1\n",
       "2372  18.73686  16.75556  15.92954  15.58658  15.29613  0.052454       3\n",
       "217   19.94895  19.59518  19.25947  19.32337  19.24062  0.983239       2"
      ]
     },
     "execution_count": 35,
     "metadata": {},
     "output_type": "execute_result"
    }
   ],
   "source": [
    "# Subsetting the dataset by selecting from the full dataset only sources with z<=1\n",
    "data_low = data_cl.loc[(data_cl['z'] <= 1.0 )]\n",
    "data_low.head()"
   ]
  },
  {
   "cell_type": "code",
   "execution_count": 36,
   "metadata": {},
   "outputs": [
    {
     "name": "stdout",
     "output_type": "stream",
     "text": [
      "Count of X_train = 7997\n",
      "Count of X_test = 3428\n"
     ]
    }
   ],
   "source": [
    "# separating feature X and label y and scaling data \n",
    "X =data_low.drop(['nClass', 'z'], axis=1)\n",
    "y = data_low['z']\n",
    "# Using RobustScaler to scale the dataset\n",
    "X_t_low = scaler.fit_transform(X)\n",
    "X_scaled_low = pd.DataFrame(X_t_low, columns = X.columns)\n",
    "# Split the data into training and test sets\n",
    "Xl_train, Xl_test, yl_train, yl_test = train_test_split(X_scaled_low, y, test_size=0.3, random_state=42)\n",
    "\n",
    "print(f'Count of X_train = {Xl_train[\"dered_u\"].count()}')\n",
    "print(f'Count of X_test = {Xl_test[\"dered_u\"].count()}')\n"
   ]
  },
  {
   "cell_type": "markdown",
   "metadata": {},
   "source": [
    "#### Model Contruction and Analysis KNN"
   ]
  },
  {
   "cell_type": "code",
   "execution_count": 37,
   "metadata": {},
   "outputs": [
    {
     "data": {
      "text/plain": [
       "array([0.00962295, 0.00865164, 0.00810113, 0.00815844, 0.00817519,\n",
       "       0.00825392, 0.00847449, 0.00845153, 0.00845807, 0.00858519,\n",
       "       0.00861204, 0.00878653, 0.0088224 , 0.00907064, 0.0092548 ,\n",
       "       0.00928652, 0.00941453, 0.00965163, 0.00977221, 0.00990707])"
      ]
     },
     "execution_count": 37,
     "metadata": {},
     "output_type": "execute_result"
    }
   ],
   "source": [
    "# Calculating the mse for a range of values to select the best range.\n",
    "mse_low = np.zeros(n)\n",
    "for i in range(1,n+1):\n",
    "    #Train Model and Predict  \n",
    "    knn = KNeighborsRegressor(n_neighbors = i).fit(Xl_train,yl_train)\n",
    "    yhat= knn.predict(Xl_test)\n",
    "    mse_low[i-1] = mean_squared_error(yl_test, yhat)\n",
    "\n",
    "mse_low"
   ]
  },
  {
   "cell_type": "code",
   "execution_count": 38,
   "metadata": {},
   "outputs": [
    {
     "data": {
      "image/png": "[encoded data removed]",
      "text/plain": [
       "<Figure size 720x432 with 1 Axes>"
      ]
     },
     "metadata": {},
     "output_type": "display_data"
    }
   ],
   "source": [
    "# Plotting the mse obtained against the number of neighbours\n",
    "loc = np.arange(1,n+1,step=1.0)\n",
    "plt.figure(figsize = (10, 6))\n",
    "plt.plot(range(1, n+1), mse_low)\n",
    "plt.xticks(loc)\n",
    "plt.xlabel('Number of Neighbors for subsample with z<=1')\n",
    "plt.ylabel('MSE')\n",
    "plt.show()\n"
   ]
  },
  {
   "cell_type": "code",
   "execution_count": 40,
   "metadata": {},
   "outputs": [],
   "source": [
    "# Defining the grid of parameters for the gridSearchCV\n",
    "param_grid = {  'weights' : ['uniform', 'distance'],\n",
    "                'algorithm' : ['auto', 'ball_tree', 'kd_tree', 'brute'], \n",
    "                'leaf_size': range(1, 10),\n",
    "                'n_neighbors': [ 3, 4, 5],\n",
    "                'p' : [1, 2]\n",
    "             }\n",
    "# Setting and fitting gridsearchCV to the dataset \n",
    "knr_low = GridSearchCV(KNeighborsRegressor(), param_grid, n_jobs = -1 )\n",
    "KNR_low = knr_low.fit(Xl_train, yl_train)"
   ]
  },
  {
   "cell_type": "code",
   "execution_count": 41,
   "metadata": {},
   "outputs": [
    {
     "data": {
      "text/plain": [
       "{'algorithm': 'ball_tree',\n",
       " 'leaf_size': 1,\n",
       " 'n_neighbors': 5,\n",
       " 'p': 2,\n",
       " 'weights': 'distance'}"
      ]
     },
     "execution_count": 41,
     "metadata": {},
     "output_type": "execute_result"
    }
   ],
   "source": [
    "KNR_low.best_params_ "
   ]
  },
  {
   "cell_type": "code",
   "execution_count": 42,
   "metadata": {},
   "outputs": [],
   "source": [
    "# fit the model and predict the class\n",
    "yl_pred_knr = KNR_low.predict(Xl_test)"
   ]
  },
  {
   "cell_type": "code",
   "execution_count": 43,
   "metadata": {
    "scrolled": true
   },
   "outputs": [
    {
     "name": "stdout",
     "output_type": "stream",
     "text": [
      "Mean Square Error KNN for z < 1 : 0.008\n"
     ]
    }
   ],
   "source": [
    "# Mean squared error\n",
    "mse_KNR_low = mean_squared_error(yl_test,yl_pred_knr)\n",
    "print('Mean Square Error KNN for z < 1 :', round(mse_KNR_low, 3))"
   ]
  },
  {
   "cell_type": "markdown",
   "metadata": {},
   "source": [
    "#### Model Contruction and Analysis Support Vector Machine"
   ]
  },
  {
   "cell_type": "code",
   "execution_count": 44,
   "metadata": {
    "scrolled": true
   },
   "outputs": [
    {
     "data": {
      "text/plain": [
       "{'C': 10, 'gamma': 1, 'kernel': 'rbf'}"
      ]
     },
     "execution_count": 44,
     "metadata": {},
     "output_type": "execute_result"
    }
   ],
   "source": [
    "# fitting the model for grid search\n",
    "svr_low = SVR_grid.fit(Xl_train, yl_train)\n",
    "\n",
    "# print best parameter after tuning \n",
    "svr_low.best_params_"
   ]
  },
  {
   "cell_type": "code",
   "execution_count": 45,
   "metadata": {},
   "outputs": [
    {
     "name": "stdout",
     "output_type": "stream",
     "text": [
      "Mean Square Error SVR for z<=1: 0.009\n"
     ]
    }
   ],
   "source": [
    "#predicting the values and calculating the mse\n",
    "yl_pred_SVR = svr_low.predict(Xl_test)\n",
    "mse_SVR_low = mean_squared_error(yl_test,yl_pred_SVR)\n",
    "print('Mean Square Error SVR for z<=1:', round(mse_SVR_low, 3))"
   ]
  },
  {
   "cell_type": "markdown",
   "metadata": {},
   "source": [
    "### Subset high (z > 1)\n",
    "#### Data Selection and Preprocessing"
   ]
  },
  {
   "cell_type": "code",
   "execution_count": 46,
   "metadata": {},
   "outputs": [
    {
     "data": {
      "text/html": [
       "<div>\n",
       "<style scoped>\n",
       "    .dataframe tbody tr th:only-of-type {\n",
       "        vertical-align: middle;\n",
       "    }\n",
       "\n",
       "    .dataframe tbody tr th {\n",
       "        vertical-align: top;\n",
       "    }\n",
       "\n",
       "    .dataframe thead th {\n",
       "        text-align: right;\n",
       "    }\n",
       "</style>\n",
       "<table border=\"1\" class=\"dataframe\">\n",
       "  <thead>\n",
       "    <tr style=\"text-align: right;\">\n",
       "      <th></th>\n",
       "      <th>dered_u</th>\n",
       "      <th>dered_g</th>\n",
       "      <th>dered_r</th>\n",
       "      <th>dered_i</th>\n",
       "      <th>dered_z</th>\n",
       "      <th>z</th>\n",
       "      <th>nClass</th>\n",
       "    </tr>\n",
       "  </thead>\n",
       "  <tbody>\n",
       "    <tr>\n",
       "      <th>1164</th>\n",
       "      <td>19.63107</td>\n",
       "      <td>19.11511</td>\n",
       "      <td>18.91133</td>\n",
       "      <td>18.63013</td>\n",
       "      <td>18.64311</td>\n",
       "      <td>1.618037</td>\n",
       "      <td>2</td>\n",
       "    </tr>\n",
       "    <tr>\n",
       "      <th>1182</th>\n",
       "      <td>18.99975</td>\n",
       "      <td>18.66811</td>\n",
       "      <td>18.50714</td>\n",
       "      <td>18.50478</td>\n",
       "      <td>18.52532</td>\n",
       "      <td>1.251942</td>\n",
       "      <td>2</td>\n",
       "    </tr>\n",
       "    <tr>\n",
       "      <th>1552</th>\n",
       "      <td>19.13222</td>\n",
       "      <td>19.12999</td>\n",
       "      <td>19.23925</td>\n",
       "      <td>19.07789</td>\n",
       "      <td>18.94833</td>\n",
       "      <td>1.715456</td>\n",
       "      <td>2</td>\n",
       "    </tr>\n",
       "    <tr>\n",
       "      <th>1607</th>\n",
       "      <td>19.08581</td>\n",
       "      <td>18.88214</td>\n",
       "      <td>18.79280</td>\n",
       "      <td>18.89849</td>\n",
       "      <td>19.06236</td>\n",
       "      <td>1.179185</td>\n",
       "      <td>2</td>\n",
       "    </tr>\n",
       "    <tr>\n",
       "      <th>3318</th>\n",
       "      <td>19.30361</td>\n",
       "      <td>18.70311</td>\n",
       "      <td>18.62150</td>\n",
       "      <td>18.62959</td>\n",
       "      <td>18.41046</td>\n",
       "      <td>2.452712</td>\n",
       "      <td>2</td>\n",
       "    </tr>\n",
       "  </tbody>\n",
       "</table>\n",
       "</div>"
      ],
      "text/plain": [
       "       dered_u   dered_g   dered_r   dered_i   dered_z         z  nClass\n",
       "1164  19.63107  19.11511  18.91133  18.63013  18.64311  1.618037       2\n",
       "1182  18.99975  18.66811  18.50714  18.50478  18.52532  1.251942       2\n",
       "1552  19.13222  19.12999  19.23925  19.07789  18.94833  1.715456       2\n",
       "1607  19.08581  18.88214  18.79280  18.89849  19.06236  1.179185       2\n",
       "3318  19.30361  18.70311  18.62150  18.62959  18.41046  2.452712       2"
      ]
     },
     "execution_count": 46,
     "metadata": {},
     "output_type": "execute_result"
    }
   ],
   "source": [
    "# Subsetting the dataset by selecting from the full dataset only sources with z<=1\n",
    "data_high = data_cl.loc[(data_cl['z'] > 1.0 )]\n",
    "data_high.head()"
   ]
  },
  {
   "cell_type": "code",
   "execution_count": 47,
   "metadata": {},
   "outputs": [
    {
     "name": "stdout",
     "output_type": "stream",
     "text": [
      "Count of X_train = 2502\n",
      "Count of X_test = 1073\n"
     ]
    }
   ],
   "source": [
    "# separating feature X and label y and scaling data \n",
    "X = data_high.drop(['nClass', 'z'], axis=1)\n",
    "y = data_high['z']\n",
    "# Using RobustScaler to scale the dataset\n",
    "X_t_high = scaler.fit_transform(X)\n",
    "X_scaled_high = pd.DataFrame(X_t_high, columns = X.columns)\n",
    "# Split the data into training and test sets\n",
    "Xh_train, Xh_test, yh_train, yh_test = train_test_split(X_scaled_high, y, test_size=0.3, random_state=42)\n",
    "\n",
    "print(f'Count of X_train = {Xh_train[\"dered_u\"].count()}')\n",
    "print(f'Count of X_test = {Xh_test[\"dered_u\"].count()}')\n"
   ]
  },
  {
   "cell_type": "markdown",
   "metadata": {},
   "source": [
    "#### Model Contruction and Analysis KNN"
   ]
  },
  {
   "cell_type": "code",
   "execution_count": 48,
   "metadata": {},
   "outputs": [
    {
     "data": {
      "text/plain": [
       "array([0.11795972, 0.10780333, 0.10557164, 0.10415636, 0.10303911,\n",
       "       0.10224039, 0.10293595, 0.10259194, 0.10278403, 0.10503994,\n",
       "       0.10550686, 0.10652972, 0.10758963, 0.10812684, 0.10795005,\n",
       "       0.10829221, 0.10906108, 0.11108057, 0.1126576 , 0.11277842])"
      ]
     },
     "execution_count": 48,
     "metadata": {},
     "output_type": "execute_result"
    }
   ],
   "source": [
    "# Calculating the mse for a range of values to select the best range.\n",
    "mse_high = np.zeros(n)\n",
    "for i in range(1,n+1):\n",
    "    #Train Model and Predict  \n",
    "    knn = KNeighborsRegressor(n_neighbors = i).fit(Xh_train,yh_train)\n",
    "    yhat= knn.predict(Xh_test)\n",
    "    mse_high[i-1] = mean_squared_error(yh_test, yhat)\n",
    "\n",
    "mse_high"
   ]
  },
  {
   "cell_type": "code",
   "execution_count": 49,
   "metadata": {},
   "outputs": [
    {
     "data": {
      "image/png": "[encoded data removed]",
      "text/plain": [
       "<Figure size 720x432 with 1 Axes>"
      ]
     },
     "metadata": {},
     "output_type": "display_data"
    }
   ],
   "source": [
    "# Plotting the mse obtained against the number of neighbours\n",
    "loc = np.arange(1,n+1,step=1.0)\n",
    "plt.figure(figsize = (10, 6))\n",
    "plt.plot(range(1, n+1), mse_high)\n",
    "plt.xticks(loc)\n",
    "plt.xlabel('Number of Neighbors for subsample of z>1')\n",
    "plt.ylabel('MSE')\n",
    "plt.show()\n"
   ]
  },
  {
   "cell_type": "code",
   "execution_count": 50,
   "metadata": {},
   "outputs": [],
   "source": [
    "# Defining the grid of parameters for the gridSearchCV\n",
    "param_grid = {  'weights' : ['uniform', 'distance'],\n",
    "                'algorithm' : ['auto', 'ball_tree', 'kd_tree', 'brute'], \n",
    "                'leaf_size': range(1, 10),\n",
    "                'n_neighbors': [5, 6, 7],\n",
    "                'p' : [1, 2]\n",
    "             }\n",
    "# Setting and fitting gridsearchCV to the dataset \n",
    "knr_high = GridSearchCV(KNeighborsRegressor(), param_grid, n_jobs = -1 )\n",
    "KNR_high = knr_high.fit(Xh_train, yh_train)"
   ]
  },
  {
   "cell_type": "code",
   "execution_count": 51,
   "metadata": {},
   "outputs": [
    {
     "data": {
      "text/plain": [
       "{'algorithm': 'ball_tree',\n",
       " 'leaf_size': 4,\n",
       " 'n_neighbors': 6,\n",
       " 'p': 2,\n",
       " 'weights': 'distance'}"
      ]
     },
     "execution_count": 51,
     "metadata": {},
     "output_type": "execute_result"
    }
   ],
   "source": [
    "KNR_high.best_params_ "
   ]
  },
  {
   "cell_type": "code",
   "execution_count": 52,
   "metadata": {},
   "outputs": [],
   "source": [
    "# fit the model and predict the class\n",
    "yh_pred_knr = KNR_high.predict(Xh_test)"
   ]
  },
  {
   "cell_type": "code",
   "execution_count": 53,
   "metadata": {
    "scrolled": true
   },
   "outputs": [
    {
     "name": "stdout",
     "output_type": "stream",
     "text": [
      "Mean Square Error KNN for z > 1 : 0.099\n"
     ]
    }
   ],
   "source": [
    "# Mean squared error\n",
    "mse_KNR_high = mean_squared_error(yh_test,yh_pred_knr)\n",
    "print('Mean Square Error KNN for z > 1 :', round(mse_KNR_high, 3))"
   ]
  },
  {
   "cell_type": "markdown",
   "metadata": {},
   "source": [
    "#### Model Contruction and Analysis Support Vector Machine"
   ]
  },
  {
   "cell_type": "code",
   "execution_count": 54,
   "metadata": {},
   "outputs": [
    {
     "data": {
      "text/plain": [
       "({'C': 10, 'gamma': 1, 'kernel': 'rbf'}, 0.7455955806373981)"
      ]
     },
     "execution_count": 54,
     "metadata": {},
     "output_type": "execute_result"
    }
   ],
   "source": [
    "# fitting the model for grid search\n",
    "svr_high = SVR_grid.fit(Xh_train, yh_train)\n",
    "\n",
    "# print best parameter after tuning and best accuracy\n",
    "svr_high.best_params_, svr_high.best_score_"
   ]
  },
  {
   "cell_type": "code",
   "execution_count": 55,
   "metadata": {},
   "outputs": [
    {
     "name": "stdout",
     "output_type": "stream",
     "text": [
      "Mean Square Error SVR: 0.092\n"
     ]
    }
   ],
   "source": [
    "#predicting the values and calculating the mse\n",
    "yh_pred_SVR = svr_high.predict(Xh_test)\n",
    "mse_SVR_high = mean_squared_error(yh_test,yh_pred_SVR)\n",
    "print('Mean Square Error SVR:', round(mse_SVR_high, 3))"
   ]
  },
  {
   "cell_type": "markdown",
   "metadata": {},
   "source": [
    "### All results together"
   ]
  },
  {
   "cell_type": "code",
   "execution_count": 56,
   "metadata": {},
   "outputs": [
    {
     "name": "stdout",
     "output_type": "stream",
     "text": [
      "Dataset      MSE KNR    MSE SVR\n",
      "---------  ---------  ---------\n",
      "All            0.186      0.224\n",
      "Low            0.008      0.009\n",
      "High           0.099      0.092\n"
     ]
    }
   ],
   "source": [
    "from tabulate import tabulate\n",
    "#create data\n",
    "tab_data = [[\"All\", round(mse_KNR_all, 3), round(mse_SVR, 3)], \n",
    "        [\"Low\",  round(mse_KNR_low, 3),  round(mse_SVR_low, 3)], \n",
    "        [\"High\",  round(mse_KNR_high, 3),  round(mse_SVR_high, 3)]]\n",
    "  \n",
    "#define header names\n",
    "col_names = [\"Dataset\",\"MSE KNR\", \"MSE SVR\"]\n",
    "  \n",
    "#display table\n",
    "print(tabulate(tab_data, headers=col_names))\n"
   ]
  },
  {
   "cell_type": "markdown",
   "metadata": {},
   "source": [
    "## Adding Colours\n",
    "### Full Dataset\n",
    "#### Data Selection and Preprocessing"
   ]
  },
  {
   "cell_type": "code",
   "execution_count": 65,
   "metadata": {},
   "outputs": [],
   "source": [
    "# separating feature X and label y and scaling data \n",
    "X = data_colour.drop(['nClass', 'z'], axis=1)\n",
    "y = data_colour['z']\n",
    "# Using RobustScaler to scale the dataset\n",
    "X_t_c = scaler.fit_transform(X)\n",
    "X_scaled_c = pd.DataFrame(X_t_c, columns = X.columns)\n"
   ]
  },
  {
   "cell_type": "code",
   "execution_count": 66,
   "metadata": {},
   "outputs": [
    {
     "name": "stdout",
     "output_type": "stream",
     "text": [
      "Count of X_train = 10500\n",
      "Count of X_test = 4500\n"
     ]
    }
   ],
   "source": [
    "# Split the data into training and test sets\n",
    "X_train_c, X_test_c, y_train_c, y_test_c = train_test_split(X_scaled_c, y, test_size=0.3, random_state=42)\n",
    "\n",
    "print(f'Count of X_train = {X_train_c[\"dered_u\"].count()}')\n",
    "print(f'Count of X_test = {X_test_c[\"dered_u\"].count()}')"
   ]
  },
  {
   "cell_type": "markdown",
   "metadata": {},
   "source": [
    "The test error of the linear regression model is (mse) 0.058 while we get an mse of 0.049 with random forest regressor. To compare errors the mse from the difference between photometric redshift and spectroscopic redshift is 0.068. Here there are values of photoz of -999.0. This are the same as missing values so they are taken out of the calculation of mse."
   ]
  },
  {
   "cell_type": "markdown",
   "metadata": {},
   "source": [
    "#### Model Contruction and Analysis KNN"
   ]
  },
  {
   "cell_type": "code",
   "execution_count": 67,
   "metadata": {
    "scrolled": true
   },
   "outputs": [
    {
     "data": {
      "text/plain": [
       "array([0.2480735 , 0.18734867, 0.17128542, 0.1657061 , 0.15951012,\n",
       "       0.15675774, 0.15490529, 0.15495787, 0.15648945, 0.15573004,\n",
       "       0.15591711, 0.15703937, 0.1575419 , 0.15802461, 0.15734009,\n",
       "       0.15805359, 0.15917229, 0.15999275, 0.16045963, 0.16148942])"
      ]
     },
     "execution_count": 67,
     "metadata": {},
     "output_type": "execute_result"
    }
   ],
   "source": [
    "# calculating the accuracy of models with different values of k\n",
    "n= 20\n",
    "mse_c = np.zeros(n)\n",
    "for i in range(1,n+1):\n",
    "    #Train Model and Predict  \n",
    "    knn = KNeighborsRegressor(n_neighbors = i).fit(X_train_c,y_train_c)\n",
    "    yhat= knn.predict(X_test_c)\n",
    "    mse_c[i-1] = mean_squared_error(y_test_c, yhat)\n",
    "\n",
    "mse_c"
   ]
  },
  {
   "cell_type": "code",
   "execution_count": 68,
   "metadata": {},
   "outputs": [
    {
     "data": {
      "image/png": "[encoded data removed]",
      "text/plain": [
       "<Figure size 720x432 with 1 Axes>"
      ]
     },
     "metadata": {},
     "output_type": "display_data"
    }
   ],
   "source": [
    "# Plotting the mse obtained against the number of neighbours\n",
    "loc = np.arange(1,n+1,step=1.0)\n",
    "plt.figure(figsize = (10, 6))\n",
    "plt.plot(range(1, n+1), mse_c)\n",
    "plt.xticks(loc)\n",
    "plt.xlabel('Number of Neighbors without photoZ')\n",
    "plt.ylabel('MSE')\n",
    "plt.show()\n"
   ]
  },
  {
   "cell_type": "code",
   "execution_count": 69,
   "metadata": {},
   "outputs": [],
   "source": [
    "# Defining the grid of parameters for the gridSearchCV\n",
    "param_grid = {  'weights' : ['uniform', 'distance'],\n",
    "                'algorithm' : ['auto', 'ball_tree', 'kd_tree', 'brute'], \n",
    "                'leaf_size': range(1, 10),\n",
    "                'n_neighbors': [6,7,8],\n",
    "                'p' : [1, 2]\n",
    "             }\n",
    "# Setting and fitting gridsearchCV to the dataset \n",
    "knr_c = GridSearchCV(KNeighborsRegressor(), param_grid, n_jobs = -1 )\n",
    "KNR_c = knr_c.fit(X_train_c, y_train_c)"
   ]
  },
  {
   "cell_type": "code",
   "execution_count": 70,
   "metadata": {},
   "outputs": [
    {
     "data": {
      "text/plain": [
       "{'algorithm': 'ball_tree',\n",
       " 'leaf_size': 2,\n",
       " 'n_neighbors': 8,\n",
       " 'p': 2,\n",
       " 'weights': 'distance'}"
      ]
     },
     "execution_count": 70,
     "metadata": {},
     "output_type": "execute_result"
    }
   ],
   "source": [
    "KNR_c.best_params_"
   ]
  },
  {
   "cell_type": "code",
   "execution_count": 72,
   "metadata": {},
   "outputs": [],
   "source": [
    "# fit the model and predict the class\n",
    "y_pred_knr_c = KNR_c.predict(X_test_c)"
   ]
  },
  {
   "cell_type": "code",
   "execution_count": 73,
   "metadata": {
    "scrolled": true
   },
   "outputs": [
    {
     "name": "stdout",
     "output_type": "stream",
     "text": [
      "Mean Square Error KNN: 0.149\n"
     ]
    }
   ],
   "source": [
    "# Mean squared error\n",
    "mse_KNR_all_c = mean_squared_error(y_test_c,y_pred_knr_c)\n",
    "print('Mean Square Error KNN:', round(mse_KNR_all_c, 3))"
   ]
  },
  {
   "cell_type": "markdown",
   "metadata": {},
   "source": [
    "#### Model Contruction and Analysis Support Vector Machine"
   ]
  },
  {
   "cell_type": "code",
   "execution_count": 74,
   "metadata": {},
   "outputs": [
    {
     "data": {
      "text/plain": [
       "{'C': 1, 'gamma': 1, 'kernel': 'rbf'}"
      ]
     },
     "execution_count": 74,
     "metadata": {},
     "output_type": "execute_result"
    }
   ],
   "source": [
    "# fitting the model for grid search\n",
    "svr_c = SVR_grid.fit(X_train_c, y_train_c)\n",
    "\n",
    "# print best parameter after tuning \n",
    "svr_c.best_params_"
   ]
  },
  {
   "cell_type": "code",
   "execution_count": 75,
   "metadata": {},
   "outputs": [
    {
     "name": "stdout",
     "output_type": "stream",
     "text": [
      "Mean Square Error SVR: 0.155\n"
     ]
    }
   ],
   "source": [
    "#predicting the values and calculating the mse\n",
    "y_pred_SVR_c = svr_c.predict(X_test_c)\n",
    "mse_SVR_c = mean_squared_error(y_test_c,y_pred_SVR_c)\n",
    "print('Mean Square Error SVR:', round(mse_SVR_c, 3))"
   ]
  },
  {
   "cell_type": "markdown",
   "metadata": {},
   "source": [
    "### Subset Low (z <= 1)\n",
    "#### Data Selection and Preprocessing"
   ]
  },
  {
   "cell_type": "code",
   "execution_count": 76,
   "metadata": {},
   "outputs": [
    {
     "data": {
      "text/html": [
       "<div>\n",
       "<style scoped>\n",
       "    .dataframe tbody tr th:only-of-type {\n",
       "        vertical-align: middle;\n",
       "    }\n",
       "\n",
       "    .dataframe tbody tr th {\n",
       "        vertical-align: top;\n",
       "    }\n",
       "\n",
       "    .dataframe thead th {\n",
       "        text-align: right;\n",
       "    }\n",
       "</style>\n",
       "<table border=\"1\" class=\"dataframe\">\n",
       "  <thead>\n",
       "    <tr style=\"text-align: right;\">\n",
       "      <th></th>\n",
       "      <th>dered_u</th>\n",
       "      <th>dered_g</th>\n",
       "      <th>dered_r</th>\n",
       "      <th>dered_i</th>\n",
       "      <th>dered_z</th>\n",
       "      <th>z</th>\n",
       "      <th>nClass</th>\n",
       "      <th>u-g</th>\n",
       "      <th>g-r</th>\n",
       "      <th>r-i</th>\n",
       "      <th>i-z</th>\n",
       "    </tr>\n",
       "  </thead>\n",
       "  <tbody>\n",
       "    <tr>\n",
       "      <th>4703</th>\n",
       "      <td>17.88066</td>\n",
       "      <td>17.02852</td>\n",
       "      <td>16.75267</td>\n",
       "      <td>16.66802</td>\n",
       "      <td>16.64030</td>\n",
       "      <td>0.000108</td>\n",
       "      <td>1</td>\n",
       "      <td>0.85214</td>\n",
       "      <td>0.27585</td>\n",
       "      <td>0.08465</td>\n",
       "      <td>0.02772</td>\n",
       "    </tr>\n",
       "    <tr>\n",
       "      <th>2612</th>\n",
       "      <td>17.59278</td>\n",
       "      <td>15.86288</td>\n",
       "      <td>15.12480</td>\n",
       "      <td>14.75860</td>\n",
       "      <td>14.48882</td>\n",
       "      <td>0.026023</td>\n",
       "      <td>3</td>\n",
       "      <td>1.72990</td>\n",
       "      <td>0.73808</td>\n",
       "      <td>0.36620</td>\n",
       "      <td>0.26978</td>\n",
       "    </tr>\n",
       "    <tr>\n",
       "      <th>1567</th>\n",
       "      <td>17.44728</td>\n",
       "      <td>16.63208</td>\n",
       "      <td>16.39014</td>\n",
       "      <td>16.30775</td>\n",
       "      <td>16.29500</td>\n",
       "      <td>0.000111</td>\n",
       "      <td>1</td>\n",
       "      <td>0.81520</td>\n",
       "      <td>0.24194</td>\n",
       "      <td>0.08239</td>\n",
       "      <td>0.01275</td>\n",
       "    </tr>\n",
       "    <tr>\n",
       "      <th>2372</th>\n",
       "      <td>18.73686</td>\n",
       "      <td>16.75556</td>\n",
       "      <td>15.92954</td>\n",
       "      <td>15.58658</td>\n",
       "      <td>15.29613</td>\n",
       "      <td>0.052454</td>\n",
       "      <td>3</td>\n",
       "      <td>1.98130</td>\n",
       "      <td>0.82602</td>\n",
       "      <td>0.34296</td>\n",
       "      <td>0.29045</td>\n",
       "    </tr>\n",
       "    <tr>\n",
       "      <th>217</th>\n",
       "      <td>19.94895</td>\n",
       "      <td>19.59518</td>\n",
       "      <td>19.25947</td>\n",
       "      <td>19.32337</td>\n",
       "      <td>19.24062</td>\n",
       "      <td>0.983239</td>\n",
       "      <td>2</td>\n",
       "      <td>0.35377</td>\n",
       "      <td>0.33571</td>\n",
       "      <td>-0.06390</td>\n",
       "      <td>0.08275</td>\n",
       "    </tr>\n",
       "  </tbody>\n",
       "</table>\n",
       "</div>"
      ],
      "text/plain": [
       "       dered_u   dered_g   dered_r   dered_i   dered_z         z  nClass  \\\n",
       "4703  17.88066  17.02852  16.75267  16.66802  16.64030  0.000108       1   \n",
       "2612  17.59278  15.86288  15.12480  14.75860  14.48882  0.026023       3   \n",
       "1567  17.44728  16.63208  16.39014  16.30775  16.29500  0.000111       1   \n",
       "2372  18.73686  16.75556  15.92954  15.58658  15.29613  0.052454       3   \n",
       "217   19.94895  19.59518  19.25947  19.32337  19.24062  0.983239       2   \n",
       "\n",
       "          u-g      g-r      r-i      i-z  \n",
       "4703  0.85214  0.27585  0.08465  0.02772  \n",
       "2612  1.72990  0.73808  0.36620  0.26978  \n",
       "1567  0.81520  0.24194  0.08239  0.01275  \n",
       "2372  1.98130  0.82602  0.34296  0.29045  \n",
       "217   0.35377  0.33571 -0.06390  0.08275  "
      ]
     },
     "execution_count": 76,
     "metadata": {},
     "output_type": "execute_result"
    }
   ],
   "source": [
    "# Subsetting the dataset by selecting from the full dataset only sources with z<=1\n",
    "data_low_c = data_colour.loc[(data_colour['z'] <= 1.0 )]\n",
    "data_low_c.head()"
   ]
  },
  {
   "cell_type": "code",
   "execution_count": 78,
   "metadata": {},
   "outputs": [
    {
     "name": "stdout",
     "output_type": "stream",
     "text": [
      "Count of X_train = 7997\n",
      "Count of X_test = 3428\n"
     ]
    }
   ],
   "source": [
    "# separating feature X and label y and scaling data \n",
    "X =data_low_c.drop(['nClass', 'z'], axis=1)\n",
    "y = data_low_c['z']\n",
    "# Using RobustScaler to scale the dataset\n",
    "X_t_low_c = scaler.fit_transform(X)\n",
    "X_scaled_low_c= pd.DataFrame(X_t_low_c, columns = X.columns)\n",
    "# Split the data into training and test sets\n",
    "Xl_train_c, Xl_test_c, yl_train_c, yl_test_c = train_test_split(X_scaled_low_c, y, test_size=0.3, random_state=42)\n",
    "\n",
    "print(f'Count of X_train = {Xl_train_c[\"dered_u\"].count()}')\n",
    "print(f'Count of X_test = {Xl_test_c[\"dered_u\"].count()}')\n"
   ]
  },
  {
   "cell_type": "markdown",
   "metadata": {},
   "source": [
    "#### Model Contruction and Analysis KNN"
   ]
  },
  {
   "cell_type": "code",
   "execution_count": 108,
   "metadata": {},
   "outputs": [
    {
     "data": {
      "text/plain": [
       "array([0.00657839, 0.00497469, 0.00472394, 0.00449551, 0.0045414 ,\n",
       "       0.00445367, 0.00462271, 0.00463624, 0.00474026, 0.00482474,\n",
       "       0.00491564, 0.00507051, 0.00517243, 0.00526146, 0.00532127,\n",
       "       0.00537336, 0.00541215, 0.00543038, 0.00543364, 0.0054914 ])"
      ]
     },
     "execution_count": 108,
     "metadata": {},
     "output_type": "execute_result"
    }
   ],
   "source": [
    "# Calculating the mse for a range of values to select the best range.\n",
    "n=20\n",
    "mse_low_c= np.zeros(n)\n",
    "for i in range(1,n+1):\n",
    "    #Train Model and Predict  \n",
    "    knn = KNeighborsRegressor(n_neighbors = i).fit(Xl_train_c,yl_train_c)\n",
    "    yhat= knn.predict(Xl_test_c)\n",
    "    mse_low_c[i-1] = mean_squared_error(yl_test_c, yhat)\n",
    "\n",
    "mse_low_c"
   ]
  },
  {
   "cell_type": "code",
   "execution_count": 109,
   "metadata": {},
   "outputs": [
    {
     "data": {
      "image/png": "[encoded data removed]",
      "text/plain": [
       "<Figure size 720x432 with 1 Axes>"
      ]
     },
     "metadata": {},
     "output_type": "display_data"
    }
   ],
   "source": [
    "# Plotting the mse obtained against the number of neighbours\n",
    "loc = np.arange(1,n+1,step=1.0)\n",
    "plt.figure(figsize = (10, 6))\n",
    "plt.plot(range(1, n+1), mse_low_c)\n",
    "plt.xticks(loc)\n",
    "plt.xlabel('Number of Neighbors for subsample with z<=1')\n",
    "plt.ylabel('MSE')\n",
    "plt.show()\n"
   ]
  },
  {
   "cell_type": "code",
   "execution_count": 110,
   "metadata": {},
   "outputs": [],
   "source": [
    "# Defining the grid of parameters for the gridSearchCV\n",
    "param_grid = {  'weights' : ['uniform', 'distance'],\n",
    "                'algorithm' : ['auto', 'ball_tree', 'kd_tree', 'brute'], \n",
    "                'leaf_size': range(1, 10),\n",
    "                'n_neighbors': [4,5,6],\n",
    "                'p' : [1, 2]\n",
    "             }\n",
    "# Setting and fitting gridsearchCV to the dataset \n",
    "knr_low_c = GridSearchCV(KNeighborsRegressor(), param_grid, n_jobs = -1 )\n",
    "KNR_low_c = knr_low_c.fit(Xl_train_c, yl_train_c)"
   ]
  },
  {
   "cell_type": "code",
   "execution_count": 111,
   "metadata": {},
   "outputs": [
    {
     "data": {
      "text/plain": [
       "{'algorithm': 'ball_tree',\n",
       " 'leaf_size': 1,\n",
       " 'n_neighbors': 6,\n",
       " 'p': 2,\n",
       " 'weights': 'distance'}"
      ]
     },
     "execution_count": 111,
     "metadata": {},
     "output_type": "execute_result"
    }
   ],
   "source": [
    "KNR_low_c.best_params_ "
   ]
  },
  {
   "cell_type": "code",
   "execution_count": 112,
   "metadata": {},
   "outputs": [],
   "source": [
    "# fit the model and predict the class\n",
    "yl_pred_knr_c = KNR_low_c.predict(Xl_test_c)"
   ]
  },
  {
   "cell_type": "code",
   "execution_count": 113,
   "metadata": {
    "scrolled": true
   },
   "outputs": [
    {
     "name": "stdout",
     "output_type": "stream",
     "text": [
      "Mean Square Error KNN for z < 1 : 0.004\n"
     ]
    }
   ],
   "source": [
    "# Mean squared error\n",
    "mse_KNR_low_c = mean_squared_error(yl_test_c,yl_pred_knr_c)\n",
    "print('Mean Square Error KNN for z < 1 :', round(mse_KNR_low_c, 3))"
   ]
  },
  {
   "cell_type": "markdown",
   "metadata": {},
   "source": [
    "#### Model Contruction and Analysis Support Vector Machine"
   ]
  },
  {
   "cell_type": "code",
   "execution_count": 85,
   "metadata": {
    "scrolled": true
   },
   "outputs": [
    {
     "data": {
      "text/plain": [
       "{'C': 1, 'gamma': 1, 'kernel': 'rbf'}"
      ]
     },
     "execution_count": 85,
     "metadata": {},
     "output_type": "execute_result"
    }
   ],
   "source": [
    "# fitting the model for grid search\n",
    "svr_low_c = SVR_grid.fit(Xl_train_c, yl_train_c)\n",
    "\n",
    "# print best parameter after tuning \n",
    "svr_low_c.best_params_"
   ]
  },
  {
   "cell_type": "code",
   "execution_count": 86,
   "metadata": {},
   "outputs": [
    {
     "name": "stdout",
     "output_type": "stream",
     "text": [
      "Mean Square Error SVR for z<=1: 0.007\n"
     ]
    }
   ],
   "source": [
    "#predicting the values and calculating the mse\n",
    "yl_pred_SVR_c = svr_low_c.predict(Xl_test_c)\n",
    "mse_SVR_low_c = mean_squared_error(yl_test_c,yl_pred_SVR_c)\n",
    "print('Mean Square Error SVR for z<=1:', round(mse_SVR_low_c, 3))"
   ]
  },
  {
   "cell_type": "markdown",
   "metadata": {},
   "source": [
    "### Subset high (z > 1)\n",
    "#### Data Selection and Preprocessing"
   ]
  },
  {
   "cell_type": "code",
   "execution_count": 87,
   "metadata": {},
   "outputs": [
    {
     "data": {
      "text/html": [
       "<div>\n",
       "<style scoped>\n",
       "    .dataframe tbody tr th:only-of-type {\n",
       "        vertical-align: middle;\n",
       "    }\n",
       "\n",
       "    .dataframe tbody tr th {\n",
       "        vertical-align: top;\n",
       "    }\n",
       "\n",
       "    .dataframe thead th {\n",
       "        text-align: right;\n",
       "    }\n",
       "</style>\n",
       "<table border=\"1\" class=\"dataframe\">\n",
       "  <thead>\n",
       "    <tr style=\"text-align: right;\">\n",
       "      <th></th>\n",
       "      <th>dered_u</th>\n",
       "      <th>dered_g</th>\n",
       "      <th>dered_r</th>\n",
       "      <th>dered_i</th>\n",
       "      <th>dered_z</th>\n",
       "      <th>z</th>\n",
       "      <th>nClass</th>\n",
       "      <th>u-g</th>\n",
       "      <th>g-r</th>\n",
       "      <th>r-i</th>\n",
       "      <th>i-z</th>\n",
       "    </tr>\n",
       "  </thead>\n",
       "  <tbody>\n",
       "    <tr>\n",
       "      <th>1164</th>\n",
       "      <td>19.63107</td>\n",
       "      <td>19.11511</td>\n",
       "      <td>18.91133</td>\n",
       "      <td>18.63013</td>\n",
       "      <td>18.64311</td>\n",
       "      <td>1.618037</td>\n",
       "      <td>2</td>\n",
       "      <td>0.51596</td>\n",
       "      <td>0.20378</td>\n",
       "      <td>0.28120</td>\n",
       "      <td>-0.01298</td>\n",
       "    </tr>\n",
       "    <tr>\n",
       "      <th>1182</th>\n",
       "      <td>18.99975</td>\n",
       "      <td>18.66811</td>\n",
       "      <td>18.50714</td>\n",
       "      <td>18.50478</td>\n",
       "      <td>18.52532</td>\n",
       "      <td>1.251942</td>\n",
       "      <td>2</td>\n",
       "      <td>0.33164</td>\n",
       "      <td>0.16097</td>\n",
       "      <td>0.00236</td>\n",
       "      <td>-0.02054</td>\n",
       "    </tr>\n",
       "    <tr>\n",
       "      <th>1552</th>\n",
       "      <td>19.13222</td>\n",
       "      <td>19.12999</td>\n",
       "      <td>19.23925</td>\n",
       "      <td>19.07789</td>\n",
       "      <td>18.94833</td>\n",
       "      <td>1.715456</td>\n",
       "      <td>2</td>\n",
       "      <td>0.00223</td>\n",
       "      <td>-0.10926</td>\n",
       "      <td>0.16136</td>\n",
       "      <td>0.12956</td>\n",
       "    </tr>\n",
       "    <tr>\n",
       "      <th>1607</th>\n",
       "      <td>19.08581</td>\n",
       "      <td>18.88214</td>\n",
       "      <td>18.79280</td>\n",
       "      <td>18.89849</td>\n",
       "      <td>19.06236</td>\n",
       "      <td>1.179185</td>\n",
       "      <td>2</td>\n",
       "      <td>0.20367</td>\n",
       "      <td>0.08934</td>\n",
       "      <td>-0.10569</td>\n",
       "      <td>-0.16387</td>\n",
       "    </tr>\n",
       "    <tr>\n",
       "      <th>3318</th>\n",
       "      <td>19.30361</td>\n",
       "      <td>18.70311</td>\n",
       "      <td>18.62150</td>\n",
       "      <td>18.62959</td>\n",
       "      <td>18.41046</td>\n",
       "      <td>2.452712</td>\n",
       "      <td>2</td>\n",
       "      <td>0.60050</td>\n",
       "      <td>0.08161</td>\n",
       "      <td>-0.00809</td>\n",
       "      <td>0.21913</td>\n",
       "    </tr>\n",
       "  </tbody>\n",
       "</table>\n",
       "</div>"
      ],
      "text/plain": [
       "       dered_u   dered_g   dered_r   dered_i   dered_z         z  nClass  \\\n",
       "1164  19.63107  19.11511  18.91133  18.63013  18.64311  1.618037       2   \n",
       "1182  18.99975  18.66811  18.50714  18.50478  18.52532  1.251942       2   \n",
       "1552  19.13222  19.12999  19.23925  19.07789  18.94833  1.715456       2   \n",
       "1607  19.08581  18.88214  18.79280  18.89849  19.06236  1.179185       2   \n",
       "3318  19.30361  18.70311  18.62150  18.62959  18.41046  2.452712       2   \n",
       "\n",
       "          u-g      g-r      r-i      i-z  \n",
       "1164  0.51596  0.20378  0.28120 -0.01298  \n",
       "1182  0.33164  0.16097  0.00236 -0.02054  \n",
       "1552  0.00223 -0.10926  0.16136  0.12956  \n",
       "1607  0.20367  0.08934 -0.10569 -0.16387  \n",
       "3318  0.60050  0.08161 -0.00809  0.21913  "
      ]
     },
     "execution_count": 87,
     "metadata": {},
     "output_type": "execute_result"
    }
   ],
   "source": [
    "# Subsetting the dataset by selecting from the full dataset only sources with z<=1\n",
    "data_high_c = data_colour.loc[(data_colour['z'] > 1.0 )]\n",
    "data_high_c.head()"
   ]
  },
  {
   "cell_type": "code",
   "execution_count": 89,
   "metadata": {},
   "outputs": [
    {
     "name": "stdout",
     "output_type": "stream",
     "text": [
      "Count of X_train = 2502\n",
      "Count of X_test = 1073\n"
     ]
    }
   ],
   "source": [
    "# separating feature X and label y and scaling data \n",
    "X = data_high_c.drop(['nClass', 'z'], axis=1)\n",
    "y = data_high_c['z']\n",
    "# Using RobustScaler to scale the dataset\n",
    "X_t_high_c = scaler.fit_transform(X)\n",
    "X_scaled_high_c = pd.DataFrame(X_t_high_c, columns = X.columns)\n",
    "# Split the data into training and test sets\n",
    "Xh_train_c, Xh_test_c, yh_train_c, yh_test_c = train_test_split(X_scaled_high_c, y, test_size=0.3, random_state=42)\n",
    "\n",
    "print(f'Count of X_train = {Xh_train_c[\"dered_u\"].count()}')\n",
    "print(f'Count of X_test = {Xh_test_c[\"dered_u\"].count()}')\n"
   ]
  },
  {
   "cell_type": "markdown",
   "metadata": {},
   "source": [
    "#### Model Contruction and Analysis KNN"
   ]
  },
  {
   "cell_type": "code",
   "execution_count": 96,
   "metadata": {},
   "outputs": [
    {
     "data": {
      "text/plain": [
       "array([0.11847091, 0.10029376, 0.09285314, 0.09145092, 0.08760364,\n",
       "       0.0831165 , 0.08098411, 0.08206198, 0.08241182, 0.08231578,\n",
       "       0.08118999, 0.08187082, 0.08210724, 0.08186781, 0.08171106,\n",
       "       0.0828204 , 0.0825626 , 0.08272702, 0.08243665, 0.08209679,\n",
       "       0.08254651, 0.08246623, 0.08319136, 0.0830569 , 0.08344603,\n",
       "       0.08331826, 0.08330116, 0.0831045 , 0.08308762, 0.08319161,\n",
       "       0.08288249, 0.08290918, 0.08316996, 0.08318992, 0.08309899,\n",
       "       0.08314482, 0.08311891, 0.08325974, 0.08335958, 0.08335874,\n",
       "       0.0834342 , 0.08357939, 0.08414833, 0.08439377, 0.08457912,\n",
       "       0.08453376, 0.08466656, 0.0850035 , 0.08527831, 0.08523023])"
      ]
     },
     "execution_count": 96,
     "metadata": {},
     "output_type": "execute_result"
    }
   ],
   "source": [
    "# Calculating the mse for a range of values to select the best range.\n",
    "n=50\n",
    "mse_high_c = np.zeros(n)\n",
    "for i in range(1,n+1):\n",
    "    #Train Model and Predict  \n",
    "    knn = KNeighborsRegressor(n_neighbors = i).fit(Xh_train_c,yh_train_c)\n",
    "    yhat= knn.predict(Xh_test_c)\n",
    "    mse_high_c[i-1] = mean_squared_error(yh_test_c, yhat)\n",
    "\n",
    "mse_high_c"
   ]
  },
  {
   "cell_type": "code",
   "execution_count": 97,
   "metadata": {},
   "outputs": [
    {
     "data": {
      "image/png": "[encoded data removed]",
      "text/plain": [
       "<Figure size 720x432 with 1 Axes>"
      ]
     },
     "metadata": {},
     "output_type": "display_data"
    }
   ],
   "source": [
    "# Plotting the mse obtained against the number of neighbours\n",
    "loc = np.arange(1,n+1,step=1.0)\n",
    "plt.figure(figsize = (10, 6))\n",
    "plt.plot(range(1, n+1), mse_high_c)\n",
    "plt.xticks(loc)\n",
    "plt.xlabel('Number of Neighbors for subsample of z>1')\n",
    "plt.ylabel('MSE')\n",
    "plt.show()\n"
   ]
  },
  {
   "cell_type": "code",
   "execution_count": 98,
   "metadata": {},
   "outputs": [],
   "source": [
    "# Defining the grid of parameters for the gridSearchCV\n",
    "param_grid = {  'weights' : ['uniform', 'distance'],\n",
    "                'algorithm' : ['auto', 'ball_tree', 'kd_tree', 'brute'], \n",
    "                'leaf_size': range(1, 10),\n",
    "                'n_neighbors': [6, 7, 11],\n",
    "                'p' : [1, 2]\n",
    "             }\n",
    "# Setting and fitting gridsearchCV to the dataset \n",
    "knr_high_c = GridSearchCV(KNeighborsRegressor(), param_grid, n_jobs = -1 )\n",
    "KNR_high_c = knr_high.fit(Xh_train_c, yh_train_c)"
   ]
  },
  {
   "cell_type": "code",
   "execution_count": 99,
   "metadata": {},
   "outputs": [
    {
     "data": {
      "text/plain": [
       "{'algorithm': 'auto',\n",
       " 'leaf_size': 4,\n",
       " 'n_neighbors': 7,\n",
       " 'p': 2,\n",
       " 'weights': 'distance'}"
      ]
     },
     "execution_count": 99,
     "metadata": {},
     "output_type": "execute_result"
    }
   ],
   "source": [
    "KNR_high_c.best_params_ "
   ]
  },
  {
   "cell_type": "code",
   "execution_count": 100,
   "metadata": {},
   "outputs": [],
   "source": [
    "# fit the model and predict the class\n",
    "yh_pred_knr_c = KNR_high_c.predict(Xh_test_c)"
   ]
  },
  {
   "cell_type": "code",
   "execution_count": 101,
   "metadata": {
    "scrolled": true
   },
   "outputs": [
    {
     "name": "stdout",
     "output_type": "stream",
     "text": [
      "Mean Square Error KNN for z > 1 : 0.081\n"
     ]
    }
   ],
   "source": [
    "# Mean squared error\n",
    "mse_KNR_high_c = mean_squared_error(yh_test_c,yh_pred_knr_c)\n",
    "print('Mean Square Error KNN for z > 1 :', round(mse_KNR_high_c, 3))"
   ]
  },
  {
   "cell_type": "markdown",
   "metadata": {},
   "source": [
    "#### Model Contruction and Analysis Support Vector Machine"
   ]
  },
  {
   "cell_type": "code",
   "execution_count": 102,
   "metadata": {},
   "outputs": [
    {
     "data": {
      "text/plain": [
       "{'C': 1, 'gamma': 0.1, 'kernel': 'rbf'}"
      ]
     },
     "execution_count": 102,
     "metadata": {},
     "output_type": "execute_result"
    }
   ],
   "source": [
    "# fitting the model for grid search\n",
    "svr_high_c = SVR_grid.fit(Xh_train_c, yh_train_c)\n",
    "\n",
    "# print best parameter after tuning \n",
    "svr_high_c.best_params_"
   ]
  },
  {
   "cell_type": "code",
   "execution_count": 104,
   "metadata": {},
   "outputs": [
    {
     "name": "stdout",
     "output_type": "stream",
     "text": [
      "Mean Square Error SVR: 0.08\n"
     ]
    }
   ],
   "source": [
    "#predicting the values and calculating the mse\n",
    "yh_pred_SVR_c = svr_high_c.predict(Xh_test_c)\n",
    "mse_SVR_high_c = mean_squared_error(yh_test_c,yh_pred_SVR_c)\n",
    "print('Mean Square Error SVR:', round(mse_SVR_high_c, 3))"
   ]
  },
  {
   "cell_type": "markdown",
   "metadata": {},
   "source": [
    "### All results together of Coloured data"
   ]
  },
  {
   "cell_type": "code",
   "execution_count": 121,
   "metadata": {},
   "outputs": [
    {
     "name": "stdout",
     "output_type": "stream",
     "text": [
      "Dataset colour      MSE KNR    MSE SVR\n",
      "----------------  ---------  ---------\n",
      "All                   0.149      0.155\n",
      "Low                   0.004      0.007\n",
      "High                  0.081      0.08\n"
     ]
    }
   ],
   "source": [
    "#create data\n",
    "tab_data_c = [[\"All\", round(mse_KNR_all_c, 3), round(mse_SVR_c, 3)], \n",
    "        [\"Low\",  round(mse_KNR_low_c, 3),  round(mse_SVR_low_c, 3)], \n",
    "        [\"High\",  round(mse_KNR_high_c, 3),  round(mse_SVR_high_c, 3)]]\n",
    "  \n",
    "#define header names\n",
    "col_names_c = [\"Dataset colour\",\"MSE KNR\", \"MSE SVR\"]\n",
    "  \n",
    "#display table\n",
    "print(tabulate(tab_data_c, headers=col_names_c))\n"
   ]
  },
  {
   "cell_type": "code",
   "execution_count": 120,
   "metadata": {},
   "outputs": [
    {
     "name": "stdout",
     "output_type": "stream",
     "text": [
      "Dataset      MSE KNR    MSE SVR\n",
      "---------  ---------  ---------\n",
      "All            0.186      0.224\n",
      "Low            0.008      0.009\n",
      "High           0.099      0.092\n"
     ]
    }
   ],
   "source": [
    "print(tabulate(tab_data, headers=col_names))"
   ]
  },
  {
   "cell_type": "markdown",
   "metadata": {},
   "source": [
    "## Conclusion\n",
    "\n",
    "I obtained 13671 datapoints from the SDSS catalogue. The dataset was imbalance penalising stars. I observed that the distribution of positive redshifts didn't rapresent higher values of redshift (approx > 1). This might be due to the constraint that the datavoints should have photoZ information. When I eliminated this contraint, there was a higher population with higher redshifhts. Looking at how it affected each class, the most affected class was that of QSOs. Also, the inbalance of classes was gone and I was able to obtain 15000 datapoints(5000 for each class).\n",
    "\n",
    "The distribution of redshifts still lies mostly in the lower values of redshifht (<=1). This affected the results of the models. So I divided the dataset between high(24%) and low(76%) values. This significantly improved the mean square errors(MSE) in the low subset but also in the high subset (although less impressive)  with respect to the full dataset. Adding colours to the dataset and subsets improves the MSE; especially for the full dataset and the high subset.\n",
    "\n",
    "Comparing the MSEs obtained in this analysis with the MSE of the photoZ (0.054) and the colour dataset MSE, the low subset does better by apporximaly an order of magnitude and the high subset does worst by about 0.03. The full dataset fares even less by about 0.13 worst. There is also to have in mind that the number of the high subset is much less that of the low dataset and maybe increasing the number of high redshift sources might improve the MSE for the high subset.\n"
   ]
  },
  {
   "cell_type": "code",
   "execution_count": null,
   "metadata": {},
   "outputs": [],
   "source": []
  }
 ],
 "metadata": {
  "kernelspec": {
   "display_name": "Python 3 (ipykernel)",
   "language": "python",
   "name": "python3"
  },
  "language_info": {
   "codemirror_mode": {
    "name": "ipython",
    "version": 3
   },
   "file_extension": ".py",
   "mimetype": "text/x-python",
   "name": "python",
   "nbconvert_exporter": "python",
   "pygments_lexer": "ipython3",
   "version": "3.9.7"
  }
 },
 "nbformat": 4,
 "nbformat_minor": 4
}
