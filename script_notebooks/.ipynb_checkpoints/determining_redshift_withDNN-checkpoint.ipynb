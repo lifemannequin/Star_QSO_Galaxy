{
 "cells": [
  {
   "cell_type": "markdown",
   "metadata": {},
   "source": [
    "## Introduction\n",
    "\n",
    "This notebook is the same as the others but here deep neural network is used to calculate the photometric redshift. I use the same dataset used in determining_redshift_less_bias."
   ]
  },
  {
   "cell_type": "code",
   "execution_count": 1,
   "metadata": {},
   "outputs": [],
   "source": [
    "import os\n",
    "import numpy as np\n",
    "import pandas as pd\n",
    "from pandas.plotting import table\n",
    "import seaborn as sns\n",
    "import matplotlib.pyplot as plt\n",
    "from scipy import stats\n",
    "sns.set()\n",
    "%matplotlib inline\n",
    "from keras.models import Sequential\n",
    "from keras.layers import Dense\n",
    "from keras.wrappers.scikit_learn import KerasRegressor\n",
    "from sklearn.model_selection import cross_val_score\n",
    "from sklearn.model_selection import KFold\n",
    "from sklearn.pipeline import Pipeline"
   ]
  },
  {
   "cell_type": "code",
   "execution_count": 2,
   "metadata": {},
   "outputs": [
    {
     "data": {
      "text/html": [
       "<div>\n",
       "<style scoped>\n",
       "    .dataframe tbody tr th:only-of-type {\n",
       "        vertical-align: middle;\n",
       "    }\n",
       "\n",
       "    .dataframe tbody tr th {\n",
       "        vertical-align: top;\n",
       "    }\n",
       "\n",
       "    .dataframe thead th {\n",
       "        text-align: right;\n",
       "    }\n",
       "</style>\n",
       "<table border=\"1\" class=\"dataframe\">\n",
       "  <thead>\n",
       "    <tr style=\"text-align: right;\">\n",
       "      <th></th>\n",
       "      <th>objID</th>\n",
       "      <th>dered_u</th>\n",
       "      <th>err_u</th>\n",
       "      <th>dered_g</th>\n",
       "      <th>err_g</th>\n",
       "      <th>dered_r</th>\n",
       "      <th>err_r</th>\n",
       "      <th>dered_i</th>\n",
       "      <th>err_i</th>\n",
       "      <th>dered_z</th>\n",
       "      <th>err_z</th>\n",
       "      <th>specObjID</th>\n",
       "      <th>z</th>\n",
       "      <th>zErr</th>\n",
       "      <th>photoZ</th>\n",
       "      <th>photoErr</th>\n",
       "      <th>class</th>\n",
       "      <th>subClass</th>\n",
       "      <th>type</th>\n",
       "    </tr>\n",
       "  </thead>\n",
       "  <tbody>\n",
       "    <tr>\n",
       "      <th>62173</th>\n",
       "      <td>1237655368754987337</td>\n",
       "      <td>19.16868</td>\n",
       "      <td>0.026376</td>\n",
       "      <td>18.88609</td>\n",
       "      <td>0.010631</td>\n",
       "      <td>18.34895</td>\n",
       "      <td>0.009022</td>\n",
       "      <td>18.23175</td>\n",
       "      <td>0.012009</td>\n",
       "      <td>17.80412</td>\n",
       "      <td>0.027500</td>\n",
       "      <td>8.838908e+17</td>\n",
       "      <td>0.291633</td>\n",
       "      <td>0.000029</td>\n",
       "      <td>0.323915</td>\n",
       "      <td>0.030207</td>\n",
       "      <td>QSO</td>\n",
       "      <td>BROADLINE</td>\n",
       "      <td>3.0</td>\n",
       "    </tr>\n",
       "    <tr>\n",
       "      <th>107879</th>\n",
       "      <td>1237666301631856968</td>\n",
       "      <td>24.60828</td>\n",
       "      <td>0.847799</td>\n",
       "      <td>21.44164</td>\n",
       "      <td>0.069386</td>\n",
       "      <td>19.79434</td>\n",
       "      <td>0.022211</td>\n",
       "      <td>18.60676</td>\n",
       "      <td>0.013570</td>\n",
       "      <td>17.97815</td>\n",
       "      <td>0.023617</td>\n",
       "      <td>2.972524e+18</td>\n",
       "      <td>0.000048</td>\n",
       "      <td>0.000029</td>\n",
       "      <td>0.603702</td>\n",
       "      <td>0.031990</td>\n",
       "      <td>STAR</td>\n",
       "      <td>M3</td>\n",
       "      <td>3.0</td>\n",
       "    </tr>\n",
       "    <tr>\n",
       "      <th>44600</th>\n",
       "      <td>1237651272959984367</td>\n",
       "      <td>23.55253</td>\n",
       "      <td>1.161902</td>\n",
       "      <td>22.54040</td>\n",
       "      <td>0.254664</td>\n",
       "      <td>20.89602</td>\n",
       "      <td>0.082968</td>\n",
       "      <td>20.09757</td>\n",
       "      <td>0.057800</td>\n",
       "      <td>19.88890</td>\n",
       "      <td>0.196982</td>\n",
       "      <td>4.153456e+18</td>\n",
       "      <td>0.518870</td>\n",
       "      <td>0.000170</td>\n",
       "      <td>0.460665</td>\n",
       "      <td>0.043303</td>\n",
       "      <td>GALAXY</td>\n",
       "      <td>NaN</td>\n",
       "      <td>NaN</td>\n",
       "    </tr>\n",
       "    <tr>\n",
       "      <th>92215</th>\n",
       "      <td>1237652938328769305</td>\n",
       "      <td>19.38660</td>\n",
       "      <td>0.038621</td>\n",
       "      <td>17.94464</td>\n",
       "      <td>0.006884</td>\n",
       "      <td>17.42562</td>\n",
       "      <td>0.005971</td>\n",
       "      <td>17.23417</td>\n",
       "      <td>0.006370</td>\n",
       "      <td>17.11033</td>\n",
       "      <td>0.014374</td>\n",
       "      <td>8.186082e+17</td>\n",
       "      <td>-0.000233</td>\n",
       "      <td>0.000012</td>\n",
       "      <td>0.065854</td>\n",
       "      <td>0.037884</td>\n",
       "      <td>STAR</td>\n",
       "      <td>F9</td>\n",
       "      <td>3.0</td>\n",
       "    </tr>\n",
       "    <tr>\n",
       "      <th>93061</th>\n",
       "      <td>1237657591393747084</td>\n",
       "      <td>20.01892</td>\n",
       "      <td>0.048254</td>\n",
       "      <td>17.44683</td>\n",
       "      <td>0.004891</td>\n",
       "      <td>16.07355</td>\n",
       "      <td>0.003602</td>\n",
       "      <td>14.95026</td>\n",
       "      <td>0.003256</td>\n",
       "      <td>14.31649</td>\n",
       "      <td>0.003787</td>\n",
       "      <td>1.140691e+18</td>\n",
       "      <td>-0.000030</td>\n",
       "      <td>0.000016</td>\n",
       "      <td>-9999.000000</td>\n",
       "      <td>-9999.000000</td>\n",
       "      <td>STAR</td>\n",
       "      <td>M3</td>\n",
       "      <td>3.0</td>\n",
       "    </tr>\n",
       "  </tbody>\n",
       "</table>\n",
       "</div>"
      ],
      "text/plain": [
       "                      objID   dered_u     err_u   dered_g     err_g   dered_r  \\\n",
       "62173   1237655368754987337  19.16868  0.026376  18.88609  0.010631  18.34895   \n",
       "107879  1237666301631856968  24.60828  0.847799  21.44164  0.069386  19.79434   \n",
       "44600   1237651272959984367  23.55253  1.161902  22.54040  0.254664  20.89602   \n",
       "92215   1237652938328769305  19.38660  0.038621  17.94464  0.006884  17.42562   \n",
       "93061   1237657591393747084  20.01892  0.048254  17.44683  0.004891  16.07355   \n",
       "\n",
       "           err_r   dered_i     err_i   dered_z     err_z     specObjID  \\\n",
       "62173   0.009022  18.23175  0.012009  17.80412  0.027500  8.838908e+17   \n",
       "107879  0.022211  18.60676  0.013570  17.97815  0.023617  2.972524e+18   \n",
       "44600   0.082968  20.09757  0.057800  19.88890  0.196982  4.153456e+18   \n",
       "92215   0.005971  17.23417  0.006370  17.11033  0.014374  8.186082e+17   \n",
       "93061   0.003602  14.95026  0.003256  14.31649  0.003787  1.140691e+18   \n",
       "\n",
       "               z      zErr       photoZ     photoErr   class   subClass  type  \n",
       "62173   0.291633  0.000029     0.323915     0.030207     QSO  BROADLINE   3.0  \n",
       "107879  0.000048  0.000029     0.603702     0.031990    STAR         M3   3.0  \n",
       "44600   0.518870  0.000170     0.460665     0.043303  GALAXY        NaN   NaN  \n",
       "92215  -0.000233  0.000012     0.065854     0.037884    STAR         F9   3.0  \n",
       "93061  -0.000030  0.000016 -9999.000000 -9999.000000    STAR         M3   3.0  "
      ]
     },
     "execution_count": 2,
     "metadata": {},
     "output_type": "execute_result"
    }
   ],
   "source": [
    "#Loading files\n",
    "filepath= \"/home/veroastro/Documents/spectraTypes/data/newData/\"\n",
    "data = pd.read_csv(filepath+\"full_sources.csv\")\n",
    "#Scramble the data set so that it is not ordered by spectral class (QSO, galaxy or star) \n",
    "data = data.sample(frac=1)\n",
    "\n",
    "data.head()"
   ]
  },
  {
   "cell_type": "code",
   "execution_count": 3,
   "metadata": {},
   "outputs": [
    {
     "data": {
      "text/html": [
       "<div>\n",
       "<style scoped>\n",
       "    .dataframe tbody tr th:only-of-type {\n",
       "        vertical-align: middle;\n",
       "    }\n",
       "\n",
       "    .dataframe tbody tr th {\n",
       "        vertical-align: top;\n",
       "    }\n",
       "\n",
       "    .dataframe thead th {\n",
       "        text-align: right;\n",
       "    }\n",
       "</style>\n",
       "<table border=\"1\" class=\"dataframe\">\n",
       "  <thead>\n",
       "    <tr style=\"text-align: right;\">\n",
       "      <th></th>\n",
       "      <th>dered_u</th>\n",
       "      <th>dered_g</th>\n",
       "      <th>dered_r</th>\n",
       "      <th>dered_i</th>\n",
       "      <th>dered_z</th>\n",
       "      <th>z</th>\n",
       "    </tr>\n",
       "  </thead>\n",
       "  <tbody>\n",
       "    <tr>\n",
       "      <th>62173</th>\n",
       "      <td>19.16868</td>\n",
       "      <td>18.88609</td>\n",
       "      <td>18.34895</td>\n",
       "      <td>18.23175</td>\n",
       "      <td>17.80412</td>\n",
       "      <td>0.291633</td>\n",
       "    </tr>\n",
       "    <tr>\n",
       "      <th>107879</th>\n",
       "      <td>24.60828</td>\n",
       "      <td>21.44164</td>\n",
       "      <td>19.79434</td>\n",
       "      <td>18.60676</td>\n",
       "      <td>17.97815</td>\n",
       "      <td>0.000048</td>\n",
       "    </tr>\n",
       "    <tr>\n",
       "      <th>44600</th>\n",
       "      <td>23.55253</td>\n",
       "      <td>22.54040</td>\n",
       "      <td>20.89602</td>\n",
       "      <td>20.09757</td>\n",
       "      <td>19.88890</td>\n",
       "      <td>0.518870</td>\n",
       "    </tr>\n",
       "    <tr>\n",
       "      <th>92215</th>\n",
       "      <td>19.38660</td>\n",
       "      <td>17.94464</td>\n",
       "      <td>17.42562</td>\n",
       "      <td>17.23417</td>\n",
       "      <td>17.11033</td>\n",
       "      <td>-0.000233</td>\n",
       "    </tr>\n",
       "    <tr>\n",
       "      <th>93061</th>\n",
       "      <td>20.01892</td>\n",
       "      <td>17.44683</td>\n",
       "      <td>16.07355</td>\n",
       "      <td>14.95026</td>\n",
       "      <td>14.31649</td>\n",
       "      <td>-0.000030</td>\n",
       "    </tr>\n",
       "  </tbody>\n",
       "</table>\n",
       "</div>"
      ],
      "text/plain": [
       "         dered_u   dered_g   dered_r   dered_i   dered_z         z\n",
       "62173   19.16868  18.88609  18.34895  18.23175  17.80412  0.291633\n",
       "107879  24.60828  21.44164  19.79434  18.60676  17.97815  0.000048\n",
       "44600   23.55253  22.54040  20.89602  20.09757  19.88890  0.518870\n",
       "92215   19.38660  17.94464  17.42562  17.23417  17.11033 -0.000233\n",
       "93061   20.01892  17.44683  16.07355  14.95026  14.31649 -0.000030"
      ]
     },
     "execution_count": 3,
     "metadata": {},
     "output_type": "execute_result"
    }
   ],
   "source": [
    "# Removing Id, error and class data\n",
    "data_clean = data.drop(columns=['specObjID','objID','err_u', 'err_g', 'err_r', 'err_i', 'err_z', 'zErr', 'class', 'subClass', 'photoZ','photoErr','type'])\n",
    "data_clean.head()"
   ]
  },
  {
   "cell_type": "code",
   "execution_count": 4,
   "metadata": {},
   "outputs": [],
   "source": [
    "def hist_plots( data: pd.DataFrame,\n",
    "               rows: int,\n",
    "              cols: int,\n",
    "              figsize: tuple):\n",
    "    fig, axes = plt.subplots(rows,cols, figsize=figsize)\n",
    "    for i, ax in enumerate(axes.flatten()):\n",
    "        if i < len(data.columns):\n",
    "            data[sorted(data.columns)[i]].plot.hist(bins=30, ax=ax)\n",
    "            ax.set_title(f'{sorted(data.columns)[i]} distribution', fontsize=10)\n",
    "            ax.tick_params(axis='x', labelsize=10)\n",
    "            ax.tick_params(axis='y', labelsize=10)\n",
    "            ax.get_yaxis().get_label().set_visible(False)\n",
    "        else:\n",
    "            fig.delaxes(ax=ax)\n",
    "    fig.tight_layout()"
   ]
  },
  {
   "cell_type": "code",
   "execution_count": 5,
   "metadata": {},
   "outputs": [
    {
     "data": {
      "image/png": "[encoded data removed]",
      "text/plain": [
       "<Figure size 1440x720 with 6 Axes>"
      ]
     },
     "metadata": {
      "needs_background": "light"
     },
     "output_type": "display_data"
    }
   ],
   "source": [
    "# Histogram of the columns in data_clean\n",
    "hist_plots(data=data_clean,\n",
    "          rows=2,\n",
    "          cols=4,\n",
    "          figsize=(20,10))"
   ]
  },
  {
   "cell_type": "code",
   "execution_count": 6,
   "metadata": {},
   "outputs": [
    {
     "data": {
      "text/html": [
       "<div>\n",
       "<style scoped>\n",
       "    .dataframe tbody tr th:only-of-type {\n",
       "        vertical-align: middle;\n",
       "    }\n",
       "\n",
       "    .dataframe tbody tr th {\n",
       "        vertical-align: top;\n",
       "    }\n",
       "\n",
       "    .dataframe thead th {\n",
       "        text-align: right;\n",
       "    }\n",
       "</style>\n",
       "<table border=\"1\" class=\"dataframe\">\n",
       "  <thead>\n",
       "    <tr style=\"text-align: right;\">\n",
       "      <th></th>\n",
       "      <th>dered_u</th>\n",
       "      <th>dered_g</th>\n",
       "      <th>dered_r</th>\n",
       "      <th>dered_i</th>\n",
       "      <th>dered_z</th>\n",
       "      <th>z</th>\n",
       "    </tr>\n",
       "  </thead>\n",
       "  <tbody>\n",
       "    <tr>\n",
       "      <th>count</th>\n",
       "      <td>135000.000000</td>\n",
       "      <td>135000.000000</td>\n",
       "      <td>135000.000000</td>\n",
       "      <td>135000.000000</td>\n",
       "      <td>135000.000000</td>\n",
       "      <td>135000.000000</td>\n",
       "    </tr>\n",
       "    <tr>\n",
       "      <th>mean</th>\n",
       "      <td>21.818135</td>\n",
       "      <td>20.309045</td>\n",
       "      <td>19.285139</td>\n",
       "      <td>18.592777</td>\n",
       "      <td>18.275074</td>\n",
       "      <td>0.293436</td>\n",
       "    </tr>\n",
       "    <tr>\n",
       "      <th>std</th>\n",
       "      <td>2.191509</td>\n",
       "      <td>1.830998</td>\n",
       "      <td>1.673204</td>\n",
       "      <td>1.488666</td>\n",
       "      <td>1.500261</td>\n",
       "      <td>0.498651</td>\n",
       "    </tr>\n",
       "    <tr>\n",
       "      <th>min</th>\n",
       "      <td>10.332040</td>\n",
       "      <td>9.884518</td>\n",
       "      <td>9.321852</td>\n",
       "      <td>9.207663</td>\n",
       "      <td>9.800303</td>\n",
       "      <td>-0.009944</td>\n",
       "    </tr>\n",
       "    <tr>\n",
       "      <th>25%</th>\n",
       "      <td>20.000940</td>\n",
       "      <td>18.970020</td>\n",
       "      <td>18.255080</td>\n",
       "      <td>17.759570</td>\n",
       "      <td>17.433850</td>\n",
       "      <td>0.000095</td>\n",
       "    </tr>\n",
       "    <tr>\n",
       "      <th>50%</th>\n",
       "      <td>21.933740</td>\n",
       "      <td>20.637290</td>\n",
       "      <td>19.579080</td>\n",
       "      <td>18.846650</td>\n",
       "      <td>18.440160</td>\n",
       "      <td>0.188444</td>\n",
       "    </tr>\n",
       "    <tr>\n",
       "      <th>75%</th>\n",
       "      <td>23.402515</td>\n",
       "      <td>21.611540</td>\n",
       "      <td>20.441560</td>\n",
       "      <td>19.561500</td>\n",
       "      <td>19.151623</td>\n",
       "      <td>0.431413</td>\n",
       "    </tr>\n",
       "    <tr>\n",
       "      <th>max</th>\n",
       "      <td>32.564690</td>\n",
       "      <td>31.013640</td>\n",
       "      <td>31.521720</td>\n",
       "      <td>31.343010</td>\n",
       "      <td>30.781270</td>\n",
       "      <td>7.018627</td>\n",
       "    </tr>\n",
       "  </tbody>\n",
       "</table>\n",
       "</div>"
      ],
      "text/plain": [
       "             dered_u        dered_g        dered_r        dered_i  \\\n",
       "count  135000.000000  135000.000000  135000.000000  135000.000000   \n",
       "mean       21.818135      20.309045      19.285139      18.592777   \n",
       "std         2.191509       1.830998       1.673204       1.488666   \n",
       "min        10.332040       9.884518       9.321852       9.207663   \n",
       "25%        20.000940      18.970020      18.255080      17.759570   \n",
       "50%        21.933740      20.637290      19.579080      18.846650   \n",
       "75%        23.402515      21.611540      20.441560      19.561500   \n",
       "max        32.564690      31.013640      31.521720      31.343010   \n",
       "\n",
       "             dered_z              z  \n",
       "count  135000.000000  135000.000000  \n",
       "mean       18.275074       0.293436  \n",
       "std         1.500261       0.498651  \n",
       "min         9.800303      -0.009944  \n",
       "25%        17.433850       0.000095  \n",
       "50%        18.440160       0.188444  \n",
       "75%        19.151623       0.431413  \n",
       "max        30.781270       7.018627  "
      ]
     },
     "execution_count": 6,
     "metadata": {},
     "output_type": "execute_result"
    }
   ],
   "source": [
    "data_clean.describe()"
   ]
  },
  {
   "cell_type": "markdown",
   "metadata": {},
   "source": [
    "The data is not scaled because the input values are the 5 bands and their range is similar. \n",
    "In the cell bellow there are 2 sets of X and y. This is because the full dataset has 135000 points and it takes too long for the code to run so I reduced the dataset to 1% of the full dataset to help speed up tuning the DNN."
   ]
  },
  {
   "cell_type": "code",
   "execution_count": 7,
   "metadata": {},
   "outputs": [],
   "source": [
    "# creating the features and label dataframes and normalising X\n",
    "from sklearn.preprocessing import MinMaxScaler\n",
    "data_red = data_clean.sample(frac = 0.01) #reduced dataset\n",
    "cols= data_clean.columns[:-1]\n",
    "#X = data_red[cols]\n",
    "#y = data_red['z']\n",
    "#X.shape\n",
    "X = data_clean[cols]\n",
    "y = data_clean['z']\n",
    "scaler = MinMaxScaler()\n",
    "X_t = scaler.fit_transform(X)"
   ]
  },
  {
   "cell_type": "code",
   "execution_count": 8,
   "metadata": {},
   "outputs": [],
   "source": [
    "# divide the X and y dataframsn into train and test sets\n",
    "from sklearn.model_selection import train_test_split\n",
    "\n",
    "X_train, X_test, y_train, y_test = train_test_split(X_t, y, \n",
    "                                                    test_size=0.3, random_state=42)"
   ]
  },
  {
   "cell_type": "code",
   "execution_count": 9,
   "metadata": {},
   "outputs": [],
   "source": [
    "# define base model\n",
    "def baseline_model():\n",
    "    # create model\n",
    "    model = Sequential()\n",
    "    model.add(Dense(250, input_dim=5, kernel_initializer='normal', activation='relu'))\n",
    "    model.add(Dense(50, kernel_initializer='normal', activation='relu'))\n",
    "    model.add(Dense(1, kernel_initializer='normal'))\n",
    "    # Compile model\n",
    "    model.compile(loss='mean_squared_error', optimizer='adam')\n",
    "    return model"
   ]
  },
  {
   "cell_type": "markdown",
   "metadata": {},
   "source": [
    "Tried adding new layers but the mse of the test sample went from 0.081(mse of current setting) to 0.129. Increasing the number of nodes give an mse of 0.085. \n"
   ]
  },
  {
   "cell_type": "code",
   "execution_count": 10,
   "metadata": {},
   "outputs": [],
   "source": [
    "estimator = KerasRegressor(build_fn=baseline_model, epochs=100, batch_size=5, verbose=0)\n",
    "#kfold = KFold(n_splits=10)\n",
    "#results = cross_val_score(estimator, X, y, cv=kfold)\n",
    "#print(\"Baseline: %.2f (%.2f) MSE\" % (results.mean(), results.std()))"
   ]
  },
  {
   "cell_type": "code",
   "execution_count": 11,
   "metadata": {},
   "outputs": [],
   "source": [
    "# fit the model and make predictions\n",
    "estimator.fit(X_train, y_train)\n",
    "predictions = estimator.predict(X_test)"
   ]
  },
  {
   "cell_type": "code",
   "execution_count": 12,
   "metadata": {},
   "outputs": [
    {
     "name": "stdout",
     "output_type": "stream",
     "text": [
      "Mean Square Error: 0.184\n"
     ]
    }
   ],
   "source": [
    "# print mean square errors between predicted and spectroscopic z\n",
    "from sklearn.metrics import mean_squared_error\n",
    "pred_err = abs(predictions - y_test)\n",
    "print('Mean Square Error:', round(mean_squared_error(y_test,predictions), 3))"
   ]
  },
  {
   "cell_type": "code",
   "execution_count": 13,
   "metadata": {},
   "outputs": [
    {
     "name": "stdout",
     "output_type": "stream",
     "text": [
      "(129195,)\n",
      "Mean Square Error SDSS: 0.259\n"
     ]
    }
   ],
   "source": [
    "# print mean square errors between photometric and spectroscopic z\n",
    "photozErr= data.loc[(data['photoZ'] >= 0.0)]['photoZ']\n",
    "sZ= data.loc[(data['photoZ'] >= 0.0)]['z']\n",
    "print(photozErr.shape)\n",
    "print('Mean Square Error SDSS:', round(mean_squared_error(sZ,photozErr), 3))"
   ]
  },
  {
   "cell_type": "code",
   "execution_count": 15,
   "metadata": {},
   "outputs": [
    {
     "data": {
      "image/png": "[encoded data removed]",
      "text/plain": [
       "<Figure size 432x288 with 1 Axes>"
      ]
     },
     "metadata": {
      "needs_background": "light"
     },
     "output_type": "display_data"
    }
   ],
   "source": [
    "#handles = [Rectangle((0,0),1,1,color=c,ec=\"k\") for c in [low,medium, high]]# histogram of the predicted errors and the SDSS errors\n",
    "plt.hist(pred_err, bins=50, alpha=0.75, density = True ,histtype= 'step')\n",
    "plt.hist(abs(photozErr-sZ), bins=50, color='r', density = True ,histtype= 'step')\n",
    "labels= [\"Pred_err\", \"SDSS_err\"]\n",
    "plt.legend( labels)\n",
    "plt.show()"
   ]
  },
  {
   "cell_type": "markdown",
   "metadata": {},
   "source": [
    "## Conlusion\n",
    "\n",
    "The DNN pred_err is 0.184 and the SDSS photometric error is 0.259. This is an order of magnitude bigger than the spectroscopic error of 0.07. The DNN pred_err does 29% better than the SDSS photometric redshift but both show some catastrophic error of > 1 but the numbers of sources with such errors is almost irrelevant with respect to the number of sources in the dataset. "
   ]
  }
 ],
 "metadata": {
  "kernelspec": {
   "display_name": "Python 3 (ipykernel)",
   "language": "python",
   "name": "python3"
  },
  "language_info": {
   "codemirror_mode": {
    "name": "ipython",
    "version": 3
   },
   "file_extension": ".py",
   "mimetype": "text/x-python",
   "name": "python",
   "nbconvert_exporter": "python",
   "pygments_lexer": "ipython3",
   "version": "3.9.7"
  }
 },
 "nbformat": 4,
 "nbformat_minor": 4
}
