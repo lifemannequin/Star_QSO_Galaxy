{
 "cells": [
  {
   "cell_type": "markdown",
   "metadata": {},
   "source": [
    "# Creating a dataset\n",
    "\n",
    "The dataset used in the determining_redshift notebook sampled the distribution of the SpectraObjAll table in the SDSS catalogue. It didn't sample the distribution of stellar sources. This caused the dataset to be too bright (16-18 mag interquartiles). It is difficult to model the actual distribution of stellar sources. I selected sources with no constrains, the sources fainter (larger number) in the r band than 18.5, and then 19. I did this for all 3 classes: Galaxy, Star, and QSO. "
   ]
  },
  {
   "cell_type": "code",
   "execution_count": 1,
   "metadata": {},
   "outputs": [],
   "source": [
    "import os\n",
    "import numpy as np\n",
    "import pandas as pd\n",
    "from pandas.plotting import table\n",
    "import seaborn as sns\n",
    "import matplotlib.pyplot as plt\n",
    "from scipy import stats\n",
    "sns.set()\n",
    "%matplotlib inline"
   ]
  },
  {
   "cell_type": "code",
   "execution_count": 2,
   "metadata": {},
   "outputs": [],
   "source": [
    "#loading Galaxy files\n",
    "filepath= \"/home/veroastro/Documents/spectraTypes/data/newData/\"\n",
    "galaxy1 = pd.read_csv(filepath+\"Galaxies_Skyserver_SQL2_19_2022 12_40_24 PM.csv\")\n",
    "galaxy2 = pd.read_csv(filepath+\"galaxies_18Skyserver_SQL2_19_2022 2_19_05 PM.csv\")\n",
    "galaxy3 = pd.read_csv(filepath+\"galaxies_19halfSkyserver_SQL2_19_2022 2_02_32 PM.csv\")"
   ]
  },
  {
   "cell_type": "code",
   "execution_count": 3,
   "metadata": {
    "scrolled": true
   },
   "outputs": [
    {
     "data": {
      "text/html": [
       "<div>\n",
       "<style scoped>\n",
       "    .dataframe tbody tr th:only-of-type {\n",
       "        vertical-align: middle;\n",
       "    }\n",
       "\n",
       "    .dataframe tbody tr th {\n",
       "        vertical-align: top;\n",
       "    }\n",
       "\n",
       "    .dataframe thead th {\n",
       "        text-align: right;\n",
       "    }\n",
       "</style>\n",
       "<table border=\"1\" class=\"dataframe\">\n",
       "  <thead>\n",
       "    <tr style=\"text-align: right;\">\n",
       "      <th></th>\n",
       "      <th>objID</th>\n",
       "      <th>dered_u</th>\n",
       "      <th>err_u</th>\n",
       "      <th>dered_g</th>\n",
       "      <th>err_g</th>\n",
       "      <th>dered_r</th>\n",
       "      <th>err_r</th>\n",
       "      <th>dered_i</th>\n",
       "      <th>err_i</th>\n",
       "      <th>dered_z</th>\n",
       "      <th>err_z</th>\n",
       "      <th>specObjID</th>\n",
       "      <th>z</th>\n",
       "      <th>zErr</th>\n",
       "      <th>photoZ</th>\n",
       "      <th>photoErr</th>\n",
       "    </tr>\n",
       "  </thead>\n",
       "  <tbody>\n",
       "    <tr>\n",
       "      <th>count</th>\n",
       "      <td>4.500000e+04</td>\n",
       "      <td>45000.000000</td>\n",
       "      <td>45000.000000</td>\n",
       "      <td>45000.000000</td>\n",
       "      <td>45000.000000</td>\n",
       "      <td>45000.000000</td>\n",
       "      <td>45000.000000</td>\n",
       "      <td>45000.000000</td>\n",
       "      <td>45000.000000</td>\n",
       "      <td>45000.000000</td>\n",
       "      <td>45000.000000</td>\n",
       "      <td>4.500000e+04</td>\n",
       "      <td>45000.000000</td>\n",
       "      <td>45000.000000</td>\n",
       "      <td>45000.000000</td>\n",
       "      <td>45000.000000</td>\n",
       "    </tr>\n",
       "    <tr>\n",
       "      <th>mean</th>\n",
       "      <td>1.237655e+18</td>\n",
       "      <td>21.748060</td>\n",
       "      <td>0.558052</td>\n",
       "      <td>19.932454</td>\n",
       "      <td>0.079866</td>\n",
       "      <td>18.744646</td>\n",
       "      <td>0.059600</td>\n",
       "      <td>18.163339</td>\n",
       "      <td>0.046577</td>\n",
       "      <td>17.813726</td>\n",
       "      <td>0.069072</td>\n",
       "      <td>7.926380e+17</td>\n",
       "      <td>0.281338</td>\n",
       "      <td>0.007938</td>\n",
       "      <td>-235.692627</td>\n",
       "      <td>-235.944705</td>\n",
       "    </tr>\n",
       "    <tr>\n",
       "      <th>std</th>\n",
       "      <td>7.543805e+12</td>\n",
       "      <td>2.104431</td>\n",
       "      <td>0.631247</td>\n",
       "      <td>1.708787</td>\n",
       "      <td>0.351288</td>\n",
       "      <td>1.519775</td>\n",
       "      <td>0.448704</td>\n",
       "      <td>1.395084</td>\n",
       "      <td>0.392515</td>\n",
       "      <td>1.337066</td>\n",
       "      <td>0.287743</td>\n",
       "      <td>8.834783e+17</td>\n",
       "      <td>0.170641</td>\n",
       "      <td>0.420568</td>\n",
       "      <td>1517.902605</td>\n",
       "      <td>1517.863406</td>\n",
       "    </tr>\n",
       "    <tr>\n",
       "      <th>min</th>\n",
       "      <td>1.237646e+18</td>\n",
       "      <td>13.327440</td>\n",
       "      <td>0.003236</td>\n",
       "      <td>12.283450</td>\n",
       "      <td>0.001662</td>\n",
       "      <td>11.594150</td>\n",
       "      <td>0.001578</td>\n",
       "      <td>11.172210</td>\n",
       "      <td>0.001576</td>\n",
       "      <td>10.860680</td>\n",
       "      <td>0.001778</td>\n",
       "      <td>2.994897e+17</td>\n",
       "      <td>-0.009944</td>\n",
       "      <td>-6.000000</td>\n",
       "      <td>-9999.000000</td>\n",
       "      <td>-9999.000000</td>\n",
       "    </tr>\n",
       "    <tr>\n",
       "      <th>25%</th>\n",
       "      <td>1.237649e+18</td>\n",
       "      <td>19.989593</td>\n",
       "      <td>0.073152</td>\n",
       "      <td>18.464150</td>\n",
       "      <td>0.010871</td>\n",
       "      <td>17.604505</td>\n",
       "      <td>0.008091</td>\n",
       "      <td>17.199945</td>\n",
       "      <td>0.008114</td>\n",
       "      <td>16.915830</td>\n",
       "      <td>0.020833</td>\n",
       "      <td>3.231585e+17</td>\n",
       "      <td>0.118340</td>\n",
       "      <td>0.000017</td>\n",
       "      <td>0.119208</td>\n",
       "      <td>0.017777</td>\n",
       "    </tr>\n",
       "    <tr>\n",
       "      <th>50%</th>\n",
       "      <td>1.237652e+18</td>\n",
       "      <td>21.854490</td>\n",
       "      <td>0.342609</td>\n",
       "      <td>20.304390</td>\n",
       "      <td>0.039058</td>\n",
       "      <td>18.810480</td>\n",
       "      <td>0.017709</td>\n",
       "      <td>18.201935</td>\n",
       "      <td>0.015024</td>\n",
       "      <td>17.840530</td>\n",
       "      <td>0.038610</td>\n",
       "      <td>4.301407e+17</td>\n",
       "      <td>0.296513</td>\n",
       "      <td>0.000056</td>\n",
       "      <td>0.311329</td>\n",
       "      <td>0.024012</td>\n",
       "    </tr>\n",
       "    <tr>\n",
       "      <th>75%</th>\n",
       "      <td>1.237661e+18</td>\n",
       "      <td>23.210208</td>\n",
       "      <td>0.868798</td>\n",
       "      <td>21.116630</td>\n",
       "      <td>0.074680</td>\n",
       "      <td>19.672825</td>\n",
       "      <td>0.028967</td>\n",
       "      <td>19.078970</td>\n",
       "      <td>0.024205</td>\n",
       "      <td>18.688150</td>\n",
       "      <td>0.062464</td>\n",
       "      <td>7.926974e+17</td>\n",
       "      <td>0.413135</td>\n",
       "      <td>0.000117</td>\n",
       "      <td>0.406812</td>\n",
       "      <td>0.035102</td>\n",
       "    </tr>\n",
       "    <tr>\n",
       "      <th>max</th>\n",
       "      <td>1.237680e+18</td>\n",
       "      <td>30.969400</td>\n",
       "      <td>17.516150</td>\n",
       "      <td>30.952920</td>\n",
       "      <td>21.363580</td>\n",
       "      <td>31.521720</td>\n",
       "      <td>29.829040</td>\n",
       "      <td>30.854610</td>\n",
       "      <td>19.746610</td>\n",
       "      <td>27.406890</td>\n",
       "      <td>14.822920</td>\n",
       "      <td>4.153475e+18</td>\n",
       "      <td>1.000702</td>\n",
       "      <td>49.384800</td>\n",
       "      <td>0.996791</td>\n",
       "      <td>0.251177</td>\n",
       "    </tr>\n",
       "  </tbody>\n",
       "</table>\n",
       "</div>"
      ],
      "text/plain": [
       "              objID       dered_u         err_u       dered_g         err_g  \\\n",
       "count  4.500000e+04  45000.000000  45000.000000  45000.000000  45000.000000   \n",
       "mean   1.237655e+18     21.748060      0.558052     19.932454      0.079866   \n",
       "std    7.543805e+12      2.104431      0.631247      1.708787      0.351288   \n",
       "min    1.237646e+18     13.327440      0.003236     12.283450      0.001662   \n",
       "25%    1.237649e+18     19.989593      0.073152     18.464150      0.010871   \n",
       "50%    1.237652e+18     21.854490      0.342609     20.304390      0.039058   \n",
       "75%    1.237661e+18     23.210208      0.868798     21.116630      0.074680   \n",
       "max    1.237680e+18     30.969400     17.516150     30.952920     21.363580   \n",
       "\n",
       "            dered_r         err_r       dered_i         err_i       dered_z  \\\n",
       "count  45000.000000  45000.000000  45000.000000  45000.000000  45000.000000   \n",
       "mean      18.744646      0.059600     18.163339      0.046577     17.813726   \n",
       "std        1.519775      0.448704      1.395084      0.392515      1.337066   \n",
       "min       11.594150      0.001578     11.172210      0.001576     10.860680   \n",
       "25%       17.604505      0.008091     17.199945      0.008114     16.915830   \n",
       "50%       18.810480      0.017709     18.201935      0.015024     17.840530   \n",
       "75%       19.672825      0.028967     19.078970      0.024205     18.688150   \n",
       "max       31.521720     29.829040     30.854610     19.746610     27.406890   \n",
       "\n",
       "              err_z     specObjID             z          zErr        photoZ  \\\n",
       "count  45000.000000  4.500000e+04  45000.000000  45000.000000  45000.000000   \n",
       "mean       0.069072  7.926380e+17      0.281338      0.007938   -235.692627   \n",
       "std        0.287743  8.834783e+17      0.170641      0.420568   1517.902605   \n",
       "min        0.001778  2.994897e+17     -0.009944     -6.000000  -9999.000000   \n",
       "25%        0.020833  3.231585e+17      0.118340      0.000017      0.119208   \n",
       "50%        0.038610  4.301407e+17      0.296513      0.000056      0.311329   \n",
       "75%        0.062464  7.926974e+17      0.413135      0.000117      0.406812   \n",
       "max       14.822920  4.153475e+18      1.000702     49.384800      0.996791   \n",
       "\n",
       "           photoErr  \n",
       "count  45000.000000  \n",
       "mean    -235.944705  \n",
       "std     1517.863406  \n",
       "min    -9999.000000  \n",
       "25%        0.017777  \n",
       "50%        0.024012  \n",
       "75%        0.035102  \n",
       "max        0.251177  "
      ]
     },
     "execution_count": 3,
     "metadata": {},
     "output_type": "execute_result"
    }
   ],
   "source": [
    "#merging the galaxies dataset\n",
    "galaxies = pd.concat([galaxy1,galaxy2,galaxy3], ignore_index=True)\n",
    "galaxies.describe()"
   ]
  },
  {
   "cell_type": "code",
   "execution_count": 5,
   "metadata": {
    "scrolled": true
   },
   "outputs": [
    {
     "data": {
      "image/png": "[encoded data removed]",
      "text/plain": [
       "<Figure size 432x288 with 1 Axes>"
      ]
     },
     "metadata": {
      "needs_background": "light"
     },
     "output_type": "display_data"
    }
   ],
   "source": [
    "plt.hist(galaxies['dered_r'], bins = 25)\n",
    "plt.show()"
   ]
  },
  {
   "cell_type": "code",
   "execution_count": 7,
   "metadata": {},
   "outputs": [],
   "source": [
    "# loading QSO files\n",
    "qso1 = pd.read_csv(filepath+\"qso_Skyserver_SQL2_19_2022 2_40_49 PM.csv\")\n",
    "qso2 = pd.read_csv(filepath+\"qso_180Skyserver_SQL2_19_2022 2_41_57 PM.csv\")\n",
    "qso3 = pd.read_csv(filepath+ \"qso_19halfSkyserver_SQL2_19_2022 2_42_35 PM.csv\")"
   ]
  },
  {
   "cell_type": "code",
   "execution_count": 9,
   "metadata": {},
   "outputs": [],
   "source": [
    "#merging to QSO dataset\n",
    "QSO = pd.concat([qso1,qso2,qso3], ignore_index = True)"
   ]
  },
  {
   "cell_type": "code",
   "execution_count": 11,
   "metadata": {
    "scrolled": true
   },
   "outputs": [
    {
     "data": {
      "image/png": "[encoded data removed]",
      "text/plain": [
       "<Figure size 432x288 with 1 Axes>"
      ]
     },
     "metadata": {
      "needs_background": "light"
     },
     "output_type": "display_data"
    }
   ],
   "source": [
    "plt.hist(QSO['dered_r'], bins = 25)\n",
    "plt.show()"
   ]
  },
  {
   "cell_type": "code",
   "execution_count": 12,
   "metadata": {},
   "outputs": [],
   "source": [
    "# loading Star files\n",
    "star1 = pd.read_csv(filepath+\"star_Skyserver_SQL2_19_2022 2_46_18 PM.csv\")\n",
    "star2 = pd.read_csv(filepath+\"star_18_Skyserver_SQL2_19_2022 2_44_58 PM.csv\")\n",
    "star3 = pd.read_csv(filepath+\"star_19halfSkyserver_SQL2_19_2022 2_44_18 PM.csv\")"
   ]
  },
  {
   "cell_type": "code",
   "execution_count": 13,
   "metadata": {},
   "outputs": [],
   "source": [
    "# merging Star dataset\n",
    "Star = pd.concat([star1,star2,star3], ignore_index = True)"
   ]
  },
  {
   "cell_type": "code",
   "execution_count": 14,
   "metadata": {},
   "outputs": [
    {
     "data": {
      "image/png": "[encoded data removed]",
      "text/plain": [
       "<Figure size 432x288 with 1 Axes>"
      ]
     },
     "metadata": {
      "needs_background": "light"
     },
     "output_type": "display_data"
    }
   ],
   "source": [
    "plt.hist(Star['dered_r'], bins = 25)\n",
    "plt.show()"
   ]
  },
  {
   "cell_type": "code",
   "execution_count": 18,
   "metadata": {},
   "outputs": [
    {
     "data": {
      "text/html": [
       "<div>\n",
       "<style scoped>\n",
       "    .dataframe tbody tr th:only-of-type {\n",
       "        vertical-align: middle;\n",
       "    }\n",
       "\n",
       "    .dataframe tbody tr th {\n",
       "        vertical-align: top;\n",
       "    }\n",
       "\n",
       "    .dataframe thead th {\n",
       "        text-align: right;\n",
       "    }\n",
       "</style>\n",
       "<table border=\"1\" class=\"dataframe\">\n",
       "  <thead>\n",
       "    <tr style=\"text-align: right;\">\n",
       "      <th></th>\n",
       "      <th>objID</th>\n",
       "      <th>dered_u</th>\n",
       "      <th>err_u</th>\n",
       "      <th>dered_g</th>\n",
       "      <th>err_g</th>\n",
       "      <th>dered_r</th>\n",
       "      <th>err_r</th>\n",
       "      <th>dered_i</th>\n",
       "      <th>err_i</th>\n",
       "      <th>dered_z</th>\n",
       "      <th>err_z</th>\n",
       "      <th>specObjID</th>\n",
       "      <th>z</th>\n",
       "      <th>zErr</th>\n",
       "      <th>photoZ</th>\n",
       "      <th>photoErr</th>\n",
       "      <th>class</th>\n",
       "      <th>subClass</th>\n",
       "      <th>type</th>\n",
       "    </tr>\n",
       "  </thead>\n",
       "  <tbody>\n",
       "    <tr>\n",
       "      <th>0</th>\n",
       "      <td>1237648673971437623</td>\n",
       "      <td>16.21378</td>\n",
       "      <td>0.009347</td>\n",
       "      <td>14.63972</td>\n",
       "      <td>0.002319</td>\n",
       "      <td>13.82659</td>\n",
       "      <td>0.002071</td>\n",
       "      <td>13.42598</td>\n",
       "      <td>0.002083</td>\n",
       "      <td>13.11843</td>\n",
       "      <td>0.003380</td>\n",
       "      <td>3.266528e+17</td>\n",
       "      <td>0.012513</td>\n",
       "      <td>0.000011</td>\n",
       "      <td>0.024331</td>\n",
       "      <td>0.006740</td>\n",
       "      <td>GALAXY</td>\n",
       "      <td>STARFORMING</td>\n",
       "      <td>NaN</td>\n",
       "    </tr>\n",
       "    <tr>\n",
       "      <th>1</th>\n",
       "      <td>1237648704023625805</td>\n",
       "      <td>20.21892</td>\n",
       "      <td>0.115816</td>\n",
       "      <td>24.91980</td>\n",
       "      <td>2.818639</td>\n",
       "      <td>17.53619</td>\n",
       "      <td>0.008782</td>\n",
       "      <td>17.03932</td>\n",
       "      <td>0.008234</td>\n",
       "      <td>16.88227</td>\n",
       "      <td>0.025728</td>\n",
       "      <td>2.995658e+17</td>\n",
       "      <td>0.098263</td>\n",
       "      <td>0.000008</td>\n",
       "      <td>-9999.000000</td>\n",
       "      <td>-9999.000000</td>\n",
       "      <td>GALAXY</td>\n",
       "      <td>STARFORMING</td>\n",
       "      <td>NaN</td>\n",
       "    </tr>\n",
       "    <tr>\n",
       "      <th>2</th>\n",
       "      <td>1237648704023625805</td>\n",
       "      <td>20.21892</td>\n",
       "      <td>0.115816</td>\n",
       "      <td>24.91980</td>\n",
       "      <td>2.818639</td>\n",
       "      <td>17.53619</td>\n",
       "      <td>0.008782</td>\n",
       "      <td>17.03932</td>\n",
       "      <td>0.008234</td>\n",
       "      <td>16.88227</td>\n",
       "      <td>0.025728</td>\n",
       "      <td>2.995664e+17</td>\n",
       "      <td>0.098238</td>\n",
       "      <td>0.000010</td>\n",
       "      <td>-9999.000000</td>\n",
       "      <td>-9999.000000</td>\n",
       "      <td>GALAXY</td>\n",
       "      <td>STARFORMING</td>\n",
       "      <td>NaN</td>\n",
       "    </tr>\n",
       "    <tr>\n",
       "      <th>3</th>\n",
       "      <td>1237648704579437220</td>\n",
       "      <td>22.93833</td>\n",
       "      <td>0.825781</td>\n",
       "      <td>21.15927</td>\n",
       "      <td>0.084720</td>\n",
       "      <td>19.41586</td>\n",
       "      <td>0.028193</td>\n",
       "      <td>18.46311</td>\n",
       "      <td>0.017802</td>\n",
       "      <td>18.04901</td>\n",
       "      <td>0.049799</td>\n",
       "      <td>3.266429e+17</td>\n",
       "      <td>0.504094</td>\n",
       "      <td>0.000119</td>\n",
       "      <td>0.507916</td>\n",
       "      <td>0.015943</td>\n",
       "      <td>GALAXY</td>\n",
       "      <td>NaN</td>\n",
       "      <td>NaN</td>\n",
       "    </tr>\n",
       "    <tr>\n",
       "      <th>4</th>\n",
       "      <td>1237648704579502224</td>\n",
       "      <td>19.89147</td>\n",
       "      <td>0.056597</td>\n",
       "      <td>18.27204</td>\n",
       "      <td>0.008137</td>\n",
       "      <td>17.39907</td>\n",
       "      <td>0.006014</td>\n",
       "      <td>16.98018</td>\n",
       "      <td>0.005779</td>\n",
       "      <td>16.66573</td>\n",
       "      <td>0.014755</td>\n",
       "      <td>3.266391e+17</td>\n",
       "      <td>0.107216</td>\n",
       "      <td>0.000031</td>\n",
       "      <td>0.118370</td>\n",
       "      <td>0.024215</td>\n",
       "      <td>GALAXY</td>\n",
       "      <td>NaN</td>\n",
       "      <td>NaN</td>\n",
       "    </tr>\n",
       "  </tbody>\n",
       "</table>\n",
       "</div>"
      ],
      "text/plain": [
       "                 objID   dered_u     err_u   dered_g     err_g   dered_r  \\\n",
       "0  1237648673971437623  16.21378  0.009347  14.63972  0.002319  13.82659   \n",
       "1  1237648704023625805  20.21892  0.115816  24.91980  2.818639  17.53619   \n",
       "2  1237648704023625805  20.21892  0.115816  24.91980  2.818639  17.53619   \n",
       "3  1237648704579437220  22.93833  0.825781  21.15927  0.084720  19.41586   \n",
       "4  1237648704579502224  19.89147  0.056597  18.27204  0.008137  17.39907   \n",
       "\n",
       "      err_r   dered_i     err_i   dered_z     err_z     specObjID         z  \\\n",
       "0  0.002071  13.42598  0.002083  13.11843  0.003380  3.266528e+17  0.012513   \n",
       "1  0.008782  17.03932  0.008234  16.88227  0.025728  2.995658e+17  0.098263   \n",
       "2  0.008782  17.03932  0.008234  16.88227  0.025728  2.995664e+17  0.098238   \n",
       "3  0.028193  18.46311  0.017802  18.04901  0.049799  3.266429e+17  0.504094   \n",
       "4  0.006014  16.98018  0.005779  16.66573  0.014755  3.266391e+17  0.107216   \n",
       "\n",
       "       zErr       photoZ     photoErr   class     subClass  type  \n",
       "0  0.000011     0.024331     0.006740  GALAXY  STARFORMING   NaN  \n",
       "1  0.000008 -9999.000000 -9999.000000  GALAXY  STARFORMING   NaN  \n",
       "2  0.000010 -9999.000000 -9999.000000  GALAXY  STARFORMING   NaN  \n",
       "3  0.000119     0.507916     0.015943  GALAXY          NaN   NaN  \n",
       "4  0.000031     0.118370     0.024215  GALAXY          NaN   NaN  "
      ]
     },
     "execution_count": 18,
     "metadata": {},
     "output_type": "execute_result"
    }
   ],
   "source": [
    "# merging QSO, Galaxy and Star datasets\n",
    "data_all = pd.concat([galaxies,QSO,Star], ignore_index = True)\n",
    "data_all.head()"
   ]
  },
  {
   "cell_type": "code",
   "execution_count": 19,
   "metadata": {
    "scrolled": true
   },
   "outputs": [
    {
     "data": {
      "image/png": "[encoded data removed]",
      "text/plain": [
       "<Figure size 432x288 with 1 Axes>"
      ]
     },
     "metadata": {
      "needs_background": "light"
     },
     "output_type": "display_data"
    }
   ],
   "source": [
    "plt.hist(data_all['dered_r'], bins = 25)\n",
    "plt.show()"
   ]
  },
  {
   "cell_type": "code",
   "execution_count": 21,
   "metadata": {},
   "outputs": [],
   "source": [
    "#Saving dataset to file\n",
    "data_all.to_csv(filepath+\"full_sources.csv\", index= False)"
   ]
  },
  {
   "cell_type": "code",
   "execution_count": null,
   "metadata": {},
   "outputs": [],
   "source": []
  }
 ],
 "metadata": {
  "kernelspec": {
   "display_name": "Python 3 (ipykernel)",
   "language": "python",
   "name": "python3"
  },
  "language_info": {
   "codemirror_mode": {
    "name": "ipython",
    "version": 3
   },
   "file_extension": ".py",
   "mimetype": "text/x-python",
   "name": "python",
   "nbconvert_exporter": "python",
   "pygments_lexer": "ipython3",
   "version": "3.9.7"
  }
 },
 "nbformat": 4,
 "nbformat_minor": 4
}
