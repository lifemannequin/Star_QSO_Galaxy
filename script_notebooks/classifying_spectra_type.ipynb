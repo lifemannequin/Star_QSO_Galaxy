{
 "cells": [
  {
   "cell_type": "markdown",
   "metadata": {},
   "source": [
    "# Classifying Spectral types\n",
    "\n",
    "## Introduction\n",
    "\n",
    "Initially, classifying the spectra using ML was more for fun than for a purpose. But on the light of my other notebook on determining the redshifts using ML, classification of spectal types could help reduce the errors on determining the redshifts using photometry.\n",
    "\n",
    "The data was obtained using the skyserver from the Sloan Digital Sky Survey (SDSS) using the SQL query. In the SQL query, I specified for no missing values of the redshift or the five bands (u,g,r,i,z). Also the dered values were obtained to account for galactic extinction. For each spectral class (star, galaxy and QSO), 5000 sources were obtained; giving a total of 15000 sources."
   ]
  },
  {
   "cell_type": "markdown",
   "metadata": {},
   "source": [
    "# EDA"
   ]
  },
  {
   "cell_type": "code",
   "execution_count": 2,
   "metadata": {},
   "outputs": [],
   "source": [
    "import os\n",
    "import numpy as np\n",
    "import pandas as pd\n",
    "from pandas.plotting import table\n",
    "import seaborn as sns\n",
    "import matplotlib.pyplot as plt\n",
    "from scipy import stats\n",
    "sns.set()\n",
    "%matplotlib inline"
   ]
  },
  {
   "cell_type": "code",
   "execution_count": 3,
   "metadata": {
    "scrolled": true
   },
   "outputs": [
    {
     "data": {
      "text/html": [
       "<div>\n",
       "<style scoped>\n",
       "    .dataframe tbody tr th:only-of-type {\n",
       "        vertical-align: middle;\n",
       "    }\n",
       "\n",
       "    .dataframe tbody tr th {\n",
       "        vertical-align: top;\n",
       "    }\n",
       "\n",
       "    .dataframe thead th {\n",
       "        text-align: right;\n",
       "    }\n",
       "</style>\n",
       "<table border=\"1\" class=\"dataframe\">\n",
       "  <thead>\n",
       "    <tr style=\"text-align: right;\">\n",
       "      <th></th>\n",
       "      <th>#objID</th>\n",
       "      <th>type</th>\n",
       "      <th>dered_u</th>\n",
       "      <th>err_u</th>\n",
       "      <th>dered_g</th>\n",
       "      <th>err_g</th>\n",
       "      <th>dered_r</th>\n",
       "      <th>err_r</th>\n",
       "      <th>dered_i</th>\n",
       "      <th>err_i</th>\n",
       "      <th>dered_z</th>\n",
       "      <th>err_z</th>\n",
       "      <th>specObjID</th>\n",
       "      <th>z</th>\n",
       "      <th>zErr</th>\n",
       "      <th>photoZ</th>\n",
       "      <th>photoErr</th>\n",
       "      <th>zWarning</th>\n",
       "      <th>class</th>\n",
       "      <th>subClass</th>\n",
       "    </tr>\n",
       "  </thead>\n",
       "  <tbody>\n",
       "    <tr>\n",
       "      <th>0</th>\n",
       "      <td>1237648703511068760</td>\n",
       "      <td>3</td>\n",
       "      <td>18.77188</td>\n",
       "      <td>0.018979</td>\n",
       "      <td>17.43419</td>\n",
       "      <td>0.004775</td>\n",
       "      <td>16.93682</td>\n",
       "      <td>0.004398</td>\n",
       "      <td>16.76784</td>\n",
       "      <td>0.004519</td>\n",
       "      <td>16.69084</td>\n",
       "      <td>0.009132</td>\n",
       "      <td>334462399065122816</td>\n",
       "      <td>0.000273</td>\n",
       "      <td>0.000010</td>\n",
       "      <td>0.028731</td>\n",
       "      <td>0.012854</td>\n",
       "      <td>0</td>\n",
       "      <td>STAR</td>\n",
       "      <td>F9</td>\n",
       "    </tr>\n",
       "    <tr>\n",
       "      <th>1</th>\n",
       "      <td>1237648703511068760</td>\n",
       "      <td>3</td>\n",
       "      <td>18.77188</td>\n",
       "      <td>0.018979</td>\n",
       "      <td>17.43419</td>\n",
       "      <td>0.004775</td>\n",
       "      <td>16.93682</td>\n",
       "      <td>0.004398</td>\n",
       "      <td>16.76784</td>\n",
       "      <td>0.004519</td>\n",
       "      <td>16.69084</td>\n",
       "      <td>0.009132</td>\n",
       "      <td>334463218732787712</td>\n",
       "      <td>0.000268</td>\n",
       "      <td>0.000012</td>\n",
       "      <td>0.028731</td>\n",
       "      <td>0.012854</td>\n",
       "      <td>0</td>\n",
       "      <td>STAR</td>\n",
       "      <td>F9</td>\n",
       "    </tr>\n",
       "    <tr>\n",
       "      <th>2</th>\n",
       "      <td>1237650761850290262</td>\n",
       "      <td>3</td>\n",
       "      <td>20.95792</td>\n",
       "      <td>0.113500</td>\n",
       "      <td>18.33668</td>\n",
       "      <td>0.007373</td>\n",
       "      <td>16.96131</td>\n",
       "      <td>0.004531</td>\n",
       "      <td>16.33501</td>\n",
       "      <td>0.004110</td>\n",
       "      <td>15.97918</td>\n",
       "      <td>0.007425</td>\n",
       "      <td>368266889681463296</td>\n",
       "      <td>0.000002</td>\n",
       "      <td>0.000009</td>\n",
       "      <td>0.205829</td>\n",
       "      <td>0.021877</td>\n",
       "      <td>0</td>\n",
       "      <td>STAR</td>\n",
       "      <td>M0</td>\n",
       "    </tr>\n",
       "    <tr>\n",
       "      <th>3</th>\n",
       "      <td>1237648705678147694</td>\n",
       "      <td>3</td>\n",
       "      <td>17.76817</td>\n",
       "      <td>0.012322</td>\n",
       "      <td>16.35608</td>\n",
       "      <td>0.003747</td>\n",
       "      <td>15.82515</td>\n",
       "      <td>0.003405</td>\n",
       "      <td>15.65219</td>\n",
       "      <td>0.003503</td>\n",
       "      <td>15.55778</td>\n",
       "      <td>0.005531</td>\n",
       "      <td>409929854226556928</td>\n",
       "      <td>0.000027</td>\n",
       "      <td>0.000007</td>\n",
       "      <td>0.024064</td>\n",
       "      <td>0.008734</td>\n",
       "      <td>0</td>\n",
       "      <td>STAR</td>\n",
       "      <td>F9</td>\n",
       "    </tr>\n",
       "    <tr>\n",
       "      <th>4</th>\n",
       "      <td>1237648705130987618</td>\n",
       "      <td>3</td>\n",
       "      <td>19.09714</td>\n",
       "      <td>0.034568</td>\n",
       "      <td>17.45125</td>\n",
       "      <td>0.006773</td>\n",
       "      <td>17.63474</td>\n",
       "      <td>0.006646</td>\n",
       "      <td>24.28417</td>\n",
       "      <td>3.215709</td>\n",
       "      <td>17.99097</td>\n",
       "      <td>0.034200</td>\n",
       "      <td>604619828854024192</td>\n",
       "      <td>-0.000010</td>\n",
       "      <td>0.000010</td>\n",
       "      <td>-9999.000000</td>\n",
       "      <td>-9999.000000</td>\n",
       "      <td>0</td>\n",
       "      <td>STAR</td>\n",
       "      <td>F9</td>\n",
       "    </tr>\n",
       "  </tbody>\n",
       "</table>\n",
       "</div>"
      ],
      "text/plain": [
       "                #objID  type   dered_u     err_u   dered_g     err_g  \\\n",
       "0  1237648703511068760     3  18.77188  0.018979  17.43419  0.004775   \n",
       "1  1237648703511068760     3  18.77188  0.018979  17.43419  0.004775   \n",
       "2  1237650761850290262     3  20.95792  0.113500  18.33668  0.007373   \n",
       "3  1237648705678147694     3  17.76817  0.012322  16.35608  0.003747   \n",
       "4  1237648705130987618     3  19.09714  0.034568  17.45125  0.006773   \n",
       "\n",
       "    dered_r     err_r   dered_i     err_i   dered_z     err_z  \\\n",
       "0  16.93682  0.004398  16.76784  0.004519  16.69084  0.009132   \n",
       "1  16.93682  0.004398  16.76784  0.004519  16.69084  0.009132   \n",
       "2  16.96131  0.004531  16.33501  0.004110  15.97918  0.007425   \n",
       "3  15.82515  0.003405  15.65219  0.003503  15.55778  0.005531   \n",
       "4  17.63474  0.006646  24.28417  3.215709  17.99097  0.034200   \n",
       "\n",
       "            specObjID         z      zErr       photoZ     photoErr  zWarning  \\\n",
       "0  334462399065122816  0.000273  0.000010     0.028731     0.012854         0   \n",
       "1  334463218732787712  0.000268  0.000012     0.028731     0.012854         0   \n",
       "2  368266889681463296  0.000002  0.000009     0.205829     0.021877         0   \n",
       "3  409929854226556928  0.000027  0.000007     0.024064     0.008734         0   \n",
       "4  604619828854024192 -0.000010  0.000010 -9999.000000 -9999.000000         0   \n",
       "\n",
       "  class subClass  \n",
       "0  STAR       F9  \n",
       "1  STAR       F9  \n",
       "2  STAR       M0  \n",
       "3  STAR       F9  \n",
       "4  STAR       F9  "
      ]
     },
     "execution_count": 3,
     "metadata": {},
     "output_type": "execute_result"
    }
   ],
   "source": [
    "#loading files\n",
    "filepath= \"/home/veroastro/Documents/spectraTypes/data/\"\n",
    "star = pd.read_csv(filepath+\"STAR2_Skyserver_SQL2_12_2022 5_02_48 PM.csv\")\n",
    "QSO = pd.read_csv(filepath+\"QSO2Skyserver_SQL2_12_2022 5_03_49 PM.csv\")\n",
    "galaxy = pd.read_csv(filepath+\"GALAXY2Skyserver_SQL2_12_2022 5_03_24 PM.csv\")\n",
    "star.head()"
   ]
  },
  {
   "cell_type": "code",
   "execution_count": 4,
   "metadata": {},
   "outputs": [
    {
     "data": {
      "text/html": [
       "<div>\n",
       "<style scoped>\n",
       "    .dataframe tbody tr th:only-of-type {\n",
       "        vertical-align: middle;\n",
       "    }\n",
       "\n",
       "    .dataframe tbody tr th {\n",
       "        vertical-align: top;\n",
       "    }\n",
       "\n",
       "    .dataframe thead th {\n",
       "        text-align: right;\n",
       "    }\n",
       "</style>\n",
       "<table border=\"1\" class=\"dataframe\">\n",
       "  <thead>\n",
       "    <tr style=\"text-align: right;\">\n",
       "      <th></th>\n",
       "      <th>#objID</th>\n",
       "      <th>type</th>\n",
       "      <th>dered_u</th>\n",
       "      <th>err_u</th>\n",
       "      <th>dered_g</th>\n",
       "      <th>err_g</th>\n",
       "      <th>dered_r</th>\n",
       "      <th>err_r</th>\n",
       "      <th>dered_i</th>\n",
       "      <th>err_i</th>\n",
       "      <th>dered_z</th>\n",
       "      <th>err_z</th>\n",
       "      <th>specObjID</th>\n",
       "      <th>z</th>\n",
       "      <th>zErr</th>\n",
       "      <th>photoZ</th>\n",
       "      <th>photoErr</th>\n",
       "      <th>zWarning</th>\n",
       "      <th>class</th>\n",
       "      <th>subClass</th>\n",
       "    </tr>\n",
       "  </thead>\n",
       "  <tbody>\n",
       "    <tr>\n",
       "      <th>3318</th>\n",
       "      <td>1237656496720838806</td>\n",
       "      <td>3</td>\n",
       "      <td>19.05006</td>\n",
       "      <td>0.035549</td>\n",
       "      <td>18.64025</td>\n",
       "      <td>0.010686</td>\n",
       "      <td>18.38684</td>\n",
       "      <td>0.010548</td>\n",
       "      <td>18.10099</td>\n",
       "      <td>0.011792</td>\n",
       "      <td>17.87401</td>\n",
       "      <td>0.032490</td>\n",
       "      <td>840033243360159744</td>\n",
       "      <td>0.460572</td>\n",
       "      <td>0.000084</td>\n",
       "      <td>0.420240</td>\n",
       "      <td>0.111385</td>\n",
       "      <td>0</td>\n",
       "      <td>QSO</td>\n",
       "      <td>BROADLINE</td>\n",
       "    </tr>\n",
       "    <tr>\n",
       "      <th>4559</th>\n",
       "      <td>1237674648851710018</td>\n",
       "      <td>3</td>\n",
       "      <td>17.51268</td>\n",
       "      <td>0.019381</td>\n",
       "      <td>16.33018</td>\n",
       "      <td>0.004315</td>\n",
       "      <td>15.80432</td>\n",
       "      <td>0.003701</td>\n",
       "      <td>15.48149</td>\n",
       "      <td>0.003661</td>\n",
       "      <td>15.24083</td>\n",
       "      <td>0.007232</td>\n",
       "      <td>316394118697740288</td>\n",
       "      <td>0.073120</td>\n",
       "      <td>0.000009</td>\n",
       "      <td>0.050620</td>\n",
       "      <td>0.010247</td>\n",
       "      <td>0</td>\n",
       "      <td>GALAXY</td>\n",
       "      <td>STARFORMING</td>\n",
       "    </tr>\n",
       "    <tr>\n",
       "      <th>4985</th>\n",
       "      <td>1237661083199406143</td>\n",
       "      <td>3</td>\n",
       "      <td>16.06708</td>\n",
       "      <td>0.006289</td>\n",
       "      <td>14.82370</td>\n",
       "      <td>0.003543</td>\n",
       "      <td>14.42508</td>\n",
       "      <td>0.003404</td>\n",
       "      <td>14.34694</td>\n",
       "      <td>0.003630</td>\n",
       "      <td>14.51768</td>\n",
       "      <td>0.004555</td>\n",
       "      <td>1875794924713043968</td>\n",
       "      <td>0.000085</td>\n",
       "      <td>0.000010</td>\n",
       "      <td>0.074731</td>\n",
       "      <td>0.105270</td>\n",
       "      <td>0</td>\n",
       "      <td>STAR</td>\n",
       "      <td>F2</td>\n",
       "    </tr>\n",
       "    <tr>\n",
       "      <th>4726</th>\n",
       "      <td>1237661055281661187</td>\n",
       "      <td>3</td>\n",
       "      <td>20.98037</td>\n",
       "      <td>0.114074</td>\n",
       "      <td>18.40370</td>\n",
       "      <td>0.009187</td>\n",
       "      <td>17.07613</td>\n",
       "      <td>0.017746</td>\n",
       "      <td>16.44488</td>\n",
       "      <td>0.004784</td>\n",
       "      <td>16.07006</td>\n",
       "      <td>0.007338</td>\n",
       "      <td>1874687991130122240</td>\n",
       "      <td>0.000051</td>\n",
       "      <td>0.000008</td>\n",
       "      <td>0.197431</td>\n",
       "      <td>0.022649</td>\n",
       "      <td>0</td>\n",
       "      <td>STAR</td>\n",
       "      <td>M0</td>\n",
       "    </tr>\n",
       "    <tr>\n",
       "      <th>2650</th>\n",
       "      <td>1237657769636135496</td>\n",
       "      <td>3</td>\n",
       "      <td>21.93561</td>\n",
       "      <td>0.348893</td>\n",
       "      <td>20.18889</td>\n",
       "      <td>0.038376</td>\n",
       "      <td>18.78074</td>\n",
       "      <td>0.016038</td>\n",
       "      <td>18.28471</td>\n",
       "      <td>0.016147</td>\n",
       "      <td>17.80798</td>\n",
       "      <td>0.037789</td>\n",
       "      <td>1016724764410013696</td>\n",
       "      <td>0.324437</td>\n",
       "      <td>0.000028</td>\n",
       "      <td>0.308965</td>\n",
       "      <td>0.046537</td>\n",
       "      <td>0</td>\n",
       "      <td>QSO</td>\n",
       "      <td>AGN BROADLINE</td>\n",
       "    </tr>\n",
       "  </tbody>\n",
       "</table>\n",
       "</div>"
      ],
      "text/plain": [
       "                   #objID  type   dered_u     err_u   dered_g     err_g  \\\n",
       "3318  1237656496720838806     3  19.05006  0.035549  18.64025  0.010686   \n",
       "4559  1237674648851710018     3  17.51268  0.019381  16.33018  0.004315   \n",
       "4985  1237661083199406143     3  16.06708  0.006289  14.82370  0.003543   \n",
       "4726  1237661055281661187     3  20.98037  0.114074  18.40370  0.009187   \n",
       "2650  1237657769636135496     3  21.93561  0.348893  20.18889  0.038376   \n",
       "\n",
       "       dered_r     err_r   dered_i     err_i   dered_z     err_z  \\\n",
       "3318  18.38684  0.010548  18.10099  0.011792  17.87401  0.032490   \n",
       "4559  15.80432  0.003701  15.48149  0.003661  15.24083  0.007232   \n",
       "4985  14.42508  0.003404  14.34694  0.003630  14.51768  0.004555   \n",
       "4726  17.07613  0.017746  16.44488  0.004784  16.07006  0.007338   \n",
       "2650  18.78074  0.016038  18.28471  0.016147  17.80798  0.037789   \n",
       "\n",
       "                specObjID         z      zErr    photoZ  photoErr  zWarning  \\\n",
       "3318   840033243360159744  0.460572  0.000084  0.420240  0.111385         0   \n",
       "4559   316394118697740288  0.073120  0.000009  0.050620  0.010247         0   \n",
       "4985  1875794924713043968  0.000085  0.000010  0.074731  0.105270         0   \n",
       "4726  1874687991130122240  0.000051  0.000008  0.197431  0.022649         0   \n",
       "2650  1016724764410013696  0.324437  0.000028  0.308965  0.046537         0   \n",
       "\n",
       "       class       subClass  \n",
       "3318     QSO      BROADLINE  \n",
       "4559  GALAXY    STARFORMING  \n",
       "4985    STAR             F2  \n",
       "4726    STAR             M0  \n",
       "2650     QSO  AGN BROADLINE  "
      ]
     },
     "execution_count": 4,
     "metadata": {},
     "output_type": "execute_result"
    }
   ],
   "source": [
    "# Concatenating the three dataframes\n",
    "data = pd.concat([star, QSO, galaxy])\n",
    "#scrambling the data so that they are not ordered by class\n",
    "data = data.sample(frac=1)\n",
    "data.head()"
   ]
  },
  {
   "cell_type": "code",
   "execution_count": 5,
   "metadata": {},
   "outputs": [
    {
     "data": {
      "text/plain": [
       "(15000, 20)"
      ]
     },
     "execution_count": 5,
     "metadata": {},
     "output_type": "execute_result"
    }
   ],
   "source": [
    "data.shape"
   ]
  },
  {
   "cell_type": "code",
   "execution_count": 6,
   "metadata": {},
   "outputs": [
    {
     "data": {
      "text/plain": [
       "(15000, 17)"
      ]
     },
     "execution_count": 6,
     "metadata": {},
     "output_type": "execute_result"
    }
   ],
   "source": [
    "cols= ['zWarning','specObjID','#objID']\n",
    "data_clean = data.drop(columns=['zWarning','specObjID','#objID'])\n",
    "data_clean.shape"
   ]
  },
  {
   "cell_type": "code",
   "execution_count": 7,
   "metadata": {},
   "outputs": [
    {
     "data": {
      "text/html": [
       "<div>\n",
       "<style scoped>\n",
       "    .dataframe tbody tr th:only-of-type {\n",
       "        vertical-align: middle;\n",
       "    }\n",
       "\n",
       "    .dataframe tbody tr th {\n",
       "        vertical-align: top;\n",
       "    }\n",
       "\n",
       "    .dataframe thead th {\n",
       "        text-align: right;\n",
       "    }\n",
       "</style>\n",
       "<table border=\"1\" class=\"dataframe\">\n",
       "  <thead>\n",
       "    <tr style=\"text-align: right;\">\n",
       "      <th></th>\n",
       "      <th>type</th>\n",
       "      <th>dered_u</th>\n",
       "      <th>err_u</th>\n",
       "      <th>dered_g</th>\n",
       "      <th>err_g</th>\n",
       "      <th>dered_r</th>\n",
       "      <th>err_r</th>\n",
       "      <th>dered_i</th>\n",
       "      <th>err_i</th>\n",
       "      <th>dered_z</th>\n",
       "      <th>err_z</th>\n",
       "      <th>z</th>\n",
       "      <th>zErr</th>\n",
       "      <th>photoZ</th>\n",
       "      <th>photoErr</th>\n",
       "      <th>class</th>\n",
       "      <th>subClass</th>\n",
       "    </tr>\n",
       "  </thead>\n",
       "  <tbody>\n",
       "    <tr>\n",
       "      <th>3318</th>\n",
       "      <td>3</td>\n",
       "      <td>19.05006</td>\n",
       "      <td>0.035549</td>\n",
       "      <td>18.64025</td>\n",
       "      <td>0.010686</td>\n",
       "      <td>18.38684</td>\n",
       "      <td>0.010548</td>\n",
       "      <td>18.10099</td>\n",
       "      <td>0.011792</td>\n",
       "      <td>17.87401</td>\n",
       "      <td>0.032490</td>\n",
       "      <td>0.460572</td>\n",
       "      <td>0.000084</td>\n",
       "      <td>0.420240</td>\n",
       "      <td>0.111385</td>\n",
       "      <td>QSO</td>\n",
       "      <td>BROADLINE</td>\n",
       "    </tr>\n",
       "    <tr>\n",
       "      <th>4559</th>\n",
       "      <td>3</td>\n",
       "      <td>17.51268</td>\n",
       "      <td>0.019381</td>\n",
       "      <td>16.33018</td>\n",
       "      <td>0.004315</td>\n",
       "      <td>15.80432</td>\n",
       "      <td>0.003701</td>\n",
       "      <td>15.48149</td>\n",
       "      <td>0.003661</td>\n",
       "      <td>15.24083</td>\n",
       "      <td>0.007232</td>\n",
       "      <td>0.073120</td>\n",
       "      <td>0.000009</td>\n",
       "      <td>0.050620</td>\n",
       "      <td>0.010247</td>\n",
       "      <td>GALAXY</td>\n",
       "      <td>STARFORMING</td>\n",
       "    </tr>\n",
       "    <tr>\n",
       "      <th>4985</th>\n",
       "      <td>3</td>\n",
       "      <td>16.06708</td>\n",
       "      <td>0.006289</td>\n",
       "      <td>14.82370</td>\n",
       "      <td>0.003543</td>\n",
       "      <td>14.42508</td>\n",
       "      <td>0.003404</td>\n",
       "      <td>14.34694</td>\n",
       "      <td>0.003630</td>\n",
       "      <td>14.51768</td>\n",
       "      <td>0.004555</td>\n",
       "      <td>0.000085</td>\n",
       "      <td>0.000010</td>\n",
       "      <td>0.074731</td>\n",
       "      <td>0.105270</td>\n",
       "      <td>STAR</td>\n",
       "      <td>F2</td>\n",
       "    </tr>\n",
       "    <tr>\n",
       "      <th>4726</th>\n",
       "      <td>3</td>\n",
       "      <td>20.98037</td>\n",
       "      <td>0.114074</td>\n",
       "      <td>18.40370</td>\n",
       "      <td>0.009187</td>\n",
       "      <td>17.07613</td>\n",
       "      <td>0.017746</td>\n",
       "      <td>16.44488</td>\n",
       "      <td>0.004784</td>\n",
       "      <td>16.07006</td>\n",
       "      <td>0.007338</td>\n",
       "      <td>0.000051</td>\n",
       "      <td>0.000008</td>\n",
       "      <td>0.197431</td>\n",
       "      <td>0.022649</td>\n",
       "      <td>STAR</td>\n",
       "      <td>M0</td>\n",
       "    </tr>\n",
       "    <tr>\n",
       "      <th>2650</th>\n",
       "      <td>3</td>\n",
       "      <td>21.93561</td>\n",
       "      <td>0.348893</td>\n",
       "      <td>20.18889</td>\n",
       "      <td>0.038376</td>\n",
       "      <td>18.78074</td>\n",
       "      <td>0.016038</td>\n",
       "      <td>18.28471</td>\n",
       "      <td>0.016147</td>\n",
       "      <td>17.80798</td>\n",
       "      <td>0.037789</td>\n",
       "      <td>0.324437</td>\n",
       "      <td>0.000028</td>\n",
       "      <td>0.308965</td>\n",
       "      <td>0.046537</td>\n",
       "      <td>QSO</td>\n",
       "      <td>AGN BROADLINE</td>\n",
       "    </tr>\n",
       "  </tbody>\n",
       "</table>\n",
       "</div>"
      ],
      "text/plain": [
       "      type   dered_u     err_u   dered_g     err_g   dered_r     err_r  \\\n",
       "3318     3  19.05006  0.035549  18.64025  0.010686  18.38684  0.010548   \n",
       "4559     3  17.51268  0.019381  16.33018  0.004315  15.80432  0.003701   \n",
       "4985     3  16.06708  0.006289  14.82370  0.003543  14.42508  0.003404   \n",
       "4726     3  20.98037  0.114074  18.40370  0.009187  17.07613  0.017746   \n",
       "2650     3  21.93561  0.348893  20.18889  0.038376  18.78074  0.016038   \n",
       "\n",
       "       dered_i     err_i   dered_z     err_z         z      zErr    photoZ  \\\n",
       "3318  18.10099  0.011792  17.87401  0.032490  0.460572  0.000084  0.420240   \n",
       "4559  15.48149  0.003661  15.24083  0.007232  0.073120  0.000009  0.050620   \n",
       "4985  14.34694  0.003630  14.51768  0.004555  0.000085  0.000010  0.074731   \n",
       "4726  16.44488  0.004784  16.07006  0.007338  0.000051  0.000008  0.197431   \n",
       "2650  18.28471  0.016147  17.80798  0.037789  0.324437  0.000028  0.308965   \n",
       "\n",
       "      photoErr   class       subClass  \n",
       "3318  0.111385     QSO      BROADLINE  \n",
       "4559  0.010247  GALAXY    STARFORMING  \n",
       "4985  0.105270    STAR             F2  \n",
       "4726  0.022649    STAR             M0  \n",
       "2650  0.046537     QSO  AGN BROADLINE  "
      ]
     },
     "execution_count": 7,
     "metadata": {},
     "output_type": "execute_result"
    }
   ],
   "source": [
    "data_clean.head()"
   ]
  },
  {
   "cell_type": "code",
   "execution_count": 8,
   "metadata": {},
   "outputs": [],
   "source": [
    "# Encoding the classes to integers\n",
    "def type_to_value(n):\n",
    "    if n == 'STAR':\n",
    "        return 1\n",
    "    elif n == 'QSO':\n",
    "        return 2\n",
    "    elif n == 'GALAXY':\n",
    "        return 3\n",
    "    \n",
    "\n",
    "data_clean['nClass'] = [type_to_value(n) for n in data_clean['class']]"
   ]
  },
  {
   "cell_type": "code",
   "execution_count": 9,
   "metadata": {},
   "outputs": [
    {
     "data": {
      "text/html": [
       "<div>\n",
       "<style scoped>\n",
       "    .dataframe tbody tr th:only-of-type {\n",
       "        vertical-align: middle;\n",
       "    }\n",
       "\n",
       "    .dataframe tbody tr th {\n",
       "        vertical-align: top;\n",
       "    }\n",
       "\n",
       "    .dataframe thead th {\n",
       "        text-align: right;\n",
       "    }\n",
       "</style>\n",
       "<table border=\"1\" class=\"dataframe\">\n",
       "  <thead>\n",
       "    <tr style=\"text-align: right;\">\n",
       "      <th></th>\n",
       "      <th>dered_u</th>\n",
       "      <th>dered_g</th>\n",
       "      <th>dered_r</th>\n",
       "      <th>dered_i</th>\n",
       "      <th>dered_z</th>\n",
       "      <th>nClass</th>\n",
       "    </tr>\n",
       "  </thead>\n",
       "  <tbody>\n",
       "    <tr>\n",
       "      <th>3318</th>\n",
       "      <td>19.05006</td>\n",
       "      <td>18.64025</td>\n",
       "      <td>18.38684</td>\n",
       "      <td>18.10099</td>\n",
       "      <td>17.87401</td>\n",
       "      <td>2</td>\n",
       "    </tr>\n",
       "    <tr>\n",
       "      <th>4559</th>\n",
       "      <td>17.51268</td>\n",
       "      <td>16.33018</td>\n",
       "      <td>15.80432</td>\n",
       "      <td>15.48149</td>\n",
       "      <td>15.24083</td>\n",
       "      <td>3</td>\n",
       "    </tr>\n",
       "    <tr>\n",
       "      <th>4985</th>\n",
       "      <td>16.06708</td>\n",
       "      <td>14.82370</td>\n",
       "      <td>14.42508</td>\n",
       "      <td>14.34694</td>\n",
       "      <td>14.51768</td>\n",
       "      <td>1</td>\n",
       "    </tr>\n",
       "    <tr>\n",
       "      <th>4726</th>\n",
       "      <td>20.98037</td>\n",
       "      <td>18.40370</td>\n",
       "      <td>17.07613</td>\n",
       "      <td>16.44488</td>\n",
       "      <td>16.07006</td>\n",
       "      <td>1</td>\n",
       "    </tr>\n",
       "    <tr>\n",
       "      <th>2650</th>\n",
       "      <td>21.93561</td>\n",
       "      <td>20.18889</td>\n",
       "      <td>18.78074</td>\n",
       "      <td>18.28471</td>\n",
       "      <td>17.80798</td>\n",
       "      <td>2</td>\n",
       "    </tr>\n",
       "  </tbody>\n",
       "</table>\n",
       "</div>"
      ],
      "text/plain": [
       "       dered_u   dered_g   dered_r   dered_i   dered_z  nClass\n",
       "3318  19.05006  18.64025  18.38684  18.10099  17.87401       2\n",
       "4559  17.51268  16.33018  15.80432  15.48149  15.24083       3\n",
       "4985  16.06708  14.82370  14.42508  14.34694  14.51768       1\n",
       "4726  20.98037  18.40370  17.07613  16.44488  16.07006       1\n",
       "2650  21.93561  20.18889  18.78074  18.28471  17.80798       2"
      ]
     },
     "execution_count": 9,
     "metadata": {},
     "output_type": "execute_result"
    }
   ],
   "source": [
    "# Removing errors, redshift and class data\n",
    "data1 = data_clean.drop(['type','err_u', 'err_g', 'err_r', 'err_i', 'err_z','z', 'zErr', 'class', 'subClass','photoZ','photoErr'], axis = 1)\n",
    "data1.head()"
   ]
  },
  {
   "cell_type": "code",
   "execution_count": 128,
   "metadata": {},
   "outputs": [
    {
     "data": {
      "text/html": [
       "<div>\n",
       "<style scoped>\n",
       "    .dataframe tbody tr th:only-of-type {\n",
       "        vertical-align: middle;\n",
       "    }\n",
       "\n",
       "    .dataframe tbody tr th {\n",
       "        vertical-align: top;\n",
       "    }\n",
       "\n",
       "    .dataframe thead th {\n",
       "        text-align: right;\n",
       "    }\n",
       "</style>\n",
       "<table border=\"1\" class=\"dataframe\">\n",
       "  <thead>\n",
       "    <tr style=\"text-align: right;\">\n",
       "      <th></th>\n",
       "      <th>dered_u</th>\n",
       "      <th>dered_g</th>\n",
       "      <th>dered_r</th>\n",
       "      <th>dered_i</th>\n",
       "      <th>dered_z</th>\n",
       "      <th>nClass</th>\n",
       "    </tr>\n",
       "  </thead>\n",
       "  <tbody>\n",
       "    <tr>\n",
       "      <th>count</th>\n",
       "      <td>15000.000000</td>\n",
       "      <td>15000.000000</td>\n",
       "      <td>15000.000000</td>\n",
       "      <td>15000.000000</td>\n",
       "      <td>15000.000000</td>\n",
       "      <td>15000.000000</td>\n",
       "    </tr>\n",
       "    <tr>\n",
       "      <th>mean</th>\n",
       "      <td>19.869886</td>\n",
       "      <td>18.452114</td>\n",
       "      <td>17.631055</td>\n",
       "      <td>17.163975</td>\n",
       "      <td>16.934978</td>\n",
       "      <td>2.000000</td>\n",
       "    </tr>\n",
       "    <tr>\n",
       "      <th>std</th>\n",
       "      <td>1.702831</td>\n",
       "      <td>1.544044</td>\n",
       "      <td>1.469840</td>\n",
       "      <td>1.371121</td>\n",
       "      <td>1.453392</td>\n",
       "      <td>0.816524</td>\n",
       "    </tr>\n",
       "    <tr>\n",
       "      <th>min</th>\n",
       "      <td>11.101360</td>\n",
       "      <td>12.074510</td>\n",
       "      <td>10.785910</td>\n",
       "      <td>10.756660</td>\n",
       "      <td>9.813457</td>\n",
       "      <td>1.000000</td>\n",
       "    </tr>\n",
       "    <tr>\n",
       "      <th>25%</th>\n",
       "      <td>18.870685</td>\n",
       "      <td>17.598865</td>\n",
       "      <td>16.818827</td>\n",
       "      <td>16.356315</td>\n",
       "      <td>16.086430</td>\n",
       "      <td>1.000000</td>\n",
       "    </tr>\n",
       "    <tr>\n",
       "      <th>50%</th>\n",
       "      <td>19.614630</td>\n",
       "      <td>18.316495</td>\n",
       "      <td>17.479280</td>\n",
       "      <td>17.038925</td>\n",
       "      <td>16.791815</td>\n",
       "      <td>2.000000</td>\n",
       "    </tr>\n",
       "    <tr>\n",
       "      <th>75%</th>\n",
       "      <td>20.553992</td>\n",
       "      <td>19.144298</td>\n",
       "      <td>18.450765</td>\n",
       "      <td>18.022543</td>\n",
       "      <td>17.732482</td>\n",
       "      <td>3.000000</td>\n",
       "    </tr>\n",
       "    <tr>\n",
       "      <th>max</th>\n",
       "      <td>29.762490</td>\n",
       "      <td>29.461400</td>\n",
       "      <td>28.317300</td>\n",
       "      <td>28.234270</td>\n",
       "      <td>28.220950</td>\n",
       "      <td>3.000000</td>\n",
       "    </tr>\n",
       "  </tbody>\n",
       "</table>\n",
       "</div>"
      ],
      "text/plain": [
       "            dered_u       dered_g       dered_r       dered_i       dered_z  \\\n",
       "count  15000.000000  15000.000000  15000.000000  15000.000000  15000.000000   \n",
       "mean      19.869886     18.452114     17.631055     17.163975     16.934978   \n",
       "std        1.702831      1.544044      1.469840      1.371121      1.453392   \n",
       "min       11.101360     12.074510     10.785910     10.756660      9.813457   \n",
       "25%       18.870685     17.598865     16.818827     16.356315     16.086430   \n",
       "50%       19.614630     18.316495     17.479280     17.038925     16.791815   \n",
       "75%       20.553992     19.144298     18.450765     18.022543     17.732482   \n",
       "max       29.762490     29.461400     28.317300     28.234270     28.220950   \n",
       "\n",
       "             nClass  \n",
       "count  15000.000000  \n",
       "mean       2.000000  \n",
       "std        0.816524  \n",
       "min        1.000000  \n",
       "25%        1.000000  \n",
       "50%        2.000000  \n",
       "75%        3.000000  \n",
       "max        3.000000  "
      ]
     },
     "execution_count": 128,
     "metadata": {},
     "output_type": "execute_result"
    }
   ],
   "source": [
    "# Description of the cleaned dataset\n",
    "data1.describe()"
   ]
  },
  {
   "cell_type": "markdown",
   "metadata": {},
   "source": [
    "The dereddened magnitudes (or mean brightness) seem to increase from the u band to the z band, with the highest mean brightness in the z band. And the spread of the data (as indicated by the standard deviation) also varies between bands, with the largest spread in the u band and the smallest spread in the z band."
   ]
  },
  {
   "cell_type": "code",
   "execution_count": 10,
   "metadata": {},
   "outputs": [],
   "source": [
    "# Create function to plot the histograms of all columns in the dataset in a subplot\n",
    "def hist_plots( data: pd.DataFrame,\n",
    "               rows: int,\n",
    "              cols: int,\n",
    "              figsize: tuple):\n",
    "    fig, axes = plt.subplots(rows,cols, figsize=figsize)\n",
    "    for i, ax in enumerate(axes.flatten()):\n",
    "        if i < len(data.columns):\n",
    "            data[sorted(data.columns)[i]].plot.hist(bins=30, ax=ax)\n",
    "            ax.set_title(f'{sorted(data.columns)[i]} distribution', fontsize=10)\n",
    "            ax.tick_params(axis='x', labelsize=10)\n",
    "            ax.tick_params(axis='y', labelsize=10)\n",
    "            ax.get_yaxis().get_label().set_visible(False)\n",
    "        else:\n",
    "            fig.delaxes(ax=ax)\n",
    "    fig.tight_layout()"
   ]
  },
  {
   "cell_type": "code",
   "execution_count": 11,
   "metadata": {},
   "outputs": [
    {
     "data": {
      "image/png": "[encoded data removed]",
      "text/plain": [
       "<Figure size 1440x720 with 6 Axes>"
      ]
     },
     "metadata": {
      "needs_background": "light"
     },
     "output_type": "display_data"
    }
   ],
   "source": [
    "hist_plots(data=data1,\n",
    "          rows=2,\n",
    "          cols=4,\n",
    "          figsize=(20,10))"
   ]
  },
  {
   "cell_type": "markdown",
   "metadata": {},
   "source": [
    "### Calculating Colours\n",
    "\n",
    "Colour in astrophysics is defined as the difference between the magnitudes of two passbands (u, g, r, i, z). The most comon colours are between adjacent bands; therefore (u-g),(g-r),(r-i),(i-z). What do the colours tell us? Mainly, they tell us roughly about the shape of the spectrum of the electromagnetic radiation of the source. In the case of stars, it indicates temperature. In the case of galaxies, it can indicate age and shape of the galaxy. The redder the galaxy, the older the population and or more dust. The bluer the galaxy, the younger the population and or less dust. It is also an indication of starformation within the galaxy. "
   ]
  },
  {
   "cell_type": "code",
   "execution_count": 12,
   "metadata": {},
   "outputs": [
    {
     "data": {
      "text/html": [
       "<div>\n",
       "<style scoped>\n",
       "    .dataframe tbody tr th:only-of-type {\n",
       "        vertical-align: middle;\n",
       "    }\n",
       "\n",
       "    .dataframe tbody tr th {\n",
       "        vertical-align: top;\n",
       "    }\n",
       "\n",
       "    .dataframe thead th {\n",
       "        text-align: right;\n",
       "    }\n",
       "</style>\n",
       "<table border=\"1\" class=\"dataframe\">\n",
       "  <thead>\n",
       "    <tr style=\"text-align: right;\">\n",
       "      <th></th>\n",
       "      <th>dered_u</th>\n",
       "      <th>dered_g</th>\n",
       "      <th>dered_r</th>\n",
       "      <th>dered_i</th>\n",
       "      <th>dered_z</th>\n",
       "      <th>nClass</th>\n",
       "      <th>u-g</th>\n",
       "      <th>g-r</th>\n",
       "      <th>r-i</th>\n",
       "      <th>i-z</th>\n",
       "    </tr>\n",
       "  </thead>\n",
       "  <tbody>\n",
       "    <tr>\n",
       "      <th>3318</th>\n",
       "      <td>19.05006</td>\n",
       "      <td>18.64025</td>\n",
       "      <td>18.38684</td>\n",
       "      <td>18.10099</td>\n",
       "      <td>17.87401</td>\n",
       "      <td>2</td>\n",
       "      <td>0.40981</td>\n",
       "      <td>0.25341</td>\n",
       "      <td>0.28585</td>\n",
       "      <td>0.22698</td>\n",
       "    </tr>\n",
       "    <tr>\n",
       "      <th>4559</th>\n",
       "      <td>17.51268</td>\n",
       "      <td>16.33018</td>\n",
       "      <td>15.80432</td>\n",
       "      <td>15.48149</td>\n",
       "      <td>15.24083</td>\n",
       "      <td>3</td>\n",
       "      <td>1.18250</td>\n",
       "      <td>0.52586</td>\n",
       "      <td>0.32283</td>\n",
       "      <td>0.24066</td>\n",
       "    </tr>\n",
       "    <tr>\n",
       "      <th>4985</th>\n",
       "      <td>16.06708</td>\n",
       "      <td>14.82370</td>\n",
       "      <td>14.42508</td>\n",
       "      <td>14.34694</td>\n",
       "      <td>14.51768</td>\n",
       "      <td>1</td>\n",
       "      <td>1.24338</td>\n",
       "      <td>0.39862</td>\n",
       "      <td>0.07814</td>\n",
       "      <td>-0.17074</td>\n",
       "    </tr>\n",
       "    <tr>\n",
       "      <th>4726</th>\n",
       "      <td>20.98037</td>\n",
       "      <td>18.40370</td>\n",
       "      <td>17.07613</td>\n",
       "      <td>16.44488</td>\n",
       "      <td>16.07006</td>\n",
       "      <td>1</td>\n",
       "      <td>2.57667</td>\n",
       "      <td>1.32757</td>\n",
       "      <td>0.63125</td>\n",
       "      <td>0.37482</td>\n",
       "    </tr>\n",
       "    <tr>\n",
       "      <th>2650</th>\n",
       "      <td>21.93561</td>\n",
       "      <td>20.18889</td>\n",
       "      <td>18.78074</td>\n",
       "      <td>18.28471</td>\n",
       "      <td>17.80798</td>\n",
       "      <td>2</td>\n",
       "      <td>1.74672</td>\n",
       "      <td>1.40815</td>\n",
       "      <td>0.49603</td>\n",
       "      <td>0.47673</td>\n",
       "    </tr>\n",
       "  </tbody>\n",
       "</table>\n",
       "</div>"
      ],
      "text/plain": [
       "       dered_u   dered_g   dered_r   dered_i   dered_z  nClass      u-g  \\\n",
       "3318  19.05006  18.64025  18.38684  18.10099  17.87401       2  0.40981   \n",
       "4559  17.51268  16.33018  15.80432  15.48149  15.24083       3  1.18250   \n",
       "4985  16.06708  14.82370  14.42508  14.34694  14.51768       1  1.24338   \n",
       "4726  20.98037  18.40370  17.07613  16.44488  16.07006       1  2.57667   \n",
       "2650  21.93561  20.18889  18.78074  18.28471  17.80798       2  1.74672   \n",
       "\n",
       "          g-r      r-i      i-z  \n",
       "3318  0.25341  0.28585  0.22698  \n",
       "4559  0.52586  0.32283  0.24066  \n",
       "4985  0.39862  0.07814 -0.17074  \n",
       "4726  1.32757  0.63125  0.37482  \n",
       "2650  1.40815  0.49603  0.47673  "
      ]
     },
     "execution_count": 12,
     "metadata": {},
     "output_type": "execute_result"
    }
   ],
   "source": [
    "# Create a function to calculate the colours of the sources\n",
    "def compute_colour(row):\n",
    "    u = row['dered_u']\n",
    "    g = row['dered_g']\n",
    "    r = row['dered_r']\n",
    "    i = row['dered_i']\n",
    "    z = row['dered_z']\n",
    "    return pd.Series({'u-g': u - g, 'g-r': g - r, 'r-i': r - i, 'i-z': i - z})\n",
    "# Apply the function compute_colour\n",
    "colour_ind = data1.apply(compute_colour, axis=1)\n",
    "# Create new dataframe with the colours added\n",
    "data_colour = pd.concat([data1,colour_ind], axis=1)\n",
    "data_colour.head()"
   ]
  },
  {
   "cell_type": "code",
   "execution_count": 132,
   "metadata": {},
   "outputs": [
    {
     "data": {
      "image/png": "[encoded data removed]",
      "text/plain": [
       "<Figure size 1440x720 with 4 Axes>"
      ]
     },
     "metadata": {
      "needs_background": "light"
     },
     "output_type": "display_data"
    }
   ],
   "source": [
    "# Create histograms of the colours for each object type in the same plot\n",
    "# Create boolean series for each of the classes of objects\n",
    "star = data_colour['nClass']  == 1\n",
    "QSO = data_colour['nClass']  == 2\n",
    "galaxy = data_colour['nClass']  == 3\n",
    "colour = ['u-g','g-r','r-i','i-z']\n",
    "\n",
    "# Create subplots and plot histograms\n",
    "bins = np.linspace(-5, 5, 100)\n",
    "fig,axs = plt.subplots(2,2, figsize=(20,10))\n",
    "axs = axs.ravel()\n",
    "\n",
    "for i, n in enumerate(colour):\n",
    "    ax = axs[i]\n",
    "    X = data_colour[n]\n",
    "    #create the histograms for the object type per colour\n",
    "    ax.hist(X[star], bins,histtype='step', label='star')\n",
    "    ax.hist(X[QSO], bins,histtype='step', label='QSO')\n",
    "    ax.hist(X[galaxy], bins,histtype='step', label='galaxy')\n",
    "    #set legend, lables and title\n",
    "    ax.legend(loc='upper left',fontsize=12)\n",
    "    ax.set_xlabel(n)\n",
    "    ax.set_title(f'({n}) colour histogram', fontsize=16)\n",
    "    \n",
    "fig.suptitle('Distribution of Colour by Object Type', fontsize=20, fontweight=\"bold\")\n",
    "fig.tight_layout(rect=[0, 0, 1, 0.95])\n",
    "plt.show()"
   ]
  },
  {
   "cell_type": "markdown",
   "metadata": {},
   "source": [
    "For stars, in the (u-g) and (g-r) distributions, we can see bimodality which indicates the temperature of the star whether is a hot blue star (to the left of the distribution) or a cold red star(to the right). The distributions of (r-i) and (i-z) show this bimodality less and in fact, the distributions are more congruent with a positive skewed distribution. As the colours move more to the infrared side of the bands' spectrum, they are less sensitive to the temperature and more sensitive to interstellar dust, metalicity and age.\n",
    "\n",
    "For QSOs, the (u-g) distribution peak is much bluer than that of stars and galaxies.  It is as expected since what we see in QSOs are the active galactic nuclei(AGN, supermassive black holes)  that outshine the stars of their host galaxies. The radiation peaks at the blue end of the spectrum.  There is a small second population that is redder (to the left) than the rest of the population and this can be due to the fact that there is a combination of radiation from the AGN and the host galaxies. In the (g-r), we are seeing more of the radiation of the host galaxies but the distribution is still bluer than the galaxy distribution. In the distributions of (r-i) and (i-z), the galaxy and QSOs distributions are indistinguishable. Here, we are seeing the host galaxy radiation. \n",
    "\n",
    "For galaxies, there is a bimodal distribution in the (u-g) and (g-r). What we are seeing here is two populations; one population of young blue galaxies and the other of old red galaxies. On the other hand, the distributions of (r-i) and (i-z) show a very narrow distribution with a high peak. This could be due to the fact that we are sampling interstellar dust. Dust can absorb or scatter the light emitted by stars in a galaxy which makes the galaxy appear redder than it actually is. These distributions can be affected by the limited wavelength coverage of the bands.\n"
   ]
  },
  {
   "cell_type": "code",
   "execution_count": 129,
   "metadata": {},
   "outputs": [
    {
     "data": {
      "image/png": "[encoded data removed]",
      "text/plain": [
       "<Figure size 1440x720 with 18 Axes>"
      ]
     },
     "metadata": {
      "needs_background": "light"
     },
     "output_type": "display_data"
    }
   ],
   "source": [
    "# Create 2D distributions for each colour vs colour for each object type\n",
    "fig, axs = plt.subplots(3, 3, figsize=(20, 10), sharex='col')\n",
    "\n",
    "bins = np.linspace(-5, 5, 100)\n",
    "\n",
    "classes = [star, QSO, galaxy]\n",
    "objects = ['Stars', 'QSO', 'Galaxies']\n",
    "\n",
    "for i in range(len(colour)-1):\n",
    "    for j, n in enumerate(classes):\n",
    "        \n",
    "        h = axs[j, i].hist2d(data_colour[colour[i]][n], data_colour[colour[i + 1]][n], bins, cmap='hot')\n",
    "        \n",
    "        # Set labels for each subplot\n",
    "        axs[j, i].set_title(f'({colour[i]}) vs.' f'({colour[i+1]}) for ' f'{objects[j]}')\n",
    "        axs[j, i].set_ylabel(colour[i + 1])\n",
    "        if j>= 2 :\n",
    "                axs[j,i].set_xlabel(colour[i])\n",
    "        \n",
    "        # Add colorbars to each subplot\n",
    "        fig.colorbar(h[3], ax=axs[j, i])    \n",
    "            \n",
    "\n",
    "fig.suptitle('2D Distributions of Colour - Colour for Stars, QSOs and Galaxies', fontsize=16, fontweight=\"bold\")\n",
    "#plt.savefig('/home/veroastro/Documents/spectraTypes/images/2dH_colour.pdf')\n",
    "# Show the plot\n",
    "plt.show()"
   ]
  },
  {
   "cell_type": "code",
   "execution_count": 130,
   "metadata": {},
   "outputs": [
    {
     "data": {
      "image/png": "[encoded data removed]",
      "text/plain": [
       "<Figure size 360x360 with 1 Axes>"
      ]
     },
     "metadata": {
      "needs_background": "light"
     },
     "output_type": "display_data"
    }
   ],
   "source": [
    "#Scatter plot hued by classes\n",
    "sns.lmplot( x=\"u-g\", y=\"g-r\", data= data_colour, fit_reg=False, hue='nClass', legend=False, scatter_kws={\"s\": 1})\n",
    "# Add title and legend\n",
    "plt.title('(u-g) vs. (g-r) for all Object Types', fontweight=\"bold\")\n",
    "plt.legend(fontsize='small', loc='lower left')\n",
    "#plt.savefig('/home/veroastro/Documents/spectraTypes/images/scatter_classes.pdf')\n",
    "plt.show()"
   ]
  },
  {
   "cell_type": "markdown",
   "metadata": {},
   "source": [
    "# Calculating the object types"
   ]
  },
  {
   "cell_type": "code",
   "execution_count": 142,
   "metadata": {},
   "outputs": [],
   "source": [
    "# Separating the features and the labled data and normalising the data\n",
    "from sklearn.preprocessing import MinMaxScaler\n",
    "cols= data1.columns[:-1]\n",
    "X = data1[cols]\n",
    "y = data1['nClass']\n",
    "scaler = MinMaxScaler()\n",
    "X_t = scaler.fit_transform(X)\n",
    "X_scaled = pd.DataFrame(X_t, columns = ['dered_u','dered_g','dered_r','dered_i','dered_z'])"
   ]
  },
  {
   "cell_type": "code",
   "execution_count": 12,
   "metadata": {},
   "outputs": [
    {
     "name": "stdout",
     "output_type": "stream",
     "text": [
      "(10500,)\n",
      "(4500,)\n"
     ]
    },
    {
     "data": {
      "text/html": [
       "<div>\n",
       "<style scoped>\n",
       "    .dataframe tbody tr th:only-of-type {\n",
       "        vertical-align: middle;\n",
       "    }\n",
       "\n",
       "    .dataframe tbody tr th {\n",
       "        vertical-align: top;\n",
       "    }\n",
       "\n",
       "    .dataframe thead th {\n",
       "        text-align: right;\n",
       "    }\n",
       "</style>\n",
       "<table border=\"1\" class=\"dataframe\">\n",
       "  <thead>\n",
       "    <tr style=\"text-align: right;\">\n",
       "      <th></th>\n",
       "      <th>dered_u</th>\n",
       "      <th>dered_g</th>\n",
       "      <th>dered_r</th>\n",
       "      <th>dered_i</th>\n",
       "      <th>dered_z</th>\n",
       "    </tr>\n",
       "  </thead>\n",
       "  <tbody>\n",
       "    <tr>\n",
       "      <th>6244</th>\n",
       "      <td>0.418620</td>\n",
       "      <td>0.277967</td>\n",
       "      <td>0.286992</td>\n",
       "      <td>0.261855</td>\n",
       "      <td>0.279390</td>\n",
       "    </tr>\n",
       "    <tr>\n",
       "      <th>8037</th>\n",
       "      <td>0.616498</td>\n",
       "      <td>0.472872</td>\n",
       "      <td>0.443517</td>\n",
       "      <td>0.411021</td>\n",
       "      <td>0.420628</td>\n",
       "    </tr>\n",
       "    <tr>\n",
       "      <th>11432</th>\n",
       "      <td>0.591391</td>\n",
       "      <td>0.469455</td>\n",
       "      <td>0.442092</td>\n",
       "      <td>0.410695</td>\n",
       "      <td>0.422589</td>\n",
       "    </tr>\n",
       "    <tr>\n",
       "      <th>3326</th>\n",
       "      <td>0.459214</td>\n",
       "      <td>0.407653</td>\n",
       "      <td>0.440674</td>\n",
       "      <td>0.420174</td>\n",
       "      <td>0.445306</td>\n",
       "    </tr>\n",
       "    <tr>\n",
       "      <th>5107</th>\n",
       "      <td>0.480978</td>\n",
       "      <td>0.370256</td>\n",
       "      <td>0.390199</td>\n",
       "      <td>0.369057</td>\n",
       "      <td>0.380852</td>\n",
       "    </tr>\n",
       "  </tbody>\n",
       "</table>\n",
       "</div>"
      ],
      "text/plain": [
       "        dered_u   dered_g   dered_r   dered_i   dered_z\n",
       "6244   0.418620  0.277967  0.286992  0.261855  0.279390\n",
       "8037   0.616498  0.472872  0.443517  0.411021  0.420628\n",
       "11432  0.591391  0.469455  0.442092  0.410695  0.422589\n",
       "3326   0.459214  0.407653  0.440674  0.420174  0.445306\n",
       "5107   0.480978  0.370256  0.390199  0.369057  0.380852"
      ]
     },
     "execution_count": 12,
     "metadata": {},
     "output_type": "execute_result"
    }
   ],
   "source": [
    "# split the data in train and test subsets\n",
    "from sklearn.model_selection import StratifiedShuffleSplit\n",
    "\n",
    "\n",
    "# Get the split indexes\n",
    "strat_shuf_split = StratifiedShuffleSplit(n_splits=3, \n",
    "                                          test_size=0.3, \n",
    "                                          random_state=42)\n",
    "\n",
    "\n",
    "\n",
    "train_idx, test_idx = next(strat_shuf_split.split(X_t,y))\n",
    "print(train_idx.shape)\n",
    "print(test_idx.shape)\n",
    "\n",
    "X_train = X_scaled[cols].iloc[train_idx]\n",
    "y_train = data1['nClass'].iloc[train_idx]\n",
    "X_test  = X_scaled[cols].iloc[test_idx]\n",
    "y_test  = data1['nClass'].iloc[test_idx]\n",
    "\n",
    "X_train.head()\n",
    "#X.head()\n"
   ]
  },
  {
   "cell_type": "code",
   "execution_count": 13,
   "metadata": {},
   "outputs": [
    {
     "data": {
      "text/html": [
       "<div>\n",
       "<style scoped>\n",
       "    .dataframe tbody tr th:only-of-type {\n",
       "        vertical-align: middle;\n",
       "    }\n",
       "\n",
       "    .dataframe tbody tr th {\n",
       "        vertical-align: top;\n",
       "    }\n",
       "\n",
       "    .dataframe thead th {\n",
       "        text-align: right;\n",
       "    }\n",
       "</style>\n",
       "<table border=\"1\" class=\"dataframe\">\n",
       "  <thead>\n",
       "    <tr style=\"text-align: right;\">\n",
       "      <th></th>\n",
       "      <th>dered_u</th>\n",
       "      <th>dered_g</th>\n",
       "      <th>dered_r</th>\n",
       "      <th>dered_i</th>\n",
       "      <th>dered_z</th>\n",
       "      <th>u-g</th>\n",
       "      <th>g-r</th>\n",
       "      <th>r-i</th>\n",
       "      <th>i-z</th>\n",
       "    </tr>\n",
       "  </thead>\n",
       "  <tbody>\n",
       "    <tr>\n",
       "      <th>2630</th>\n",
       "      <td>19.13248</td>\n",
       "      <td>18.82902</td>\n",
       "      <td>18.44817</td>\n",
       "      <td>18.02750</td>\n",
       "      <td>18.09456</td>\n",
       "      <td>0.30346</td>\n",
       "      <td>0.38085</td>\n",
       "      <td>0.42067</td>\n",
       "      <td>-0.06706</td>\n",
       "    </tr>\n",
       "    <tr>\n",
       "      <th>692</th>\n",
       "      <td>20.84923</td>\n",
       "      <td>19.75584</td>\n",
       "      <td>18.89735</td>\n",
       "      <td>18.53416</td>\n",
       "      <td>18.03991</td>\n",
       "      <td>1.09339</td>\n",
       "      <td>0.85849</td>\n",
       "      <td>0.36319</td>\n",
       "      <td>0.49425</td>\n",
       "    </tr>\n",
       "    <tr>\n",
       "      <th>4453</th>\n",
       "      <td>17.83060</td>\n",
       "      <td>16.35676</td>\n",
       "      <td>15.80797</td>\n",
       "      <td>15.62026</td>\n",
       "      <td>15.59619</td>\n",
       "      <td>1.47384</td>\n",
       "      <td>0.54879</td>\n",
       "      <td>0.18771</td>\n",
       "      <td>0.02407</td>\n",
       "    </tr>\n",
       "    <tr>\n",
       "      <th>3769</th>\n",
       "      <td>21.34056</td>\n",
       "      <td>18.43666</td>\n",
       "      <td>17.03625</td>\n",
       "      <td>15.67398</td>\n",
       "      <td>14.92618</td>\n",
       "      <td>2.90390</td>\n",
       "      <td>1.40041</td>\n",
       "      <td>1.36227</td>\n",
       "      <td>0.74780</td>\n",
       "    </tr>\n",
       "    <tr>\n",
       "      <th>3982</th>\n",
       "      <td>19.70097</td>\n",
       "      <td>17.78839</td>\n",
       "      <td>17.04071</td>\n",
       "      <td>16.72902</td>\n",
       "      <td>16.55683</td>\n",
       "      <td>1.91258</td>\n",
       "      <td>0.74768</td>\n",
       "      <td>0.31169</td>\n",
       "      <td>0.17219</td>\n",
       "    </tr>\n",
       "  </tbody>\n",
       "</table>\n",
       "</div>"
      ],
      "text/plain": [
       "       dered_u   dered_g   dered_r   dered_i   dered_z      u-g      g-r  \\\n",
       "2630  19.13248  18.82902  18.44817  18.02750  18.09456  0.30346  0.38085   \n",
       "692   20.84923  19.75584  18.89735  18.53416  18.03991  1.09339  0.85849   \n",
       "4453  17.83060  16.35676  15.80797  15.62026  15.59619  1.47384  0.54879   \n",
       "3769  21.34056  18.43666  17.03625  15.67398  14.92618  2.90390  1.40041   \n",
       "3982  19.70097  17.78839  17.04071  16.72902  16.55683  1.91258  0.74768   \n",
       "\n",
       "          r-i      i-z  \n",
       "2630  0.42067 -0.06706  \n",
       "692   0.36319  0.49425  \n",
       "4453  0.18771  0.02407  \n",
       "3769  1.36227  0.74780  \n",
       "3982  0.31169  0.17219  "
      ]
     },
     "execution_count": 13,
     "metadata": {},
     "output_type": "execute_result"
    }
   ],
   "source": [
    "# Apply the compute_colour function to your DataFrame\n",
    "colour_indices = X.apply(compute_colour, axis=1)\n",
    "\n",
    "X_colour = pd.concat([X,colour_indices], axis=1)\n",
    "X_colour.head()"
   ]
  },
  {
   "cell_type": "code",
   "execution_count": 14,
   "metadata": {},
   "outputs": [],
   "source": [
    "#creating a feature dataset with colours (diference between bands)\n",
    "X_train_c = X_colour.iloc[train_idx]\n",
    "X_test_c  = X_colour.iloc[test_idx]\n"
   ]
  },
  {
   "cell_type": "code",
   "execution_count": 15,
   "metadata": {},
   "outputs": [],
   "source": [
    "# using logistic regression on the non-colour data\n",
    "\n",
    "from sklearn.linear_model import LogisticRegression\n",
    "from sklearn.model_selection import GridSearchCV\n",
    "params = {\"C\":np.logspace(-3,3,30), \"penalty\":[\"l1\",\"l2\"]}\n",
    "\n",
    "\n",
    "grid = GridSearchCV(LogisticRegression(solver='liblinear'), params)\n",
    "\n",
    "\n",
    "GR = grid.fit(X_train, y_train)"
   ]
  },
  {
   "cell_type": "code",
   "execution_count": 16,
   "metadata": {},
   "outputs": [
    {
     "data": {
      "text/plain": [
       "({'C': 621.0169418915616, 'penalty': 'l1'}, 0.6180952380952381)"
      ]
     },
     "execution_count": 16,
     "metadata": {},
     "output_type": "execute_result"
    }
   ],
   "source": [
    "GR.best_params_ ,GR.best_score_"
   ]
  },
  {
   "cell_type": "code",
   "execution_count": 17,
   "metadata": {},
   "outputs": [],
   "source": [
    "y_pred=grid.predict(X_test)\n",
    "#y_prob=grid.predict_proba(X_test)"
   ]
  },
  {
   "cell_type": "code",
   "execution_count": 18,
   "metadata": {},
   "outputs": [
    {
     "name": "stdout",
     "output_type": "stream",
     "text": [
      "              precision    recall  f1-score   support\n",
      "\n",
      "           1       0.57      0.50      0.53      1500\n",
      "           2       0.70      0.82      0.76      1500\n",
      "           3       0.56      0.53      0.54      1500\n",
      "\n",
      "    accuracy                           0.62      4500\n",
      "   macro avg       0.61      0.62      0.61      4500\n",
      "weighted avg       0.61      0.62      0.61      4500\n",
      "\n"
     ]
    }
   ],
   "source": [
    "from sklearn.metrics import classification_report\n",
    "\n",
    "cr = classification_report(y_test, y_pred)\n",
    "print(cr)\n"
   ]
  },
  {
   "cell_type": "markdown",
   "metadata": {},
   "source": [
    "Trying adding colours to the dataframe  and redo the algorithm"
   ]
  },
  {
   "cell_type": "code",
   "execution_count": 19,
   "metadata": {},
   "outputs": [
    {
     "name": "stderr",
     "output_type": "stream",
     "text": [
      "/home/veroastro/anaconda3/lib/python3.9/site-packages/sklearn/svm/_base.py:1206: ConvergenceWarning: Liblinear failed to converge, increase the number of iterations.\n",
      "  warnings.warn(\n",
      "/home/veroastro/anaconda3/lib/python3.9/site-packages/sklearn/svm/_base.py:1206: ConvergenceWarning: Liblinear failed to converge, increase the number of iterations.\n",
      "  warnings.warn(\n",
      "/home/veroastro/anaconda3/lib/python3.9/site-packages/sklearn/svm/_base.py:1206: ConvergenceWarning: Liblinear failed to converge, increase the number of iterations.\n",
      "  warnings.warn(\n",
      "/home/veroastro/anaconda3/lib/python3.9/site-packages/sklearn/svm/_base.py:1206: ConvergenceWarning: Liblinear failed to converge, increase the number of iterations.\n",
      "  warnings.warn(\n",
      "/home/veroastro/anaconda3/lib/python3.9/site-packages/sklearn/svm/_base.py:1206: ConvergenceWarning: Liblinear failed to converge, increase the number of iterations.\n",
      "  warnings.warn(\n",
      "/home/veroastro/anaconda3/lib/python3.9/site-packages/sklearn/svm/_base.py:1206: ConvergenceWarning: Liblinear failed to converge, increase the number of iterations.\n",
      "  warnings.warn(\n",
      "/home/veroastro/anaconda3/lib/python3.9/site-packages/sklearn/svm/_base.py:1206: ConvergenceWarning: Liblinear failed to converge, increase the number of iterations.\n",
      "  warnings.warn(\n",
      "/home/veroastro/anaconda3/lib/python3.9/site-packages/sklearn/svm/_base.py:1206: ConvergenceWarning: Liblinear failed to converge, increase the number of iterations.\n",
      "  warnings.warn(\n",
      "/home/veroastro/anaconda3/lib/python3.9/site-packages/sklearn/svm/_base.py:1206: ConvergenceWarning: Liblinear failed to converge, increase the number of iterations.\n",
      "  warnings.warn(\n",
      "/home/veroastro/anaconda3/lib/python3.9/site-packages/sklearn/svm/_base.py:1206: ConvergenceWarning: Liblinear failed to converge, increase the number of iterations.\n",
      "  warnings.warn(\n",
      "/home/veroastro/anaconda3/lib/python3.9/site-packages/sklearn/svm/_base.py:1206: ConvergenceWarning: Liblinear failed to converge, increase the number of iterations.\n",
      "  warnings.warn(\n",
      "/home/veroastro/anaconda3/lib/python3.9/site-packages/sklearn/svm/_base.py:1206: ConvergenceWarning: Liblinear failed to converge, increase the number of iterations.\n",
      "  warnings.warn(\n",
      "/home/veroastro/anaconda3/lib/python3.9/site-packages/sklearn/svm/_base.py:1206: ConvergenceWarning: Liblinear failed to converge, increase the number of iterations.\n",
      "  warnings.warn(\n",
      "/home/veroastro/anaconda3/lib/python3.9/site-packages/sklearn/svm/_base.py:1206: ConvergenceWarning: Liblinear failed to converge, increase the number of iterations.\n",
      "  warnings.warn(\n",
      "/home/veroastro/anaconda3/lib/python3.9/site-packages/sklearn/svm/_base.py:1206: ConvergenceWarning: Liblinear failed to converge, increase the number of iterations.\n",
      "  warnings.warn(\n",
      "/home/veroastro/anaconda3/lib/python3.9/site-packages/sklearn/svm/_base.py:1206: ConvergenceWarning: Liblinear failed to converge, increase the number of iterations.\n",
      "  warnings.warn(\n",
      "/home/veroastro/anaconda3/lib/python3.9/site-packages/sklearn/svm/_base.py:1206: ConvergenceWarning: Liblinear failed to converge, increase the number of iterations.\n",
      "  warnings.warn(\n",
      "/home/veroastro/anaconda3/lib/python3.9/site-packages/sklearn/svm/_base.py:1206: ConvergenceWarning: Liblinear failed to converge, increase the number of iterations.\n",
      "  warnings.warn(\n",
      "/home/veroastro/anaconda3/lib/python3.9/site-packages/sklearn/svm/_base.py:1206: ConvergenceWarning: Liblinear failed to converge, increase the number of iterations.\n",
      "  warnings.warn(\n",
      "/home/veroastro/anaconda3/lib/python3.9/site-packages/sklearn/svm/_base.py:1206: ConvergenceWarning: Liblinear failed to converge, increase the number of iterations.\n",
      "  warnings.warn(\n",
      "/home/veroastro/anaconda3/lib/python3.9/site-packages/sklearn/svm/_base.py:1206: ConvergenceWarning: Liblinear failed to converge, increase the number of iterations.\n",
      "  warnings.warn(\n",
      "/home/veroastro/anaconda3/lib/python3.9/site-packages/sklearn/svm/_base.py:1206: ConvergenceWarning: Liblinear failed to converge, increase the number of iterations.\n",
      "  warnings.warn(\n",
      "/home/veroastro/anaconda3/lib/python3.9/site-packages/sklearn/svm/_base.py:1206: ConvergenceWarning: Liblinear failed to converge, increase the number of iterations.\n",
      "  warnings.warn(\n",
      "/home/veroastro/anaconda3/lib/python3.9/site-packages/sklearn/svm/_base.py:1206: ConvergenceWarning: Liblinear failed to converge, increase the number of iterations.\n",
      "  warnings.warn(\n",
      "/home/veroastro/anaconda3/lib/python3.9/site-packages/sklearn/svm/_base.py:1206: ConvergenceWarning: Liblinear failed to converge, increase the number of iterations.\n",
      "  warnings.warn(\n",
      "/home/veroastro/anaconda3/lib/python3.9/site-packages/sklearn/svm/_base.py:1206: ConvergenceWarning: Liblinear failed to converge, increase the number of iterations.\n",
      "  warnings.warn(\n",
      "/home/veroastro/anaconda3/lib/python3.9/site-packages/sklearn/svm/_base.py:1206: ConvergenceWarning: Liblinear failed to converge, increase the number of iterations.\n",
      "  warnings.warn(\n",
      "/home/veroastro/anaconda3/lib/python3.9/site-packages/sklearn/svm/_base.py:1206: ConvergenceWarning: Liblinear failed to converge, increase the number of iterations.\n",
      "  warnings.warn(\n",
      "/home/veroastro/anaconda3/lib/python3.9/site-packages/sklearn/svm/_base.py:1206: ConvergenceWarning: Liblinear failed to converge, increase the number of iterations.\n",
      "  warnings.warn(\n",
      "/home/veroastro/anaconda3/lib/python3.9/site-packages/sklearn/svm/_base.py:1206: ConvergenceWarning: Liblinear failed to converge, increase the number of iterations.\n",
      "  warnings.warn(\n",
      "/home/veroastro/anaconda3/lib/python3.9/site-packages/sklearn/svm/_base.py:1206: ConvergenceWarning: Liblinear failed to converge, increase the number of iterations.\n",
      "  warnings.warn(\n"
     ]
    },
    {
     "data": {
      "text/plain": [
       "({'C': 0.3039195382313198, 'penalty': 'l2'}, 0.6203809523809524)"
      ]
     },
     "execution_count": 19,
     "metadata": {},
     "output_type": "execute_result"
    }
   ],
   "source": [
    "# test with colours\n",
    "GR = grid.fit(X_train_c, y_train)\n",
    "GR.best_params_ ,GR.best_score_"
   ]
  },
  {
   "cell_type": "code",
   "execution_count": 20,
   "metadata": {},
   "outputs": [],
   "source": [
    "y_pred_c=grid.predict(X_test_c)"
   ]
  },
  {
   "cell_type": "code",
   "execution_count": 21,
   "metadata": {},
   "outputs": [
    {
     "name": "stdout",
     "output_type": "stream",
     "text": [
      "              precision    recall  f1-score   support\n",
      "\n",
      "           1       0.56      0.52      0.54      1500\n",
      "           2       0.69      0.82      0.75      1500\n",
      "           3       0.56      0.50      0.53      1500\n",
      "\n",
      "    accuracy                           0.61      4500\n",
      "   macro avg       0.61      0.61      0.61      4500\n",
      "weighted avg       0.61      0.61      0.61      4500\n",
      "\n"
     ]
    }
   ],
   "source": [
    "cr_c = classification_report(y_test, y_pred_c)\n",
    "print(cr_c)"
   ]
  },
  {
   "cell_type": "markdown",
   "metadata": {},
   "source": [
    " Colour doesn't affect the estimation of the spectral classes"
   ]
  },
  {
   "cell_type": "markdown",
   "metadata": {},
   "source": [
    "## Testing other classifiers\n",
    "   ### Random Forest Classifier"
   ]
  },
  {
   "cell_type": "code",
   "execution_count": 22,
   "metadata": {},
   "outputs": [
    {
     "name": "stderr",
     "output_type": "stream",
     "text": [
      "/home/veroastro/anaconda3/lib/python3.9/site-packages/sklearn/ensemble/_forest.py:560: UserWarning: Some inputs do not have OOB scores. This probably means too few trees were used to compute any reliable OOB estimates.\n",
      "  warn(\n",
      "/home/veroastro/anaconda3/lib/python3.9/site-packages/sklearn/ensemble/_forest.py:560: UserWarning: Some inputs do not have OOB scores. This probably means too few trees were used to compute any reliable OOB estimates.\n",
      "  warn(\n",
      "/home/veroastro/anaconda3/lib/python3.9/site-packages/sklearn/ensemble/_forest.py:560: UserWarning: Some inputs do not have OOB scores. This probably means too few trees were used to compute any reliable OOB estimates.\n",
      "  warn(\n",
      "/home/veroastro/anaconda3/lib/python3.9/site-packages/sklearn/ensemble/_forest.py:560: UserWarning: Some inputs do not have OOB scores. This probably means too few trees were used to compute any reliable OOB estimates.\n",
      "  warn(\n",
      "/home/veroastro/anaconda3/lib/python3.9/site-packages/sklearn/ensemble/_forest.py:560: UserWarning: Some inputs do not have OOB scores. This probably means too few trees were used to compute any reliable OOB estimates.\n",
      "  warn(\n"
     ]
    }
   ],
   "source": [
    "from sklearn.ensemble import RandomForestClassifier\n",
    "param_grid = {'n_estimators':range(1,400, 40)}\n",
    "\n",
    "\n",
    "RF = RandomForestClassifier(oob_score=True, \n",
    "                            random_state=42, \n",
    "                            warm_start=True,\n",
    "                            n_jobs=-1)\n",
    "rf = GridSearchCV(RF,\n",
    "                  param_grid=param_grid)\n",
    "\n",
    "rf = rf.fit(X_train, y_train)"
   ]
  },
  {
   "cell_type": "code",
   "execution_count": 23,
   "metadata": {},
   "outputs": [
    {
     "data": {
      "text/plain": [
       "({'n_estimators': 361}, 0.8884761904761904)"
      ]
     },
     "execution_count": 23,
     "metadata": {},
     "output_type": "execute_result"
    }
   ],
   "source": [
    "rf.best_params_ ,rf.best_score_"
   ]
  },
  {
   "cell_type": "code",
   "execution_count": 24,
   "metadata": {},
   "outputs": [
    {
     "name": "stdout",
     "output_type": "stream",
     "text": [
      "              precision    recall  f1-score   support\n",
      "\n",
      "           1       0.92      0.91      0.91      1500\n",
      "           2       0.94      0.89      0.91      1500\n",
      "           3       0.86      0.92      0.89      1500\n",
      "\n",
      "    accuracy                           0.90      4500\n",
      "   macro avg       0.91      0.90      0.91      4500\n",
      "weighted avg       0.91      0.90      0.91      4500\n",
      "\n"
     ]
    }
   ],
   "source": [
    "y_pred_rf = rf.predict(X_test)\n",
    "cr = classification_report(y_test, y_pred_rf)\n",
    "print(cr)"
   ]
  },
  {
   "cell_type": "code",
   "execution_count": 25,
   "metadata": {},
   "outputs": [
    {
     "data": {
      "image/png": "[encoded data removed]",
      "text/plain": [
       "<Figure size 432x288 with 2 Axes>"
      ]
     },
     "metadata": {
      "needs_background": "light"
     },
     "output_type": "display_data"
    }
   ],
   "source": [
    "from sklearn.metrics import confusion_matrix\n",
    "sns.set_context('talk')\n",
    "cm = confusion_matrix(y_test, y_pred_rf)\n",
    "ax = sns.heatmap(cm, annot=True, fmt='d')"
   ]
  },
  {
   "cell_type": "markdown",
   "metadata": {},
   "source": [
    "### Decision Tree Classifier"
   ]
  },
  {
   "cell_type": "code",
   "execution_count": 26,
   "metadata": {},
   "outputs": [],
   "source": [
    "from sklearn.tree import DecisionTreeClassifier\n",
    "\n",
    "\n",
    "param_grid = {'max_depth':range(1, 1000, 40),\n",
    "              'max_features': [ 'auto', 'sqrt', 'log2']}\n",
    "\n",
    "GR_dt = GridSearchCV(DecisionTreeClassifier(random_state=42),\n",
    "                  param_grid=param_grid,\n",
    "                  scoring='accuracy',\n",
    "                  n_jobs=-1)\n",
    "\n",
    "GR_dt = GR_dt.fit(X_train, y_train)"
   ]
  },
  {
   "cell_type": "code",
   "execution_count": 27,
   "metadata": {},
   "outputs": [
    {
     "data": {
      "text/plain": [
       "({'max_depth': 41, 'max_features': 'auto'}, 0.8257142857142858)"
      ]
     },
     "execution_count": 27,
     "metadata": {},
     "output_type": "execute_result"
    }
   ],
   "source": [
    "#GR_dt.tree_.node_count, GR_dt.tree_.max_depth\n",
    "GR_dt.best_params_ ,GR_dt.best_score_"
   ]
  },
  {
   "cell_type": "code",
   "execution_count": 28,
   "metadata": {},
   "outputs": [
    {
     "name": "stdout",
     "output_type": "stream",
     "text": [
      "              precision    recall  f1-score   support\n",
      "\n",
      "           1       0.85      0.84      0.84      1500\n",
      "           2       0.87      0.86      0.86      1500\n",
      "           3       0.81      0.82      0.82      1500\n",
      "\n",
      "    accuracy                           0.84      4500\n",
      "   macro avg       0.84      0.84      0.84      4500\n",
      "weighted avg       0.84      0.84      0.84      4500\n",
      "\n"
     ]
    }
   ],
   "source": [
    "\n",
    "y_pred_dt = GR_dt.predict(X_test)\n",
    "cr_dt = classification_report(y_test, y_pred_dt)\n",
    "print(cr_dt)\n"
   ]
  },
  {
   "cell_type": "code",
   "execution_count": 29,
   "metadata": {},
   "outputs": [
    {
     "data": {
      "image/png": "[encoded data removed]",
      "text/plain": [
       "<Figure size 432x288 with 2 Axes>"
      ]
     },
     "metadata": {
      "needs_background": "light"
     },
     "output_type": "display_data"
    }
   ],
   "source": [
    "sns.set_context('talk')\n",
    "cm = confusion_matrix(y_test, y_pred_dt)\n",
    "ax = sns.heatmap(cm, annot=True, fmt='d')"
   ]
  },
  {
   "cell_type": "markdown",
   "metadata": {},
   "source": [
    "### Gradient Boosting Classifier"
   ]
  },
  {
   "cell_type": "code",
   "execution_count": 30,
   "metadata": {},
   "outputs": [
    {
     "name": "stdout",
     "output_type": "stream",
     "text": [
      "              precision    recall  f1-score   support\n",
      "\n",
      "           1       0.86      0.89      0.88      1453\n",
      "           2       0.86      0.91      0.88      1410\n",
      "           3       0.89      0.81      0.85      1637\n",
      "\n",
      "    accuracy                           0.87      4500\n",
      "   macro avg       0.87      0.87      0.87      4500\n",
      "weighted avg       0.87      0.87      0.87      4500\n",
      "\n"
     ]
    }
   ],
   "source": [
    "from sklearn.ensemble import GradientBoostingClassifier\n",
    "\n",
    "tree_list = [15, 25, 50, 100, 200, 400]\n",
    "param_grid = {'n_estimators': tree_list,\n",
    "              'learning_rate': [0.1, 0.01, 0.001, 0.0001],\n",
    "              'subsample': [1.0, 0.5]}\n",
    "\n",
    "# The grid search object\n",
    "GV_GBC = GridSearchCV(GradientBoostingClassifier(random_state=42), \n",
    "                      param_grid=param_grid, \n",
    "                      scoring='accuracy',\n",
    "                      n_jobs=-1)\n",
    "\n",
    "# Do the grid search\n",
    "GV_GBC = GV_GBC.fit(X_train, y_train)\n",
    "\n",
    "y_pred_gbc = GV_GBC.predict(X_test)\n",
    "print(classification_report(y_pred_gbc, y_test))"
   ]
  },
  {
   "cell_type": "code",
   "execution_count": 31,
   "metadata": {},
   "outputs": [
    {
     "data": {
      "image/png": "[encoded data removed]",
      "text/plain": [
       "<Figure size 432x288 with 2 Axes>"
      ]
     },
     "metadata": {
      "needs_background": "light"
     },
     "output_type": "display_data"
    }
   ],
   "source": [
    "\n",
    "sns.set_context('talk')\n",
    "cm = confusion_matrix(y_test, y_pred_gbc)\n",
    "ax = sns.heatmap(cm, annot=True, fmt='d')"
   ]
  },
  {
   "cell_type": "markdown",
   "metadata": {},
   "source": [
    "# Conclusion\n",
    "\n",
    "I obtained 90% accuracy with Random Forest Classifier and over 82% on the other classifiers except Logistic Regression (62%) which was a litle over random in some cases. Colours, as expected from the image (ug vs gr), didn't add any new information to the models. \n",
    "\n",
    "This is less than obtained on the Determining Redshift notebook and not good enough to imporove estimation of redshifts."
   ]
  }
 ],
 "metadata": {
  "kernelspec": {
   "display_name": "Python 3 (ipykernel)",
   "language": "python",
   "name": "python3"
  },
  "language_info": {
   "codemirror_mode": {
    "name": "ipython",
    "version": 3
   },
   "file_extension": ".py",
   "mimetype": "text/x-python",
   "name": "python",
   "nbconvert_exporter": "python",
   "pygments_lexer": "ipython3",
   "version": "3.9.7"
  }
 },
 "nbformat": 4,
 "nbformat_minor": 4
}
