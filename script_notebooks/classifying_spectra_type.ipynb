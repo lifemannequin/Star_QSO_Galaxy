{
 "cells": [
  {
   "cell_type": "markdown",
   "metadata": {},
   "source": [
    "# Introduction\n",
    "\n",
    "This study aims to classify astronomical objects using different machine-learning models and using only their apparent magnitudes which are a measure of how bright they appear in the sky. The brighter the object the lower the number. \n",
    "\n",
    "Different types of astronomical objects have different spectra. We know that light is a spectrum of wavelengths with radio waves at the wide wavelength end and gamma rays at the short end. And the way that different astronomical objects emit light changes from the type of objects they are. The spectra of an object can tell the type of object they are. In the case of stars in the visible part of the spectrum, it can tell us about their temperature, their metalicity (how many heavy elements the star has) and their age. \n",
    "\n",
    "So the spectra of astronomical objects can tell us a lot about the object. The issue with the spectra is that the catalogues of spectra are not as large as the catalogues of apparent magnitudes. They do not sample faint sources well either. This is why this study attempts to classify astronomical objects by their apparent magnitudes in the visible range of the spectrum. \n",
    "\n",
    "The idea behind it is that the apparent magnitudes sample different parts of the spectrum and can give a rough estimate of the shape of the spectra. So by using apparent magnitudes, I am to classify stellar objects. The level of classification can be as detailed as needed but for this study, I chose sources that fall into three cantegoties: star, galaxy and QSO. The QSOs are objects where their galactic centre which is believed to be a supermassive black hole emits so much light that it dwarfs the light emitted by the stars in the galaxies it resides in.\n",
    "\n",
    "I also add colours to the dataset. Colour in astrophysics is defined as the difference between the magnitudes of two passbands. In order to study the effects of adding colour to our analysis.  \n",
    "\n",
    "The data was obtained using the Skyserver from the Sloan Digital Sky Survey (SDSS) using the SQL query. In the SQL query, I specified no missing values of the redshift or the five bands (u,g,r,i,z) and an error on the magnitues of < than 0.1. Also, the dered values were obtained to account for galactic extinction. For each spectral class (star, galaxy and QSO), 5000 random sources were obtained; giving a total of 15000 sources. The file sql_skyserver_sdss.odt has the sql script used in the CasJobs website to retrieve the data.\n"
   ]
  },
  {
   "cell_type": "markdown",
   "metadata": {},
   "source": [
    "# EDA"
   ]
  },
  {
   "cell_type": "code",
   "execution_count": 1,
   "metadata": {},
   "outputs": [],
   "source": [
    "import os\n",
    "import numpy as np\n",
    "import pandas as pd\n",
    "from pandas.plotting import table\n",
    "import seaborn as sns\n",
    "import matplotlib.pyplot as plt\n",
    "from statsmodels.graphics.gofplots import qqplot\n",
    "from scipy import stats\n",
    "sns.set()\n",
    "%matplotlib inline"
   ]
  },
  {
   "cell_type": "code",
   "execution_count": 2,
   "metadata": {
    "scrolled": true
   },
   "outputs": [
    {
     "data": {
      "text/html": [
       "<div>\n",
       "<style scoped>\n",
       "    .dataframe tbody tr th:only-of-type {\n",
       "        vertical-align: middle;\n",
       "    }\n",
       "\n",
       "    .dataframe tbody tr th {\n",
       "        vertical-align: top;\n",
       "    }\n",
       "\n",
       "    .dataframe thead th {\n",
       "        text-align: right;\n",
       "    }\n",
       "</style>\n",
       "<table border=\"1\" class=\"dataframe\">\n",
       "  <thead>\n",
       "    <tr style=\"text-align: right;\">\n",
       "      <th></th>\n",
       "      <th>objID</th>\n",
       "      <th>type</th>\n",
       "      <th>dered_u</th>\n",
       "      <th>err_u</th>\n",
       "      <th>dered_g</th>\n",
       "      <th>err_g</th>\n",
       "      <th>dered_r</th>\n",
       "      <th>err_r</th>\n",
       "      <th>dered_i</th>\n",
       "      <th>err_i</th>\n",
       "      <th>dered_z</th>\n",
       "      <th>err_z</th>\n",
       "      <th>z</th>\n",
       "      <th>zErr</th>\n",
       "      <th>zWarning</th>\n",
       "      <th>class</th>\n",
       "      <th>subClass</th>\n",
       "      <th>photoZ</th>\n",
       "      <th>photoErr</th>\n",
       "    </tr>\n",
       "  </thead>\n",
       "  <tbody>\n",
       "    <tr>\n",
       "      <th>0</th>\n",
       "      <td>1237667107964059994</td>\n",
       "      <td>3</td>\n",
       "      <td>19.14665</td>\n",
       "      <td>0.042552</td>\n",
       "      <td>18.01715</td>\n",
       "      <td>0.008234</td>\n",
       "      <td>17.39453</td>\n",
       "      <td>0.007353</td>\n",
       "      <td>17.00409</td>\n",
       "      <td>0.007467</td>\n",
       "      <td>16.85641</td>\n",
       "      <td>0.022810</td>\n",
       "      <td>0.190743</td>\n",
       "      <td>0.000012</td>\n",
       "      <td>0</td>\n",
       "      <td>GALAXY</td>\n",
       "      <td>STARBURST</td>\n",
       "      <td>0.144220</td>\n",
       "      <td>0.026946</td>\n",
       "    </tr>\n",
       "    <tr>\n",
       "      <th>1</th>\n",
       "      <td>1237659162273644771</td>\n",
       "      <td>3</td>\n",
       "      <td>18.67741</td>\n",
       "      <td>0.053067</td>\n",
       "      <td>17.09810</td>\n",
       "      <td>0.007615</td>\n",
       "      <td>16.40739</td>\n",
       "      <td>0.005788</td>\n",
       "      <td>16.03506</td>\n",
       "      <td>0.005946</td>\n",
       "      <td>15.74409</td>\n",
       "      <td>0.016097</td>\n",
       "      <td>0.081476</td>\n",
       "      <td>0.000017</td>\n",
       "      <td>0</td>\n",
       "      <td>GALAXY</td>\n",
       "      <td>STARFORMING</td>\n",
       "      <td>0.063800</td>\n",
       "      <td>0.021013</td>\n",
       "    </tr>\n",
       "    <tr>\n",
       "      <th>2</th>\n",
       "      <td>1237658492812787850</td>\n",
       "      <td>3</td>\n",
       "      <td>20.20969</td>\n",
       "      <td>0.091168</td>\n",
       "      <td>18.45586</td>\n",
       "      <td>0.009713</td>\n",
       "      <td>17.64484</td>\n",
       "      <td>0.007430</td>\n",
       "      <td>17.19775</td>\n",
       "      <td>0.006701</td>\n",
       "      <td>16.86672</td>\n",
       "      <td>0.016107</td>\n",
       "      <td>0.064705</td>\n",
       "      <td>0.000018</td>\n",
       "      <td>0</td>\n",
       "      <td>GALAXY</td>\n",
       "      <td>STARFORMING</td>\n",
       "      <td>0.088891</td>\n",
       "      <td>0.025775</td>\n",
       "    </tr>\n",
       "    <tr>\n",
       "      <th>3</th>\n",
       "      <td>1237662474236723494</td>\n",
       "      <td>3</td>\n",
       "      <td>19.12979</td>\n",
       "      <td>0.090943</td>\n",
       "      <td>17.60516</td>\n",
       "      <td>0.010892</td>\n",
       "      <td>16.96834</td>\n",
       "      <td>0.008156</td>\n",
       "      <td>16.65428</td>\n",
       "      <td>0.008857</td>\n",
       "      <td>16.42171</td>\n",
       "      <td>0.028540</td>\n",
       "      <td>0.058028</td>\n",
       "      <td>0.000045</td>\n",
       "      <td>0</td>\n",
       "      <td>GALAXY</td>\n",
       "      <td>NaN</td>\n",
       "      <td>0.044818</td>\n",
       "      <td>0.021365</td>\n",
       "    </tr>\n",
       "    <tr>\n",
       "      <th>4</th>\n",
       "      <td>1237668299277402225</td>\n",
       "      <td>3</td>\n",
       "      <td>19.13715</td>\n",
       "      <td>0.056692</td>\n",
       "      <td>17.72644</td>\n",
       "      <td>0.007490</td>\n",
       "      <td>17.23448</td>\n",
       "      <td>0.006801</td>\n",
       "      <td>16.89653</td>\n",
       "      <td>0.007365</td>\n",
       "      <td>16.69554</td>\n",
       "      <td>0.020405</td>\n",
       "      <td>0.086751</td>\n",
       "      <td>0.000010</td>\n",
       "      <td>0</td>\n",
       "      <td>GALAXY</td>\n",
       "      <td>STARFORMING</td>\n",
       "      <td>0.071907</td>\n",
       "      <td>0.017355</td>\n",
       "    </tr>\n",
       "  </tbody>\n",
       "</table>\n",
       "</div>"
      ],
      "text/plain": [
       "                 objID  type   dered_u     err_u   dered_g     err_g  \\\n",
       "0  1237667107964059994     3  19.14665  0.042552  18.01715  0.008234   \n",
       "1  1237659162273644771     3  18.67741  0.053067  17.09810  0.007615   \n",
       "2  1237658492812787850     3  20.20969  0.091168  18.45586  0.009713   \n",
       "3  1237662474236723494     3  19.12979  0.090943  17.60516  0.010892   \n",
       "4  1237668299277402225     3  19.13715  0.056692  17.72644  0.007490   \n",
       "\n",
       "    dered_r     err_r   dered_i     err_i   dered_z     err_z         z  \\\n",
       "0  17.39453  0.007353  17.00409  0.007467  16.85641  0.022810  0.190743   \n",
       "1  16.40739  0.005788  16.03506  0.005946  15.74409  0.016097  0.081476   \n",
       "2  17.64484  0.007430  17.19775  0.006701  16.86672  0.016107  0.064705   \n",
       "3  16.96834  0.008156  16.65428  0.008857  16.42171  0.028540  0.058028   \n",
       "4  17.23448  0.006801  16.89653  0.007365  16.69554  0.020405  0.086751   \n",
       "\n",
       "       zErr  zWarning   class     subClass    photoZ  photoErr  \n",
       "0  0.000012         0  GALAXY    STARBURST  0.144220  0.026946  \n",
       "1  0.000017         0  GALAXY  STARFORMING  0.063800  0.021013  \n",
       "2  0.000018         0  GALAXY  STARFORMING  0.088891  0.025775  \n",
       "3  0.000045         0  GALAXY          NaN  0.044818  0.021365  \n",
       "4  0.000010         0  GALAXY  STARFORMING  0.071907  0.017355  "
      ]
     },
     "execution_count": 2,
     "metadata": {},
     "output_type": "execute_result"
    }
   ],
   "source": [
    "#loading files\n",
    "filepath= \"/home/veroastro/Documents/spectraTypes/MLphotometry/data/\"\n",
    "galaxy = pd.read_csv(filepath+\"galaxy_rand.csv\")\n",
    "star = pd.read_csv(filepath+\"star_rand.csv\")\n",
    "QSO = pd.read_csv(filepath+\"QSO_rand.csv\")\n",
    "galaxy.head()"
   ]
  },
  {
   "cell_type": "code",
   "execution_count": 3,
   "metadata": {},
   "outputs": [
    {
     "data": {
      "text/html": [
       "<div>\n",
       "<style scoped>\n",
       "    .dataframe tbody tr th:only-of-type {\n",
       "        vertical-align: middle;\n",
       "    }\n",
       "\n",
       "    .dataframe tbody tr th {\n",
       "        vertical-align: top;\n",
       "    }\n",
       "\n",
       "    .dataframe thead th {\n",
       "        text-align: right;\n",
       "    }\n",
       "</style>\n",
       "<table border=\"1\" class=\"dataframe\">\n",
       "  <thead>\n",
       "    <tr style=\"text-align: right;\">\n",
       "      <th></th>\n",
       "      <th>objID</th>\n",
       "      <th>type</th>\n",
       "      <th>dered_u</th>\n",
       "      <th>err_u</th>\n",
       "      <th>dered_g</th>\n",
       "      <th>err_g</th>\n",
       "      <th>dered_r</th>\n",
       "      <th>err_r</th>\n",
       "      <th>dered_i</th>\n",
       "      <th>err_i</th>\n",
       "      <th>dered_z</th>\n",
       "      <th>err_z</th>\n",
       "      <th>z</th>\n",
       "      <th>zErr</th>\n",
       "      <th>zWarning</th>\n",
       "      <th>class</th>\n",
       "      <th>subClass</th>\n",
       "      <th>photoZ</th>\n",
       "      <th>photoErr</th>\n",
       "    </tr>\n",
       "  </thead>\n",
       "  <tbody>\n",
       "    <tr>\n",
       "      <th>2674</th>\n",
       "      <td>1237666301630611558</td>\n",
       "      <td>3</td>\n",
       "      <td>20.16157</td>\n",
       "      <td>0.059228</td>\n",
       "      <td>17.64444</td>\n",
       "      <td>0.005906</td>\n",
       "      <td>16.51864</td>\n",
       "      <td>0.004216</td>\n",
       "      <td>16.05289</td>\n",
       "      <td>0.004104</td>\n",
       "      <td>15.80521</td>\n",
       "      <td>0.006255</td>\n",
       "      <td>-0.000112</td>\n",
       "      <td>0.000010</td>\n",
       "      <td>0</td>\n",
       "      <td>STAR</td>\n",
       "      <td>K7</td>\n",
       "      <td>0.138426</td>\n",
       "      <td>0.022987</td>\n",
       "    </tr>\n",
       "    <tr>\n",
       "      <th>2161</th>\n",
       "      <td>1237659162280395204</td>\n",
       "      <td>3</td>\n",
       "      <td>18.72804</td>\n",
       "      <td>0.038648</td>\n",
       "      <td>17.51893</td>\n",
       "      <td>0.012138</td>\n",
       "      <td>16.84604</td>\n",
       "      <td>0.005872</td>\n",
       "      <td>16.49698</td>\n",
       "      <td>0.008465</td>\n",
       "      <td>16.23252</td>\n",
       "      <td>0.017660</td>\n",
       "      <td>0.088664</td>\n",
       "      <td>0.000012</td>\n",
       "      <td>0</td>\n",
       "      <td>GALAXY</td>\n",
       "      <td>NaN</td>\n",
       "      <td>0.123860</td>\n",
       "      <td>0.017262</td>\n",
       "    </tr>\n",
       "    <tr>\n",
       "      <th>2619</th>\n",
       "      <td>1237663479257366975</td>\n",
       "      <td>3</td>\n",
       "      <td>19.33861</td>\n",
       "      <td>0.033527</td>\n",
       "      <td>19.15695</td>\n",
       "      <td>0.011877</td>\n",
       "      <td>18.99216</td>\n",
       "      <td>0.012856</td>\n",
       "      <td>18.87761</td>\n",
       "      <td>0.014856</td>\n",
       "      <td>18.36061</td>\n",
       "      <td>0.035890</td>\n",
       "      <td>0.373447</td>\n",
       "      <td>0.000043</td>\n",
       "      <td>0</td>\n",
       "      <td>QSO</td>\n",
       "      <td>BROADLINE</td>\n",
       "      <td>0.437633</td>\n",
       "      <td>0.102080</td>\n",
       "    </tr>\n",
       "    <tr>\n",
       "      <th>3750</th>\n",
       "      <td>1237667430638747838</td>\n",
       "      <td>3</td>\n",
       "      <td>19.00525</td>\n",
       "      <td>0.048556</td>\n",
       "      <td>17.82162</td>\n",
       "      <td>0.008284</td>\n",
       "      <td>17.40534</td>\n",
       "      <td>0.008857</td>\n",
       "      <td>17.14458</td>\n",
       "      <td>0.011992</td>\n",
       "      <td>17.07733</td>\n",
       "      <td>0.043676</td>\n",
       "      <td>0.080047</td>\n",
       "      <td>0.000011</td>\n",
       "      <td>0</td>\n",
       "      <td>GALAXY</td>\n",
       "      <td>STARFORMING</td>\n",
       "      <td>0.056846</td>\n",
       "      <td>0.017276</td>\n",
       "    </tr>\n",
       "    <tr>\n",
       "      <th>1432</th>\n",
       "      <td>1237657118943281436</td>\n",
       "      <td>3</td>\n",
       "      <td>19.48119</td>\n",
       "      <td>0.035221</td>\n",
       "      <td>17.33215</td>\n",
       "      <td>0.005047</td>\n",
       "      <td>16.47258</td>\n",
       "      <td>0.004119</td>\n",
       "      <td>16.17380</td>\n",
       "      <td>0.004189</td>\n",
       "      <td>16.03594</td>\n",
       "      <td>0.006781</td>\n",
       "      <td>0.000037</td>\n",
       "      <td>0.000008</td>\n",
       "      <td>0</td>\n",
       "      <td>STAR</td>\n",
       "      <td>K3</td>\n",
       "      <td>0.059379</td>\n",
       "      <td>0.043398</td>\n",
       "    </tr>\n",
       "  </tbody>\n",
       "</table>\n",
       "</div>"
      ],
      "text/plain": [
       "                    objID  type   dered_u     err_u   dered_g     err_g  \\\n",
       "2674  1237666301630611558     3  20.16157  0.059228  17.64444  0.005906   \n",
       "2161  1237659162280395204     3  18.72804  0.038648  17.51893  0.012138   \n",
       "2619  1237663479257366975     3  19.33861  0.033527  19.15695  0.011877   \n",
       "3750  1237667430638747838     3  19.00525  0.048556  17.82162  0.008284   \n",
       "1432  1237657118943281436     3  19.48119  0.035221  17.33215  0.005047   \n",
       "\n",
       "       dered_r     err_r   dered_i     err_i   dered_z     err_z         z  \\\n",
       "2674  16.51864  0.004216  16.05289  0.004104  15.80521  0.006255 -0.000112   \n",
       "2161  16.84604  0.005872  16.49698  0.008465  16.23252  0.017660  0.088664   \n",
       "2619  18.99216  0.012856  18.87761  0.014856  18.36061  0.035890  0.373447   \n",
       "3750  17.40534  0.008857  17.14458  0.011992  17.07733  0.043676  0.080047   \n",
       "1432  16.47258  0.004119  16.17380  0.004189  16.03594  0.006781  0.000037   \n",
       "\n",
       "          zErr  zWarning   class     subClass    photoZ  photoErr  \n",
       "2674  0.000010         0    STAR           K7  0.138426  0.022987  \n",
       "2161  0.000012         0  GALAXY          NaN  0.123860  0.017262  \n",
       "2619  0.000043         0     QSO    BROADLINE  0.437633  0.102080  \n",
       "3750  0.000011         0  GALAXY  STARFORMING  0.056846  0.017276  \n",
       "1432  0.000008         0    STAR           K3  0.059379  0.043398  "
      ]
     },
     "execution_count": 3,
     "metadata": {},
     "output_type": "execute_result"
    }
   ],
   "source": [
    "# Concatenating the three dataframes\n",
    "data = pd.concat([star, QSO, galaxy])\n",
    "#scrambling the data so that they are not ordered by class\n",
    "data = data.sample(frac=1)\n",
    "data.head()"
   ]
  },
  {
   "cell_type": "code",
   "execution_count": 4,
   "metadata": {},
   "outputs": [
    {
     "data": {
      "text/plain": [
       "(15000, 19)"
      ]
     },
     "execution_count": 4,
     "metadata": {},
     "output_type": "execute_result"
    }
   ],
   "source": [
    "data.shape"
   ]
  },
  {
   "cell_type": "code",
   "execution_count": 5,
   "metadata": {},
   "outputs": [
    {
     "data": {
      "text/plain": [
       "(15000, 17)"
      ]
     },
     "execution_count": 5,
     "metadata": {},
     "output_type": "execute_result"
    }
   ],
   "source": [
    "cols= ['zWarning','objID']\n",
    "data_cl = data.drop(columns=cols)\n",
    "data_cl.shape"
   ]
  },
  {
   "cell_type": "code",
   "execution_count": 6,
   "metadata": {},
   "outputs": [
    {
     "data": {
      "text/html": [
       "<div>\n",
       "<style scoped>\n",
       "    .dataframe tbody tr th:only-of-type {\n",
       "        vertical-align: middle;\n",
       "    }\n",
       "\n",
       "    .dataframe tbody tr th {\n",
       "        vertical-align: top;\n",
       "    }\n",
       "\n",
       "    .dataframe thead th {\n",
       "        text-align: right;\n",
       "    }\n",
       "</style>\n",
       "<table border=\"1\" class=\"dataframe\">\n",
       "  <thead>\n",
       "    <tr style=\"text-align: right;\">\n",
       "      <th></th>\n",
       "      <th>type</th>\n",
       "      <th>dered_u</th>\n",
       "      <th>err_u</th>\n",
       "      <th>dered_g</th>\n",
       "      <th>err_g</th>\n",
       "      <th>dered_r</th>\n",
       "      <th>err_r</th>\n",
       "      <th>dered_i</th>\n",
       "      <th>err_i</th>\n",
       "      <th>dered_z</th>\n",
       "      <th>err_z</th>\n",
       "      <th>z</th>\n",
       "      <th>zErr</th>\n",
       "      <th>class</th>\n",
       "      <th>subClass</th>\n",
       "      <th>photoZ</th>\n",
       "      <th>photoErr</th>\n",
       "    </tr>\n",
       "  </thead>\n",
       "  <tbody>\n",
       "    <tr>\n",
       "      <th>2674</th>\n",
       "      <td>3</td>\n",
       "      <td>20.16157</td>\n",
       "      <td>0.059228</td>\n",
       "      <td>17.64444</td>\n",
       "      <td>0.005906</td>\n",
       "      <td>16.51864</td>\n",
       "      <td>0.004216</td>\n",
       "      <td>16.05289</td>\n",
       "      <td>0.004104</td>\n",
       "      <td>15.80521</td>\n",
       "      <td>0.006255</td>\n",
       "      <td>-0.000112</td>\n",
       "      <td>0.000010</td>\n",
       "      <td>STAR</td>\n",
       "      <td>K7</td>\n",
       "      <td>0.138426</td>\n",
       "      <td>0.022987</td>\n",
       "    </tr>\n",
       "    <tr>\n",
       "      <th>2161</th>\n",
       "      <td>3</td>\n",
       "      <td>18.72804</td>\n",
       "      <td>0.038648</td>\n",
       "      <td>17.51893</td>\n",
       "      <td>0.012138</td>\n",
       "      <td>16.84604</td>\n",
       "      <td>0.005872</td>\n",
       "      <td>16.49698</td>\n",
       "      <td>0.008465</td>\n",
       "      <td>16.23252</td>\n",
       "      <td>0.017660</td>\n",
       "      <td>0.088664</td>\n",
       "      <td>0.000012</td>\n",
       "      <td>GALAXY</td>\n",
       "      <td>NaN</td>\n",
       "      <td>0.123860</td>\n",
       "      <td>0.017262</td>\n",
       "    </tr>\n",
       "    <tr>\n",
       "      <th>2619</th>\n",
       "      <td>3</td>\n",
       "      <td>19.33861</td>\n",
       "      <td>0.033527</td>\n",
       "      <td>19.15695</td>\n",
       "      <td>0.011877</td>\n",
       "      <td>18.99216</td>\n",
       "      <td>0.012856</td>\n",
       "      <td>18.87761</td>\n",
       "      <td>0.014856</td>\n",
       "      <td>18.36061</td>\n",
       "      <td>0.035890</td>\n",
       "      <td>0.373447</td>\n",
       "      <td>0.000043</td>\n",
       "      <td>QSO</td>\n",
       "      <td>BROADLINE</td>\n",
       "      <td>0.437633</td>\n",
       "      <td>0.102080</td>\n",
       "    </tr>\n",
       "    <tr>\n",
       "      <th>3750</th>\n",
       "      <td>3</td>\n",
       "      <td>19.00525</td>\n",
       "      <td>0.048556</td>\n",
       "      <td>17.82162</td>\n",
       "      <td>0.008284</td>\n",
       "      <td>17.40534</td>\n",
       "      <td>0.008857</td>\n",
       "      <td>17.14458</td>\n",
       "      <td>0.011992</td>\n",
       "      <td>17.07733</td>\n",
       "      <td>0.043676</td>\n",
       "      <td>0.080047</td>\n",
       "      <td>0.000011</td>\n",
       "      <td>GALAXY</td>\n",
       "      <td>STARFORMING</td>\n",
       "      <td>0.056846</td>\n",
       "      <td>0.017276</td>\n",
       "    </tr>\n",
       "    <tr>\n",
       "      <th>1432</th>\n",
       "      <td>3</td>\n",
       "      <td>19.48119</td>\n",
       "      <td>0.035221</td>\n",
       "      <td>17.33215</td>\n",
       "      <td>0.005047</td>\n",
       "      <td>16.47258</td>\n",
       "      <td>0.004119</td>\n",
       "      <td>16.17380</td>\n",
       "      <td>0.004189</td>\n",
       "      <td>16.03594</td>\n",
       "      <td>0.006781</td>\n",
       "      <td>0.000037</td>\n",
       "      <td>0.000008</td>\n",
       "      <td>STAR</td>\n",
       "      <td>K3</td>\n",
       "      <td>0.059379</td>\n",
       "      <td>0.043398</td>\n",
       "    </tr>\n",
       "  </tbody>\n",
       "</table>\n",
       "</div>"
      ],
      "text/plain": [
       "      type   dered_u     err_u   dered_g     err_g   dered_r     err_r  \\\n",
       "2674     3  20.16157  0.059228  17.64444  0.005906  16.51864  0.004216   \n",
       "2161     3  18.72804  0.038648  17.51893  0.012138  16.84604  0.005872   \n",
       "2619     3  19.33861  0.033527  19.15695  0.011877  18.99216  0.012856   \n",
       "3750     3  19.00525  0.048556  17.82162  0.008284  17.40534  0.008857   \n",
       "1432     3  19.48119  0.035221  17.33215  0.005047  16.47258  0.004119   \n",
       "\n",
       "       dered_i     err_i   dered_z     err_z         z      zErr   class  \\\n",
       "2674  16.05289  0.004104  15.80521  0.006255 -0.000112  0.000010    STAR   \n",
       "2161  16.49698  0.008465  16.23252  0.017660  0.088664  0.000012  GALAXY   \n",
       "2619  18.87761  0.014856  18.36061  0.035890  0.373447  0.000043     QSO   \n",
       "3750  17.14458  0.011992  17.07733  0.043676  0.080047  0.000011  GALAXY   \n",
       "1432  16.17380  0.004189  16.03594  0.006781  0.000037  0.000008    STAR   \n",
       "\n",
       "         subClass    photoZ  photoErr  \n",
       "2674           K7  0.138426  0.022987  \n",
       "2161          NaN  0.123860  0.017262  \n",
       "2619    BROADLINE  0.437633  0.102080  \n",
       "3750  STARFORMING  0.056846  0.017276  \n",
       "1432           K3  0.059379  0.043398  "
      ]
     },
     "execution_count": 6,
     "metadata": {},
     "output_type": "execute_result"
    }
   ],
   "source": [
    "data_cl.head()"
   ]
  },
  {
   "cell_type": "code",
   "execution_count": 7,
   "metadata": {},
   "outputs": [],
   "source": [
    "# Encoding the classes to integers\n",
    "def type_to_value(n):\n",
    "    if n == 'STAR':\n",
    "        return 1\n",
    "    elif n == 'QSO':\n",
    "        return 2\n",
    "    elif n == 'GALAXY':\n",
    "        return 3\n",
    "    \n",
    "data_cl['nClass'] = [type_to_value(n) for n in data_cl['class']]"
   ]
  },
  {
   "cell_type": "code",
   "execution_count": 8,
   "metadata": {
    "scrolled": true
   },
   "outputs": [
    {
     "data": {
      "text/html": [
       "<div>\n",
       "<style scoped>\n",
       "    .dataframe tbody tr th:only-of-type {\n",
       "        vertical-align: middle;\n",
       "    }\n",
       "\n",
       "    .dataframe tbody tr th {\n",
       "        vertical-align: top;\n",
       "    }\n",
       "\n",
       "    .dataframe thead th {\n",
       "        text-align: right;\n",
       "    }\n",
       "</style>\n",
       "<table border=\"1\" class=\"dataframe\">\n",
       "  <thead>\n",
       "    <tr style=\"text-align: right;\">\n",
       "      <th></th>\n",
       "      <th>dered_u</th>\n",
       "      <th>dered_g</th>\n",
       "      <th>dered_r</th>\n",
       "      <th>dered_i</th>\n",
       "      <th>dered_z</th>\n",
       "      <th>nClass</th>\n",
       "    </tr>\n",
       "  </thead>\n",
       "  <tbody>\n",
       "    <tr>\n",
       "      <th>2674</th>\n",
       "      <td>20.16157</td>\n",
       "      <td>17.64444</td>\n",
       "      <td>16.51864</td>\n",
       "      <td>16.05289</td>\n",
       "      <td>15.80521</td>\n",
       "      <td>1</td>\n",
       "    </tr>\n",
       "    <tr>\n",
       "      <th>2161</th>\n",
       "      <td>18.72804</td>\n",
       "      <td>17.51893</td>\n",
       "      <td>16.84604</td>\n",
       "      <td>16.49698</td>\n",
       "      <td>16.23252</td>\n",
       "      <td>3</td>\n",
       "    </tr>\n",
       "    <tr>\n",
       "      <th>2619</th>\n",
       "      <td>19.33861</td>\n",
       "      <td>19.15695</td>\n",
       "      <td>18.99216</td>\n",
       "      <td>18.87761</td>\n",
       "      <td>18.36061</td>\n",
       "      <td>2</td>\n",
       "    </tr>\n",
       "    <tr>\n",
       "      <th>3750</th>\n",
       "      <td>19.00525</td>\n",
       "      <td>17.82162</td>\n",
       "      <td>17.40534</td>\n",
       "      <td>17.14458</td>\n",
       "      <td>17.07733</td>\n",
       "      <td>3</td>\n",
       "    </tr>\n",
       "    <tr>\n",
       "      <th>1432</th>\n",
       "      <td>19.48119</td>\n",
       "      <td>17.33215</td>\n",
       "      <td>16.47258</td>\n",
       "      <td>16.17380</td>\n",
       "      <td>16.03594</td>\n",
       "      <td>1</td>\n",
       "    </tr>\n",
       "  </tbody>\n",
       "</table>\n",
       "</div>"
      ],
      "text/plain": [
       "       dered_u   dered_g   dered_r   dered_i   dered_z  nClass\n",
       "2674  20.16157  17.64444  16.51864  16.05289  15.80521       1\n",
       "2161  18.72804  17.51893  16.84604  16.49698  16.23252       3\n",
       "2619  19.33861  19.15695  18.99216  18.87761  18.36061       2\n",
       "3750  19.00525  17.82162  17.40534  17.14458  17.07733       3\n",
       "1432  19.48119  17.33215  16.47258  16.17380  16.03594       1"
      ]
     },
     "execution_count": 8,
     "metadata": {},
     "output_type": "execute_result"
    }
   ],
   "source": [
    "# Removing columns: errors, redshift and class data\n",
    "data1 = data_cl.drop(['type','err_u', 'err_g', 'err_r', 'err_i', 'err_z','z', 'zErr', 'class', 'subClass','photoZ','photoErr'], axis = 1)\n",
    "data1.head()"
   ]
  },
  {
   "cell_type": "code",
   "execution_count": 9,
   "metadata": {},
   "outputs": [
    {
     "data": {
      "text/html": [
       "<div>\n",
       "<style scoped>\n",
       "    .dataframe tbody tr th:only-of-type {\n",
       "        vertical-align: middle;\n",
       "    }\n",
       "\n",
       "    .dataframe tbody tr th {\n",
       "        vertical-align: top;\n",
       "    }\n",
       "\n",
       "    .dataframe thead th {\n",
       "        text-align: right;\n",
       "    }\n",
       "</style>\n",
       "<table border=\"1\" class=\"dataframe\">\n",
       "  <thead>\n",
       "    <tr style=\"text-align: right;\">\n",
       "      <th></th>\n",
       "      <th>dered_u</th>\n",
       "      <th>dered_g</th>\n",
       "      <th>dered_r</th>\n",
       "      <th>dered_i</th>\n",
       "      <th>dered_z</th>\n",
       "      <th>nClass</th>\n",
       "    </tr>\n",
       "  </thead>\n",
       "  <tbody>\n",
       "    <tr>\n",
       "      <th>count</th>\n",
       "      <td>15000.000000</td>\n",
       "      <td>15000.000000</td>\n",
       "      <td>15000.000000</td>\n",
       "      <td>15000.000000</td>\n",
       "      <td>15000.000000</td>\n",
       "      <td>15000.000000</td>\n",
       "    </tr>\n",
       "    <tr>\n",
       "      <th>mean</th>\n",
       "      <td>19.132223</td>\n",
       "      <td>17.882387</td>\n",
       "      <td>17.202859</td>\n",
       "      <td>16.839213</td>\n",
       "      <td>16.602145</td>\n",
       "      <td>2.000000</td>\n",
       "    </tr>\n",
       "    <tr>\n",
       "      <th>std</th>\n",
       "      <td>1.125658</td>\n",
       "      <td>1.220124</td>\n",
       "      <td>1.281371</td>\n",
       "      <td>1.306438</td>\n",
       "      <td>1.303870</td>\n",
       "      <td>0.816524</td>\n",
       "    </tr>\n",
       "    <tr>\n",
       "      <th>min</th>\n",
       "      <td>10.332040</td>\n",
       "      <td>9.905839</td>\n",
       "      <td>9.427466</td>\n",
       "      <td>9.207663</td>\n",
       "      <td>10.161530</td>\n",
       "      <td>1.000000</td>\n",
       "    </tr>\n",
       "    <tr>\n",
       "      <th>25%</th>\n",
       "      <td>18.579792</td>\n",
       "      <td>17.236185</td>\n",
       "      <td>16.457560</td>\n",
       "      <td>16.026708</td>\n",
       "      <td>15.763758</td>\n",
       "      <td>1.000000</td>\n",
       "    </tr>\n",
       "    <tr>\n",
       "      <th>50%</th>\n",
       "      <td>19.293760</td>\n",
       "      <td>17.976970</td>\n",
       "      <td>17.219915</td>\n",
       "      <td>16.841205</td>\n",
       "      <td>16.600990</td>\n",
       "      <td>2.000000</td>\n",
       "    </tr>\n",
       "    <tr>\n",
       "      <th>75%</th>\n",
       "      <td>19.888120</td>\n",
       "      <td>18.594875</td>\n",
       "      <td>17.952092</td>\n",
       "      <td>17.639647</td>\n",
       "      <td>17.438868</td>\n",
       "      <td>3.000000</td>\n",
       "    </tr>\n",
       "    <tr>\n",
       "      <th>max</th>\n",
       "      <td>28.846420</td>\n",
       "      <td>21.627410</td>\n",
       "      <td>20.763160</td>\n",
       "      <td>20.580770</td>\n",
       "      <td>30.781270</td>\n",
       "      <td>3.000000</td>\n",
       "    </tr>\n",
       "  </tbody>\n",
       "</table>\n",
       "</div>"
      ],
      "text/plain": [
       "            dered_u       dered_g       dered_r       dered_i       dered_z  \\\n",
       "count  15000.000000  15000.000000  15000.000000  15000.000000  15000.000000   \n",
       "mean      19.132223     17.882387     17.202859     16.839213     16.602145   \n",
       "std        1.125658      1.220124      1.281371      1.306438      1.303870   \n",
       "min       10.332040      9.905839      9.427466      9.207663     10.161530   \n",
       "25%       18.579792     17.236185     16.457560     16.026708     15.763758   \n",
       "50%       19.293760     17.976970     17.219915     16.841205     16.600990   \n",
       "75%       19.888120     18.594875     17.952092     17.639647     17.438868   \n",
       "max       28.846420     21.627410     20.763160     20.580770     30.781270   \n",
       "\n",
       "             nClass  \n",
       "count  15000.000000  \n",
       "mean       2.000000  \n",
       "std        0.816524  \n",
       "min        1.000000  \n",
       "25%        1.000000  \n",
       "50%        2.000000  \n",
       "75%        3.000000  \n",
       "max        3.000000  "
      ]
     },
     "execution_count": 9,
     "metadata": {},
     "output_type": "execute_result"
    }
   ],
   "source": [
    "# Description of the cleaned dataset\n",
    "data1.describe()"
   ]
  },
  {
   "cell_type": "markdown",
   "metadata": {},
   "source": [
    "The dereddened magnitudes (or mean brightness) seem to increase from the u band to the z band, with the highest mean brightness in the z band. And the spread of the data (as indicated by the standard deviation) also varies between bands, with the largest spread in the u band and the smallest spread in the z band."
   ]
  },
  {
   "cell_type": "code",
   "execution_count": 10,
   "metadata": {
    "scrolled": true
   },
   "outputs": [
    {
     "data": {
      "image/png": "[encoded data removed]",
      "text/plain": [
       "<Figure size 1440x720 with 5 Axes>"
      ]
     },
     "metadata": {
      "needs_background": "light"
     },
     "output_type": "display_data"
    }
   ],
   "source": [
    "import warnings\n",
    "\n",
    "# filter out the specific warning message\n",
    "warnings.filterwarnings(\"ignore\", message=\"marker is redundantly defined by the 'marker' keyword argument and the fmt string\")\n",
    "\n",
    "# your code that produces the warning\n",
    "\n",
    "# Create function to plot the qqplots of all columns in the dataset in a subplot\n",
    "def qq_plots( data: pd.DataFrame,\n",
    "               rows: int,\n",
    "              cols: int,\n",
    "              figsize: tuple):\n",
    "    fig, axes = plt.subplots(rows,cols, figsize=figsize)\n",
    "    for i, ax in enumerate(axes.flatten()):\n",
    "        if i < len(data.columns):\n",
    "            qqplot(data[(data.columns)[i]], line='s', ax=ax)\n",
    "            ax.set_title(f'{(data.columns)[i]} distribution', fontsize=10)\n",
    "            ax.tick_params(axis='x', labelsize=10)\n",
    "            ax.tick_params(axis='y', labelsize=10)\n",
    "            ax.get_yaxis().get_label().set_visible(False)\n",
    "        else:\n",
    "            fig.delaxes(ax=ax)\n",
    "    fig.tight_layout()\n",
    "    \n",
    "# plotting qqplots for each band in the dataset. \n",
    "\n",
    "cols= data1.columns[:-1]\n",
    "no = data1[cols]\n",
    "\n",
    "qq_plots(data=no,\n",
    "          rows=2,\n",
    "          cols=3,\n",
    "          figsize=(20,10))\n"
   ]
  },
  {
   "cell_type": "markdown",
   "metadata": {},
   "source": [
    "The data diverges from the line at the extremes which marks the presence of outliers.The divergence is worst on the u band and somewhat better on the z band. Since error on the bands' magnitudes is small (< 0.1), we can assume that the presence of outliers is not due to error in measurements but an intrinsic property of the sources. "
   ]
  },
  {
   "cell_type": "code",
   "execution_count": 11,
   "metadata": {},
   "outputs": [],
   "source": [
    "# Create function to plot the histograms of all columns in the dataset in a subplot\n",
    "def hist_plots( data: pd.DataFrame,\n",
    "               rows: int,\n",
    "              cols: int,\n",
    "              figsize: tuple):\n",
    "    fig, axes = plt.subplots(rows,cols, figsize=figsize)\n",
    "    for i, ax in enumerate(axes.flatten()):\n",
    "        if i < len(data.columns):\n",
    "            data[(data.columns)[i]].plot.hist(bins=30, ax=ax)\n",
    "            ax.set_title(f'{(data.columns)[i]} distribution', fontsize=10)\n",
    "            ax.tick_params(axis='x', labelsize=10)\n",
    "            ax.tick_params(axis='y', labelsize=10)\n",
    "            ax.get_yaxis().get_label().set_visible(False)\n",
    "        else:\n",
    "            fig.delaxes(ax=ax)\n",
    "    fig.tight_layout()"
   ]
  },
  {
   "cell_type": "code",
   "execution_count": 12,
   "metadata": {},
   "outputs": [
    {
     "data": {
      "image/png": "[encoded data removed]",
      "text/plain": [
       "<Figure size 1440x720 with 6 Axes>"
      ]
     },
     "metadata": {
      "needs_background": "light"
     },
     "output_type": "display_data"
    }
   ],
   "source": [
    "# plotting histograms of the data.\n",
    "\n",
    "hist_plots(data=data1,\n",
    "          rows=2,\n",
    "          cols=3,\n",
    "          figsize=(20,10))"
   ]
  },
  {
   "cell_type": "code",
   "execution_count": 13,
   "metadata": {},
   "outputs": [
    {
     "data": {
      "image/png": "[encoded data removed]",
      "text/plain": [
       "<Figure size 1440x720 with 6 Axes>"
      ]
     },
     "metadata": {
      "needs_background": "light"
     },
     "output_type": "display_data"
    }
   ],
   "source": [
    "# Create histograms of the colours for each object type in the same plot\n",
    "# Create boolean series for each of the classes of objects\n",
    "star = data1['nClass']  == 1\n",
    "QSO = data1['nClass']  == 2\n",
    "galaxy = data1['nClass']  == 3\n",
    "cols = ['dered_u','dered_g','dered_r','dered_i','dered_z']\n",
    "bins= 100\n",
    "# Create subplots and plot histograms\n",
    "fig,axs = plt.subplots(2,3, figsize=(20,10), edgecolor='black')\n",
    "axs = axs.ravel()\n",
    "\n",
    "for i, n in enumerate(cols):\n",
    "    ax = axs[i]\n",
    "    X = data1[n]\n",
    "    if i < len(cols):\n",
    "        #create the histograms for the object type per band\n",
    "        ax.hist(X[star], bins,histtype='step', linewidth=2,label='star')\n",
    "        ax.hist(X[QSO], bins,histtype='step', linewidth=2, label='QSO')\n",
    "        ax.hist(X[galaxy], bins,histtype='step', linewidth=2, label='galaxy')\n",
    "        # Making it pretty with frame and grid\n",
    "        ax.spines['top'].set_color('black')\n",
    "        ax.spines['right'].set_color('black')\n",
    "        ax.spines['bottom'].set_color('black')\n",
    "        ax.spines['left'].set_color('black')\n",
    "        ax.spines['top'].set_linewidth(1)\n",
    "        ax.spines['right'].set_linewidth(1)\n",
    "        ax.spines['bottom'].set_linewidth(1)\n",
    "        ax.spines['left'].set_linewidth(1)\n",
    "        ax.grid(color='b', linestyle='-', linewidth=0.5)\n",
    "        ax.set_facecolor('xkcd:white')\n",
    "        #set legend, lables and title\n",
    "        ax.legend(loc='upper left',fontsize=12)\n",
    "        ax.set_xlabel(n)\n",
    "        ax.set_title(f'({n}) histogram', fontsize=16)\n",
    "    else:\n",
    "        fig.delaxes(ax=ax)\n",
    "            \n",
    "fig.suptitle('Distribution of Magnitudes per band per Object Type', fontsize=20, fontweight=\"bold\")\n",
    "fig.tight_layout()\n",
    "plt.show()"
   ]
  },
  {
   "cell_type": "markdown",
   "metadata": {},
   "source": [
    "The bump on the right of the bands'magnitudes distribution can be explained by the prescence of the QSO distribution that is fainter (higher value of magnitude) than the rest of the distribution in the g, r, i and z bands. While the long left tail can be explained mostly by the star distribution which has a brighter distribution (lower valuue of magnitudes). Since the selection was random, the distribution of magnitudes per class should reflect the actual distribution of objects in the original catalogue. To deal withthe non-normal distribution of the dataset, I will use non-parametric learning algorithms like Decision Trees, Random Forest, Gradient Boosting and Support Vector Machine. "
   ]
  },
  {
   "cell_type": "markdown",
   "metadata": {},
   "source": [
    "### Colours\n",
    "\n",
    "As stated in the introduction, colour is defined as the difference between the magnitudes of two passbands (u, g, r, i, z). The most comon colours are between adjacent bands; therefore (u-g),(g-r),(r-i),(i-z). What do the colours tell us? Mainly, they tell us roughly about the shape of the spectrum of the electromagnetic radiation of the source. In the case of stars, it indicates temperature. In the case of galaxies, it can indicate age and shape of the galaxy. The redder the galaxy, the older the population and or more dust. The bluer the galaxy, the younger the population and or less dust. It is also an indication of starformation within the galaxy. "
   ]
  },
  {
   "cell_type": "code",
   "execution_count": 14,
   "metadata": {},
   "outputs": [
    {
     "data": {
      "text/html": [
       "<div>\n",
       "<style scoped>\n",
       "    .dataframe tbody tr th:only-of-type {\n",
       "        vertical-align: middle;\n",
       "    }\n",
       "\n",
       "    .dataframe tbody tr th {\n",
       "        vertical-align: top;\n",
       "    }\n",
       "\n",
       "    .dataframe thead th {\n",
       "        text-align: right;\n",
       "    }\n",
       "</style>\n",
       "<table border=\"1\" class=\"dataframe\">\n",
       "  <thead>\n",
       "    <tr style=\"text-align: right;\">\n",
       "      <th></th>\n",
       "      <th>dered_u</th>\n",
       "      <th>dered_g</th>\n",
       "      <th>dered_r</th>\n",
       "      <th>dered_i</th>\n",
       "      <th>dered_z</th>\n",
       "      <th>nClass</th>\n",
       "      <th>u-g</th>\n",
       "      <th>g-r</th>\n",
       "      <th>r-i</th>\n",
       "      <th>i-z</th>\n",
       "    </tr>\n",
       "  </thead>\n",
       "  <tbody>\n",
       "    <tr>\n",
       "      <th>2674</th>\n",
       "      <td>20.16157</td>\n",
       "      <td>17.64444</td>\n",
       "      <td>16.51864</td>\n",
       "      <td>16.05289</td>\n",
       "      <td>15.80521</td>\n",
       "      <td>1</td>\n",
       "      <td>2.51713</td>\n",
       "      <td>1.12580</td>\n",
       "      <td>0.46575</td>\n",
       "      <td>0.24768</td>\n",
       "    </tr>\n",
       "    <tr>\n",
       "      <th>2161</th>\n",
       "      <td>18.72804</td>\n",
       "      <td>17.51893</td>\n",
       "      <td>16.84604</td>\n",
       "      <td>16.49698</td>\n",
       "      <td>16.23252</td>\n",
       "      <td>3</td>\n",
       "      <td>1.20911</td>\n",
       "      <td>0.67289</td>\n",
       "      <td>0.34906</td>\n",
       "      <td>0.26446</td>\n",
       "    </tr>\n",
       "    <tr>\n",
       "      <th>2619</th>\n",
       "      <td>19.33861</td>\n",
       "      <td>19.15695</td>\n",
       "      <td>18.99216</td>\n",
       "      <td>18.87761</td>\n",
       "      <td>18.36061</td>\n",
       "      <td>2</td>\n",
       "      <td>0.18166</td>\n",
       "      <td>0.16479</td>\n",
       "      <td>0.11455</td>\n",
       "      <td>0.51700</td>\n",
       "    </tr>\n",
       "    <tr>\n",
       "      <th>3750</th>\n",
       "      <td>19.00525</td>\n",
       "      <td>17.82162</td>\n",
       "      <td>17.40534</td>\n",
       "      <td>17.14458</td>\n",
       "      <td>17.07733</td>\n",
       "      <td>3</td>\n",
       "      <td>1.18363</td>\n",
       "      <td>0.41628</td>\n",
       "      <td>0.26076</td>\n",
       "      <td>0.06725</td>\n",
       "    </tr>\n",
       "    <tr>\n",
       "      <th>1432</th>\n",
       "      <td>19.48119</td>\n",
       "      <td>17.33215</td>\n",
       "      <td>16.47258</td>\n",
       "      <td>16.17380</td>\n",
       "      <td>16.03594</td>\n",
       "      <td>1</td>\n",
       "      <td>2.14904</td>\n",
       "      <td>0.85957</td>\n",
       "      <td>0.29878</td>\n",
       "      <td>0.13786</td>\n",
       "    </tr>\n",
       "  </tbody>\n",
       "</table>\n",
       "</div>"
      ],
      "text/plain": [
       "       dered_u   dered_g   dered_r   dered_i   dered_z  nClass      u-g  \\\n",
       "2674  20.16157  17.64444  16.51864  16.05289  15.80521       1  2.51713   \n",
       "2161  18.72804  17.51893  16.84604  16.49698  16.23252       3  1.20911   \n",
       "2619  19.33861  19.15695  18.99216  18.87761  18.36061       2  0.18166   \n",
       "3750  19.00525  17.82162  17.40534  17.14458  17.07733       3  1.18363   \n",
       "1432  19.48119  17.33215  16.47258  16.17380  16.03594       1  2.14904   \n",
       "\n",
       "          g-r      r-i      i-z  \n",
       "2674  1.12580  0.46575  0.24768  \n",
       "2161  0.67289  0.34906  0.26446  \n",
       "2619  0.16479  0.11455  0.51700  \n",
       "3750  0.41628  0.26076  0.06725  \n",
       "1432  0.85957  0.29878  0.13786  "
      ]
     },
     "execution_count": 14,
     "metadata": {},
     "output_type": "execute_result"
    }
   ],
   "source": [
    "# Create a function to calculate the colours of the sources\n",
    "def compute_colour(row):\n",
    "    u = row['dered_u']\n",
    "    g = row['dered_g']\n",
    "    r = row['dered_r']\n",
    "    i = row['dered_i']\n",
    "    z = row['dered_z']\n",
    "    return pd.Series({'u-g': u - g, 'g-r': g - r, 'r-i': r - i, 'i-z': i - z})\n",
    "# Apply the function compute_colour\n",
    "colour_ind = data1.apply(compute_colour, axis=1)\n",
    "# Create new dataframe with the colours added\n",
    "data_colour = pd.concat([data1,colour_ind], axis=1)\n",
    "data_colour.head()"
   ]
  },
  {
   "cell_type": "code",
   "execution_count": 15,
   "metadata": {},
   "outputs": [
    {
     "data": {
      "text/html": [
       "<div>\n",
       "<style scoped>\n",
       "    .dataframe tbody tr th:only-of-type {\n",
       "        vertical-align: middle;\n",
       "    }\n",
       "\n",
       "    .dataframe tbody tr th {\n",
       "        vertical-align: top;\n",
       "    }\n",
       "\n",
       "    .dataframe thead th {\n",
       "        text-align: right;\n",
       "    }\n",
       "</style>\n",
       "<table border=\"1\" class=\"dataframe\">\n",
       "  <thead>\n",
       "    <tr style=\"text-align: right;\">\n",
       "      <th></th>\n",
       "      <th>dered_u</th>\n",
       "      <th>dered_g</th>\n",
       "      <th>dered_r</th>\n",
       "      <th>dered_i</th>\n",
       "      <th>dered_z</th>\n",
       "      <th>nClass</th>\n",
       "      <th>u-g</th>\n",
       "      <th>g-r</th>\n",
       "      <th>r-i</th>\n",
       "      <th>i-z</th>\n",
       "    </tr>\n",
       "  </thead>\n",
       "  <tbody>\n",
       "    <tr>\n",
       "      <th>count</th>\n",
       "      <td>15000.000000</td>\n",
       "      <td>15000.000000</td>\n",
       "      <td>15000.000000</td>\n",
       "      <td>15000.000000</td>\n",
       "      <td>15000.000000</td>\n",
       "      <td>15000.000000</td>\n",
       "      <td>15000.000000</td>\n",
       "      <td>15000.000000</td>\n",
       "      <td>15000.000000</td>\n",
       "      <td>15000.000000</td>\n",
       "    </tr>\n",
       "    <tr>\n",
       "      <th>mean</th>\n",
       "      <td>19.132223</td>\n",
       "      <td>17.882387</td>\n",
       "      <td>17.202859</td>\n",
       "      <td>16.839213</td>\n",
       "      <td>16.602145</td>\n",
       "      <td>2.000000</td>\n",
       "      <td>1.249836</td>\n",
       "      <td>0.679528</td>\n",
       "      <td>0.363646</td>\n",
       "      <td>0.237068</td>\n",
       "    </tr>\n",
       "    <tr>\n",
       "      <th>std</th>\n",
       "      <td>1.125658</td>\n",
       "      <td>1.220124</td>\n",
       "      <td>1.281371</td>\n",
       "      <td>1.306438</td>\n",
       "      <td>1.303870</td>\n",
       "      <td>0.816524</td>\n",
       "      <td>0.709817</td>\n",
       "      <td>0.339859</td>\n",
       "      <td>0.230364</td>\n",
       "      <td>0.245623</td>\n",
       "    </tr>\n",
       "    <tr>\n",
       "      <th>min</th>\n",
       "      <td>10.332040</td>\n",
       "      <td>9.905839</td>\n",
       "      <td>9.427466</td>\n",
       "      <td>9.207663</td>\n",
       "      <td>10.161530</td>\n",
       "      <td>1.000000</td>\n",
       "      <td>-2.547550</td>\n",
       "      <td>-2.964630</td>\n",
       "      <td>-3.667220</td>\n",
       "      <td>-16.663690</td>\n",
       "    </tr>\n",
       "    <tr>\n",
       "      <th>25%</th>\n",
       "      <td>18.579792</td>\n",
       "      <td>17.236185</td>\n",
       "      <td>16.457560</td>\n",
       "      <td>16.026708</td>\n",
       "      <td>15.763758</td>\n",
       "      <td>1.000000</td>\n",
       "      <td>0.621070</td>\n",
       "      <td>0.458933</td>\n",
       "      <td>0.251515</td>\n",
       "      <td>0.133340</td>\n",
       "    </tr>\n",
       "    <tr>\n",
       "      <th>50%</th>\n",
       "      <td>19.293760</td>\n",
       "      <td>17.976970</td>\n",
       "      <td>17.219915</td>\n",
       "      <td>16.841205</td>\n",
       "      <td>16.600990</td>\n",
       "      <td>2.000000</td>\n",
       "      <td>1.286580</td>\n",
       "      <td>0.668125</td>\n",
       "      <td>0.371695</td>\n",
       "      <td>0.240170</td>\n",
       "    </tr>\n",
       "    <tr>\n",
       "      <th>75%</th>\n",
       "      <td>19.888120</td>\n",
       "      <td>18.594875</td>\n",
       "      <td>17.952092</td>\n",
       "      <td>17.639647</td>\n",
       "      <td>17.438868</td>\n",
       "      <td>3.000000</td>\n",
       "      <td>1.775740</td>\n",
       "      <td>0.887230</td>\n",
       "      <td>0.437630</td>\n",
       "      <td>0.329830</td>\n",
       "    </tr>\n",
       "    <tr>\n",
       "      <th>max</th>\n",
       "      <td>28.846420</td>\n",
       "      <td>21.627410</td>\n",
       "      <td>20.763160</td>\n",
       "      <td>20.580770</td>\n",
       "      <td>30.781270</td>\n",
       "      <td>3.000000</td>\n",
       "      <td>7.412600</td>\n",
       "      <td>5.524000</td>\n",
       "      <td>3.697435</td>\n",
       "      <td>3.712550</td>\n",
       "    </tr>\n",
       "  </tbody>\n",
       "</table>\n",
       "</div>"
      ],
      "text/plain": [
       "            dered_u       dered_g       dered_r       dered_i       dered_z  \\\n",
       "count  15000.000000  15000.000000  15000.000000  15000.000000  15000.000000   \n",
       "mean      19.132223     17.882387     17.202859     16.839213     16.602145   \n",
       "std        1.125658      1.220124      1.281371      1.306438      1.303870   \n",
       "min       10.332040      9.905839      9.427466      9.207663     10.161530   \n",
       "25%       18.579792     17.236185     16.457560     16.026708     15.763758   \n",
       "50%       19.293760     17.976970     17.219915     16.841205     16.600990   \n",
       "75%       19.888120     18.594875     17.952092     17.639647     17.438868   \n",
       "max       28.846420     21.627410     20.763160     20.580770     30.781270   \n",
       "\n",
       "             nClass           u-g           g-r           r-i           i-z  \n",
       "count  15000.000000  15000.000000  15000.000000  15000.000000  15000.000000  \n",
       "mean       2.000000      1.249836      0.679528      0.363646      0.237068  \n",
       "std        0.816524      0.709817      0.339859      0.230364      0.245623  \n",
       "min        1.000000     -2.547550     -2.964630     -3.667220    -16.663690  \n",
       "25%        1.000000      0.621070      0.458933      0.251515      0.133340  \n",
       "50%        2.000000      1.286580      0.668125      0.371695      0.240170  \n",
       "75%        3.000000      1.775740      0.887230      0.437630      0.329830  \n",
       "max        3.000000      7.412600      5.524000      3.697435      3.712550  "
      ]
     },
     "execution_count": 15,
     "metadata": {},
     "output_type": "execute_result"
    }
   ],
   "source": [
    "data_colour.describe()"
   ]
  },
  {
   "cell_type": "code",
   "execution_count": 16,
   "metadata": {},
   "outputs": [
    {
     "data": {
      "image/png": "[encoded data removed]",
      "text/plain": [
       "<Figure size 1440x720 with 4 Axes>"
      ]
     },
     "metadata": {
      "needs_background": "light"
     },
     "output_type": "display_data"
    }
   ],
   "source": [
    "# Create histograms of the colours for each object type in the same plot\n",
    "# Create boolean series for each of the classes of objects\n",
    "star = data_colour['nClass']  == 1\n",
    "QSO = data_colour['nClass']  == 2\n",
    "galaxy = data_colour['nClass']  == 3\n",
    "colour = ['u-g','g-r','r-i','i-z']\n",
    "\n",
    "# Create subplots and plot histograms\n",
    "bins = np.linspace(-4, 4, 100)\n",
    "fig,axs = plt.subplots(2,2, figsize=(20,10), edgecolor='black')\n",
    "axs = axs.ravel()\n",
    "\n",
    "for i, n in enumerate(colour):\n",
    "    ax = axs[i]\n",
    "    X = data_colour[n]\n",
    "    #create the histograms for the object type per colour\n",
    "    ax.hist(X[star], bins,histtype='step', linewidth=2,label='star')\n",
    "    ax.hist(X[QSO], bins,histtype='step', linewidth=2, label='QSO')\n",
    "    ax.hist(X[galaxy], bins,histtype='step', linewidth=2, label='galaxy')\n",
    "    # Making it pretty with frame and grid\n",
    "    ax.spines['top'].set_color('black')\n",
    "    ax.spines['right'].set_color('black')\n",
    "    ax.spines['bottom'].set_color('black')\n",
    "    ax.spines['left'].set_color('black')\n",
    "    ax.spines['top'].set_linewidth(1)\n",
    "    ax.spines['right'].set_linewidth(1)\n",
    "    ax.spines['bottom'].set_linewidth(1)\n",
    "    ax.spines['left'].set_linewidth(1)\n",
    "    ax.grid(color='b', linestyle='-', linewidth=0.5)\n",
    "    ax.set_facecolor('xkcd:white')\n",
    "    #set legend, lables and title\n",
    "    ax.legend(loc='upper left',fontsize=12)\n",
    "    ax.set_xlabel(n)\n",
    "    ax.set_title(f'({n}) colour histogram', fontsize=16)\n",
    "    \n",
    "fig.suptitle('Distribution of Colour by Object Type', fontsize=20, fontweight=\"bold\")\n",
    "fig.tight_layout(rect=[0, 0, 1, 0.95])\n",
    "plt.show()"
   ]
  },
  {
   "cell_type": "markdown",
   "metadata": {},
   "source": [
    "For stars, in the (u-g) and (g-r) distributions, we can see bimodality which indicates the temperature of the star whether is a hot blue star (to the left of the distribution) or a cold red star(to the right). The distributions of (r-i) and (i-z) show this bimodality less and in fact, the distributions are more congruent with a positive skewed distribution. As the colours move more to the infrared side of the bands' spectrum, they are less sensitive to the temperature and more sensitive to interstellar dust, metalicity and age.\n",
    "\n",
    "For QSOs, the (u-g) distribution peak is much bluer than that of stars and galaxies.  It is as expected since what we see in QSOs are the active galactic nuclei(AGN, supermassive black holes)  that outshine the stars of their host galaxies. The radiation peaks at the blue end of the spectrum.  There is a small second population that is redder (to the left) than the rest of the population and this can be due to the fact that there is a combination of radiation from the AGN and the host galaxies. In the (g-r), we are seeing more of the radiation of the host galaxies but the distribution is still bluer than the galaxy distribution. In the distributions of (r-i) and (i-z), the galaxy and QSOs distributions are indistinguishable. Here, we are seeing the host galaxy radiation. \n",
    "\n",
    "For galaxies, there is a bimodal distribution in the (u-g) and (g-r). What we are seeing here is two populations; one population of young blue galaxies and the other of old red galaxies. On the other hand, the distributions of (r-i) and (i-z) show a very narrow distribution with a high peak. This could be due to the fact that we are sampling interstellar dust. Dust can absorb or scatter the light emitted by stars in a galaxy which makes the galaxy appear redder than it actually is. These distributions can be affected by the limited wavelength coverage of the bands.\n"
   ]
  },
  {
   "cell_type": "code",
   "execution_count": 17,
   "metadata": {},
   "outputs": [
    {
     "data": {
      "image/png": "[encoded data removed]",
      "text/plain": [
       "<Figure size 1440x720 with 18 Axes>"
      ]
     },
     "metadata": {
      "needs_background": "light"
     },
     "output_type": "display_data"
    }
   ],
   "source": [
    "# Create 2D distributions for each colour vs colour for each object type\n",
    "fig, axs = plt.subplots(3, 3, figsize=(20, 10), sharex='col')\n",
    "\n",
    "bins = np.linspace(-4, 5, 100)\n",
    "\n",
    "classes = [star, QSO, galaxy]\n",
    "objects = ['Stars', 'QSO', 'Galaxies']\n",
    "\n",
    "for i in range(len(colour)-1):\n",
    "    for j, n in enumerate(classes):\n",
    "        \n",
    "        h = axs[j, i].hist2d(data_colour[colour[i]][n], data_colour[colour[i + 1]][n], bins, cmap='hot')\n",
    "        \n",
    "        # Set labels for each subplot\n",
    "        axs[j, i].set_title(f'({colour[i]}) vs.' f'({colour[i+1]}) for ' f'{objects[j]}')\n",
    "        axs[j, i].set_ylabel(colour[i + 1])\n",
    "        if j>= 2 :\n",
    "                axs[j,i].set_xlabel(colour[i])\n",
    "        \n",
    "        # Add colorbars to each subplot\n",
    "        fig.colorbar(h[3], ax=axs[j, i])    \n",
    "            \n",
    "\n",
    "fig.suptitle('2D Distributions of Colour - Colour plots for Stars, QSOs and Galaxies', fontsize=16, fontweight=\"bold\")\n",
    "#plt.savefig('/home/veroastro/Documents/spectraTypes/images/2dH_colour.pdf')\n",
    "# Show the plot\n",
    "plt.show()"
   ]
  },
  {
   "cell_type": "markdown",
   "metadata": {},
   "source": [
    "Colour-colour plots are tools that help us in the study of the properties of astronomical objects and their evolution over time. In the case of stars, the (u-g) vs. (g-r) plot distinguishes between the hot, blue stars and the cold red stars. The position of a star in the plot depends on its temperature and the composition of its atmosphere, with hotter stars on the lower left side and colder stars on the upper right side. The (g-r) vs. (r-i) plot differentiates between stars of different temperatures and spectral types. The vertical axis (r-i) represents the star's metallicity, with metal-poor stars located towards the bottom and metal-rich stars towards the top. The (r-i) vs. (i-z) plot shows how stars of different colours and metallicities are affected by interstellar dust. Dust extinction causes reddening, which shifts colours to the red side of the spectrum.  Stars with higher levels of dust extinction will be located on the upper right side. The plot can also reveal any possible relationships between dust extinction and the age or metallicity of stars.\n",
    "\n",
    "In the case of QSOs, the (u-g) vs. (g-r) plot shows that most of the QSOs lie in a region with a tail that extends to the left and upper side (redder direction). This tail can be caused by two things: higher redshift (distance to the object) or that the spectra of these sources have emissions from the host galaxies too. This is more visible in the (g-r) vs. (r-i) plot where the plot is similar to that of the galaxies plot. The (r-i) vs. (i-z) plot shows a distribution that is very similar to that of galaxies, as we are primarily sampling the host galaxy radiation.\n",
    "\n",
    "In the case of galaxies, the (u-g) vs. (g-r) plot shows a wide range that goes between the blue cloud (young, star-forming galaxies) in the left and down and the red sequence (older and more passive galaxies) in the right and upper side. In the (g-r) vs. (r-i) plot, the  (g-r) colour is more sensitive to the age of the galaxy and the  (r-i) is more sensitive to their metallicity. The (r-i) vs. (i-z) shows how galaxies are affected by interstellar dust.\n"
   ]
  },
  {
   "cell_type": "code",
   "execution_count": 18,
   "metadata": {},
   "outputs": [
    {
     "data": {
      "image/png": "[encoded data removed]",
      "text/plain": [
       "<Figure size 360x360 with 1 Axes>"
      ]
     },
     "metadata": {},
     "output_type": "display_data"
    }
   ],
   "source": [
    "#Scatter plot hued by classes\n",
    "\n",
    "sns.set_style(\"ticks\")\n",
    "  \n",
    "sns.lmplot( x=\"u-g\", y=\"g-r\", data= data_colour, fit_reg=False, hue='nClass', legend=False, scatter_kws={\"s\": 1})\n",
    "\n",
    "# Add title and legend\n",
    "plt.title('(u-g) vs. (g-r) for all Object Types', fontweight=\"bold\")\n",
    "plt.legend(objects, fontsize=8, loc='lower left')\n",
    "#plt.savefig('/home/veroastro/Documents/spectraTypes/images/scatter_classes.pdf')\n",
    "plt.show()"
   ]
  },
  {
   "cell_type": "markdown",
   "metadata": {},
   "source": [
    "From this colour-colour plot, we can see how that different sources mainly occupy different regions of colour-colour space. Although the regions are not well defined and overlap. But it might help in the classification of the classes."
   ]
  },
  {
   "cell_type": "markdown",
   "metadata": {},
   "source": [
    "# Building the models\n",
    "\n",
    "## Prepping the data"
   ]
  },
  {
   "cell_type": "code",
   "execution_count": 19,
   "metadata": {},
   "outputs": [],
   "source": [
    "# Separating the features and the labled data and normalising the data\n",
    "from sklearn.preprocessing import MinMaxScaler\n",
    "cols= data1.columns[:-1]\n",
    "X = data1[cols]\n",
    "scaler = MinMaxScaler()\n",
    "X_t = scaler.fit_transform(X)\n",
    "X_scaled = pd.DataFrame(X_t, columns = X.columns)\n"
   ]
  },
  {
   "cell_type": "code",
   "execution_count": 20,
   "metadata": {},
   "outputs": [
    {
     "name": "stdout",
     "output_type": "stream",
     "text": [
      "(12000,)\n",
      "(3000,)\n"
     ]
    },
    {
     "data": {
      "text/html": [
       "<div>\n",
       "<style scoped>\n",
       "    .dataframe tbody tr th:only-of-type {\n",
       "        vertical-align: middle;\n",
       "    }\n",
       "\n",
       "    .dataframe tbody tr th {\n",
       "        vertical-align: top;\n",
       "    }\n",
       "\n",
       "    .dataframe thead th {\n",
       "        text-align: right;\n",
       "    }\n",
       "</style>\n",
       "<table border=\"1\" class=\"dataframe\">\n",
       "  <thead>\n",
       "    <tr style=\"text-align: right;\">\n",
       "      <th></th>\n",
       "      <th>dered_u</th>\n",
       "      <th>dered_g</th>\n",
       "      <th>dered_r</th>\n",
       "      <th>dered_i</th>\n",
       "      <th>dered_z</th>\n",
       "    </tr>\n",
       "  </thead>\n",
       "  <tbody>\n",
       "    <tr>\n",
       "      <th>1443</th>\n",
       "      <td>0.498549</td>\n",
       "      <td>0.695931</td>\n",
       "      <td>0.688826</td>\n",
       "      <td>0.670335</td>\n",
       "      <td>0.311058</td>\n",
       "    </tr>\n",
       "    <tr>\n",
       "      <th>8086</th>\n",
       "      <td>0.490217</td>\n",
       "      <td>0.645022</td>\n",
       "      <td>0.623956</td>\n",
       "      <td>0.605525</td>\n",
       "      <td>0.269451</td>\n",
       "    </tr>\n",
       "    <tr>\n",
       "      <th>9089</th>\n",
       "      <td>0.498439</td>\n",
       "      <td>0.715182</td>\n",
       "      <td>0.716810</td>\n",
       "      <td>0.695456</td>\n",
       "      <td>0.324817</td>\n",
       "    </tr>\n",
       "    <tr>\n",
       "      <th>4861</th>\n",
       "      <td>0.501893</td>\n",
       "      <td>0.811951</td>\n",
       "      <td>0.850646</td>\n",
       "      <td>0.839515</td>\n",
       "      <td>0.411350</td>\n",
       "    </tr>\n",
       "    <tr>\n",
       "      <th>247</th>\n",
       "      <td>0.536408</td>\n",
       "      <td>0.795763</td>\n",
       "      <td>0.837940</td>\n",
       "      <td>0.839886</td>\n",
       "      <td>0.413506</td>\n",
       "    </tr>\n",
       "  </tbody>\n",
       "</table>\n",
       "</div>"
      ],
      "text/plain": [
       "       dered_u   dered_g   dered_r   dered_i   dered_z\n",
       "1443  0.498549  0.695931  0.688826  0.670335  0.311058\n",
       "8086  0.490217  0.645022  0.623956  0.605525  0.269451\n",
       "9089  0.498439  0.715182  0.716810  0.695456  0.324817\n",
       "4861  0.501893  0.811951  0.850646  0.839515  0.411350\n",
       "247   0.536408  0.795763  0.837940  0.839886  0.413506"
      ]
     },
     "execution_count": 20,
     "metadata": {},
     "output_type": "execute_result"
    }
   ],
   "source": [
    "# split the data in train and test subsets\n",
    "from sklearn.model_selection import StratifiedShuffleSplit\n",
    "\n",
    "\n",
    "# Get the split indexes\n",
    "strat_shuf_split = StratifiedShuffleSplit(n_splits=3, \n",
    "                                          test_size=0.2, \n",
    "                                          random_state=42)\n",
    "\n",
    "\n",
    "\n",
    "train_idx, test_idx = next(strat_shuf_split.split(X_t,data1['nClass']))\n",
    "print(train_idx.shape)\n",
    "print(test_idx.shape)\n",
    "\n",
    "X_train = X_scaled[cols].iloc[train_idx]\n",
    "y_train = data1['nClass'].iloc[train_idx]\n",
    "X_test  = X_scaled[cols].iloc[test_idx]\n",
    "y_test  = data1['nClass'].iloc[test_idx]\n",
    "\n",
    "X_train.head()\n",
    "\n"
   ]
  },
  {
   "cell_type": "code",
   "execution_count": 21,
   "metadata": {},
   "outputs": [
    {
     "name": "stdout",
     "output_type": "stream",
     "text": [
      "       dered_u   dered_g   dered_r   dered_i   dered_z      u-g      g-r  \\\n",
      "2674  20.16157  17.64444  16.51864  16.05289  15.80521  2.51713  1.12580   \n",
      "2161  18.72804  17.51893  16.84604  16.49698  16.23252  1.20911  0.67289   \n",
      "2619  19.33861  19.15695  18.99216  18.87761  18.36061  0.18166  0.16479   \n",
      "3750  19.00525  17.82162  17.40534  17.14458  17.07733  1.18363  0.41628   \n",
      "1432  19.48119  17.33215  16.47258  16.17380  16.03594  2.14904  0.85957   \n",
      "\n",
      "          r-i      i-z  \n",
      "2674  0.46575  0.24768  \n",
      "2161  0.34906  0.26446  \n",
      "2619  0.11455  0.51700  \n",
      "3750  0.26076  0.06725  \n",
      "1432  0.29878  0.13786  \n"
     ]
    }
   ],
   "source": [
    "# Prepping the colour data set.\n",
    "X_colour = data_colour.drop(['nClass'], axis = 1)#pd.concat([X,colour_indices], axis=1)\n",
    "print(X_colour.head())\n",
    "\n",
    "# Normalising the colour dataset\n",
    "Xc_t = scaler.fit_transform(X_colour)\n",
    "Xc_scaled = pd.DataFrame(Xc_t, columns = X_colour.columns)\n",
    "\n",
    "# Splitting colour dataset into train and test.\n",
    "X_train_c = Xc_scaled.iloc[train_idx]\n",
    "X_test_c  = Xc_scaled.iloc[test_idx]"
   ]
  },
  {
   "cell_type": "markdown",
   "metadata": {},
   "source": [
    "## Building Models\n",
    "\n",
    "To classify the data, I build several Machine Learning models. I use Logistic Regression, Random Forest Classifier, Decision Tree Classifier, Gradient Boosting Classifier and Suppor Vector Machine.\n",
    "\n",
    "To optimize the performance of each model, I fine-tuned the hyperparameters of each model using GridSearchCV. And even if it does crossvalidation on the dataset, I still divided the data 80% for training and 20% for testing, in order to test the model on new data.\n"
   ]
  },
  {
   "cell_type": "markdown",
   "metadata": {},
   "source": [
    "### Decision Tree Classifier\n",
    "\n",
    "A decision tree is a non-parametric (it means it does not make particular assumptions about the form of mapping function)learning algorithm. It has a hierarchical, tree structure, which consists of a root node, branches, internal nodes and leaf nodes. The decision tree starts with a root node with outgoing branches to the internal nodes. Both nodes then conduct evaluations to form homogenous subsets(leaf nodes). The operation splits the data recursively until there are only pure leaf nodes (data of only one class).The more complex the tree, the more it can lead to overfitting.  \n",
    "\n",
    "The parameters that are fine-tuned by GridSearchCV are:\n",
    "* criterion which measures the quality of a split. \n",
    "* max_depth which is the maximum depth of the tree. The range chosen is from 1 to 500 in steps of 5. \n",
    "* max_features which is number of features taken into consideration when looking for the best split. 'sqrt' is the square root of the number of features and 'log2' is the log with base 2 of the number of features."
   ]
  },
  {
   "cell_type": "code",
   "execution_count": 23,
   "metadata": {},
   "outputs": [],
   "source": [
    "# Importing libraries\n",
    "from sklearn.model_selection import GridSearchCV\n",
    "from sklearn.tree import DecisionTreeClassifier\n",
    "\n",
    "# Defining the hyperparameters to be tuned using GridSearchCV\n",
    "DT_param = {'criterion' : ['gini', 'entropy'],\n",
    "            'max_depth':range(1, 500, 5),\n",
    "            'max_features': [ 'sqrt', 'log2']}\n",
    "# Creating an instance of GridSearchCV for Decision Tree Classifier\n",
    "DT_grid = GridSearchCV(DecisionTreeClassifier(random_state=42),\n",
    "                  param_grid=DT_param,\n",
    "                  scoring='accuracy',\n",
    "                  n_jobs=-1)\n",
    "# Fitting the GridSearchCV object on the training data\n",
    "DT = DT_grid.fit(X_train, y_train)"
   ]
  },
  {
   "cell_type": "code",
   "execution_count": 24,
   "metadata": {},
   "outputs": [
    {
     "data": {
      "text/plain": [
       "({'criterion': 'gini', 'max_depth': 21, 'max_features': 'sqrt'},\n",
       " 0.8164166666666667)"
      ]
     },
     "execution_count": 24,
     "metadata": {},
     "output_type": "execute_result"
    }
   ],
   "source": [
    "# Printing the best parameters and its accuracy.\n",
    "#GR_dt.tree_.node_count, GR_dt.tree_.max_depth\n",
    "DT.best_params_ ,DT.best_score_"
   ]
  },
  {
   "cell_type": "code",
   "execution_count": 27,
   "metadata": {},
   "outputs": [
    {
     "name": "stdout",
     "output_type": "stream",
     "text": [
      "              precision    recall  f1-score   support\n",
      "\n",
      "           1       0.86      0.82      0.84      1000\n",
      "           2       0.86      0.85      0.86      1000\n",
      "           3       0.75      0.79      0.77      1000\n",
      "\n",
      "    accuracy                           0.82      3000\n",
      "   macro avg       0.82      0.82      0.82      3000\n",
      "weighted avg       0.82      0.82      0.82      3000\n",
      "\n"
     ]
    }
   ],
   "source": [
    "from sklearn.metrics import classification_report\n",
    "#Predict y values (classes) using the model obtained.\n",
    "y_pred_dt = DT.predict(X_test)\n",
    "#Check predicted values of the test data with the actual values. \n",
    "cr_dt = classification_report(y_test, y_pred_dt)\n",
    "print(cr_dt)"
   ]
  },
  {
   "cell_type": "markdown",
   "metadata": {},
   "source": [
    "The test accuracy is 0.82. It means that 18% of the objects are misclassified. From the precision column, the model is best at classifying QSOs(class 2) and stars(class 1) and worst at galaxies (class 3). Recall shows it is best at classifying QSOs  and worst galaxies. The F1 score shows that altogether, it is best at classifying QSOsand stars but worst at classifying galaxies. "
   ]
  },
  {
   "cell_type": "code",
   "execution_count": 28,
   "metadata": {
    "scrolled": false
   },
   "outputs": [
    {
     "data": {
      "image/png": "[encoded data removed]",
      "text/plain": [
       "<Figure size 432x288 with 2 Axes>"
      ]
     },
     "metadata": {},
     "output_type": "display_data"
    }
   ],
   "source": [
    "from sklearn.metrics import confusion_matrix, ConfusionMatrixDisplay\n",
    "# Create confusion matrix\n",
    "DT_cm = confusion_matrix(y_test, y_pred_dt)\n",
    "# Create display for confusion matrix\n",
    "disp = ConfusionMatrixDisplay(confusion_matrix=DT_cm,\n",
    "                              display_labels=DT_grid.classes_)\n",
    "#Plot confusion Matrix\n",
    "disp.plot(cmap='magma')\n",
    "plt.show()"
   ]
  },
  {
   "cell_type": "markdown",
   "metadata": {},
   "source": [
    "Looking at the true positives (True label = Predicted Label), class 2(QSO) has the highest number and class 3 (galaxies) has the lowest numbers. Class 1 (stars) are more often misclassified as class 3. Class 2 are more often misclassified as class 3."
   ]
  },
  {
   "cell_type": "markdown",
   "metadata": {},
   "source": [
    "### Random Forest Classifier\n",
    "    \n",
    "Random Forest is an essemble learning algorithm. This means that it combines the prediction of multiple models. In this case, it combines different decision trees to obtain more acurate results and control overfitting. By default, bootstrap is said to True which means that a subsample is used for each tree rather than the entire datasaet.\n",
    "I set \n",
    "* oob_score to True which is the out of bag score. The OOB score is an estimate of the generalization performance of the model on new data.\n",
    "* warm_start to True whichs reuse the solution of the previous call to fit and add more estimators to the ensemble.\n",
    "\n",
    "The parameters are fine-tuned using  RandomizedSearchCV instead of GridSearchCV because it takes to long to run the model through every combination of parameters. RandomizedSearchCV randomly samples a subset of hyperparameter combinations from a specified search space. The parameters used are:\n",
    "* n_estimators which is the number of trees in the forest.\n",
    "* min_samples_split the minimum number of samples required to split an internal node\n",
    "* max_depth which is the maximum depth of the tree. "
   ]
  },
  {
   "cell_type": "code",
   "execution_count": 29,
   "metadata": {},
   "outputs": [
    {
     "data": {
      "text/plain": [
       "{'n_estimators': 380, 'min_samples_split': 2, 'max_depth': 81}"
      ]
     },
     "execution_count": 29,
     "metadata": {},
     "output_type": "execute_result"
    }
   ],
   "source": [
    "from sklearn.ensemble import RandomForestClassifier\n",
    "from sklearn.model_selection import RandomizedSearchCV\n",
    "# Use the random grid to search for best hyperparameters\n",
    "RF_param_grid = {'n_estimators':range(50,1000, 1),\n",
    "             'min_samples_split' : [2, 5, 10],\n",
    "             'max_depth':range(1, 500, 5)}\n",
    "\n",
    "\n",
    "RF = RandomForestClassifier(oob_score=True,\n",
    "                            bootstrap = True,\n",
    "                            random_state=42, \n",
    "                            warm_start=True,\n",
    "                            n_jobs=-1)\n",
    "# Random search of parameters, using 3 fold cross validation, \n",
    "# search across 100 different combinations, and use all available cores\n",
    "rf_random = RandomizedSearchCV(RF, param_distributions = RF_param_grid, n_iter = 100, cv = 3, n_jobs = -1)\n",
    "# Fit the random search model\n",
    "rf_random.fit(X_train, y_train)\n",
    "rf_random.best_params_"
   ]
  },
  {
   "cell_type": "code",
   "execution_count": 30,
   "metadata": {},
   "outputs": [
    {
     "data": {
      "text/plain": [
       "(0.8810833333333333, 0.8893333333333333)"
      ]
     },
     "execution_count": 30,
     "metadata": {},
     "output_type": "execute_result"
    }
   ],
   "source": [
    "# best accuracy and oob_score\n",
    "rf_random.best_score_, rf_random.best_estimator_.oob_score_"
   ]
  },
  {
   "cell_type": "code",
   "execution_count": 31,
   "metadata": {},
   "outputs": [
    {
     "name": "stdout",
     "output_type": "stream",
     "text": [
      "              precision    recall  f1-score   support\n",
      "\n",
      "           1       0.93      0.90      0.91      1000\n",
      "           2       0.92      0.89      0.90      1000\n",
      "           3       0.83      0.88      0.86      1000\n",
      "\n",
      "    accuracy                           0.89      3000\n",
      "   macro avg       0.89      0.89      0.89      3000\n",
      "weighted avg       0.89      0.89      0.89      3000\n",
      "\n"
     ]
    }
   ],
   "source": [
    "#Predict y values (classes) using the model obtained.\n",
    "y_pred_rf = rf_random.predict(X_test)\n",
    "#Check predicted values of the test data with the actual values\n",
    "cr_rf = classification_report(y_test, y_pred_rf)\n",
    "print(cr_rf)"
   ]
  },
  {
   "cell_type": "markdown",
   "metadata": {},
   "source": [
    "QSOs(class2) and stars(class1) have a better precision than galaxies(class3). In recall, they have similar values. Stars and QSOs have a better f1 score than galaxies. Overall test accuracy is 0.89."
   ]
  },
  {
   "cell_type": "code",
   "execution_count": 32,
   "metadata": {},
   "outputs": [
    {
     "data": {
      "image/png": "[encoded data removed]",
      "text/plain": [
       "<Figure size 432x288 with 2 Axes>"
      ]
     },
     "metadata": {},
     "output_type": "display_data"
    }
   ],
   "source": [
    "# Create confusion matrix\n",
    "RF_cm = confusion_matrix(y_test, y_pred_rf)\n",
    "# Create display for confusion matrix\n",
    "disp = ConfusionMatrixDisplay(confusion_matrix=RF_cm,\n",
    "                              display_labels=rf_random.classes_)\n",
    "#Plot confusion Matrix\n",
    "disp.plot(cmap='magma')\n",
    "plt.show()"
   ]
  },
  {
   "cell_type": "markdown",
   "metadata": {},
   "source": [
    "Looking at the true positives, class 1 (stars) has the highest number. Class 1 (stars) are more often misclassified as class 3. Class 2 are more often misclassified as class 3."
   ]
  },
  {
   "cell_type": "markdown",
   "metadata": {},
   "source": [
    "### Gradient Boosting Classifier (GBC)\n",
    "\n",
    "It is also and ensamble learning algorithm. It combines weak learners (i.e., decision trees) to create a stronger model. The algorithm first fits a decision tree to the data, then fits a second decision tree to the residuals (errors) of the first tree, and repeats this process to improve the model. The final model is a weighted sum of all the trees, where the weights are determined by the learning rate and the residuals of the previous tree.\n",
    "\n",
    "It is good to handle complex, high-dimensional datasets and it is robust to outliers. However, it can be computationally expensive and may be prone to overfitting if the hyperparameters are not tuned correctly.\n",
    "\n",
    "The parameters that are fine-tuned by RandomizedSearchCV are:\n",
    "* n_estimators which is the number of boosting stages to perform.\n",
    "* learning_rate which shrinks the contribution of each tree.\n",
    "* subsample which he fraction of samples to be used for fitting the individual base learners. If the value is less than one then this results in Stochastic Gradient Boosting that uses a random subset of samples to train each base learner instead of using the entire training set. This helps with overfitting.\n",
    "* max_depth which is the maximum depth of the individual regression estimators."
   ]
  },
  {
   "cell_type": "code",
   "execution_count": 33,
   "metadata": {},
   "outputs": [
    {
     "data": {
      "text/plain": [
       "({'subsample': 0.5, 'n_estimators': 135, 'max_depth': 8, 'learning_rate': 0.1},\n",
       " 0.8807499999999999)"
      ]
     },
     "execution_count": 33,
     "metadata": {},
     "output_type": "execute_result"
    }
   ],
   "source": [
    "from sklearn.ensemble import GradientBoostingClassifier\n",
    "\n",
    "# Use the random grid to search for best hyperparameters\n",
    "GBC_param_grid = {'n_estimators': range(5, 150,10),\n",
    "                  'learning_rate': [0.1, 0.01, 0.001, 0.0001],\n",
    "                  'subsample': [1.0, 0.5],\n",
    "                  'max_depth': [2, 5, 8]}\n",
    "\n",
    "\n",
    "GBC = GradientBoostingClassifier(random_state=42)\n",
    "\n",
    "GBC_random = RandomizedSearchCV(GBC, param_distributions = GBC_param_grid, n_iter = 100,cv = 3, n_jobs = -1)\n",
    "\n",
    "# Do the randomize search\n",
    "gbc = GBC_random.fit(X_train, y_train)\n",
    "\n",
    "gbc.best_params_ ,gbc.best_score_"
   ]
  },
  {
   "cell_type": "code",
   "execution_count": 34,
   "metadata": {},
   "outputs": [
    {
     "name": "stdout",
     "output_type": "stream",
     "text": [
      "              precision    recall  f1-score   support\n",
      "\n",
      "           1       0.90      0.92      0.91       975\n",
      "           2       0.88      0.93      0.91       951\n",
      "           3       0.89      0.83      0.86      1074\n",
      "\n",
      "    accuracy                           0.89      3000\n",
      "   macro avg       0.89      0.89      0.89      3000\n",
      "weighted avg       0.89      0.89      0.89      3000\n",
      "\n"
     ]
    }
   ],
   "source": [
    "# Using the best model to predict classes on the test set\n",
    "y_pred_gbc = gbc.predict(X_test)\n",
    "#Check predicted values of the test data with the actual values\n",
    "cr_gbc = classification_report(y_pred_gbc, y_test)\n",
    "print(cr_gbc)"
   ]
  },
  {
   "cell_type": "markdown",
   "metadata": {},
   "source": [
    "All classes have a similar value of precision. In recall, galaxies have the worst value. The f1 score is better for stars and QSOs. "
   ]
  },
  {
   "cell_type": "code",
   "execution_count": 35,
   "metadata": {},
   "outputs": [
    {
     "data": {
      "image/png": "[encoded data removed]",
      "text/plain": [
       "<Figure size 432x288 with 2 Axes>"
      ]
     },
     "metadata": {},
     "output_type": "display_data"
    }
   ],
   "source": [
    "# Create confusion matrix\n",
    "gbc_cm = confusion_matrix(y_test, y_pred_gbc)\n",
    "# Create display for confusion matrix\n",
    "disp = ConfusionMatrixDisplay(confusion_matrix=gbc_cm,\n",
    "                              display_labels=rf_random.classes_)\n",
    "#Plot confusion Matrix\n",
    "disp.plot(cmap='magma')\n",
    "plt.show()"
   ]
  },
  {
   "cell_type": "markdown",
   "metadata": {},
   "source": [
    "Looking at the true positives, all classes have roughly similar numbers. Class 1 (stars)d class 2 are more often misclassified as class 3."
   ]
  },
  {
   "cell_type": "markdown",
   "metadata": {},
   "source": [
    "### Support Vector Machine (SVM)\n",
    "\n",
    "SVMs divide the datasets into number of classes in order to find a maximum marginal hyperplane which is the separating hyperplane that is farthest from any training observation. The models first generate hyperplanes iteratively that separates the classes in the best way and then it will choose the hyperplane that segregates the classes correctly.\n",
    "\n",
    "The parameters that are fine-tuned by GridSearchCV are:\n",
    "* C which is the regularization parameter which is inversely proportional to C.\n",
    "* gamma which defines how far influences the calculation of plausible line of separation.\n",
    "* kernel takes low dimensional input space and transform it into a higher-dimensional space."
   ]
  },
  {
   "cell_type": "code",
   "execution_count": 36,
   "metadata": {},
   "outputs": [
    {
     "data": {
      "text/plain": [
       "({'C': 1000, 'gamma': 1, 'kernel': 'rbf'}, 0.8780833333333333)"
      ]
     },
     "execution_count": 36,
     "metadata": {},
     "output_type": "execute_result"
    }
   ],
   "source": [
    "from sklearn.svm import SVC\n",
    "# # Use the random grid to search for best hyperparameters\n",
    "param_grid = {'C': [0.1, 1, 10, 100, 1000], \n",
    "              'gamma': [1, 0.1, 0.01, 0.001, 0.0001],\n",
    "              'kernel': ['rbf', 'poly', 'sigmoid']} \n",
    "  \n",
    "SVM_grid = GridSearchCV(SVC(random_state=42), param_grid, refit = True, n_jobs = -1)\n",
    "  \n",
    "# fitting the model for grid search\n",
    "svm = SVM_grid.fit(X_train, y_train)\n",
    "\n",
    "# print best parameter after tuning and best accuracy\n",
    "svm.best_params_, svm.best_score_"
   ]
  },
  {
   "cell_type": "code",
   "execution_count": 37,
   "metadata": {},
   "outputs": [
    {
     "name": "stdout",
     "output_type": "stream",
     "text": [
      "              precision    recall  f1-score   support\n",
      "\n",
      "           1       0.93      0.83      0.88      1000\n",
      "           2       0.91      0.89      0.90      1000\n",
      "           3       0.80      0.90      0.84      1000\n",
      "\n",
      "    accuracy                           0.87      3000\n",
      "   macro avg       0.88      0.87      0.87      3000\n",
      "weighted avg       0.88      0.87      0.87      3000\n",
      "\n"
     ]
    }
   ],
   "source": [
    "# Using the best model to predict classes on the test set\n",
    "y_pred_svm = svm.predict(X_test)\n",
    "cr_svm = classification_report(y_test, y_pred_svm)\n",
    "# print classification report\n",
    "print(cr_svm)"
   ]
  },
  {
   "cell_type": "markdown",
   "metadata": {},
   "source": [
    "QSOs(class2) and stars(class1) have a better precision than galaxies(class3). Galaxies do metter in recall than the other two classes with stars at lowest recall value. QSOs have a better f1 score than galaxies. Overall test accuracy is 0.87."
   ]
  },
  {
   "cell_type": "code",
   "execution_count": 38,
   "metadata": {},
   "outputs": [
    {
     "data": {
      "image/png": "[encoded data removed]",
      "text/plain": [
       "<Figure size 432x288 with 2 Axes>"
      ]
     },
     "metadata": {},
     "output_type": "display_data"
    }
   ],
   "source": [
    "# Create confusion matrix\n",
    "svm_cm = confusion_matrix(y_test, y_pred_svm)\n",
    "# Create display for confusion matrix\n",
    "disp = ConfusionMatrixDisplay(confusion_matrix=svm_cm,\n",
    "                              display_labels=svm.classes_)\n",
    "#Plot confusion Matrix\n",
    "disp.plot(cmap='magma')\n",
    "plt.show()"
   ]
  },
  {
   "cell_type": "markdown",
   "metadata": {},
   "source": [
    "In the true positives values, class 3 (galaxy) has the highest number and class 1 (stars) has the lowest numbers. Class 1 (stars)d class 2 are more often misclassified as class 3."
   ]
  },
  {
   "cell_type": "markdown",
   "metadata": {},
   "source": [
    "## Testing with Colours\n",
    "\n",
    "In this section, I check whether adding colours to the data set improves the accuracy of the models. I will use the best two models of the previous section (Random Forest and Gradient Boosting) to classify stellar object with their magnitues and their colours.\n",
    "\n",
    "### Random Forest"
   ]
  },
  {
   "cell_type": "code",
   "execution_count": 39,
   "metadata": {},
   "outputs": [
    {
     "data": {
      "text/plain": [
       "({'n_estimators': 335, 'min_samples_split': 5, 'max_depth': 36},\n",
       " 0.9184999999999999)"
      ]
     },
     "execution_count": 39,
     "metadata": {},
     "output_type": "execute_result"
    }
   ],
   "source": [
    "# Running the model defined in the section before for Random Forest but on the dataset with added colours \n",
    "rf_colour = rf_random.fit(X_train_c, y_train)\n",
    "# Printing best parametes and best accuracy\n",
    "rf_colour.best_params_,rf_colour.best_score_"
   ]
  },
  {
   "cell_type": "code",
   "execution_count": 40,
   "metadata": {
    "scrolled": true
   },
   "outputs": [
    {
     "name": "stdout",
     "output_type": "stream",
     "text": [
      "              precision    recall  f1-score   support\n",
      "\n",
      "           1       0.94      0.92      0.93      1000\n",
      "           2       0.94      0.91      0.92      1000\n",
      "           3       0.87      0.91      0.89      1000\n",
      "\n",
      "    accuracy                           0.91      3000\n",
      "   macro avg       0.91      0.91      0.91      3000\n",
      "weighted avg       0.91      0.91      0.91      3000\n",
      "\n"
     ]
    }
   ],
   "source": [
    "#Predict y values (classes) using the model obtained.\n",
    "yc_pred_rf = rf_random.predict(X_test_c)\n",
    "#Check predicted values of the test data with the actual values\n",
    "cr_rf_c = classification_report(y_test, yc_pred_rf)\n",
    "print(cr_rf_c)"
   ]
  },
  {
   "cell_type": "markdown",
   "metadata": {},
   "source": [
    "QSOs and stars have the best precision score and galaxies the lowest score. Recall values are similar amongst the classes. F1 score galaxies do slightly worst than stars and QSOs. Stars have the similar value of precision, recall and f1 score. QSOs have better precision than recall and galaxies have better recall than precision. The values of precision, recall and f1 score are very close together. Overall test accuracy is 0.91."
   ]
  },
  {
   "cell_type": "code",
   "execution_count": 41,
   "metadata": {},
   "outputs": [
    {
     "data": {
      "image/png": "[encoded data removed]",
      "text/plain": [
       "<Figure size 432x288 with 2 Axes>"
      ]
     },
     "metadata": {},
     "output_type": "display_data"
    }
   ],
   "source": [
    "# calculating the confusion matrix\n",
    "RF_cm_c = confusion_matrix(y_test, yc_pred_rf)\n",
    "# Create display for confusion matrix\n",
    "disp = ConfusionMatrixDisplay(confusion_matrix=RF_cm_c,\n",
    "                              display_labels=rf_random.classes_)\n",
    "#Plot confusion Matrix\n",
    "disp.plot(cmap='magma')\n",
    "plt.show()"
   ]
  },
  {
   "cell_type": "markdown",
   "metadata": {},
   "source": [
    "In the true positives, the stars(class1) have the highest count and the lowest value is for galaxies (class3). Stars and QSOs(class2) are mostly misclassified as galaxies. And galaxies are mostly misclassified as stars.\n",
    "\n",
    "### Gradient Boosting"
   ]
  },
  {
   "cell_type": "code",
   "execution_count": 42,
   "metadata": {},
   "outputs": [
    {
     "data": {
      "text/plain": [
       "({'subsample': 0.5, 'n_estimators': 75, 'max_depth': 8, 'learning_rate': 0.1},\n",
       " 0.9194166666666668)"
      ]
     },
     "execution_count": 42,
     "metadata": {},
     "output_type": "execute_result"
    }
   ],
   "source": [
    "# Running the model defined in the section before for Gradient Boosting but on the dataset with added colours\n",
    "gbc_c = GBC_random.fit(X_train_c, y_train)\n",
    "# Printing best parametes and best accuracy\n",
    "gbc_c.best_params_ ,gbc_c.best_score_"
   ]
  },
  {
   "cell_type": "code",
   "execution_count": 43,
   "metadata": {},
   "outputs": [
    {
     "name": "stdout",
     "output_type": "stream",
     "text": [
      "              precision    recall  f1-score   support\n",
      "\n",
      "           1       0.95      0.92      0.93      1000\n",
      "           2       0.93      0.92      0.92      1000\n",
      "           3       0.87      0.91      0.89      1000\n",
      "\n",
      "    accuracy                           0.91      3000\n",
      "   macro avg       0.92      0.91      0.91      3000\n",
      "weighted avg       0.92      0.91      0.91      3000\n",
      "\n"
     ]
    }
   ],
   "source": [
    "#Predict y values (classes) using the model obtained.\n",
    "yc_pred_gbc = GBC_random.predict(X_test_c)\n",
    "#Check predicted values of the test data with the actual values\n",
    "cr_gbc_c = classification_report(y_test, yc_pred_gbc)\n",
    "print(cr_gbc_c)"
   ]
  },
  {
   "cell_type": "markdown",
   "metadata": {},
   "source": [
    "QSOs have the best precision score and galaxies the lowest score. All classes have similar recall. Stars and QSOs have the highest value of f1 score and galaxies the lowesr value. QSOs have better precision than recall and galaxies have better recall than precision. The values of precision, recall and f1 score are very close together. Overall test accuracy is 0.91."
   ]
  },
  {
   "cell_type": "code",
   "execution_count": 44,
   "metadata": {
    "scrolled": true
   },
   "outputs": [
    {
     "data": {
      "image/png": "[encoded data removed]",
      "text/plain": [
       "<Figure size 432x288 with 2 Axes>"
      ]
     },
     "metadata": {},
     "output_type": "display_data"
    }
   ],
   "source": [
    "# Plotting confusion matrix\n",
    "GBC_cm_c = confusion_matrix(y_test, yc_pred_gbc)\n",
    "# Create display for confusion matrix\n",
    "disp = ConfusionMatrixDisplay(confusion_matrix=GBC_cm_c,\n",
    "                              display_labels=rf_random.classes_)\n",
    "#Plot confusion Matrix\n",
    "disp.plot(cmap='magma')\n",
    "plt.show()"
   ]
  },
  {
   "cell_type": "markdown",
   "metadata": {},
   "source": [
    "All classes have similar counts of true positives. Stars and QSOs are mostly misclassified as galaxies(class3). And galaxies are equally misclassified as stars and QSOs.\n"
   ]
  },
  {
   "cell_type": "markdown",
   "metadata": {},
   "source": [
    "### Support Vector Machine"
   ]
  },
  {
   "cell_type": "code",
   "execution_count": 45,
   "metadata": {},
   "outputs": [
    {
     "data": {
      "text/plain": [
       "({'C': 1000, 'gamma': 1, 'kernel': 'poly'}, 0.8948333333333333)"
      ]
     },
     "execution_count": 45,
     "metadata": {},
     "output_type": "execute_result"
    }
   ],
   "source": [
    "svm_c = SVM_grid.fit(X_train_c, y_train)\n",
    "# Printing best parametes and best accuracy\n",
    "svm_c.best_params_ ,svm_c.best_score_"
   ]
  },
  {
   "cell_type": "code",
   "execution_count": 46,
   "metadata": {},
   "outputs": [
    {
     "name": "stdout",
     "output_type": "stream",
     "text": [
      "              precision    recall  f1-score   support\n",
      "\n",
      "           1       0.95      0.84      0.90      1000\n",
      "           2       0.92      0.89      0.90      1000\n",
      "           3       0.81      0.92      0.86      1000\n",
      "\n",
      "    accuracy                           0.89      3000\n",
      "   macro avg       0.89      0.89      0.89      3000\n",
      "weighted avg       0.89      0.89      0.89      3000\n",
      "\n"
     ]
    }
   ],
   "source": [
    "#Predict y values (classes) using the model obtained.\n",
    "yc_pred_svm = SVM_grid.predict(X_test_c)\n",
    "#Check predicted values of the test data with the actual values\n",
    "cr_svm_c = classification_report(y_test, yc_pred_svm)\n",
    "print(cr_svm_c)"
   ]
  },
  {
   "cell_type": "markdown",
   "metadata": {},
   "source": [
    "QSOs and stars do better in presicion and worst in recall and the opposite is true foer galaxies. Star and QSOs do better than galaxies in f1 score. Overall accuracy is 0.89."
   ]
  },
  {
   "cell_type": "code",
   "execution_count": 47,
   "metadata": {},
   "outputs": [
    {
     "data": {
      "image/png": "[encoded data removed]",
      "text/plain": [
       "<Figure size 432x288 with 2 Axes>"
      ]
     },
     "metadata": {},
     "output_type": "display_data"
    }
   ],
   "source": [
    "# Plotting confusion matrix\n",
    "svm_cm_c = confusion_matrix(y_test, yc_pred_svm)\n",
    "# Create display for confusion matrix\n",
    "disp = ConfusionMatrixDisplay(confusion_matrix=svm_cm_c,\n",
    "                              display_labels=rf_random.classes_)\n",
    "#Plot confusion Matrix\n",
    "disp.plot(cmap='magma')\n",
    "plt.show()"
   ]
  },
  {
   "cell_type": "markdown",
   "metadata": {},
   "source": [
    "Galaxies(class3) have the highest count of true positives and stars have the lowest. Stars(class1) and QSOs(class2) are mostly missclassifeied as galaxies."
   ]
  },
  {
   "cell_type": "markdown",
   "metadata": {},
   "source": [
    "## Comparing models\n",
    "### Classification Report\n",
    "#### Without colours"
   ]
  },
  {
   "cell_type": "code",
   "execution_count": 49,
   "metadata": {},
   "outputs": [
    {
     "name": "stdout",
     "output_type": "stream",
     "text": [
      "\u001b[1m\u001b[4mDecision Tree\u001b[0m\n",
      "              precision    recall  f1-score   support\n",
      "\n",
      "           1       0.86      0.82      0.84      1000\n",
      "           2       0.86      0.85      0.86      1000\n",
      "           3       0.75      0.79      0.77      1000\n",
      "\n",
      "    accuracy                           0.82      3000\n",
      "   macro avg       0.82      0.82      0.82      3000\n",
      "weighted avg       0.82      0.82      0.82      3000\n",
      "\n",
      "\u001b[1m\u001b[4mRandom Forest\u001b[0m\n",
      "              precision    recall  f1-score   support\n",
      "\n",
      "           1       0.93      0.90      0.91      1000\n",
      "           2       0.92      0.89      0.90      1000\n",
      "           3       0.83      0.88      0.86      1000\n",
      "\n",
      "    accuracy                           0.89      3000\n",
      "   macro avg       0.89      0.89      0.89      3000\n",
      "weighted avg       0.89      0.89      0.89      3000\n",
      "\n",
      "\u001b[1m\u001b[4mGradient Boosting\u001b[0m\n",
      "              precision    recall  f1-score   support\n",
      "\n",
      "           1       0.90      0.92      0.91       975\n",
      "           2       0.88      0.93      0.91       951\n",
      "           3       0.89      0.83      0.86      1074\n",
      "\n",
      "    accuracy                           0.89      3000\n",
      "   macro avg       0.89      0.89      0.89      3000\n",
      "weighted avg       0.89      0.89      0.89      3000\n",
      "\n",
      "\u001b[1m\u001b[4mSupport Vector Machine\u001b[0m\n",
      "              precision    recall  f1-score   support\n",
      "\n",
      "           1       0.93      0.83      0.88      1000\n",
      "           2       0.91      0.89      0.90      1000\n",
      "           3       0.80      0.90      0.84      1000\n",
      "\n",
      "    accuracy                           0.87      3000\n",
      "   macro avg       0.88      0.87      0.87      3000\n",
      "weighted avg       0.88      0.87      0.87      3000\n",
      "\n"
     ]
    }
   ],
   "source": [
    "# Class to print it bold and with underline\n",
    "class bold:\n",
    "   BOLD = '\\033[1m'\n",
    "   UNDERLINE = '\\033[4m'\n",
    "   END = '\\033[0m'\n",
    "# Printing the classification reports for all models with the dataset without colour\n",
    "print(bold.BOLD + bold.UNDERLINE + \"Decision Tree\" + bold.END)\n",
    "print(cr_dt)\n",
    "print(bold.BOLD + bold.UNDERLINE + \"Random Forest\" + bold.END)\n",
    "print(cr_rf)\n",
    "print(bold.BOLD + bold.UNDERLINE + \"Gradient Boosting\" + bold.END)\n",
    "print(cr_gbc)\n",
    "print(bold.BOLD +bold.UNDERLINE + \"Support Vector Machine\" + bold.END)\n",
    "print(cr_svm)"
   ]
  },
  {
   "cell_type": "markdown",
   "metadata": {},
   "source": [
    "Looking only at the accuracies of the test set, Random Forest and Gradient Boosting have the highest value. In fact, they have similar values of f1 score per class and accuracy.\n",
    "\n",
    "#### With colours\n"
   ]
  },
  {
   "cell_type": "code",
   "execution_count": 50,
   "metadata": {},
   "outputs": [
    {
     "name": "stdout",
     "output_type": "stream",
     "text": [
      "\u001b[1m\u001b[4mRandom Forest\u001b[0m\n",
      "              precision    recall  f1-score   support\n",
      "\n",
      "           1       0.94      0.92      0.93      1000\n",
      "           2       0.94      0.91      0.92      1000\n",
      "           3       0.87      0.91      0.89      1000\n",
      "\n",
      "    accuracy                           0.91      3000\n",
      "   macro avg       0.91      0.91      0.91      3000\n",
      "weighted avg       0.91      0.91      0.91      3000\n",
      "\n",
      "\u001b[1m\u001b[4mGradient Boosting\u001b[0m\n",
      "              precision    recall  f1-score   support\n",
      "\n",
      "           1       0.95      0.92      0.93      1000\n",
      "           2       0.93      0.92      0.92      1000\n",
      "           3       0.87      0.91      0.89      1000\n",
      "\n",
      "    accuracy                           0.91      3000\n",
      "   macro avg       0.92      0.91      0.91      3000\n",
      "weighted avg       0.92      0.91      0.91      3000\n",
      "\n",
      "\u001b[1m\u001b[4mSupport Vector Machine\u001b[0m\n",
      "              precision    recall  f1-score   support\n",
      "\n",
      "           1       0.95      0.84      0.90      1000\n",
      "           2       0.92      0.89      0.90      1000\n",
      "           3       0.81      0.92      0.86      1000\n",
      "\n",
      "    accuracy                           0.89      3000\n",
      "   macro avg       0.89      0.89      0.89      3000\n",
      "weighted avg       0.89      0.89      0.89      3000\n",
      "\n"
     ]
    }
   ],
   "source": [
    "# Printing the classification reports for all models with the dataset with colour\n",
    "\n",
    "print(bold.BOLD + bold.UNDERLINE + \"Random Forest\" + bold.END)\n",
    "print(cr_rf_c)\n",
    "print(bold.BOLD + bold.UNDERLINE + \"Gradient Boosting\" + bold.END)\n",
    "print(cr_gbc_c)\n",
    "print(bold.BOLD + bold.UNDERLINE + \"Support Vector Machine\" + bold.END)\n",
    "print(cr_svm_c)"
   ]
  },
  {
   "cell_type": "markdown",
   "metadata": {},
   "source": [
    "The accuracy of the test set is the same for Random Forest and Gradient Boosting. Precision and Recall are also very similar for both models. The improvement of the models using colours is of 2% in all three models."
   ]
  },
  {
   "cell_type": "markdown",
   "metadata": {},
   "source": [
    "### Testing Running time for the best parameters\n",
    "\n",
    "We test the running time of the training dataset (12000 data points) with colours for the models Random Forest Classifier and Gradient Boosting Classifier and Support Vector Machine."
   ]
  },
  {
   "cell_type": "code",
   "execution_count": 58,
   "metadata": {},
   "outputs": [
    {
     "name": "stdout",
     "output_type": "stream",
     "text": [
      "Runnig time for Random Forest is 2.78 seconds\n"
     ]
    }
   ],
   "source": [
    "import time\n",
    "# Define the model with the best parameters obtained above for the dataset with colours\n",
    "RF_t = RandomForestClassifier(**rf_colour.best_params_, random_state=42,\n",
    "                             oob_score=True, bootstrap = True,\n",
    "                             warm_start=True, n_jobs=-1)\n",
    "#start the counter\n",
    "start_time = time.time()\n",
    "#run and predict the model\n",
    "rf_colour_t = RF_t.fit(X_train_c, y_train)\n",
    "#stop the counter\n",
    "end_time = time.time()\n",
    "# Get duration\n",
    "running_time_RF = end_time - start_time\n",
    "print(f\"Runnig time for Random Forest is {running_time_RF:.2f} seconds\")"
   ]
  },
  {
   "cell_type": "code",
   "execution_count": 59,
   "metadata": {},
   "outputs": [
    {
     "name": "stdout",
     "output_type": "stream",
     "text": [
      "Running time for Gradient Boosting is  11.69 seconds\n"
     ]
    }
   ],
   "source": [
    "# Define the model with the best parameters obtained above for the dataset with colours\n",
    "GBC_t = GradientBoostingClassifier(**gbc_c.best_params_ ,random_state=42)\n",
    "#start the counter\n",
    "start_time = time.time()\n",
    "#run and predict the model\n",
    "gbc_colour_t = GBC_t.fit(X_train_c, y_train)\n",
    "#stop the counter\n",
    "end_time = time.time()\n",
    "# Get duration\n",
    "running_time_GBC = end_time - start_time\n",
    "print(f\"Running time for Gradient Boosting is {running_time_GBC: .2f} seconds\")"
   ]
  },
  {
   "cell_type": "code",
   "execution_count": 60,
   "metadata": {},
   "outputs": [
    {
     "name": "stdout",
     "output_type": "stream",
     "text": [
      "Running time for Support Vector Machine is  27.50 seconds\n"
     ]
    }
   ],
   "source": [
    "# Define the model with the best parameters obtained above for the dataset with colours\n",
    "svm_t = SVC(**svm_c.best_params_ ,random_state=42)\n",
    "#start the counter\n",
    "start_time = time.time()\n",
    "#run and predict the model\n",
    "svm_colour_t = svm_t.fit(X_train_c, y_train)\n",
    "#stop the counter\n",
    "end_time = time.time()\n",
    "# Get duration\n",
    "running_time_svm = end_time - start_time\n",
    "print(f\"Running time for Support Vector Machine is {running_time_svm: .2f} seconds\")"
   ]
  },
  {
   "cell_type": "markdown",
   "metadata": {},
   "source": [
    "### Testing memory usage"
   ]
  },
  {
   "cell_type": "code",
   "execution_count": 61,
   "metadata": {},
   "outputs": [
    {
     "name": "stdout",
     "output_type": "stream",
     "text": [
      "Random Forest size: 35.32 MB\n"
     ]
    }
   ],
   "source": [
    "import joblib\n",
    "\n",
    "joblib.dump(rf_colour_t, \"RandomForest.joblib\")\n",
    "print(f\"Random Forest size: {np.round(os.path.getsize('RandomForest.joblib') / 1024 / 1024, 2) } MB\")"
   ]
  },
  {
   "cell_type": "code",
   "execution_count": 62,
   "metadata": {},
   "outputs": [
    {
     "name": "stdout",
     "output_type": "stream",
     "text": [
      "Gradient Boosting size: 4.47 MB\n"
     ]
    }
   ],
   "source": [
    "joblib.dump(gbc_colour_t, \"GradientBoosting.joblib\")\n",
    "print(f\"Gradient Boosting size: {np.round(os.path.getsize('GradientBoosting.joblib') / 1024 / 1024, 2) } MB\")"
   ]
  },
  {
   "cell_type": "code",
   "execution_count": 63,
   "metadata": {},
   "outputs": [
    {
     "name": "stdout",
     "output_type": "stream",
     "text": [
      "Support Vector Machine size: 0.43 MB\n"
     ]
    }
   ],
   "source": [
    "joblib.dump(svm_colour_t, \"svm.joblib\")\n",
    "print(f\"Support Vector Machine size: {np.round(os.path.getsize('svm.joblib') / 1024 / 1024, 2) } MB\")"
   ]
  },
  {
   "cell_type": "code",
   "execution_count": 66,
   "metadata": {},
   "outputs": [
    {
     "name": "stdout",
     "output_type": "stream",
     "text": [
      "\u001b[1mRandom Forest - Best Parameters\u001b[0m\n",
      "{'n_estimators': 335, 'min_samples_split': 5, 'max_depth': 36}\n",
      "\u001b[1mGradient Boosting - Best Parameters\u001b[0m\n",
      "{'subsample': 0.5, 'n_estimators': 75, 'max_depth': 8, 'learning_rate': 0.1}\n",
      "\u001b[1mSupport Vector Machine - Best Parameters\u001b[0m\n",
      "{'C': 1000, 'gamma': 1, 'kernel': 'poly'}\n"
     ]
    }
   ],
   "source": [
    "print(bold.BOLD + \"Random Forest - Best Parameters\" + bold.END)\n",
    "print(rf_colour.best_params_)\n",
    "print(bold.BOLD  + \"Gradient Boosting - Best Parameters\" + bold.END)\n",
    "print(gbc_c.best_params_ )\n",
    "print(bold.BOLD + \"Support Vector Machine - Best Parameters\" + bold.END)\n",
    "print(svm_c.best_params_ )"
   ]
  },
  {
   "cell_type": "markdown",
   "metadata": {},
   "source": [
    "# Conclusions\n",
    "\n",
    "I use several learning algorithms to classify 15000 stellar objects into three classes (star, QSO and galaxy). I use a dataset comprised of the apparent magnitudes of the objects and a dataset where I also include colours. It is not in the study but I tested two different scalers for the datasets: MinMaxScaler and StandardScaler. Both provided the same values of accuracy.\n",
    "\n",
    "Based on the accuracy metrics, Random Forest Classifier and Gradient Boosting Classifier did the best. Looking at the f1 score for both models, they have the similar values. Support Vector Macchine did also well.\n",
    "\n",
    "I also looked at introducing colours to the independent variables. Introducing colours boosted the accuracy by 0.02. In terms of overall accuracy, there is not much difference between Random Forest Classifier and Gradient Boosting Classifier. Even in terms of precision and recall, the differences are negligible. \n",
    "\n",
    "I propose the use of colours in the data set with the Random Forest Classifier with the best parameters stated above. Because it is robust to noisy and irrelevant features, as well as outliers. Also the training time is slower than Gradient Boosting Classifier. On the other hand, it uses more memory than Gradient Boosting Classifier.   \n",
    "\n",
    "If memory usage is an issue then I propose using the Gradient Boosting Model with the best parameters as above."
   ]
  },
  {
   "cell_type": "code",
   "execution_count": null,
   "metadata": {},
   "outputs": [],
   "source": []
  }
 ],
 "metadata": {
  "kernelspec": {
   "display_name": "Python 3 (ipykernel)",
   "language": "python",
   "name": "python3"
  },
  "language_info": {
   "codemirror_mode": {
    "name": "ipython",
    "version": 3
   },
   "file_extension": ".py",
   "mimetype": "text/x-python",
   "name": "python",
   "nbconvert_exporter": "python",
   "pygments_lexer": "ipython3",
   "version": "3.9.7"
  }
 },
 "nbformat": 4,
 "nbformat_minor": 4
}
